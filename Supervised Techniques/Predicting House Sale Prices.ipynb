{
 "cells": [
  {
   "cell_type": "markdown",
   "metadata": {},
   "source": [
    "## <center> Predicting House Sale Prices using Linear Regression Model </center>"
   ]
  },
  {
   "cell_type": "markdown",
   "metadata": {},
   "source": [
    "In this project I've worked with housing data for the city of Ames, Iowa, United States from 2006 to 2010 and try to make predictions on the Sale price.\n",
    "You can read more about the collected data [here](https://www.tandfonline.com/doi/abs/10.1080/10691898.2011.11889627)"
   ]
  },
  {
   "cell_type": "code",
   "execution_count": 1,
   "metadata": {
    "collapsed": true
   },
   "outputs": [],
   "source": [
    "import pandas as pd\n",
    "import matplotlib.pyplot as plt\n",
    "import numpy as np\n",
    "from sklearn.linear_model import LinearRegression\n",
    "from sklearn.metrics import mean_squared_error, r2_score\n",
    "import seaborn as sns\n",
    "import warnings\n",
    "warnings.filterwarnings(\"ignore\")"
   ]
  },
  {
   "cell_type": "code",
   "execution_count": 2,
   "metadata": {
    "collapsed": false
   },
   "outputs": [
    {
     "data": {
      "text/html": [
       "<div>\n",
       "<style scoped>\n",
       "    .dataframe tbody tr th:only-of-type {\n",
       "        vertical-align: middle;\n",
       "    }\n",
       "\n",
       "    .dataframe tbody tr th {\n",
       "        vertical-align: top;\n",
       "    }\n",
       "\n",
       "    .dataframe thead th {\n",
       "        text-align: right;\n",
       "    }\n",
       "</style>\n",
       "<table border=\"1\" class=\"dataframe\">\n",
       "  <thead>\n",
       "    <tr style=\"text-align: right;\">\n",
       "      <th></th>\n",
       "      <th>Order</th>\n",
       "      <th>PID</th>\n",
       "      <th>MS SubClass</th>\n",
       "      <th>MS Zoning</th>\n",
       "      <th>Lot Frontage</th>\n",
       "      <th>Lot Area</th>\n",
       "      <th>Street</th>\n",
       "      <th>Alley</th>\n",
       "      <th>Lot Shape</th>\n",
       "      <th>Land Contour</th>\n",
       "      <th>...</th>\n",
       "      <th>Pool Area</th>\n",
       "      <th>Pool QC</th>\n",
       "      <th>Fence</th>\n",
       "      <th>Misc Feature</th>\n",
       "      <th>Misc Val</th>\n",
       "      <th>Mo Sold</th>\n",
       "      <th>Yr Sold</th>\n",
       "      <th>Sale Type</th>\n",
       "      <th>Sale Condition</th>\n",
       "      <th>SalePrice</th>\n",
       "    </tr>\n",
       "  </thead>\n",
       "  <tbody>\n",
       "    <tr>\n",
       "      <th>0</th>\n",
       "      <td>1</td>\n",
       "      <td>526301100</td>\n",
       "      <td>20</td>\n",
       "      <td>RL</td>\n",
       "      <td>141.0</td>\n",
       "      <td>31770</td>\n",
       "      <td>Pave</td>\n",
       "      <td>NaN</td>\n",
       "      <td>IR1</td>\n",
       "      <td>Lvl</td>\n",
       "      <td>...</td>\n",
       "      <td>0</td>\n",
       "      <td>NaN</td>\n",
       "      <td>NaN</td>\n",
       "      <td>NaN</td>\n",
       "      <td>0</td>\n",
       "      <td>5</td>\n",
       "      <td>2010</td>\n",
       "      <td>WD</td>\n",
       "      <td>Normal</td>\n",
       "      <td>215000</td>\n",
       "    </tr>\n",
       "    <tr>\n",
       "      <th>1</th>\n",
       "      <td>2</td>\n",
       "      <td>526350040</td>\n",
       "      <td>20</td>\n",
       "      <td>RH</td>\n",
       "      <td>80.0</td>\n",
       "      <td>11622</td>\n",
       "      <td>Pave</td>\n",
       "      <td>NaN</td>\n",
       "      <td>Reg</td>\n",
       "      <td>Lvl</td>\n",
       "      <td>...</td>\n",
       "      <td>0</td>\n",
       "      <td>NaN</td>\n",
       "      <td>MnPrv</td>\n",
       "      <td>NaN</td>\n",
       "      <td>0</td>\n",
       "      <td>6</td>\n",
       "      <td>2010</td>\n",
       "      <td>WD</td>\n",
       "      <td>Normal</td>\n",
       "      <td>105000</td>\n",
       "    </tr>\n",
       "    <tr>\n",
       "      <th>2</th>\n",
       "      <td>3</td>\n",
       "      <td>526351010</td>\n",
       "      <td>20</td>\n",
       "      <td>RL</td>\n",
       "      <td>81.0</td>\n",
       "      <td>14267</td>\n",
       "      <td>Pave</td>\n",
       "      <td>NaN</td>\n",
       "      <td>IR1</td>\n",
       "      <td>Lvl</td>\n",
       "      <td>...</td>\n",
       "      <td>0</td>\n",
       "      <td>NaN</td>\n",
       "      <td>NaN</td>\n",
       "      <td>Gar2</td>\n",
       "      <td>12500</td>\n",
       "      <td>6</td>\n",
       "      <td>2010</td>\n",
       "      <td>WD</td>\n",
       "      <td>Normal</td>\n",
       "      <td>172000</td>\n",
       "    </tr>\n",
       "    <tr>\n",
       "      <th>3</th>\n",
       "      <td>4</td>\n",
       "      <td>526353030</td>\n",
       "      <td>20</td>\n",
       "      <td>RL</td>\n",
       "      <td>93.0</td>\n",
       "      <td>11160</td>\n",
       "      <td>Pave</td>\n",
       "      <td>NaN</td>\n",
       "      <td>Reg</td>\n",
       "      <td>Lvl</td>\n",
       "      <td>...</td>\n",
       "      <td>0</td>\n",
       "      <td>NaN</td>\n",
       "      <td>NaN</td>\n",
       "      <td>NaN</td>\n",
       "      <td>0</td>\n",
       "      <td>4</td>\n",
       "      <td>2010</td>\n",
       "      <td>WD</td>\n",
       "      <td>Normal</td>\n",
       "      <td>244000</td>\n",
       "    </tr>\n",
       "    <tr>\n",
       "      <th>4</th>\n",
       "      <td>5</td>\n",
       "      <td>527105010</td>\n",
       "      <td>60</td>\n",
       "      <td>RL</td>\n",
       "      <td>74.0</td>\n",
       "      <td>13830</td>\n",
       "      <td>Pave</td>\n",
       "      <td>NaN</td>\n",
       "      <td>IR1</td>\n",
       "      <td>Lvl</td>\n",
       "      <td>...</td>\n",
       "      <td>0</td>\n",
       "      <td>NaN</td>\n",
       "      <td>MnPrv</td>\n",
       "      <td>NaN</td>\n",
       "      <td>0</td>\n",
       "      <td>3</td>\n",
       "      <td>2010</td>\n",
       "      <td>WD</td>\n",
       "      <td>Normal</td>\n",
       "      <td>189900</td>\n",
       "    </tr>\n",
       "  </tbody>\n",
       "</table>\n",
       "<p>5 rows × 82 columns</p>\n",
       "</div>"
      ],
      "text/plain": [
       "   Order        PID  MS SubClass MS Zoning  Lot Frontage  Lot Area Street  \\\n",
       "0      1  526301100           20        RL         141.0     31770   Pave   \n",
       "1      2  526350040           20        RH          80.0     11622   Pave   \n",
       "2      3  526351010           20        RL          81.0     14267   Pave   \n",
       "3      4  526353030           20        RL          93.0     11160   Pave   \n",
       "4      5  527105010           60        RL          74.0     13830   Pave   \n",
       "\n",
       "  Alley Lot Shape Land Contour    ...     Pool Area Pool QC  Fence  \\\n",
       "0   NaN       IR1          Lvl    ...             0     NaN    NaN   \n",
       "1   NaN       Reg          Lvl    ...             0     NaN  MnPrv   \n",
       "2   NaN       IR1          Lvl    ...             0     NaN    NaN   \n",
       "3   NaN       Reg          Lvl    ...             0     NaN    NaN   \n",
       "4   NaN       IR1          Lvl    ...             0     NaN  MnPrv   \n",
       "\n",
       "  Misc Feature Misc Val Mo Sold Yr Sold Sale Type  Sale Condition  SalePrice  \n",
       "0          NaN        0       5    2010       WD           Normal     215000  \n",
       "1          NaN        0       6    2010       WD           Normal     105000  \n",
       "2         Gar2    12500       6    2010       WD           Normal     172000  \n",
       "3          NaN        0       4    2010       WD           Normal     244000  \n",
       "4          NaN        0       3    2010       WD           Normal     189900  \n",
       "\n",
       "[5 rows x 82 columns]"
      ]
     },
     "execution_count": 2,
     "metadata": {},
     "output_type": "execute_result"
    }
   ],
   "source": [
    "data= pd.read_table('AmesHousing.tsv')\n",
    "data.head()"
   ]
  },
  {
   "cell_type": "code",
   "execution_count": 3,
   "metadata": {
    "collapsed": false
   },
   "outputs": [
    {
     "data": {
      "text/plain": [
       "(2930, 82)"
      ]
     },
     "execution_count": 3,
     "metadata": {},
     "output_type": "execute_result"
    }
   ],
   "source": [
    "data.shape"
   ]
  },
  {
   "cell_type": "markdown",
   "metadata": {},
   "source": [
    "#### Set up a pipeline of functions that would let us quickly iterate on different models "
   ]
  },
  {
   "cell_type": "code",
   "execution_count": 4,
   "metadata": {
    "collapsed": false
   },
   "outputs": [],
   "source": [
    "def transform_features(data):\n",
    "    return data\n",
    "\n",
    "def select_features(data):\n",
    "    return data[['Gr Liv Area','SalePrice']]\n",
    "\n",
    "def train_and_test(data):\n",
    "    train= data[:1460]\n",
    "    test= data[1460:]\n",
    "    \n",
    "# Selection of Numerical columns from both dataframes.\n",
    "    numerical_train= train.select_dtypes([float,int])\n",
    "    numerical_test= test.select_dtypes([float,int])\n",
    "\n",
    "# Removed SalePrice column from new dataframes.\n",
    "    features = numerical_train.columns.tolist()\n",
    "    features.remove(\"SalePrice\")\n",
    "\n",
    "# Train the model\n",
    "    lr= LinearRegression()\n",
    "    lr.fit(train[features], train['SalePrice'])\n",
    "    \n",
    "    test_predictions= lr.predict(test[features])\n",
    "    \n",
    "    mse= mean_squared_error(test['SalePrice'], test_predictions)\n",
    "    rsq= r2_score(test['SalePrice'], test_predictions)\n",
    "    \n",
    "    print('R square: ' , round(rsq,3))\n",
    "    \n",
    "    rmse= mse ** 0.5\n",
    "    return  rmse"
   ]
  },
  {
   "cell_type": "markdown",
   "metadata": {},
   "source": [
    "##### Calling these functions"
   ]
  },
  {
   "cell_type": "code",
   "execution_count": 5,
   "metadata": {
    "collapsed": false
   },
   "outputs": [
    {
     "name": "stdout",
     "output_type": "stream",
     "text": [
      "R square:  0.507\n",
      "The RMSE of given model is: 57088.252\n"
     ]
    }
   ],
   "source": [
    "transform_df = transform_features(data)\n",
    "new_df = select_features(transform_df)\n",
    "rmse = train_and_test(new_df)\n",
    "print('The RMSE of given model is: {:.3f}'.format(rmse))"
   ]
  },
  {
   "cell_type": "markdown",
   "metadata": {},
   "source": [
    "### Feature Engineering"
   ]
  },
  {
   "cell_type": "code",
   "execution_count": 6,
   "metadata": {
    "collapsed": false
   },
   "outputs": [
    {
     "data": {
      "text/plain": [
       "Order                0\n",
       "PID                  0\n",
       "MS SubClass          0\n",
       "MS Zoning            0\n",
       "Lot Frontage       490\n",
       "Lot Area             0\n",
       "Street               0\n",
       "Alley             2732\n",
       "Lot Shape            0\n",
       "Land Contour         0\n",
       "Utilities            0\n",
       "Lot Config           0\n",
       "Land Slope           0\n",
       "Neighborhood         0\n",
       "Condition 1          0\n",
       "Condition 2          0\n",
       "Bldg Type            0\n",
       "House Style          0\n",
       "Overall Qual         0\n",
       "Overall Cond         0\n",
       "Year Built           0\n",
       "Year Remod/Add       0\n",
       "Roof Style           0\n",
       "Roof Matl            0\n",
       "Exterior 1st         0\n",
       "Exterior 2nd         0\n",
       "Mas Vnr Type        23\n",
       "Mas Vnr Area        23\n",
       "Exter Qual           0\n",
       "Exter Cond           0\n",
       "                  ... \n",
       "Bedroom AbvGr        0\n",
       "Kitchen AbvGr        0\n",
       "Kitchen Qual         0\n",
       "TotRms AbvGrd        0\n",
       "Functional           0\n",
       "Fireplaces           0\n",
       "Fireplace Qu      1422\n",
       "Garage Type        157\n",
       "Garage Yr Blt      159\n",
       "Garage Finish      159\n",
       "Garage Cars          1\n",
       "Garage Area          1\n",
       "Garage Qual        159\n",
       "Garage Cond        159\n",
       "Paved Drive          0\n",
       "Wood Deck SF         0\n",
       "Open Porch SF        0\n",
       "Enclosed Porch       0\n",
       "3Ssn Porch           0\n",
       "Screen Porch         0\n",
       "Pool Area            0\n",
       "Pool QC           2917\n",
       "Fence             2358\n",
       "Misc Feature      2824\n",
       "Misc Val             0\n",
       "Mo Sold              0\n",
       "Yr Sold              0\n",
       "Sale Type            0\n",
       "Sale Condition       0\n",
       "SalePrice            0\n",
       "Length: 82, dtype: int64"
      ]
     },
     "execution_count": 6,
     "metadata": {},
     "output_type": "execute_result"
    }
   ],
   "source": [
    "# Before transforming df.\n",
    "data.isnull().sum()"
   ]
  },
  {
   "cell_type": "markdown",
   "metadata": {},
   "source": [
    "#### Removed any columns with more than 25% missing values."
   ]
  },
  {
   "cell_type": "code",
   "execution_count": 7,
   "metadata": {
    "collapsed": false
   },
   "outputs": [
    {
     "data": {
      "text/plain": [
       "Order                0\n",
       "PID                  0\n",
       "MS SubClass          0\n",
       "MS Zoning            0\n",
       "Lot Frontage       490\n",
       "Lot Area             0\n",
       "Street               0\n",
       "Alley             2732\n",
       "Lot Shape            0\n",
       "Land Contour         0\n",
       "Utilities            0\n",
       "Lot Config           0\n",
       "Land Slope           0\n",
       "Neighborhood         0\n",
       "Condition 1          0\n",
       "Condition 2          0\n",
       "Bldg Type            0\n",
       "House Style          0\n",
       "Overall Qual         0\n",
       "Overall Cond         0\n",
       "Year Built           0\n",
       "Year Remod/Add       0\n",
       "Roof Style           0\n",
       "Roof Matl            0\n",
       "Exterior 1st         0\n",
       "Exterior 2nd         0\n",
       "Mas Vnr Type        23\n",
       "Mas Vnr Area        23\n",
       "Exter Qual           0\n",
       "Exter Cond           0\n",
       "                  ... \n",
       "Bedroom AbvGr        0\n",
       "Kitchen AbvGr        0\n",
       "Kitchen Qual         0\n",
       "TotRms AbvGrd        0\n",
       "Functional           0\n",
       "Fireplaces           0\n",
       "Fireplace Qu      1422\n",
       "Garage Type        157\n",
       "Garage Yr Blt      159\n",
       "Garage Finish      159\n",
       "Garage Cars          1\n",
       "Garage Area          1\n",
       "Garage Qual        159\n",
       "Garage Cond        159\n",
       "Paved Drive          0\n",
       "Wood Deck SF         0\n",
       "Open Porch SF        0\n",
       "Enclosed Porch       0\n",
       "3Ssn Porch           0\n",
       "Screen Porch         0\n",
       "Pool Area            0\n",
       "Pool QC           2917\n",
       "Fence             2358\n",
       "Misc Feature      2824\n",
       "Misc Val             0\n",
       "Mo Sold              0\n",
       "Yr Sold              0\n",
       "Sale Type            0\n",
       "Sale Condition       0\n",
       "SalePrice            0\n",
       "Length: 82, dtype: int64"
      ]
     },
     "execution_count": 7,
     "metadata": {},
     "output_type": "execute_result"
    }
   ],
   "source": [
    "null_col= data.isnull().sum()\n",
    "null_col"
   ]
  },
  {
   "cell_type": "code",
   "execution_count": 8,
   "metadata": {
    "collapsed": false
   },
   "outputs": [],
   "source": [
    "# Removed cols having more than 5% of missing values.\n",
    "dropping_columns= data[null_col[null_col > len(data)*(5/100)].index]"
   ]
  },
  {
   "cell_type": "code",
   "execution_count": 9,
   "metadata": {
    "collapsed": false
   },
   "outputs": [
    {
     "data": {
      "text/html": [
       "<div>\n",
       "<style scoped>\n",
       "    .dataframe tbody tr th:only-of-type {\n",
       "        vertical-align: middle;\n",
       "    }\n",
       "\n",
       "    .dataframe tbody tr th {\n",
       "        vertical-align: top;\n",
       "    }\n",
       "\n",
       "    .dataframe thead th {\n",
       "        text-align: right;\n",
       "    }\n",
       "</style>\n",
       "<table border=\"1\" class=\"dataframe\">\n",
       "  <thead>\n",
       "    <tr style=\"text-align: right;\">\n",
       "      <th></th>\n",
       "      <th>Order</th>\n",
       "      <th>PID</th>\n",
       "      <th>MS SubClass</th>\n",
       "      <th>MS Zoning</th>\n",
       "      <th>Lot Area</th>\n",
       "      <th>Street</th>\n",
       "      <th>Lot Shape</th>\n",
       "      <th>Land Contour</th>\n",
       "      <th>Utilities</th>\n",
       "      <th>Lot Config</th>\n",
       "      <th>...</th>\n",
       "      <th>Enclosed Porch</th>\n",
       "      <th>3Ssn Porch</th>\n",
       "      <th>Screen Porch</th>\n",
       "      <th>Pool Area</th>\n",
       "      <th>Misc Val</th>\n",
       "      <th>Mo Sold</th>\n",
       "      <th>Yr Sold</th>\n",
       "      <th>Sale Type</th>\n",
       "      <th>Sale Condition</th>\n",
       "      <th>SalePrice</th>\n",
       "    </tr>\n",
       "  </thead>\n",
       "  <tbody>\n",
       "    <tr>\n",
       "      <th>0</th>\n",
       "      <td>1</td>\n",
       "      <td>526301100</td>\n",
       "      <td>20</td>\n",
       "      <td>RL</td>\n",
       "      <td>31770</td>\n",
       "      <td>Pave</td>\n",
       "      <td>IR1</td>\n",
       "      <td>Lvl</td>\n",
       "      <td>AllPub</td>\n",
       "      <td>Corner</td>\n",
       "      <td>...</td>\n",
       "      <td>0</td>\n",
       "      <td>0</td>\n",
       "      <td>0</td>\n",
       "      <td>0</td>\n",
       "      <td>0</td>\n",
       "      <td>5</td>\n",
       "      <td>2010</td>\n",
       "      <td>WD</td>\n",
       "      <td>Normal</td>\n",
       "      <td>215000</td>\n",
       "    </tr>\n",
       "    <tr>\n",
       "      <th>1</th>\n",
       "      <td>2</td>\n",
       "      <td>526350040</td>\n",
       "      <td>20</td>\n",
       "      <td>RH</td>\n",
       "      <td>11622</td>\n",
       "      <td>Pave</td>\n",
       "      <td>Reg</td>\n",
       "      <td>Lvl</td>\n",
       "      <td>AllPub</td>\n",
       "      <td>Inside</td>\n",
       "      <td>...</td>\n",
       "      <td>0</td>\n",
       "      <td>0</td>\n",
       "      <td>120</td>\n",
       "      <td>0</td>\n",
       "      <td>0</td>\n",
       "      <td>6</td>\n",
       "      <td>2010</td>\n",
       "      <td>WD</td>\n",
       "      <td>Normal</td>\n",
       "      <td>105000</td>\n",
       "    </tr>\n",
       "    <tr>\n",
       "      <th>2</th>\n",
       "      <td>3</td>\n",
       "      <td>526351010</td>\n",
       "      <td>20</td>\n",
       "      <td>RL</td>\n",
       "      <td>14267</td>\n",
       "      <td>Pave</td>\n",
       "      <td>IR1</td>\n",
       "      <td>Lvl</td>\n",
       "      <td>AllPub</td>\n",
       "      <td>Corner</td>\n",
       "      <td>...</td>\n",
       "      <td>0</td>\n",
       "      <td>0</td>\n",
       "      <td>0</td>\n",
       "      <td>0</td>\n",
       "      <td>12500</td>\n",
       "      <td>6</td>\n",
       "      <td>2010</td>\n",
       "      <td>WD</td>\n",
       "      <td>Normal</td>\n",
       "      <td>172000</td>\n",
       "    </tr>\n",
       "    <tr>\n",
       "      <th>3</th>\n",
       "      <td>4</td>\n",
       "      <td>526353030</td>\n",
       "      <td>20</td>\n",
       "      <td>RL</td>\n",
       "      <td>11160</td>\n",
       "      <td>Pave</td>\n",
       "      <td>Reg</td>\n",
       "      <td>Lvl</td>\n",
       "      <td>AllPub</td>\n",
       "      <td>Corner</td>\n",
       "      <td>...</td>\n",
       "      <td>0</td>\n",
       "      <td>0</td>\n",
       "      <td>0</td>\n",
       "      <td>0</td>\n",
       "      <td>0</td>\n",
       "      <td>4</td>\n",
       "      <td>2010</td>\n",
       "      <td>WD</td>\n",
       "      <td>Normal</td>\n",
       "      <td>244000</td>\n",
       "    </tr>\n",
       "    <tr>\n",
       "      <th>4</th>\n",
       "      <td>5</td>\n",
       "      <td>527105010</td>\n",
       "      <td>60</td>\n",
       "      <td>RL</td>\n",
       "      <td>13830</td>\n",
       "      <td>Pave</td>\n",
       "      <td>IR1</td>\n",
       "      <td>Lvl</td>\n",
       "      <td>AllPub</td>\n",
       "      <td>Inside</td>\n",
       "      <td>...</td>\n",
       "      <td>0</td>\n",
       "      <td>0</td>\n",
       "      <td>0</td>\n",
       "      <td>0</td>\n",
       "      <td>0</td>\n",
       "      <td>3</td>\n",
       "      <td>2010</td>\n",
       "      <td>WD</td>\n",
       "      <td>Normal</td>\n",
       "      <td>189900</td>\n",
       "    </tr>\n",
       "  </tbody>\n",
       "</table>\n",
       "<p>5 rows × 71 columns</p>\n",
       "</div>"
      ],
      "text/plain": [
       "   Order        PID  MS SubClass MS Zoning  Lot Area Street Lot Shape  \\\n",
       "0      1  526301100           20        RL     31770   Pave       IR1   \n",
       "1      2  526350040           20        RH     11622   Pave       Reg   \n",
       "2      3  526351010           20        RL     14267   Pave       IR1   \n",
       "3      4  526353030           20        RL     11160   Pave       Reg   \n",
       "4      5  527105010           60        RL     13830   Pave       IR1   \n",
       "\n",
       "  Land Contour Utilities Lot Config    ...     Enclosed Porch 3Ssn Porch  \\\n",
       "0          Lvl    AllPub     Corner    ...                  0          0   \n",
       "1          Lvl    AllPub     Inside    ...                  0          0   \n",
       "2          Lvl    AllPub     Corner    ...                  0          0   \n",
       "3          Lvl    AllPub     Corner    ...                  0          0   \n",
       "4          Lvl    AllPub     Inside    ...                  0          0   \n",
       "\n",
       "  Screen Porch Pool Area Misc Val Mo Sold  Yr Sold  Sale Type  Sale Condition  \\\n",
       "0            0         0        0       5     2010        WD           Normal   \n",
       "1          120         0        0       6     2010        WD           Normal   \n",
       "2            0         0    12500       6     2010        WD           Normal   \n",
       "3            0         0        0       4     2010        WD           Normal   \n",
       "4            0         0        0       3     2010        WD           Normal   \n",
       "\n",
       "   SalePrice  \n",
       "0     215000  \n",
       "1     105000  \n",
       "2     172000  \n",
       "3     244000  \n",
       "4     189900  \n",
       "\n",
       "[5 rows x 71 columns]"
      ]
     },
     "execution_count": 9,
     "metadata": {},
     "output_type": "execute_result"
    }
   ],
   "source": [
    "data= data.drop(dropping_columns, axis= 'columns')\n",
    "data.head()"
   ]
  },
  {
   "cell_type": "code",
   "execution_count": 10,
   "metadata": {
    "collapsed": false
   },
   "outputs": [
    {
     "data": {
      "text/plain": [
       "Order               0\n",
       "PID                 0\n",
       "MS SubClass         0\n",
       "MS Zoning           0\n",
       "Lot Area            0\n",
       "Street              0\n",
       "Lot Shape           0\n",
       "Land Contour        0\n",
       "Utilities           0\n",
       "Lot Config          0\n",
       "Land Slope          0\n",
       "Neighborhood        0\n",
       "Condition 1         0\n",
       "Condition 2         0\n",
       "Bldg Type           0\n",
       "House Style         0\n",
       "Overall Qual        0\n",
       "Overall Cond        0\n",
       "Year Built          0\n",
       "Year Remod/Add      0\n",
       "Roof Style          0\n",
       "Roof Matl           0\n",
       "Exterior 1st        0\n",
       "Exterior 2nd        0\n",
       "Mas Vnr Type       23\n",
       "Mas Vnr Area       23\n",
       "Exter Qual          0\n",
       "Exter Cond          0\n",
       "Foundation          0\n",
       "Bsmt Qual          80\n",
       "                   ..\n",
       "Electrical          1\n",
       "1st Flr SF          0\n",
       "2nd Flr SF          0\n",
       "Low Qual Fin SF     0\n",
       "Gr Liv Area         0\n",
       "Bsmt Full Bath      2\n",
       "Bsmt Half Bath      2\n",
       "Full Bath           0\n",
       "Half Bath           0\n",
       "Bedroom AbvGr       0\n",
       "Kitchen AbvGr       0\n",
       "Kitchen Qual        0\n",
       "TotRms AbvGrd       0\n",
       "Functional          0\n",
       "Fireplaces          0\n",
       "Garage Cars         1\n",
       "Garage Area         1\n",
       "Paved Drive         0\n",
       "Wood Deck SF        0\n",
       "Open Porch SF       0\n",
       "Enclosed Porch      0\n",
       "3Ssn Porch          0\n",
       "Screen Porch        0\n",
       "Pool Area           0\n",
       "Misc Val            0\n",
       "Mo Sold             0\n",
       "Yr Sold             0\n",
       "Sale Type           0\n",
       "Sale Condition      0\n",
       "SalePrice           0\n",
       "Length: 71, dtype: int64"
      ]
     },
     "execution_count": 10,
     "metadata": {},
     "output_type": "execute_result"
    }
   ],
   "source": [
    "# After tranforming\n",
    "data.isnull().sum()"
   ]
  },
  {
   "cell_type": "markdown",
   "metadata": {},
   "source": [
    "###### Object columns to be dropped"
   ]
  },
  {
   "cell_type": "code",
   "execution_count": 11,
   "metadata": {
    "collapsed": false
   },
   "outputs": [
    {
     "data": {
      "text/plain": [
       "MS Zoning          0\n",
       "Street             0\n",
       "Lot Shape          0\n",
       "Land Contour       0\n",
       "Utilities          0\n",
       "Lot Config         0\n",
       "Land Slope         0\n",
       "Neighborhood       0\n",
       "Condition 1        0\n",
       "Condition 2        0\n",
       "Bldg Type          0\n",
       "House Style        0\n",
       "Roof Style         0\n",
       "Roof Matl          0\n",
       "Exterior 1st       0\n",
       "Exterior 2nd       0\n",
       "Mas Vnr Type      23\n",
       "Exter Qual         0\n",
       "Exter Cond         0\n",
       "Foundation         0\n",
       "Bsmt Qual         80\n",
       "Bsmt Cond         80\n",
       "Bsmt Exposure     83\n",
       "BsmtFin Type 1    80\n",
       "BsmtFin Type 2    81\n",
       "Heating            0\n",
       "Heating QC         0\n",
       "Central Air        0\n",
       "Electrical         1\n",
       "Kitchen Qual       0\n",
       "Functional         0\n",
       "Paved Drive        0\n",
       "Sale Type          0\n",
       "Sale Condition     0\n",
       "dtype: int64"
      ]
     },
     "execution_count": 11,
     "metadata": {},
     "output_type": "execute_result"
    }
   ],
   "source": [
    "str_count = data.select_dtypes('object').isnull().sum()\n",
    "str_count"
   ]
  },
  {
   "cell_type": "code",
   "execution_count": 12,
   "metadata": {
    "collapsed": true
   },
   "outputs": [],
   "source": [
    "drop_missing_cols = str_count[str_count != 0]"
   ]
  },
  {
   "cell_type": "code",
   "execution_count": 13,
   "metadata": {
    "collapsed": true
   },
   "outputs": [],
   "source": [
    "data = data.drop(drop_missing_cols.index, axis=1)"
   ]
  },
  {
   "cell_type": "markdown",
   "metadata": {},
   "source": [
    "#### For Numerical columns with missing values, filled in with the most common value in that column."
   ]
  },
  {
   "cell_type": "code",
   "execution_count": 14,
   "metadata": {
    "collapsed": false
   },
   "outputs": [
    {
     "data": {
      "text/plain": [
       "BsmtFin SF 1       1\n",
       "BsmtFin SF 2       1\n",
       "Bsmt Unf SF        1\n",
       "Total Bsmt SF      1\n",
       "Garage Cars        1\n",
       "Garage Area        1\n",
       "Bsmt Full Bath     2\n",
       "Bsmt Half Bath     2\n",
       "Mas Vnr Area      23\n",
       "dtype: int64"
      ]
     },
     "execution_count": 14,
     "metadata": {},
     "output_type": "execute_result"
    }
   ],
   "source": [
    "# Imputation for the Numerical columns containing less than 5% missing values.\n",
    "\n",
    "num_columns= data.select_dtypes([int,float]).isnull().sum()\n",
    "\n",
    "num_missing= num_columns[num_columns>0 & (num_columns<len(data)*(5/100))]\n",
    "\n",
    "num_missing.sort_values()\n"
   ]
  },
  {
   "cell_type": "code",
   "execution_count": 15,
   "metadata": {
    "collapsed": false
   },
   "outputs": [
    {
     "data": {
      "text/html": [
       "<div>\n",
       "<style scoped>\n",
       "    .dataframe tbody tr th:only-of-type {\n",
       "        vertical-align: middle;\n",
       "    }\n",
       "\n",
       "    .dataframe tbody tr th {\n",
       "        vertical-align: top;\n",
       "    }\n",
       "\n",
       "    .dataframe thead th {\n",
       "        text-align: right;\n",
       "    }\n",
       "</style>\n",
       "<table border=\"1\" class=\"dataframe\">\n",
       "  <thead>\n",
       "    <tr style=\"text-align: right;\">\n",
       "      <th></th>\n",
       "      <th>Mas Vnr Area</th>\n",
       "      <th>BsmtFin SF 1</th>\n",
       "      <th>BsmtFin SF 2</th>\n",
       "      <th>Bsmt Unf SF</th>\n",
       "      <th>Total Bsmt SF</th>\n",
       "      <th>Bsmt Full Bath</th>\n",
       "      <th>Bsmt Half Bath</th>\n",
       "      <th>Garage Cars</th>\n",
       "      <th>Garage Area</th>\n",
       "    </tr>\n",
       "  </thead>\n",
       "  <tbody>\n",
       "    <tr>\n",
       "      <th>0</th>\n",
       "      <td>0.0</td>\n",
       "      <td>0.0</td>\n",
       "      <td>0.0</td>\n",
       "      <td>0.0</td>\n",
       "      <td>0.0</td>\n",
       "      <td>0.0</td>\n",
       "      <td>0.0</td>\n",
       "      <td>2.0</td>\n",
       "      <td>0.0</td>\n",
       "    </tr>\n",
       "  </tbody>\n",
       "</table>\n",
       "</div>"
      ],
      "text/plain": [
       "   Mas Vnr Area  BsmtFin SF 1  BsmtFin SF 2  Bsmt Unf SF  Total Bsmt SF  \\\n",
       "0           0.0           0.0           0.0          0.0            0.0   \n",
       "\n",
       "   Bsmt Full Bath  Bsmt Half Bath  Garage Cars  Garage Area  \n",
       "0             0.0             0.0          2.0          0.0  "
      ]
     },
     "execution_count": 15,
     "metadata": {},
     "output_type": "execute_result"
    }
   ],
   "source": [
    "# Computed the most common value for each column in num_missing, converted this series into dict.\n",
    "\n",
    "val_mode= data[num_missing.index].mode() # computed mode for common occurrence.\n",
    "val_mode"
   ]
  },
  {
   "cell_type": "code",
   "execution_count": 16,
   "metadata": {
    "collapsed": false
   },
   "outputs": [
    {
     "data": {
      "text/plain": [
       "{'Bsmt Full Bath': 0.0,\n",
       " 'Bsmt Half Bath': 0.0,\n",
       " 'Bsmt Unf SF': 0.0,\n",
       " 'BsmtFin SF 1': 0.0,\n",
       " 'BsmtFin SF 2': 0.0,\n",
       " 'Garage Area': 0.0,\n",
       " 'Garage Cars': 2.0,\n",
       " 'Mas Vnr Area': 0.0,\n",
       " 'Total Bsmt SF': 0.0}"
      ]
     },
     "execution_count": 16,
     "metadata": {},
     "output_type": "execute_result"
    }
   ],
   "source": [
    "val_dict= val_mode.to_dict(orient='record')[0]\n",
    "val_dict"
   ]
  },
  {
   "cell_type": "code",
   "execution_count": 17,
   "metadata": {
    "collapsed": false
   },
   "outputs": [
    {
     "data": {
      "text/plain": [
       "0"
      ]
     },
     "execution_count": 17,
     "metadata": {},
     "output_type": "execute_result"
    }
   ],
   "source": [
    "data= data.fillna(val_dict)\n",
    "num_missing.isnull().sum()"
   ]
  },
  {
   "cell_type": "markdown",
   "metadata": {},
   "source": [
    "#### Added a new feature as per house sold data."
   ]
  },
  {
   "cell_type": "code",
   "execution_count": 18,
   "metadata": {
    "collapsed": false
   },
   "outputs": [
    {
     "data": {
      "text/plain": [
       "0       50\n",
       "1       49\n",
       "2       52\n",
       "3       42\n",
       "4       13\n",
       "5       12\n",
       "6        9\n",
       "7       18\n",
       "8       15\n",
       "9       11\n",
       "10      17\n",
       "11      18\n",
       "12      12\n",
       "13      20\n",
       "14      25\n",
       "15       7\n",
       "16      22\n",
       "17       0\n",
       "18      59\n",
       "19      32\n",
       "20      33\n",
       "21      36\n",
       "22      10\n",
       "23      40\n",
       "24      39\n",
       "25      42\n",
       "26      40\n",
       "27      39\n",
       "28      11\n",
       "29      39\n",
       "        ..\n",
       "2900     1\n",
       "2901     1\n",
       "2902     1\n",
       "2903    55\n",
       "2904     9\n",
       "2905     8\n",
       "2906     8\n",
       "2907     0\n",
       "2908    29\n",
       "2909    29\n",
       "2910    33\n",
       "2911    38\n",
       "2912    36\n",
       "2913    36\n",
       "2914    34\n",
       "2915    37\n",
       "2916    36\n",
       "2917    36\n",
       "2918    36\n",
       "2919    36\n",
       "2920    36\n",
       "2921    30\n",
       "2922    30\n",
       "2923    29\n",
       "2924    46\n",
       "2925    22\n",
       "2926    23\n",
       "2927    14\n",
       "2928    32\n",
       "2929    13\n",
       "Length: 2930, dtype: int64"
      ]
     },
     "execution_count": 18,
     "metadata": {},
     "output_type": "execute_result"
    }
   ],
   "source": [
    "years_sold= data['Yr Sold'] - data['Year Built']\n",
    "years_sold"
   ]
  },
  {
   "cell_type": "code",
   "execution_count": 19,
   "metadata": {
    "collapsed": false
   },
   "outputs": [
    {
     "data": {
      "text/plain": [
       "0       50\n",
       "1       49\n",
       "2       52\n",
       "3       42\n",
       "4       12\n",
       "5       12\n",
       "6        9\n",
       "7       18\n",
       "8       14\n",
       "9       11\n",
       "10      16\n",
       "11       3\n",
       "12      12\n",
       "13      20\n",
       "14      25\n",
       "15       7\n",
       "16       5\n",
       "17       0\n",
       "18      59\n",
       "19      22\n",
       "20      33\n",
       "21      36\n",
       "22      10\n",
       "23      40\n",
       "24       2\n",
       "25      42\n",
       "26      40\n",
       "27      39\n",
       "28      11\n",
       "29      39\n",
       "        ..\n",
       "2900     0\n",
       "2901     0\n",
       "2902     0\n",
       "2903    55\n",
       "2904     9\n",
       "2905     8\n",
       "2906     8\n",
       "2907     0\n",
       "2908    29\n",
       "2909    29\n",
       "2910    33\n",
       "2911     3\n",
       "2912    36\n",
       "2913    36\n",
       "2914    34\n",
       "2915    27\n",
       "2916    36\n",
       "2917    36\n",
       "2918    36\n",
       "2919    36\n",
       "2920    36\n",
       "2921    30\n",
       "2922    30\n",
       "2923    29\n",
       "2924    10\n",
       "2925    22\n",
       "2926    23\n",
       "2927    14\n",
       "2928    31\n",
       "2929    12\n",
       "Length: 2930, dtype: int64"
      ]
     },
     "execution_count": 19,
     "metadata": {},
     "output_type": "execute_result"
    }
   ],
   "source": [
    "years_sold_ren= data['Yr Sold'] - data['Year Remod/Add']\n",
    "years_sold_ren"
   ]
  },
  {
   "cell_type": "code",
   "execution_count": 20,
   "metadata": {
    "collapsed": false
   },
   "outputs": [
    {
     "data": {
      "text/plain": [
       "2180   -1\n",
       "dtype: int64"
      ]
     },
     "execution_count": 20,
     "metadata": {},
     "output_type": "execute_result"
    }
   ],
   "source": [
    "years_sold[years_sold<0]"
   ]
  },
  {
   "cell_type": "code",
   "execution_count": 21,
   "metadata": {
    "collapsed": false
   },
   "outputs": [
    {
     "data": {
      "text/plain": [
       "1702   -1\n",
       "2180   -2\n",
       "2181   -1\n",
       "dtype: int64"
      ]
     },
     "execution_count": 21,
     "metadata": {},
     "output_type": "execute_result"
    }
   ],
   "source": [
    "years_sold_ren[years_sold_ren<0]"
   ]
  },
  {
   "cell_type": "code",
   "execution_count": 22,
   "metadata": {
    "collapsed": false
   },
   "outputs": [],
   "source": [
    "data['years_sold']= years_sold\n",
    "data['years_sold_ren']= years_sold_ren"
   ]
  },
  {
   "cell_type": "code",
   "execution_count": 23,
   "metadata": {
    "collapsed": true
   },
   "outputs": [],
   "source": [
    "# Removed row values having negative data\n",
    "data= data.drop([1702,2180,2181], axis= 'index')"
   ]
  },
  {
   "cell_type": "code",
   "execution_count": 24,
   "metadata": {
    "collapsed": true
   },
   "outputs": [],
   "source": [
    "# Dropped 'Year Built', 'Year Remod/Add' columns as they don't need now.\n",
    "data= data.drop(['Year Built', 'Year Remod/Add'], axis=1)"
   ]
  },
  {
   "cell_type": "code",
   "execution_count": 25,
   "metadata": {
    "collapsed": false
   },
   "outputs": [],
   "source": [
    "# Removed columns that leak information about the sale.\n",
    "data= data.drop([\"Mo Sold\",'Sale Type', \"Sale Condition\",'Yr Sold'], axis=1)"
   ]
  },
  {
   "cell_type": "code",
   "execution_count": 26,
   "metadata": {
    "collapsed": false
   },
   "outputs": [],
   "source": [
    "# Remove columns which are not providing any relative info to ML.\n",
    "data= data.drop([\"PID\",\"Order\",\"Enclosed Porch\"], axis=1)"
   ]
  },
  {
   "cell_type": "markdown",
   "metadata": {},
   "source": [
    "### Update transform_features function!"
   ]
  },
  {
   "cell_type": "code",
   "execution_count": 31,
   "metadata": {
    "collapsed": false
   },
   "outputs": [
    {
     "name": "stdout",
     "output_type": "stream",
     "text": [
      "R square:  0.539\n",
      "The RMSE of given model is: 55275.367\n"
     ]
    }
   ],
   "source": [
    "def transform_features(data):\n",
    "    \n",
    "# remove col having more than 5% of missing values.\n",
    "    null_col= data.isnull().sum()\n",
    "    dropping_columns= data[null_col[null_col > len(data)*(5/100)].index]\n",
    "    data= data.drop(dropping_columns, axis=1)\n",
    "    \n",
    "# Imputation for Numerical columns contain less than 5% missing values.\n",
    "    num_columns= data.select_dtypes([int,float]).isnull().sum()\n",
    "    num_missing= num_columns[num_columns>0 & (num_columns<len(data)*(5/100))]\n",
    "    val_dict = data[num_missing.index].mode().to_dict(orient='records')[0]    \n",
    "    data= data.fillna(val_dict)\n",
    "    \n",
    "# Obj columns to be dropped\n",
    "    str_count = data.select_dtypes(object).isnull().sum()\n",
    "    drop_missing_cols = str_count[str_count > 0]\n",
    "    data = data.drop(drop_missing_cols.index, axis=1)\n",
    "    \n",
    "#     years_sold= data['Yr Sold'] - data['Year Built']\n",
    "#     years_sold_ren= data['Yr Sold'] - data['Year Remod/Add']\n",
    "#     data['years_sold']= years_sold\n",
    "#     data['years_sold_ren']= years_sold_ren\n",
    "\n",
    "#     data= data.drop([1702,2180,2181], axis=0)\n",
    "    \n",
    "#     data= data.drop([\"Mo Sold\",'Sale Type', \"Sale Condition\",'Yr Sold'], axis=1)\n",
    "\n",
    "#     data= data.drop([\"PID\",\"Order\",'Enclosed Porch'], axis=1)    \n",
    "     \n",
    "    return data\n",
    "\n",
    "def select_features(data):\n",
    "    return data[['Gr Liv Area','SalePrice']]\n",
    "\n",
    "def train_and_test(data):\n",
    "    train= data[:1460]\n",
    "    test= data[1460:]\n",
    "    \n",
    "# Selection of Numerical columns from both dataframes.\n",
    "    numerical_train= train.select_dtypes(include=['float','integer'])\n",
    "    numerical_test= test.select_dtypes(include=['float','integer'])\n",
    "\n",
    "# Remove SalePrice column from new dataframes.\n",
    "\n",
    "    features = numerical_train.columns.tolist()\n",
    "    features.remove(\"SalePrice\")\n",
    "\n",
    "# Train the model\n",
    "    lr= LinearRegression()\n",
    "    lr.fit(train[features], train['SalePrice'])\n",
    "    test_predictions= lr.predict(test[features])\n",
    "    mse= mean_squared_error(test['SalePrice'], test_predictions)\n",
    "    rsq= r2_score(test['SalePrice'], test_predictions)\n",
    "    print('R square: ' , round(rsq,3))\n",
    "    rmse= mse ** 0.5\n",
    "    return  rmse\n",
    "\n",
    "transform_df = transform_features(data)\n",
    "new_df = select_features(transform_df)\n",
    "rmse = train_and_test(new_df)\n",
    "print('The RMSE of given model is: {:.3f}'.format(rmse))\n"
   ]
  },
  {
   "cell_type": "markdown",
   "metadata": {},
   "source": [
    "### Feature Selection"
   ]
  },
  {
   "cell_type": "code",
   "execution_count": 32,
   "metadata": {
    "collapsed": false,
    "scrolled": true
   },
   "outputs": [],
   "source": [
    "num_train= transform_df.select_dtypes([float,int]) # selecting num cols.\n",
    "\n",
    "cor_train_df= num_train.corr() # calculated correlation of num cols\n",
    "\n",
    "cor_saleprice= abs(cor_train_df.SalePrice) # correlation with target col"
   ]
  },
  {
   "cell_type": "code",
   "execution_count": 33,
   "metadata": {
    "collapsed": false
   },
   "outputs": [
    {
     "data": {
      "text/plain": [
       "Overall Qual      0.801206\n",
       "Mas Vnr Area      0.506983\n",
       "BsmtFin SF 1      0.439284\n",
       "Total Bsmt SF     0.644012\n",
       "1st Flr SF        0.635185\n",
       "Gr Liv Area       0.717596\n",
       "Full Bath         0.546118\n",
       "TotRms AbvGrd     0.498574\n",
       "Fireplaces        0.474831\n",
       "Garage Cars       0.648361\n",
       "Garage Area       0.641425\n",
       "Wood Deck SF      0.328183\n",
       "Open Porch SF     0.316262\n",
       "SalePrice         1.000000\n",
       "years_sold        0.558979\n",
       "years_sold_ren    0.534985\n",
       "Name: SalePrice, dtype: float64"
      ]
     },
     "execution_count": 33,
     "metadata": {},
     "output_type": "execute_result"
    }
   ],
   "source": [
    "# Kept columns having correlation greater than 0.3 with Saleprice col.\n",
    "strong_cor= cor_saleprice[cor_saleprice > 0.3]\n",
    "strong_cor"
   ]
  },
  {
   "cell_type": "code",
   "execution_count": 34,
   "metadata": {
    "collapsed": false
   },
   "outputs": [
    {
     "data": {
      "text/html": [
       "<div>\n",
       "<style scoped>\n",
       "    .dataframe tbody tr th:only-of-type {\n",
       "        vertical-align: middle;\n",
       "    }\n",
       "\n",
       "    .dataframe tbody tr th {\n",
       "        vertical-align: top;\n",
       "    }\n",
       "\n",
       "    .dataframe thead th {\n",
       "        text-align: right;\n",
       "    }\n",
       "</style>\n",
       "<table border=\"1\" class=\"dataframe\">\n",
       "  <thead>\n",
       "    <tr style=\"text-align: right;\">\n",
       "      <th></th>\n",
       "      <th>Overall Qual</th>\n",
       "      <th>Mas Vnr Area</th>\n",
       "      <th>BsmtFin SF 1</th>\n",
       "      <th>Total Bsmt SF</th>\n",
       "      <th>1st Flr SF</th>\n",
       "      <th>Gr Liv Area</th>\n",
       "      <th>Full Bath</th>\n",
       "      <th>TotRms AbvGrd</th>\n",
       "      <th>Fireplaces</th>\n",
       "      <th>Garage Cars</th>\n",
       "      <th>Garage Area</th>\n",
       "      <th>Wood Deck SF</th>\n",
       "      <th>Open Porch SF</th>\n",
       "      <th>SalePrice</th>\n",
       "      <th>years_sold</th>\n",
       "      <th>years_sold_ren</th>\n",
       "    </tr>\n",
       "  </thead>\n",
       "  <tbody>\n",
       "    <tr>\n",
       "      <th>Overall Qual</th>\n",
       "      <td>1.000000</td>\n",
       "      <td>0.418972</td>\n",
       "      <td>0.278274</td>\n",
       "      <td>0.545792</td>\n",
       "      <td>0.474888</td>\n",
       "      <td>0.567902</td>\n",
       "      <td>0.520942</td>\n",
       "      <td>0.376199</td>\n",
       "      <td>0.391604</td>\n",
       "      <td>0.598485</td>\n",
       "      <td>0.561303</td>\n",
       "      <td>0.253120</td>\n",
       "      <td>0.290553</td>\n",
       "      <td>0.801206</td>\n",
       "      <td>-0.596358</td>\n",
       "      <td>-0.570231</td>\n",
       "    </tr>\n",
       "    <tr>\n",
       "      <th>Mas Vnr Area</th>\n",
       "      <td>0.418972</td>\n",
       "      <td>1.000000</td>\n",
       "      <td>0.284305</td>\n",
       "      <td>0.378545</td>\n",
       "      <td>0.376205</td>\n",
       "      <td>0.387355</td>\n",
       "      <td>0.252318</td>\n",
       "      <td>0.267328</td>\n",
       "      <td>0.267449</td>\n",
       "      <td>0.354753</td>\n",
       "      <td>0.365786</td>\n",
       "      <td>0.158743</td>\n",
       "      <td>0.123395</td>\n",
       "      <td>0.506983</td>\n",
       "      <td>-0.306163</td>\n",
       "      <td>-0.190821</td>\n",
       "    </tr>\n",
       "    <tr>\n",
       "      <th>BsmtFin SF 1</th>\n",
       "      <td>0.278274</td>\n",
       "      <td>0.284305</td>\n",
       "      <td>1.000000</td>\n",
       "      <td>0.522775</td>\n",
       "      <td>0.439662</td>\n",
       "      <td>0.188245</td>\n",
       "      <td>0.073805</td>\n",
       "      <td>0.030338</td>\n",
       "      <td>0.293897</td>\n",
       "      <td>0.252932</td>\n",
       "      <td>0.303824</td>\n",
       "      <td>0.216577</td>\n",
       "      <td>0.105248</td>\n",
       "      <td>0.439284</td>\n",
       "      <td>-0.278070</td>\n",
       "      <td>-0.148456</td>\n",
       "    </tr>\n",
       "    <tr>\n",
       "      <th>Total Bsmt SF</th>\n",
       "      <td>0.545792</td>\n",
       "      <td>0.378545</td>\n",
       "      <td>0.522775</td>\n",
       "      <td>1.000000</td>\n",
       "      <td>0.792227</td>\n",
       "      <td>0.426689</td>\n",
       "      <td>0.324943</td>\n",
       "      <td>0.266420</td>\n",
       "      <td>0.331919</td>\n",
       "      <td>0.438589</td>\n",
       "      <td>0.482306</td>\n",
       "      <td>0.222595</td>\n",
       "      <td>0.222762</td>\n",
       "      <td>0.644012</td>\n",
       "      <td>-0.409209</td>\n",
       "      <td>-0.298629</td>\n",
       "    </tr>\n",
       "    <tr>\n",
       "      <th>1st Flr SF</th>\n",
       "      <td>0.474888</td>\n",
       "      <td>0.376205</td>\n",
       "      <td>0.439662</td>\n",
       "      <td>0.792227</td>\n",
       "      <td>1.000000</td>\n",
       "      <td>0.546943</td>\n",
       "      <td>0.372838</td>\n",
       "      <td>0.377083</td>\n",
       "      <td>0.406965</td>\n",
       "      <td>0.441002</td>\n",
       "      <td>0.488603</td>\n",
       "      <td>0.218907</td>\n",
       "      <td>0.212943</td>\n",
       "      <td>0.635185</td>\n",
       "      <td>-0.310902</td>\n",
       "      <td>-0.241824</td>\n",
       "    </tr>\n",
       "    <tr>\n",
       "      <th>Gr Liv Area</th>\n",
       "      <td>0.567902</td>\n",
       "      <td>0.387355</td>\n",
       "      <td>0.188245</td>\n",
       "      <td>0.426689</td>\n",
       "      <td>0.546943</td>\n",
       "      <td>1.000000</td>\n",
       "      <td>0.633355</td>\n",
       "      <td>0.806092</td>\n",
       "      <td>0.455685</td>\n",
       "      <td>0.489469</td>\n",
       "      <td>0.480458</td>\n",
       "      <td>0.244285</td>\n",
       "      <td>0.321770</td>\n",
       "      <td>0.717596</td>\n",
       "      <td>-0.240369</td>\n",
       "      <td>-0.317779</td>\n",
       "    </tr>\n",
       "    <tr>\n",
       "      <th>Full Bath</th>\n",
       "      <td>0.520942</td>\n",
       "      <td>0.252318</td>\n",
       "      <td>0.073805</td>\n",
       "      <td>0.324943</td>\n",
       "      <td>0.372838</td>\n",
       "      <td>0.633355</td>\n",
       "      <td>1.000000</td>\n",
       "      <td>0.528647</td>\n",
       "      <td>0.229024</td>\n",
       "      <td>0.477338</td>\n",
       "      <td>0.405233</td>\n",
       "      <td>0.178688</td>\n",
       "      <td>0.255378</td>\n",
       "      <td>0.546118</td>\n",
       "      <td>-0.468171</td>\n",
       "      <td>-0.456866</td>\n",
       "    </tr>\n",
       "    <tr>\n",
       "      <th>TotRms AbvGrd</th>\n",
       "      <td>0.376199</td>\n",
       "      <td>0.267328</td>\n",
       "      <td>0.030338</td>\n",
       "      <td>0.266420</td>\n",
       "      <td>0.377083</td>\n",
       "      <td>0.806092</td>\n",
       "      <td>0.528647</td>\n",
       "      <td>1.000000</td>\n",
       "      <td>0.300400</td>\n",
       "      <td>0.353491</td>\n",
       "      <td>0.322227</td>\n",
       "      <td>0.148608</td>\n",
       "      <td>0.222813</td>\n",
       "      <td>0.498574</td>\n",
       "      <td>-0.110243</td>\n",
       "      <td>-0.197317</td>\n",
       "    </tr>\n",
       "    <tr>\n",
       "      <th>Fireplaces</th>\n",
       "      <td>0.391604</td>\n",
       "      <td>0.267449</td>\n",
       "      <td>0.293897</td>\n",
       "      <td>0.331919</td>\n",
       "      <td>0.406965</td>\n",
       "      <td>0.455685</td>\n",
       "      <td>0.229024</td>\n",
       "      <td>0.300400</td>\n",
       "      <td>1.000000</td>\n",
       "      <td>0.320042</td>\n",
       "      <td>0.292294</td>\n",
       "      <td>0.226145</td>\n",
       "      <td>0.155353</td>\n",
       "      <td>0.474831</td>\n",
       "      <td>-0.169608</td>\n",
       "      <td>-0.132631</td>\n",
       "    </tr>\n",
       "    <tr>\n",
       "      <th>Garage Cars</th>\n",
       "      <td>0.598485</td>\n",
       "      <td>0.354753</td>\n",
       "      <td>0.252932</td>\n",
       "      <td>0.438589</td>\n",
       "      <td>0.441002</td>\n",
       "      <td>0.489469</td>\n",
       "      <td>0.477338</td>\n",
       "      <td>0.353491</td>\n",
       "      <td>0.320042</td>\n",
       "      <td>1.000000</td>\n",
       "      <td>0.888866</td>\n",
       "      <td>0.239666</td>\n",
       "      <td>0.200440</td>\n",
       "      <td>0.648361</td>\n",
       "      <td>-0.536616</td>\n",
       "      <td>-0.426134</td>\n",
       "    </tr>\n",
       "    <tr>\n",
       "      <th>Garage Area</th>\n",
       "      <td>0.561303</td>\n",
       "      <td>0.365786</td>\n",
       "      <td>0.303824</td>\n",
       "      <td>0.482306</td>\n",
       "      <td>0.488603</td>\n",
       "      <td>0.480458</td>\n",
       "      <td>0.405233</td>\n",
       "      <td>0.322227</td>\n",
       "      <td>0.292294</td>\n",
       "      <td>0.888866</td>\n",
       "      <td>1.000000</td>\n",
       "      <td>0.234694</td>\n",
       "      <td>0.224994</td>\n",
       "      <td>0.641425</td>\n",
       "      <td>-0.479530</td>\n",
       "      <td>-0.375056</td>\n",
       "    </tr>\n",
       "    <tr>\n",
       "      <th>Wood Deck SF</th>\n",
       "      <td>0.253120</td>\n",
       "      <td>0.158743</td>\n",
       "      <td>0.216577</td>\n",
       "      <td>0.222595</td>\n",
       "      <td>0.218907</td>\n",
       "      <td>0.244285</td>\n",
       "      <td>0.178688</td>\n",
       "      <td>0.148608</td>\n",
       "      <td>0.226145</td>\n",
       "      <td>0.239666</td>\n",
       "      <td>0.234694</td>\n",
       "      <td>1.000000</td>\n",
       "      <td>0.031473</td>\n",
       "      <td>0.328183</td>\n",
       "      <td>-0.227723</td>\n",
       "      <td>-0.216938</td>\n",
       "    </tr>\n",
       "    <tr>\n",
       "      <th>Open Porch SF</th>\n",
       "      <td>0.290553</td>\n",
       "      <td>0.123395</td>\n",
       "      <td>0.105248</td>\n",
       "      <td>0.222762</td>\n",
       "      <td>0.212943</td>\n",
       "      <td>0.321770</td>\n",
       "      <td>0.255378</td>\n",
       "      <td>0.222813</td>\n",
       "      <td>0.155353</td>\n",
       "      <td>0.200440</td>\n",
       "      <td>0.224994</td>\n",
       "      <td>0.031473</td>\n",
       "      <td>1.000000</td>\n",
       "      <td>0.316262</td>\n",
       "      <td>-0.196099</td>\n",
       "      <td>-0.241406</td>\n",
       "    </tr>\n",
       "    <tr>\n",
       "      <th>SalePrice</th>\n",
       "      <td>0.801206</td>\n",
       "      <td>0.506983</td>\n",
       "      <td>0.439284</td>\n",
       "      <td>0.644012</td>\n",
       "      <td>0.635185</td>\n",
       "      <td>0.717596</td>\n",
       "      <td>0.546118</td>\n",
       "      <td>0.498574</td>\n",
       "      <td>0.474831</td>\n",
       "      <td>0.648361</td>\n",
       "      <td>0.641425</td>\n",
       "      <td>0.328183</td>\n",
       "      <td>0.316262</td>\n",
       "      <td>1.000000</td>\n",
       "      <td>-0.558979</td>\n",
       "      <td>-0.534985</td>\n",
       "    </tr>\n",
       "    <tr>\n",
       "      <th>years_sold</th>\n",
       "      <td>-0.596358</td>\n",
       "      <td>-0.306163</td>\n",
       "      <td>-0.278070</td>\n",
       "      <td>-0.409209</td>\n",
       "      <td>-0.310902</td>\n",
       "      <td>-0.240369</td>\n",
       "      <td>-0.468171</td>\n",
       "      <td>-0.110243</td>\n",
       "      <td>-0.169608</td>\n",
       "      <td>-0.536616</td>\n",
       "      <td>-0.479530</td>\n",
       "      <td>-0.227723</td>\n",
       "      <td>-0.196099</td>\n",
       "      <td>-0.558979</td>\n",
       "      <td>1.000000</td>\n",
       "      <td>0.612790</td>\n",
       "    </tr>\n",
       "    <tr>\n",
       "      <th>years_sold_ren</th>\n",
       "      <td>-0.570231</td>\n",
       "      <td>-0.190821</td>\n",
       "      <td>-0.148456</td>\n",
       "      <td>-0.298629</td>\n",
       "      <td>-0.241824</td>\n",
       "      <td>-0.317779</td>\n",
       "      <td>-0.456866</td>\n",
       "      <td>-0.197317</td>\n",
       "      <td>-0.132631</td>\n",
       "      <td>-0.426134</td>\n",
       "      <td>-0.375056</td>\n",
       "      <td>-0.216938</td>\n",
       "      <td>-0.241406</td>\n",
       "      <td>-0.534985</td>\n",
       "      <td>0.612790</td>\n",
       "      <td>1.000000</td>\n",
       "    </tr>\n",
       "  </tbody>\n",
       "</table>\n",
       "</div>"
      ],
      "text/plain": [
       "                Overall Qual  Mas Vnr Area  BsmtFin SF 1  Total Bsmt SF  \\\n",
       "Overall Qual        1.000000      0.418972      0.278274       0.545792   \n",
       "Mas Vnr Area        0.418972      1.000000      0.284305       0.378545   \n",
       "BsmtFin SF 1        0.278274      0.284305      1.000000       0.522775   \n",
       "Total Bsmt SF       0.545792      0.378545      0.522775       1.000000   \n",
       "1st Flr SF          0.474888      0.376205      0.439662       0.792227   \n",
       "Gr Liv Area         0.567902      0.387355      0.188245       0.426689   \n",
       "Full Bath           0.520942      0.252318      0.073805       0.324943   \n",
       "TotRms AbvGrd       0.376199      0.267328      0.030338       0.266420   \n",
       "Fireplaces          0.391604      0.267449      0.293897       0.331919   \n",
       "Garage Cars         0.598485      0.354753      0.252932       0.438589   \n",
       "Garage Area         0.561303      0.365786      0.303824       0.482306   \n",
       "Wood Deck SF        0.253120      0.158743      0.216577       0.222595   \n",
       "Open Porch SF       0.290553      0.123395      0.105248       0.222762   \n",
       "SalePrice           0.801206      0.506983      0.439284       0.644012   \n",
       "years_sold         -0.596358     -0.306163     -0.278070      -0.409209   \n",
       "years_sold_ren     -0.570231     -0.190821     -0.148456      -0.298629   \n",
       "\n",
       "                1st Flr SF  Gr Liv Area  Full Bath  TotRms AbvGrd  Fireplaces  \\\n",
       "Overall Qual      0.474888     0.567902   0.520942       0.376199    0.391604   \n",
       "Mas Vnr Area      0.376205     0.387355   0.252318       0.267328    0.267449   \n",
       "BsmtFin SF 1      0.439662     0.188245   0.073805       0.030338    0.293897   \n",
       "Total Bsmt SF     0.792227     0.426689   0.324943       0.266420    0.331919   \n",
       "1st Flr SF        1.000000     0.546943   0.372838       0.377083    0.406965   \n",
       "Gr Liv Area       0.546943     1.000000   0.633355       0.806092    0.455685   \n",
       "Full Bath         0.372838     0.633355   1.000000       0.528647    0.229024   \n",
       "TotRms AbvGrd     0.377083     0.806092   0.528647       1.000000    0.300400   \n",
       "Fireplaces        0.406965     0.455685   0.229024       0.300400    1.000000   \n",
       "Garage Cars       0.441002     0.489469   0.477338       0.353491    0.320042   \n",
       "Garage Area       0.488603     0.480458   0.405233       0.322227    0.292294   \n",
       "Wood Deck SF      0.218907     0.244285   0.178688       0.148608    0.226145   \n",
       "Open Porch SF     0.212943     0.321770   0.255378       0.222813    0.155353   \n",
       "SalePrice         0.635185     0.717596   0.546118       0.498574    0.474831   \n",
       "years_sold       -0.310902    -0.240369  -0.468171      -0.110243   -0.169608   \n",
       "years_sold_ren   -0.241824    -0.317779  -0.456866      -0.197317   -0.132631   \n",
       "\n",
       "                Garage Cars  Garage Area  Wood Deck SF  Open Porch SF  \\\n",
       "Overall Qual       0.598485     0.561303      0.253120       0.290553   \n",
       "Mas Vnr Area       0.354753     0.365786      0.158743       0.123395   \n",
       "BsmtFin SF 1       0.252932     0.303824      0.216577       0.105248   \n",
       "Total Bsmt SF      0.438589     0.482306      0.222595       0.222762   \n",
       "1st Flr SF         0.441002     0.488603      0.218907       0.212943   \n",
       "Gr Liv Area        0.489469     0.480458      0.244285       0.321770   \n",
       "Full Bath          0.477338     0.405233      0.178688       0.255378   \n",
       "TotRms AbvGrd      0.353491     0.322227      0.148608       0.222813   \n",
       "Fireplaces         0.320042     0.292294      0.226145       0.155353   \n",
       "Garage Cars        1.000000     0.888866      0.239666       0.200440   \n",
       "Garage Area        0.888866     1.000000      0.234694       0.224994   \n",
       "Wood Deck SF       0.239666     0.234694      1.000000       0.031473   \n",
       "Open Porch SF      0.200440     0.224994      0.031473       1.000000   \n",
       "SalePrice          0.648361     0.641425      0.328183       0.316262   \n",
       "years_sold        -0.536616    -0.479530     -0.227723      -0.196099   \n",
       "years_sold_ren    -0.426134    -0.375056     -0.216938      -0.241406   \n",
       "\n",
       "                SalePrice  years_sold  years_sold_ren  \n",
       "Overall Qual     0.801206   -0.596358       -0.570231  \n",
       "Mas Vnr Area     0.506983   -0.306163       -0.190821  \n",
       "BsmtFin SF 1     0.439284   -0.278070       -0.148456  \n",
       "Total Bsmt SF    0.644012   -0.409209       -0.298629  \n",
       "1st Flr SF       0.635185   -0.310902       -0.241824  \n",
       "Gr Liv Area      0.717596   -0.240369       -0.317779  \n",
       "Full Bath        0.546118   -0.468171       -0.456866  \n",
       "TotRms AbvGrd    0.498574   -0.110243       -0.197317  \n",
       "Fireplaces       0.474831   -0.169608       -0.132631  \n",
       "Garage Cars      0.648361   -0.536616       -0.426134  \n",
       "Garage Area      0.641425   -0.479530       -0.375056  \n",
       "Wood Deck SF     0.328183   -0.227723       -0.216938  \n",
       "Open Porch SF    0.316262   -0.196099       -0.241406  \n",
       "SalePrice        1.000000   -0.558979       -0.534985  \n",
       "years_sold      -0.558979    1.000000        0.612790  \n",
       "years_sold_ren  -0.534985    0.612790        1.000000  "
      ]
     },
     "execution_count": 34,
     "metadata": {},
     "output_type": "execute_result"
    }
   ],
   "source": [
    "corrmat= transform_df[strong_cor.index].corr()\n",
    "corrmat"
   ]
  },
  {
   "cell_type": "markdown",
   "metadata": {},
   "source": [
    "#### Correlation heatmap matrix"
   ]
  },
  {
   "cell_type": "code",
   "execution_count": 35,
   "metadata": {
    "collapsed": false
   },
   "outputs": [
    {
     "data": {
      "text/plain": [
       "<matplotlib.axes._subplots.AxesSubplot at 0x7efdf2dfdcf8>"
      ]
     },
     "execution_count": 35,
     "metadata": {},
     "output_type": "execute_result"
    },
    {
     "data": {
      "image/png": "[encoded data removed]",
      "text/plain": [
       "<matplotlib.figure.Figure at 0x7efdf2e02c50>"
      ]
     },
     "metadata": {},
     "output_type": "display_data"
    }
   ],
   "source": [
    "%matplotlib inline \n",
    "sns.heatmap(corrmat)"
   ]
  },
  {
   "cell_type": "markdown",
   "metadata": {},
   "source": [
    "#### Dropped cols with low corr."
   ]
  },
  {
   "cell_type": "code",
   "execution_count": 36,
   "metadata": {
    "collapsed": true
   },
   "outputs": [],
   "source": [
    "transform_df= transform_df.drop(cor_saleprice[cor_saleprice < 0.3].index, axis=1)"
   ]
  },
  {
   "cell_type": "markdown",
   "metadata": {},
   "source": [
    "#### Categorical columns"
   ]
  },
  {
   "cell_type": "code",
   "execution_count": 37,
   "metadata": {
    "collapsed": false
   },
   "outputs": [
    {
     "name": "stdout",
     "output_type": "stream",
     "text": [
      "<class 'pandas.core.frame.DataFrame'>\n",
      "Int64Index: 2927 entries, 0 to 2929\n",
      "Data columns (total 41 columns):\n",
      "MS Zoning         2927 non-null object\n",
      "Street            2927 non-null object\n",
      "Lot Shape         2927 non-null object\n",
      "Land Contour      2927 non-null object\n",
      "Utilities         2927 non-null object\n",
      "Lot Config        2927 non-null object\n",
      "Land Slope        2927 non-null object\n",
      "Neighborhood      2927 non-null object\n",
      "Condition 1       2927 non-null object\n",
      "Condition 2       2927 non-null object\n",
      "Bldg Type         2927 non-null object\n",
      "House Style       2927 non-null object\n",
      "Overall Qual      2927 non-null int64\n",
      "Roof Style        2927 non-null object\n",
      "Roof Matl         2927 non-null object\n",
      "Exterior 1st      2927 non-null object\n",
      "Exterior 2nd      2927 non-null object\n",
      "Mas Vnr Area      2927 non-null float64\n",
      "Exter Qual        2927 non-null object\n",
      "Exter Cond        2927 non-null object\n",
      "Foundation        2927 non-null object\n",
      "BsmtFin SF 1      2927 non-null float64\n",
      "Total Bsmt SF     2927 non-null float64\n",
      "Heating           2927 non-null object\n",
      "Heating QC        2927 non-null object\n",
      "Central Air       2927 non-null object\n",
      "1st Flr SF        2927 non-null int64\n",
      "Gr Liv Area       2927 non-null int64\n",
      "Full Bath         2927 non-null int64\n",
      "Kitchen Qual      2927 non-null object\n",
      "TotRms AbvGrd     2927 non-null int64\n",
      "Functional        2927 non-null object\n",
      "Fireplaces        2927 non-null int64\n",
      "Garage Cars       2927 non-null float64\n",
      "Garage Area       2927 non-null float64\n",
      "Paved Drive       2927 non-null object\n",
      "Wood Deck SF      2927 non-null int64\n",
      "Open Porch SF     2927 non-null int64\n",
      "SalePrice         2927 non-null int64\n",
      "years_sold        2927 non-null int64\n",
      "years_sold_ren    2927 non-null int64\n",
      "dtypes: float64(5), int64(11), object(25)\n",
      "memory usage: 960.4+ KB\n"
     ]
    }
   ],
   "source": [
    "transform_df.info()"
   ]
  },
  {
   "cell_type": "code",
   "execution_count": 38,
   "metadata": {
    "collapsed": false
   },
   "outputs": [
    {
     "data": {
      "text/plain": [
       "['MS Zoning',\n",
       " 'Street',\n",
       " 'Land Contour',\n",
       " 'Lot Shape',\n",
       " 'Lot Config',\n",
       " 'Neighborhood',\n",
       " 'Land Contour',\n",
       " 'Condition 1',\n",
       " 'Condition 2',\n",
       " 'Bldg Type',\n",
       " 'Utilities',\n",
       " 'House Style',\n",
       " 'Roof Style',\n",
       " 'Roof Matl',\n",
       " 'Exterior 1st',\n",
       " 'Exterior 2nd',\n",
       " 'Exter Cond',\n",
       " 'Foundation',\n",
       " 'Heating',\n",
       " 'Central Air']"
      ]
     },
     "execution_count": 38,
     "metadata": {},
     "output_type": "execute_result"
    }
   ],
   "source": [
    "''' List of column names categorized as nominal variables are \n",
    "candidates for being converted to categorical '''\n",
    "\n",
    "nominal_features = [\"PID\",\"MS SubClass\", \"MS Zoning\", \"Street\", \"Land Contour\",\"Lot Shape\", \"Lot Config\", \"Neighborhood\", \"Land Contour\",\n",
    "                    \"Condition 1\", \"Condition 2\", \"Bldg Type\",\"Utilities\", \"House Style\", \"Roof Style\", \"Roof Matl\", \"Exterior 1st\", \n",
    "                    \"Exterior 2nd\", \"Exter Cond\", \"Foundation\", \"Heating\", \"Central Air\", \"Garage Type\",\"Fence\" \n",
    "                    \"Misc Feature\", \"Sale Type\", \"Sale Condition\",\"Electrical\"]\n",
    "         \n",
    "# Cols from above list are available to us or not.\n",
    "\n",
    "transform_col_list= list()\n",
    "\n",
    "for col in nominal_features:\n",
    "    if col in transform_df.columns:\n",
    "        transform_col_list.append(col)\n",
    "        \n",
    "transform_col_list    "
   ]
  },
  {
   "cell_type": "code",
   "execution_count": 39,
   "metadata": {
    "collapsed": false
   },
   "outputs": [
    {
     "data": {
      "text/plain": [
       "MS Zoning        7\n",
       "Street           2\n",
       "Land Contour     4\n",
       "Lot Shape        4\n",
       "Lot Config       5\n",
       "Neighborhood    28\n",
       "Land Contour     4\n",
       "Condition 1      9\n",
       "Condition 2      8\n",
       "Bldg Type        5\n",
       "Utilities        3\n",
       "House Style      8\n",
       "Roof Style       6\n",
       "Roof Matl        8\n",
       "Exterior 1st    16\n",
       "Exterior 2nd    17\n",
       "Exter Cond       5\n",
       "Foundation       6\n",
       "Heating          6\n",
       "Central Air      2\n",
       "dtype: int64"
      ]
     },
     "execution_count": 39,
     "metadata": {},
     "output_type": "execute_result"
    }
   ],
   "source": [
    "# Used \"transform_col_list\" to count unique counts in each categorical column.\n",
    "\n",
    "unique_count= transform_df[transform_col_list].apply(lambda col: len(col.value_counts()))\n",
    "unique_count"
   ]
  },
  {
   "cell_type": "code",
   "execution_count": 40,
   "metadata": {
    "collapsed": false
   },
   "outputs": [],
   "source": [
    "# Drop the  categorical columns having more than 10 unique values.\n",
    "\n",
    "drop_col= transform_df[unique_count[unique_count>10].index]\n",
    "transform_df.drop(drop_col, axis=1, inplace=True)"
   ]
  },
  {
   "cell_type": "code",
   "execution_count": 41,
   "metadata": {
    "collapsed": true
   },
   "outputs": [],
   "source": [
    "# Select obj cols to be converted into category type.\n",
    "\n",
    "text_cols = transform_df.select_dtypes(object)\n",
    "\n",
    "for col in text_cols:\n",
    "    transform_df[col] = transform_df[col].astype('category')"
   ]
  },
  {
   "cell_type": "code",
   "execution_count": 42,
   "metadata": {
    "collapsed": true
   },
   "outputs": [],
   "source": [
    "# Computed dummy columns and added back to the dataframe!\n",
    "for col in text_cols:\n",
    "\n",
    "    dummy_cols= pd.get_dummies(transform_df[col])\n",
    "    transform_df= pd.concat([transform_df,dummy_cols], axis=1)"
   ]
  },
  {
   "cell_type": "code",
   "execution_count": 43,
   "metadata": {
    "collapsed": false,
    "scrolled": true
   },
   "outputs": [
    {
     "name": "stdout",
     "output_type": "stream",
     "text": [
      "<class 'pandas.core.frame.DataFrame'>\n",
      "Int64Index: 2927 entries, 0 to 2929\n",
      "Columns: 154 entries, MS Zoning to Y\n",
      "dtypes: category(22), float64(5), int64(11), uint8(116)\n",
      "memory usage: 788.1 KB\n"
     ]
    }
   ],
   "source": [
    "transform_df.info()"
   ]
  },
  {
   "cell_type": "code",
   "execution_count": 45,
   "metadata": {
    "collapsed": false
   },
   "outputs": [
    {
     "name": "stdout",
     "output_type": "stream",
     "text": [
      "R square:  0.798\n",
      "The RMSE of given model is: 36607.880\n"
     ]
    }
   ],
   "source": [
    "def transform_features(data):\n",
    "# remove col having more than 5% of missing values.\n",
    "    null_col= data.isnull().sum()\n",
    "    dropping_columns= data[null_col[null_col > len(data)*(5/100)].index]\n",
    "    data= data.drop(dropping_columns, axis=1)\n",
    "    \n",
    "# Imputation for Numerical columns contain less than 5% missing values.\n",
    "    num_columns= data.select_dtypes([int,float]).isnull().sum()\n",
    "    num_missing= num_columns[num_columns>0 & (num_columns<len(data)*(5/100))]\n",
    "    val_dict = data[num_missing.index].mode().to_dict(orient='records')[0]    \n",
    "    data= data.fillna(val_dict)\n",
    "    num_missing.isnull().sum()\n",
    "# Obj columns to be dropped\n",
    "    str_count = data.select_dtypes(object).isnull().sum()\n",
    "    drop_missing_cols = str_count[str_count > 0]\n",
    "    data = data.drop(drop_missing_cols.index, axis=1)\n",
    "    \n",
    "#     years_sold= data['Yr Sold']-data['Year Built']\n",
    "#     years_sold_ren= data['Yr Sold']-data['Year Remod/Add']\n",
    "#     data['years_sold']= years_sold\n",
    "#     data['years_sold_ren']= years_sold_ren\n",
    "\n",
    "#     data= data.drop([1702,2180,2181], axis=0)\n",
    "    \n",
    "#     data= data.drop([\"Mo Sold\",'Sale Type', \"Sale Condition\",'Yr Sold'], axis=1)\n",
    "\n",
    "#     data= data.drop([\"PID\",\"Order\",'Enclosed Porch'], axis=1)    \n",
    "     \n",
    "    return data\n",
    "\n",
    "def select_features(data):\n",
    "    \n",
    "    num_train= data.select_dtypes([float,int]) # selecting num cols.\n",
    "    cor_train_df= num_train.corr() # calculated correlation of num cols\n",
    "    cor_saleprice= abs(cor_train_df.SalePrice)\n",
    "    data= data.drop(cor_saleprice[cor_saleprice < 0.3].index, axis=1)\n",
    "    \n",
    "    return data\n",
    "\n",
    "def train_and_test(data):\n",
    "    train= data[:1460]\n",
    "    test= data[1460:]\n",
    "    \n",
    "# Selection of Numerical columns from both dataframes.\n",
    "    numerical_train= train.select_dtypes([float,int])\n",
    "    numerical_test= test.select_dtypes([float,int])\n",
    "\n",
    "# Remove SalePrice column from new dataframes.\n",
    "\n",
    "    features = numerical_train.columns.tolist()\n",
    "    features.remove(\"SalePrice\")\n",
    "\n",
    "# Train the model\n",
    "    lr= LinearRegression()\n",
    "    lr.fit(train[features], train['SalePrice'])\n",
    "    test_predictions= lr.predict(test[features])\n",
    "    mse= mean_squared_error(test['SalePrice'], test_predictions)\n",
    "    rsq= r2_score(test['SalePrice'], test_predictions)\n",
    "    print('R square: ' , round(rsq,3))\n",
    "    rmse= mse ** 0.5\n",
    "    return  rmse\n",
    "\n",
    "transform_df = transform_features(data)\n",
    "new_df = select_features(transform_df)\n",
    "rmse = train_and_test(new_df)\n",
    "print('The RMSE of given model is: {:.3f}'.format(rmse))\n"
   ]
  },
  {
   "cell_type": "markdown",
   "metadata": {
    "collapsed": true
   },
   "source": [
    "As per the R square this model is 80% accurate and Linear Regression model tends to less overfit so this model is fairly good enough."
   ]
  }
 ],
 "metadata": {
  "anaconda-cloud": {},
  "kernelspec": {
   "display_name": "Python 3",
   "language": "python",
   "name": "python3"
  },
  "language_info": {
   "codemirror_mode": {
    "name": "ipython",
    "version": 3
   },
   "file_extension": ".py",
   "mimetype": "text/x-python",
   "name": "python",
   "nbconvert_exporter": "python",
   "pygments_lexer": "ipython3",
   "version": "3.4.3"
  }
 },
 "nbformat": 4,
 "nbformat_minor": 2
}
