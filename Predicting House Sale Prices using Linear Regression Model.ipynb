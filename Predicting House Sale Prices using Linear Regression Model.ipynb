{
 "cells": [
  {
   "cell_type": "markdown",
   "metadata": {},
   "source": [
    "# Linear Regression Model"
   ]
  },
  {
   "cell_type": "markdown",
   "metadata": {},
   "source": [
    "In this project we worked with housing data for the city of Ames, Iowa, United States from 2006 to 2010 and try to make predictions on the Sale price.\n",
    "You can read more about the collected data [here](https://www.tandfonline.com/doi/abs/10.1080/10691898.2011.11889627)"
   ]
  },
  {
   "cell_type": "code",
   "execution_count": 1,
   "metadata": {
    "collapsed": true
   },
   "outputs": [],
   "source": [
    "import pandas as pd\n",
    "import matplotlib.pyplot as plt\n",
    "import numpy as np\n",
    "from sklearn.linear_model import LinearRegression\n",
    "from sklearn.metrics import mean_squared_error, r2_score\n",
    "import seaborn as sns\n",
    "import warnings\n",
    "warnings.filterwarnings(\"ignore\")"
   ]
  },
  {
   "cell_type": "code",
   "execution_count": 2,
   "metadata": {
    "collapsed": true
   },
   "outputs": [],
   "source": [
    "data= pd.read_csv('AmesHousing.tsv', sep='\\t')"
   ]
  },
  {
   "cell_type": "code",
   "execution_count": 3,
   "metadata": {
    "collapsed": false
   },
   "outputs": [
    {
     "data": {
      "text/plain": [
       "(2930, 82)"
      ]
     },
     "execution_count": 3,
     "metadata": {},
     "output_type": "execute_result"
    }
   ],
   "source": [
    "data.head()\n",
    "data.shape"
   ]
  },
  {
   "cell_type": "code",
   "execution_count": 4,
   "metadata": {
    "collapsed": false
   },
   "outputs": [
    {
     "name": "stdout",
     "output_type": "stream",
     "text": [
      "R square:  0.507\n",
      "The RMSE of given model is: 57088.252\n"
     ]
    }
   ],
   "source": [
    "def transform_features(data):\n",
    "    return data\n",
    "def select_features(data):\n",
    "    return data[['Gr Liv Area','SalePrice']]\n",
    "def train_and_test(data):\n",
    "    train= data[:1460]\n",
    "    test= data[1460:]\n",
    "    \n",
    "# Selection of Numerical columns from both dataframes.\n",
    "    numerical_train= train.select_dtypes(include=['float','integer'])\n",
    "    numerical_test= test.select_dtypes(include=['float','integer'])\n",
    "\n",
    "# Remove SalePrice column from new dataframes.\n",
    "\n",
    "    features = numerical_train.columns.tolist()\n",
    "    features.remove(\"SalePrice\")\n",
    "\n",
    "# Train the model\n",
    "    lr= LinearRegression()\n",
    "    lr.fit(train[features], train['SalePrice'])\n",
    "    test_predictions= lr.predict(test[features])\n",
    "    mse= mean_squared_error(test['SalePrice'], test_predictions)\n",
    "    rsq= r2_score(test['SalePrice'], test_predictions)\n",
    "    print('R square: ' , round(rsq,3))\n",
    "    rmse= mse ** 0.5\n",
    "    return  rmse\n",
    "\n",
    "transform_df = transform_features(data)\n",
    "new_df = select_features(transform_df)\n",
    "rmse = train_and_test(new_df)\n",
    "print('The RMSE of given model is: {:.3f}'.format(rmse))\n"
   ]
  },
  {
   "cell_type": "code",
   "execution_count": 5,
   "metadata": {
    "collapsed": false
   },
   "outputs": [
    {
     "data": {
      "text/plain": [
       "Order                0\n",
       "PID                  0\n",
       "MS SubClass          0\n",
       "MS Zoning            0\n",
       "Lot Frontage       490\n",
       "Lot Area             0\n",
       "Street               0\n",
       "Alley             2732\n",
       "Lot Shape            0\n",
       "Land Contour         0\n",
       "Utilities            0\n",
       "Lot Config           0\n",
       "Land Slope           0\n",
       "Neighborhood         0\n",
       "Condition 1          0\n",
       "Condition 2          0\n",
       "Bldg Type            0\n",
       "House Style          0\n",
       "Overall Qual         0\n",
       "Overall Cond         0\n",
       "Year Built           0\n",
       "Year Remod/Add       0\n",
       "Roof Style           0\n",
       "Roof Matl            0\n",
       "Exterior 1st         0\n",
       "Exterior 2nd         0\n",
       "Mas Vnr Type        23\n",
       "Mas Vnr Area        23\n",
       "Exter Qual           0\n",
       "Exter Cond           0\n",
       "                  ... \n",
       "Bedroom AbvGr        0\n",
       "Kitchen AbvGr        0\n",
       "Kitchen Qual         0\n",
       "TotRms AbvGrd        0\n",
       "Functional           0\n",
       "Fireplaces           0\n",
       "Fireplace Qu      1422\n",
       "Garage Type        157\n",
       "Garage Yr Blt      159\n",
       "Garage Finish      159\n",
       "Garage Cars          1\n",
       "Garage Area          1\n",
       "Garage Qual        159\n",
       "Garage Cond        159\n",
       "Paved Drive          0\n",
       "Wood Deck SF         0\n",
       "Open Porch SF        0\n",
       "Enclosed Porch       0\n",
       "3Ssn Porch           0\n",
       "Screen Porch         0\n",
       "Pool Area            0\n",
       "Pool QC           2917\n",
       "Fence             2358\n",
       "Misc Feature      2824\n",
       "Misc Val             0\n",
       "Mo Sold              0\n",
       "Yr Sold              0\n",
       "Sale Type            0\n",
       "Sale Condition       0\n",
       "SalePrice            0\n",
       "Length: 82, dtype: int64"
      ]
     },
     "execution_count": 5,
     "metadata": {},
     "output_type": "execute_result"
    }
   ],
   "source": [
    "# Before transforming df.\n",
    "data.isnull().sum()"
   ]
  },
  {
   "cell_type": "markdown",
   "metadata": {},
   "source": [
    "#### Feature Engineering\n",
    "\n",
    "1. Remove any columns from the data frame with more than 25% missing values.\n",
    "2. Remove columns showing information about the Sales.\n",
    "3. For Numerical columns with missing values, fill in with the most common value in that column."
   ]
  },
  {
   "cell_type": "code",
   "execution_count": 6,
   "metadata": {
    "collapsed": false
   },
   "outputs": [],
   "source": [
    "# remove col having more than 5% of missing values.\n",
    "null_col= data.isnull().sum()\n",
    "dropping_columns= data[null_col[null_col > len(data)*(5/100)].index]\n",
    "data= data.drop(dropping_columns, axis=1)"
   ]
  },
  {
   "cell_type": "code",
   "execution_count": 7,
   "metadata": {
    "collapsed": false
   },
   "outputs": [
    {
     "data": {
      "text/plain": [
       "Order               0\n",
       "PID                 0\n",
       "MS SubClass         0\n",
       "MS Zoning           0\n",
       "Lot Area            0\n",
       "Street              0\n",
       "Lot Shape           0\n",
       "Land Contour        0\n",
       "Utilities           0\n",
       "Lot Config          0\n",
       "Land Slope          0\n",
       "Neighborhood        0\n",
       "Condition 1         0\n",
       "Condition 2         0\n",
       "Bldg Type           0\n",
       "House Style         0\n",
       "Overall Qual        0\n",
       "Overall Cond        0\n",
       "Year Built          0\n",
       "Year Remod/Add      0\n",
       "Roof Style          0\n",
       "Roof Matl           0\n",
       "Exterior 1st        0\n",
       "Exterior 2nd        0\n",
       "Mas Vnr Type       23\n",
       "Mas Vnr Area       23\n",
       "Exter Qual          0\n",
       "Exter Cond          0\n",
       "Foundation          0\n",
       "Bsmt Qual          80\n",
       "                   ..\n",
       "Electrical          1\n",
       "1st Flr SF          0\n",
       "2nd Flr SF          0\n",
       "Low Qual Fin SF     0\n",
       "Gr Liv Area         0\n",
       "Bsmt Full Bath      2\n",
       "Bsmt Half Bath      2\n",
       "Full Bath           0\n",
       "Half Bath           0\n",
       "Bedroom AbvGr       0\n",
       "Kitchen AbvGr       0\n",
       "Kitchen Qual        0\n",
       "TotRms AbvGrd       0\n",
       "Functional          0\n",
       "Fireplaces          0\n",
       "Garage Cars         1\n",
       "Garage Area         1\n",
       "Paved Drive         0\n",
       "Wood Deck SF        0\n",
       "Open Porch SF       0\n",
       "Enclosed Porch      0\n",
       "3Ssn Porch          0\n",
       "Screen Porch        0\n",
       "Pool Area           0\n",
       "Misc Val            0\n",
       "Mo Sold             0\n",
       "Yr Sold             0\n",
       "Sale Type           0\n",
       "Sale Condition      0\n",
       "SalePrice           0\n",
       "Length: 71, dtype: int64"
      ]
     },
     "execution_count": 7,
     "metadata": {},
     "output_type": "execute_result"
    }
   ],
   "source": [
    "# After tranforming\n",
    "data.isnull().sum()"
   ]
  },
  {
   "cell_type": "code",
   "execution_count": 8,
   "metadata": {
    "collapsed": false
   },
   "outputs": [],
   "source": [
    "# Obj columns to be dropped\n",
    "str_count = data.select_dtypes(include=['object']).isnull().sum()\n",
    "drop_missing_cols = str_count[str_count > 0]\n",
    "data = data.drop(drop_missing_cols.index, axis=1)"
   ]
  },
  {
   "cell_type": "code",
   "execution_count": 9,
   "metadata": {
    "collapsed": false
   },
   "outputs": [
    {
     "data": {
      "text/plain": [
       "BsmtFin SF 1       1\n",
       "BsmtFin SF 2       1\n",
       "Bsmt Unf SF        1\n",
       "Total Bsmt SF      1\n",
       "Garage Cars        1\n",
       "Garage Area        1\n",
       "Bsmt Full Bath     2\n",
       "Bsmt Half Bath     2\n",
       "Mas Vnr Area      23\n",
       "dtype: int64"
      ]
     },
     "execution_count": 9,
     "metadata": {},
     "output_type": "execute_result"
    }
   ],
   "source": [
    "# Imputation for Numerical columns contain less than 5% missing values.\n",
    "\n",
    "num_columns= data.select_dtypes(['integer','float']).isnull().sum()\n",
    "num_missing= num_columns[num_columns>0 & (num_columns<len(data)*(5/100))]\n",
    "num_missing.sort_values()\n"
   ]
  },
  {
   "cell_type": "code",
   "execution_count": 10,
   "metadata": {
    "collapsed": false
   },
   "outputs": [
    {
     "data": {
      "text/plain": [
       "0"
      ]
     },
     "execution_count": 10,
     "metadata": {},
     "output_type": "execute_result"
    }
   ],
   "source": [
    "## Compute the most common value for each column in num_missing, convert this series into dict.\n",
    "val_mode= data[num_missing.index].mode() # computed mode for common occurrence.\n",
    "val_dict= val_mode.to_dict(orient='record')[0]\n",
    "val_dict\n",
    "data= data.fillna(val_dict)\n",
    "num_missing.isnull().sum()"
   ]
  },
  {
   "cell_type": "code",
   "execution_count": 11,
   "metadata": {
    "collapsed": false
   },
   "outputs": [],
   "source": [
    "# Adding new feature as per house sold data.\n",
    "\n",
    "years_sold= data['Yr Sold']-data['Year Built']\n",
    "years_sold_ren= data['Yr Sold']-data['Year Remod/Add']"
   ]
  },
  {
   "cell_type": "code",
   "execution_count": 12,
   "metadata": {
    "collapsed": false
   },
   "outputs": [
    {
     "data": {
      "text/plain": [
       "2180   -1\n",
       "dtype: int64"
      ]
     },
     "execution_count": 12,
     "metadata": {},
     "output_type": "execute_result"
    }
   ],
   "source": [
    "years_sold[years_sold<0]"
   ]
  },
  {
   "cell_type": "code",
   "execution_count": 13,
   "metadata": {
    "collapsed": false
   },
   "outputs": [
    {
     "data": {
      "text/plain": [
       "1702   -1\n",
       "2180   -2\n",
       "2181   -1\n",
       "dtype: int64"
      ]
     },
     "execution_count": 13,
     "metadata": {},
     "output_type": "execute_result"
    }
   ],
   "source": [
    "years_sold_ren[years_sold_ren<0]"
   ]
  },
  {
   "cell_type": "code",
   "execution_count": 14,
   "metadata": {
    "collapsed": false
   },
   "outputs": [],
   "source": [
    "data['years_sold']= years_sold\n",
    "data['years_sold_ren']= years_sold_ren\n",
    "\n",
    "# Remove row values having negative data\n",
    "data= data.drop([1702,2180,2181], axis=0)\n"
   ]
  },
  {
   "cell_type": "code",
   "execution_count": 15,
   "metadata": {
    "collapsed": true
   },
   "outputs": [],
   "source": [
    "# Drop 'Year Built', 'Year Remod/Add' columns as they don't need now.\n",
    "data= data.drop(['Year Built', 'Year Remod/Add'], axis=1)"
   ]
  },
  {
   "cell_type": "code",
   "execution_count": 16,
   "metadata": {
    "collapsed": false
   },
   "outputs": [],
   "source": [
    "# Remove any columns that leak information about the sale.\n",
    "data= data.drop([\"Mo Sold\",'Sale Type', \"Sale Condition\",'Yr Sold'], axis=1)"
   ]
  },
  {
   "cell_type": "code",
   "execution_count": 17,
   "metadata": {
    "collapsed": false
   },
   "outputs": [],
   "source": [
    "# Remove columns which are not providing any relative info to ML.\"\"\"\n",
    "\n",
    "data= data.drop([\"PID\",\"Order\",\"Enclosed Porch\"], axis=1)"
   ]
  },
  {
   "cell_type": "markdown",
   "metadata": {},
   "source": [
    "Update transform_features function!"
   ]
  },
  {
   "cell_type": "code",
   "execution_count": 18,
   "metadata": {
    "collapsed": false
   },
   "outputs": [
    {
     "name": "stdout",
     "output_type": "stream",
     "text": [
      "R square:  0.539\n",
      "The RMSE of given model is: 55275.367\n"
     ]
    }
   ],
   "source": [
    "def transform_features(data):\n",
    "# remove col having more than 5% of missing values.\n",
    "    null_col= data.isnull().sum()\n",
    "    dropping_columns= data[null_col[null_col > len(data)*(5/100)].index]\n",
    "    data= data.drop(dropping_columns, axis=1)\n",
    "# Imputation for Numerical columns contain less than 5% missing values.\n",
    "\n",
    "    num_columns= data.select_dtypes(['integer','float']).isnull().sum()\n",
    "    num_missing= num_columns[num_columns>0 & (num_columns<len(data)*(5/100))]\n",
    "    val_dict = data[num_missing.index].mode().to_dict(orient='records')[0]    \n",
    "    data= data.fillna(val_dict)\n",
    "    num_missing.isnull().sum()\n",
    "# Obj columns to be dropped\n",
    "    str_count = data.select_dtypes(include=['object']).isnull().sum()\n",
    "    drop_missing_cols = str_count[str_count > 0]\n",
    "    data = data.drop(drop_missing_cols.index, axis=1)\n",
    "    \n",
    "    years_sold= data['Yr Sold']-data['Year Built']\n",
    "    years_sold_ren= data['Yr Sold']-data['Year Remod/Add']\n",
    "    data['years_sold']= years_sold\n",
    "    data['years_sold_ren']= years_sold_ren\n",
    "\n",
    "    data= data.drop([1702,2180,2181], axis=0)\n",
    "    \n",
    "    data= data.drop([\"Mo Sold\",'Sale Type', \"Sale Condition\",'Yr Sold'], axis=1)\n",
    "\n",
    "    data= data.drop([\"PID\",\"Order\",'Enclosed Porch'], axis=1)    \n",
    "     \n",
    "    return data\n",
    "\n",
    "def select_features(data):\n",
    "    return data[['Gr Liv Area','SalePrice']]\n",
    "\n",
    "def train_and_test(data):\n",
    "    train= data[:1460]\n",
    "    test= data[1460:]\n",
    "    \n",
    "# Selection of Numerical columns from both dataframes.\n",
    "    numerical_train= train.select_dtypes(include=['float','integer'])\n",
    "    numerical_test= test.select_dtypes(include=['float','integer'])\n",
    "\n",
    "# Remove SalePrice column from new dataframes.\n",
    "\n",
    "    features = numerical_train.columns.tolist()\n",
    "    features.remove(\"SalePrice\")\n",
    "\n",
    "# Train the model\n",
    "    lr= LinearRegression()\n",
    "    lr.fit(train[features], train['SalePrice'])\n",
    "    test_predictions= lr.predict(test[features])\n",
    "    mse= mean_squared_error(test['SalePrice'], test_predictions)\n",
    "    rsq= r2_score(test['SalePrice'], test_predictions)\n",
    "    print('R square: ' , round(rsq,3))\n",
    "    rmse= mse ** 0.5\n",
    "    return  rmse\n",
    "\n",
    "data = pd.read_csv(\"AmesHousing.tsv\", delimiter=\"\\t\")\n",
    "transform_df = transform_features(data)\n",
    "new_df = select_features(transform_df)\n",
    "rmse = train_and_test(new_df)\n",
    "print('The RMSE of given model is: {:.3f}'.format(rmse))\n"
   ]
  },
  {
   "cell_type": "markdown",
   "metadata": {},
   "source": [
    "Correlation heatmap matrix"
   ]
  },
  {
   "cell_type": "code",
   "execution_count": 19,
   "metadata": {
    "collapsed": false
   },
   "outputs": [
    {
     "data": {
      "text/html": [
       "<div>\n",
       "<style scoped>\n",
       "    .dataframe tbody tr th:only-of-type {\n",
       "        vertical-align: middle;\n",
       "    }\n",
       "\n",
       "    .dataframe tbody tr th {\n",
       "        vertical-align: top;\n",
       "    }\n",
       "\n",
       "    .dataframe thead th {\n",
       "        text-align: right;\n",
       "    }\n",
       "</style>\n",
       "<table border=\"1\" class=\"dataframe\">\n",
       "  <thead>\n",
       "    <tr style=\"text-align: right;\">\n",
       "      <th></th>\n",
       "      <th>Overall Qual</th>\n",
       "      <th>Year Built</th>\n",
       "      <th>Year Remod/Add</th>\n",
       "      <th>Mas Vnr Area</th>\n",
       "      <th>BsmtFin SF 1</th>\n",
       "      <th>Total Bsmt SF</th>\n",
       "      <th>1st Flr SF</th>\n",
       "      <th>Gr Liv Area</th>\n",
       "      <th>Full Bath</th>\n",
       "      <th>TotRms AbvGrd</th>\n",
       "      <th>Fireplaces</th>\n",
       "      <th>Garage Cars</th>\n",
       "      <th>Garage Area</th>\n",
       "      <th>Wood Deck SF</th>\n",
       "      <th>Open Porch SF</th>\n",
       "      <th>SalePrice</th>\n",
       "      <th>years_sold</th>\n",
       "      <th>years_sold_ren</th>\n",
       "    </tr>\n",
       "  </thead>\n",
       "  <tbody>\n",
       "    <tr>\n",
       "      <th>Overall Qual</th>\n",
       "      <td>1.000000</td>\n",
       "      <td>0.596404</td>\n",
       "      <td>0.568942</td>\n",
       "      <td>0.418972</td>\n",
       "      <td>0.278274</td>\n",
       "      <td>0.545792</td>\n",
       "      <td>0.474888</td>\n",
       "      <td>0.567902</td>\n",
       "      <td>0.520942</td>\n",
       "      <td>0.376199</td>\n",
       "      <td>0.391604</td>\n",
       "      <td>0.598485</td>\n",
       "      <td>0.561303</td>\n",
       "      <td>0.253120</td>\n",
       "      <td>0.290553</td>\n",
       "      <td>0.801206</td>\n",
       "      <td>-0.596358</td>\n",
       "      <td>-0.570231</td>\n",
       "    </tr>\n",
       "    <tr>\n",
       "      <th>Year Built</th>\n",
       "      <td>0.596404</td>\n",
       "      <td>1.000000</td>\n",
       "      <td>0.611549</td>\n",
       "      <td>0.305963</td>\n",
       "      <td>0.279569</td>\n",
       "      <td>0.409489</td>\n",
       "      <td>0.310904</td>\n",
       "      <td>0.239688</td>\n",
       "      <td>0.468698</td>\n",
       "      <td>0.109148</td>\n",
       "      <td>0.169559</td>\n",
       "      <td>0.536465</td>\n",
       "      <td>0.479752</td>\n",
       "      <td>0.228135</td>\n",
       "      <td>0.194882</td>\n",
       "      <td>0.558490</td>\n",
       "      <td>-0.999054</td>\n",
       "      <td>-0.612407</td>\n",
       "    </tr>\n",
       "    <tr>\n",
       "      <th>Year Remod/Add</th>\n",
       "      <td>0.568942</td>\n",
       "      <td>0.611549</td>\n",
       "      <td>1.000000</td>\n",
       "      <td>0.189846</td>\n",
       "      <td>0.150011</td>\n",
       "      <td>0.298117</td>\n",
       "      <td>0.241128</td>\n",
       "      <td>0.316236</td>\n",
       "      <td>0.456567</td>\n",
       "      <td>0.195469</td>\n",
       "      <td>0.132178</td>\n",
       "      <td>0.424706</td>\n",
       "      <td>0.374299</td>\n",
       "      <td>0.217017</td>\n",
       "      <td>0.239191</td>\n",
       "      <td>0.533007</td>\n",
       "      <td>-0.609186</td>\n",
       "      <td>-0.998006</td>\n",
       "    </tr>\n",
       "    <tr>\n",
       "      <th>Mas Vnr Area</th>\n",
       "      <td>0.418972</td>\n",
       "      <td>0.305963</td>\n",
       "      <td>0.189846</td>\n",
       "      <td>1.000000</td>\n",
       "      <td>0.284305</td>\n",
       "      <td>0.378545</td>\n",
       "      <td>0.376205</td>\n",
       "      <td>0.387355</td>\n",
       "      <td>0.252318</td>\n",
       "      <td>0.267328</td>\n",
       "      <td>0.267449</td>\n",
       "      <td>0.354753</td>\n",
       "      <td>0.365786</td>\n",
       "      <td>0.158743</td>\n",
       "      <td>0.123395</td>\n",
       "      <td>0.506983</td>\n",
       "      <td>-0.306163</td>\n",
       "      <td>-0.190821</td>\n",
       "    </tr>\n",
       "    <tr>\n",
       "      <th>BsmtFin SF 1</th>\n",
       "      <td>0.278274</td>\n",
       "      <td>0.279569</td>\n",
       "      <td>0.150011</td>\n",
       "      <td>0.284305</td>\n",
       "      <td>1.000000</td>\n",
       "      <td>0.522775</td>\n",
       "      <td>0.439662</td>\n",
       "      <td>0.188245</td>\n",
       "      <td>0.073805</td>\n",
       "      <td>0.030338</td>\n",
       "      <td>0.293897</td>\n",
       "      <td>0.252932</td>\n",
       "      <td>0.303824</td>\n",
       "      <td>0.216577</td>\n",
       "      <td>0.105248</td>\n",
       "      <td>0.439284</td>\n",
       "      <td>-0.278070</td>\n",
       "      <td>-0.148456</td>\n",
       "    </tr>\n",
       "    <tr>\n",
       "      <th>Total Bsmt SF</th>\n",
       "      <td>0.545792</td>\n",
       "      <td>0.409489</td>\n",
       "      <td>0.298117</td>\n",
       "      <td>0.378545</td>\n",
       "      <td>0.522775</td>\n",
       "      <td>1.000000</td>\n",
       "      <td>0.792227</td>\n",
       "      <td>0.426689</td>\n",
       "      <td>0.324943</td>\n",
       "      <td>0.266420</td>\n",
       "      <td>0.331919</td>\n",
       "      <td>0.438589</td>\n",
       "      <td>0.482306</td>\n",
       "      <td>0.222595</td>\n",
       "      <td>0.222762</td>\n",
       "      <td>0.644012</td>\n",
       "      <td>-0.409209</td>\n",
       "      <td>-0.298629</td>\n",
       "    </tr>\n",
       "    <tr>\n",
       "      <th>1st Flr SF</th>\n",
       "      <td>0.474888</td>\n",
       "      <td>0.310904</td>\n",
       "      <td>0.241128</td>\n",
       "      <td>0.376205</td>\n",
       "      <td>0.439662</td>\n",
       "      <td>0.792227</td>\n",
       "      <td>1.000000</td>\n",
       "      <td>0.546943</td>\n",
       "      <td>0.372838</td>\n",
       "      <td>0.377083</td>\n",
       "      <td>0.406965</td>\n",
       "      <td>0.441002</td>\n",
       "      <td>0.488603</td>\n",
       "      <td>0.218907</td>\n",
       "      <td>0.212943</td>\n",
       "      <td>0.635185</td>\n",
       "      <td>-0.310902</td>\n",
       "      <td>-0.241824</td>\n",
       "    </tr>\n",
       "    <tr>\n",
       "      <th>Gr Liv Area</th>\n",
       "      <td>0.567902</td>\n",
       "      <td>0.239688</td>\n",
       "      <td>0.316236</td>\n",
       "      <td>0.387355</td>\n",
       "      <td>0.188245</td>\n",
       "      <td>0.426689</td>\n",
       "      <td>0.546943</td>\n",
       "      <td>1.000000</td>\n",
       "      <td>0.633355</td>\n",
       "      <td>0.806092</td>\n",
       "      <td>0.455685</td>\n",
       "      <td>0.489469</td>\n",
       "      <td>0.480458</td>\n",
       "      <td>0.244285</td>\n",
       "      <td>0.321770</td>\n",
       "      <td>0.717596</td>\n",
       "      <td>-0.240369</td>\n",
       "      <td>-0.317779</td>\n",
       "    </tr>\n",
       "    <tr>\n",
       "      <th>Full Bath</th>\n",
       "      <td>0.520942</td>\n",
       "      <td>0.468698</td>\n",
       "      <td>0.456567</td>\n",
       "      <td>0.252318</td>\n",
       "      <td>0.073805</td>\n",
       "      <td>0.324943</td>\n",
       "      <td>0.372838</td>\n",
       "      <td>0.633355</td>\n",
       "      <td>1.000000</td>\n",
       "      <td>0.528647</td>\n",
       "      <td>0.229024</td>\n",
       "      <td>0.477338</td>\n",
       "      <td>0.405233</td>\n",
       "      <td>0.178688</td>\n",
       "      <td>0.255378</td>\n",
       "      <td>0.546118</td>\n",
       "      <td>-0.468171</td>\n",
       "      <td>-0.456866</td>\n",
       "    </tr>\n",
       "    <tr>\n",
       "      <th>TotRms AbvGrd</th>\n",
       "      <td>0.376199</td>\n",
       "      <td>0.109148</td>\n",
       "      <td>0.195469</td>\n",
       "      <td>0.267328</td>\n",
       "      <td>0.030338</td>\n",
       "      <td>0.266420</td>\n",
       "      <td>0.377083</td>\n",
       "      <td>0.806092</td>\n",
       "      <td>0.528647</td>\n",
       "      <td>1.000000</td>\n",
       "      <td>0.300400</td>\n",
       "      <td>0.353491</td>\n",
       "      <td>0.322227</td>\n",
       "      <td>0.148608</td>\n",
       "      <td>0.222813</td>\n",
       "      <td>0.498574</td>\n",
       "      <td>-0.110243</td>\n",
       "      <td>-0.197317</td>\n",
       "    </tr>\n",
       "    <tr>\n",
       "      <th>Fireplaces</th>\n",
       "      <td>0.391604</td>\n",
       "      <td>0.169559</td>\n",
       "      <td>0.132178</td>\n",
       "      <td>0.267449</td>\n",
       "      <td>0.293897</td>\n",
       "      <td>0.331919</td>\n",
       "      <td>0.406965</td>\n",
       "      <td>0.455685</td>\n",
       "      <td>0.229024</td>\n",
       "      <td>0.300400</td>\n",
       "      <td>1.000000</td>\n",
       "      <td>0.320042</td>\n",
       "      <td>0.292294</td>\n",
       "      <td>0.226145</td>\n",
       "      <td>0.155353</td>\n",
       "      <td>0.474831</td>\n",
       "      <td>-0.169608</td>\n",
       "      <td>-0.132631</td>\n",
       "    </tr>\n",
       "    <tr>\n",
       "      <th>Garage Cars</th>\n",
       "      <td>0.598485</td>\n",
       "      <td>0.536465</td>\n",
       "      <td>0.424706</td>\n",
       "      <td>0.354753</td>\n",
       "      <td>0.252932</td>\n",
       "      <td>0.438589</td>\n",
       "      <td>0.441002</td>\n",
       "      <td>0.489469</td>\n",
       "      <td>0.477338</td>\n",
       "      <td>0.353491</td>\n",
       "      <td>0.320042</td>\n",
       "      <td>1.000000</td>\n",
       "      <td>0.888866</td>\n",
       "      <td>0.239666</td>\n",
       "      <td>0.200440</td>\n",
       "      <td>0.648361</td>\n",
       "      <td>-0.536616</td>\n",
       "      <td>-0.426134</td>\n",
       "    </tr>\n",
       "    <tr>\n",
       "      <th>Garage Area</th>\n",
       "      <td>0.561303</td>\n",
       "      <td>0.479752</td>\n",
       "      <td>0.374299</td>\n",
       "      <td>0.365786</td>\n",
       "      <td>0.303824</td>\n",
       "      <td>0.482306</td>\n",
       "      <td>0.488603</td>\n",
       "      <td>0.480458</td>\n",
       "      <td>0.405233</td>\n",
       "      <td>0.322227</td>\n",
       "      <td>0.292294</td>\n",
       "      <td>0.888866</td>\n",
       "      <td>1.000000</td>\n",
       "      <td>0.234694</td>\n",
       "      <td>0.224994</td>\n",
       "      <td>0.641425</td>\n",
       "      <td>-0.479530</td>\n",
       "      <td>-0.375056</td>\n",
       "    </tr>\n",
       "    <tr>\n",
       "      <th>Wood Deck SF</th>\n",
       "      <td>0.253120</td>\n",
       "      <td>0.228135</td>\n",
       "      <td>0.217017</td>\n",
       "      <td>0.158743</td>\n",
       "      <td>0.216577</td>\n",
       "      <td>0.222595</td>\n",
       "      <td>0.218907</td>\n",
       "      <td>0.244285</td>\n",
       "      <td>0.178688</td>\n",
       "      <td>0.148608</td>\n",
       "      <td>0.226145</td>\n",
       "      <td>0.239666</td>\n",
       "      <td>0.234694</td>\n",
       "      <td>1.000000</td>\n",
       "      <td>0.031473</td>\n",
       "      <td>0.328183</td>\n",
       "      <td>-0.227723</td>\n",
       "      <td>-0.216938</td>\n",
       "    </tr>\n",
       "    <tr>\n",
       "      <th>Open Porch SF</th>\n",
       "      <td>0.290553</td>\n",
       "      <td>0.194882</td>\n",
       "      <td>0.239191</td>\n",
       "      <td>0.123395</td>\n",
       "      <td>0.105248</td>\n",
       "      <td>0.222762</td>\n",
       "      <td>0.212943</td>\n",
       "      <td>0.321770</td>\n",
       "      <td>0.255378</td>\n",
       "      <td>0.222813</td>\n",
       "      <td>0.155353</td>\n",
       "      <td>0.200440</td>\n",
       "      <td>0.224994</td>\n",
       "      <td>0.031473</td>\n",
       "      <td>1.000000</td>\n",
       "      <td>0.316262</td>\n",
       "      <td>-0.196099</td>\n",
       "      <td>-0.241406</td>\n",
       "    </tr>\n",
       "    <tr>\n",
       "      <th>SalePrice</th>\n",
       "      <td>0.801206</td>\n",
       "      <td>0.558490</td>\n",
       "      <td>0.533007</td>\n",
       "      <td>0.506983</td>\n",
       "      <td>0.439284</td>\n",
       "      <td>0.644012</td>\n",
       "      <td>0.635185</td>\n",
       "      <td>0.717596</td>\n",
       "      <td>0.546118</td>\n",
       "      <td>0.498574</td>\n",
       "      <td>0.474831</td>\n",
       "      <td>0.648361</td>\n",
       "      <td>0.641425</td>\n",
       "      <td>0.328183</td>\n",
       "      <td>0.316262</td>\n",
       "      <td>1.000000</td>\n",
       "      <td>-0.558979</td>\n",
       "      <td>-0.534985</td>\n",
       "    </tr>\n",
       "    <tr>\n",
       "      <th>years_sold</th>\n",
       "      <td>-0.596358</td>\n",
       "      <td>-0.999054</td>\n",
       "      <td>-0.609186</td>\n",
       "      <td>-0.306163</td>\n",
       "      <td>-0.278070</td>\n",
       "      <td>-0.409209</td>\n",
       "      <td>-0.310902</td>\n",
       "      <td>-0.240369</td>\n",
       "      <td>-0.468171</td>\n",
       "      <td>-0.110243</td>\n",
       "      <td>-0.169608</td>\n",
       "      <td>-0.536616</td>\n",
       "      <td>-0.479530</td>\n",
       "      <td>-0.227723</td>\n",
       "      <td>-0.196099</td>\n",
       "      <td>-0.558979</td>\n",
       "      <td>1.000000</td>\n",
       "      <td>0.612790</td>\n",
       "    </tr>\n",
       "    <tr>\n",
       "      <th>years_sold_ren</th>\n",
       "      <td>-0.570231</td>\n",
       "      <td>-0.612407</td>\n",
       "      <td>-0.998006</td>\n",
       "      <td>-0.190821</td>\n",
       "      <td>-0.148456</td>\n",
       "      <td>-0.298629</td>\n",
       "      <td>-0.241824</td>\n",
       "      <td>-0.317779</td>\n",
       "      <td>-0.456866</td>\n",
       "      <td>-0.197317</td>\n",
       "      <td>-0.132631</td>\n",
       "      <td>-0.426134</td>\n",
       "      <td>-0.375056</td>\n",
       "      <td>-0.216938</td>\n",
       "      <td>-0.241406</td>\n",
       "      <td>-0.534985</td>\n",
       "      <td>0.612790</td>\n",
       "      <td>1.000000</td>\n",
       "    </tr>\n",
       "  </tbody>\n",
       "</table>\n",
       "</div>"
      ],
      "text/plain": [
       "                Overall Qual  Year Built  Year Remod/Add  Mas Vnr Area  \\\n",
       "Overall Qual        1.000000    0.596404        0.568942      0.418972   \n",
       "Year Built          0.596404    1.000000        0.611549      0.305963   \n",
       "Year Remod/Add      0.568942    0.611549        1.000000      0.189846   \n",
       "Mas Vnr Area        0.418972    0.305963        0.189846      1.000000   \n",
       "BsmtFin SF 1        0.278274    0.279569        0.150011      0.284305   \n",
       "Total Bsmt SF       0.545792    0.409489        0.298117      0.378545   \n",
       "1st Flr SF          0.474888    0.310904        0.241128      0.376205   \n",
       "Gr Liv Area         0.567902    0.239688        0.316236      0.387355   \n",
       "Full Bath           0.520942    0.468698        0.456567      0.252318   \n",
       "TotRms AbvGrd       0.376199    0.109148        0.195469      0.267328   \n",
       "Fireplaces          0.391604    0.169559        0.132178      0.267449   \n",
       "Garage Cars         0.598485    0.536465        0.424706      0.354753   \n",
       "Garage Area         0.561303    0.479752        0.374299      0.365786   \n",
       "Wood Deck SF        0.253120    0.228135        0.217017      0.158743   \n",
       "Open Porch SF       0.290553    0.194882        0.239191      0.123395   \n",
       "SalePrice           0.801206    0.558490        0.533007      0.506983   \n",
       "years_sold         -0.596358   -0.999054       -0.609186     -0.306163   \n",
       "years_sold_ren     -0.570231   -0.612407       -0.998006     -0.190821   \n",
       "\n",
       "                BsmtFin SF 1  Total Bsmt SF  1st Flr SF  Gr Liv Area  \\\n",
       "Overall Qual        0.278274       0.545792    0.474888     0.567902   \n",
       "Year Built          0.279569       0.409489    0.310904     0.239688   \n",
       "Year Remod/Add      0.150011       0.298117    0.241128     0.316236   \n",
       "Mas Vnr Area        0.284305       0.378545    0.376205     0.387355   \n",
       "BsmtFin SF 1        1.000000       0.522775    0.439662     0.188245   \n",
       "Total Bsmt SF       0.522775       1.000000    0.792227     0.426689   \n",
       "1st Flr SF          0.439662       0.792227    1.000000     0.546943   \n",
       "Gr Liv Area         0.188245       0.426689    0.546943     1.000000   \n",
       "Full Bath           0.073805       0.324943    0.372838     0.633355   \n",
       "TotRms AbvGrd       0.030338       0.266420    0.377083     0.806092   \n",
       "Fireplaces          0.293897       0.331919    0.406965     0.455685   \n",
       "Garage Cars         0.252932       0.438589    0.441002     0.489469   \n",
       "Garage Area         0.303824       0.482306    0.488603     0.480458   \n",
       "Wood Deck SF        0.216577       0.222595    0.218907     0.244285   \n",
       "Open Porch SF       0.105248       0.222762    0.212943     0.321770   \n",
       "SalePrice           0.439284       0.644012    0.635185     0.717596   \n",
       "years_sold         -0.278070      -0.409209   -0.310902    -0.240369   \n",
       "years_sold_ren     -0.148456      -0.298629   -0.241824    -0.317779   \n",
       "\n",
       "                Full Bath  TotRms AbvGrd  Fireplaces  Garage Cars  \\\n",
       "Overall Qual     0.520942       0.376199    0.391604     0.598485   \n",
       "Year Built       0.468698       0.109148    0.169559     0.536465   \n",
       "Year Remod/Add   0.456567       0.195469    0.132178     0.424706   \n",
       "Mas Vnr Area     0.252318       0.267328    0.267449     0.354753   \n",
       "BsmtFin SF 1     0.073805       0.030338    0.293897     0.252932   \n",
       "Total Bsmt SF    0.324943       0.266420    0.331919     0.438589   \n",
       "1st Flr SF       0.372838       0.377083    0.406965     0.441002   \n",
       "Gr Liv Area      0.633355       0.806092    0.455685     0.489469   \n",
       "Full Bath        1.000000       0.528647    0.229024     0.477338   \n",
       "TotRms AbvGrd    0.528647       1.000000    0.300400     0.353491   \n",
       "Fireplaces       0.229024       0.300400    1.000000     0.320042   \n",
       "Garage Cars      0.477338       0.353491    0.320042     1.000000   \n",
       "Garage Area      0.405233       0.322227    0.292294     0.888866   \n",
       "Wood Deck SF     0.178688       0.148608    0.226145     0.239666   \n",
       "Open Porch SF    0.255378       0.222813    0.155353     0.200440   \n",
       "SalePrice        0.546118       0.498574    0.474831     0.648361   \n",
       "years_sold      -0.468171      -0.110243   -0.169608    -0.536616   \n",
       "years_sold_ren  -0.456866      -0.197317   -0.132631    -0.426134   \n",
       "\n",
       "                Garage Area  Wood Deck SF  Open Porch SF  SalePrice  \\\n",
       "Overall Qual       0.561303      0.253120       0.290553   0.801206   \n",
       "Year Built         0.479752      0.228135       0.194882   0.558490   \n",
       "Year Remod/Add     0.374299      0.217017       0.239191   0.533007   \n",
       "Mas Vnr Area       0.365786      0.158743       0.123395   0.506983   \n",
       "BsmtFin SF 1       0.303824      0.216577       0.105248   0.439284   \n",
       "Total Bsmt SF      0.482306      0.222595       0.222762   0.644012   \n",
       "1st Flr SF         0.488603      0.218907       0.212943   0.635185   \n",
       "Gr Liv Area        0.480458      0.244285       0.321770   0.717596   \n",
       "Full Bath          0.405233      0.178688       0.255378   0.546118   \n",
       "TotRms AbvGrd      0.322227      0.148608       0.222813   0.498574   \n",
       "Fireplaces         0.292294      0.226145       0.155353   0.474831   \n",
       "Garage Cars        0.888866      0.239666       0.200440   0.648361   \n",
       "Garage Area        1.000000      0.234694       0.224994   0.641425   \n",
       "Wood Deck SF       0.234694      1.000000       0.031473   0.328183   \n",
       "Open Porch SF      0.224994      0.031473       1.000000   0.316262   \n",
       "SalePrice          0.641425      0.328183       0.316262   1.000000   \n",
       "years_sold        -0.479530     -0.227723      -0.196099  -0.558979   \n",
       "years_sold_ren    -0.375056     -0.216938      -0.241406  -0.534985   \n",
       "\n",
       "                years_sold  years_sold_ren  \n",
       "Overall Qual     -0.596358       -0.570231  \n",
       "Year Built       -0.999054       -0.612407  \n",
       "Year Remod/Add   -0.609186       -0.998006  \n",
       "Mas Vnr Area     -0.306163       -0.190821  \n",
       "BsmtFin SF 1     -0.278070       -0.148456  \n",
       "Total Bsmt SF    -0.409209       -0.298629  \n",
       "1st Flr SF       -0.310902       -0.241824  \n",
       "Gr Liv Area      -0.240369       -0.317779  \n",
       "Full Bath        -0.468171       -0.456866  \n",
       "TotRms AbvGrd    -0.110243       -0.197317  \n",
       "Fireplaces       -0.169608       -0.132631  \n",
       "Garage Cars      -0.536616       -0.426134  \n",
       "Garage Area      -0.479530       -0.375056  \n",
       "Wood Deck SF     -0.227723       -0.216938  \n",
       "Open Porch SF    -0.196099       -0.241406  \n",
       "SalePrice        -0.558979       -0.534985  \n",
       "years_sold        1.000000        0.612790  \n",
       "years_sold_ren    0.612790        1.000000  "
      ]
     },
     "execution_count": 19,
     "metadata": {},
     "output_type": "execute_result"
    }
   ],
   "source": [
    "num_train= transform_df.select_dtypes(include=['float','integer']) # selecting num cols.\n",
    "cor_train_df= num_train.corr() # calculated correlation of num cols\n",
    "cor_saleprice= abs(cor_train_df.SalePrice) # correlation with target col\n",
    "\n",
    "# Keep columns having correlation greater than 0.3 with Saleprice col.\n",
    "strong_cor= cor_saleprice[cor_saleprice > 0.3]\n",
    "corrmat= transform_df[strong_cor.index].corr()\n",
    "corrmat\n"
   ]
  },
  {
   "cell_type": "code",
   "execution_count": 20,
   "metadata": {
    "collapsed": false
   },
   "outputs": [
    {
     "data": {
      "text/plain": [
       "<matplotlib.axes._subplots.AxesSubplot at 0x7f64b6462710>"
      ]
     },
     "execution_count": 20,
     "metadata": {},
     "output_type": "execute_result"
    },
    {
     "data": {
      "image/png": "[encoded data removed]",
      "text/plain": [
       "<matplotlib.figure.Figure at 0x7f64b642c5f8>"
      ]
     },
     "metadata": {},
     "output_type": "display_data"
    }
   ],
   "source": [
    "%matplotlib inline \n",
    "sns.heatmap(corrmat)"
   ]
  },
  {
   "cell_type": "code",
   "execution_count": 21,
   "metadata": {
    "collapsed": true
   },
   "outputs": [],
   "source": [
    "#Drop cols with low corr.\n",
    "transform_df= transform_df.drop(cor_saleprice[cor_saleprice < 0.3].index, axis=1)"
   ]
  },
  {
   "cell_type": "markdown",
   "metadata": {},
   "source": [
    "Categorical columns"
   ]
  },
  {
   "cell_type": "code",
   "execution_count": 22,
   "metadata": {
    "collapsed": false
   },
   "outputs": [
    {
     "name": "stdout",
     "output_type": "stream",
     "text": [
      "<class 'pandas.core.frame.DataFrame'>\n",
      "Int64Index: 2927 entries, 0 to 2929\n",
      "Data columns (total 43 columns):\n",
      "MS Zoning         2927 non-null object\n",
      "Street            2927 non-null object\n",
      "Lot Shape         2927 non-null object\n",
      "Land Contour      2927 non-null object\n",
      "Utilities         2927 non-null object\n",
      "Lot Config        2927 non-null object\n",
      "Land Slope        2927 non-null object\n",
      "Neighborhood      2927 non-null object\n",
      "Condition 1       2927 non-null object\n",
      "Condition 2       2927 non-null object\n",
      "Bldg Type         2927 non-null object\n",
      "House Style       2927 non-null object\n",
      "Overall Qual      2927 non-null int64\n",
      "Year Built        2927 non-null int64\n",
      "Year Remod/Add    2927 non-null int64\n",
      "Roof Style        2927 non-null object\n",
      "Roof Matl         2927 non-null object\n",
      "Exterior 1st      2927 non-null object\n",
      "Exterior 2nd      2927 non-null object\n",
      "Mas Vnr Area      2927 non-null float64\n",
      "Exter Qual        2927 non-null object\n",
      "Exter Cond        2927 non-null object\n",
      "Foundation        2927 non-null object\n",
      "BsmtFin SF 1      2927 non-null float64\n",
      "Total Bsmt SF     2927 non-null float64\n",
      "Heating           2927 non-null object\n",
      "Heating QC        2927 non-null object\n",
      "Central Air       2927 non-null object\n",
      "1st Flr SF        2927 non-null int64\n",
      "Gr Liv Area       2927 non-null int64\n",
      "Full Bath         2927 non-null int64\n",
      "Kitchen Qual      2927 non-null object\n",
      "TotRms AbvGrd     2927 non-null int64\n",
      "Functional        2927 non-null object\n",
      "Fireplaces        2927 non-null int64\n",
      "Garage Cars       2927 non-null float64\n",
      "Garage Area       2927 non-null float64\n",
      "Paved Drive       2927 non-null object\n",
      "Wood Deck SF      2927 non-null int64\n",
      "Open Porch SF     2927 non-null int64\n",
      "SalePrice         2927 non-null int64\n",
      "years_sold        2927 non-null int64\n",
      "years_sold_ren    2927 non-null int64\n",
      "dtypes: float64(5), int64(13), object(25)\n",
      "memory usage: 1006.2+ KB\n"
     ]
    }
   ],
   "source": [
    "transform_df.info()"
   ]
  },
  {
   "cell_type": "code",
   "execution_count": 23,
   "metadata": {
    "collapsed": false
   },
   "outputs": [
    {
     "data": {
      "text/plain": [
       "['MS Zoning',\n",
       " 'Street',\n",
       " 'Land Contour',\n",
       " 'Lot Shape',\n",
       " 'Lot Config',\n",
       " 'Neighborhood',\n",
       " 'Land Contour',\n",
       " 'Condition 1',\n",
       " 'Condition 2',\n",
       " 'Bldg Type',\n",
       " 'Utilities',\n",
       " 'House Style',\n",
       " 'Roof Style',\n",
       " 'Roof Matl',\n",
       " 'Exterior 1st',\n",
       " 'Exterior 2nd',\n",
       " 'Exter Cond',\n",
       " 'Foundation',\n",
       " 'Heating',\n",
       " 'Central Air']"
      ]
     },
     "execution_count": 23,
     "metadata": {},
     "output_type": "execute_result"
    }
   ],
   "source": [
    "## List of column names categorized as nominal variables are candidates for being converted to categorical\n",
    "nominal_features = [\"PID\",\"MS SubClass\", \"MS Zoning\", \"Street\", \"Land Contour\",\"Lot Shape\", \"Lot Config\", \"Neighborhood\", \"Land Contour\",\n",
    "                    \"Condition 1\", \"Condition 2\", \"Bldg Type\",\"Utilities\", \"House Style\", \"Roof Style\", \"Roof Matl\", \"Exterior 1st\", \n",
    "                    \"Exterior 2nd\", \"Exter Cond\", \"Foundation\", \"Heating\", \"Central Air\", \"Garage Type\",\"Fence\" \n",
    "                    \"Misc Feature\", \"Sale Type\", \"Sale Condition\",\"Electrical\"]\n",
    "         \n",
    "# Cols from above list are available to us or not.    \n",
    "transform_col_list= list()\n",
    "for col in nominal_features:\n",
    "    if col in transform_df.columns:\n",
    "        transform_col_list.append(col)\n",
    "transform_col_list    "
   ]
  },
  {
   "cell_type": "code",
   "execution_count": 24,
   "metadata": {
    "collapsed": false
   },
   "outputs": [
    {
     "data": {
      "text/plain": [
       "MS Zoning        7\n",
       "Street           2\n",
       "Land Contour     4\n",
       "Lot Shape        4\n",
       "Lot Config       5\n",
       "Neighborhood    28\n",
       "Land Contour     4\n",
       "Condition 1      9\n",
       "Condition 2      8\n",
       "Bldg Type        5\n",
       "Utilities        3\n",
       "House Style      8\n",
       "Roof Style       6\n",
       "Roof Matl        8\n",
       "Exterior 1st    16\n",
       "Exterior 2nd    17\n",
       "Exter Cond       5\n",
       "Foundation       6\n",
       "Heating          6\n",
       "Central Air      2\n",
       "dtype: int64"
      ]
     },
     "execution_count": 24,
     "metadata": {},
     "output_type": "execute_result"
    }
   ],
   "source": [
    "# Use \"transform_col_list\" to count unique counts in each categorical column.\n",
    "unique_count= transform_df[transform_col_list].apply(lambda col: len(col.value_counts()))\n",
    "unique_count"
   ]
  },
  {
   "cell_type": "code",
   "execution_count": 25,
   "metadata": {
    "collapsed": false
   },
   "outputs": [],
   "source": [
    "# Drop the  categorical columns having more than 10 unique values.\n",
    "drop_col= transform_df[unique_count[unique_count>10].index]\n",
    "transform_df.drop(drop_col, axis=1, inplace=True)"
   ]
  },
  {
   "cell_type": "code",
   "execution_count": 26,
   "metadata": {
    "collapsed": true
   },
   "outputs": [],
   "source": [
    "# Select obj cols to be converted into category type.\n",
    "text_cols = transform_df.select_dtypes(include=['object'])\n",
    "for col in text_cols:\n",
    "    transform_df[col] = transform_df[col].astype('category')\n",
    "    \n",
    "# Compute dummy columns and add back to the dataframe!\n",
    "transform_df = pd.concat([\n",
    "    transform_df, \n",
    "    pd.get_dummies(transform_df.select_dtypes(include=['category']))\n",
    "], axis=1).drop(text_cols,axis=1)"
   ]
  },
  {
   "cell_type": "code",
   "execution_count": 27,
   "metadata": {
    "collapsed": false,
    "scrolled": true
   },
   "outputs": [
    {
     "name": "stdout",
     "output_type": "stream",
     "text": [
      "<class 'pandas.core.frame.DataFrame'>\n",
      "Int64Index: 2927 entries, 0 to 2929\n",
      "Columns: 134 entries, Overall Qual to Paved Drive_Y\n",
      "dtypes: float64(5), int64(13), uint8(116)\n",
      "memory usage: 766.1 KB\n"
     ]
    }
   ],
   "source": [
    "transform_df.info()"
   ]
  },
  {
   "cell_type": "code",
   "execution_count": 28,
   "metadata": {
    "collapsed": false
   },
   "outputs": [
    {
     "name": "stdout",
     "output_type": "stream",
     "text": [
      "R square:  0.798\n",
      "The RMSE of given model is: 36612.284\n"
     ]
    }
   ],
   "source": [
    "def transform_features(data):\n",
    "# remove col having more than 5% of missing values.\n",
    "    null_col= data.isnull().sum()\n",
    "    dropping_columns= data[null_col[null_col > len(data)*(5/100)].index]\n",
    "    data= data.drop(dropping_columns, axis=1)\n",
    "# Imputation for Numerical columns contain less than 5% missing values.\n",
    "\n",
    "    num_columns= data.select_dtypes(['integer','float']).isnull().sum()\n",
    "    num_missing= num_columns[num_columns>0 & (num_columns<len(data)*(5/100))]\n",
    "    val_dict = data[num_missing.index].mode().to_dict(orient='records')[0]    \n",
    "    data= data.fillna(val_dict)\n",
    "    num_missing.isnull().sum()\n",
    "# Obj columns to be dropped\n",
    "    str_count = data.select_dtypes(include=['object']).isnull().sum()\n",
    "    drop_missing_cols = str_count[str_count > 0]\n",
    "    data = data.drop(drop_missing_cols.index, axis=1)\n",
    "    \n",
    "    years_sold= data['Yr Sold']-data['Year Built']\n",
    "    years_sold_ren= data['Yr Sold']-data['Year Remod/Add']\n",
    "    data['years_sold']= years_sold\n",
    "    data['years_sold_ren']= years_sold_ren\n",
    "\n",
    "    data= data.drop([1702,2180,2181], axis=0)\n",
    "    \n",
    "    data= data.drop([\"Mo Sold\",'Sale Type', \"Sale Condition\",'Yr Sold'], axis=1)\n",
    "\n",
    "    data= data.drop([\"PID\",\"Order\",'Enclosed Porch'], axis=1)    \n",
    "     \n",
    "    return data\n",
    "\n",
    "def select_features(data):\n",
    "    \n",
    "    num_train= data.select_dtypes(include=['float','integer']) # selecting num cols.\n",
    "    cor_train_df= num_train.corr() # calculated correlation of num cols\n",
    "    cor_saleprice= abs(cor_train_df.SalePrice)\n",
    "    data= data.drop(cor_saleprice[cor_saleprice < 0.3].index, axis=1)\n",
    "    \n",
    "    return data\n",
    "\n",
    "def train_and_test(data):\n",
    "    train= data[:1460]\n",
    "    test= data[1460:]\n",
    "    \n",
    "# Selection of Numerical columns from both dataframes.\n",
    "    numerical_train= train.select_dtypes(include=['float','integer'])\n",
    "    numerical_test= test.select_dtypes(include=['float','integer'])\n",
    "\n",
    "# Remove SalePrice column from new dataframes.\n",
    "\n",
    "    features = numerical_train.columns.tolist()\n",
    "    features.remove(\"SalePrice\")\n",
    "\n",
    "# Train the model\n",
    "    lr= LinearRegression()\n",
    "    lr.fit(train[features], train['SalePrice'])\n",
    "    test_predictions= lr.predict(test[features])\n",
    "    mse= mean_squared_error(test['SalePrice'], test_predictions)\n",
    "    rsq= r2_score(test['SalePrice'], test_predictions)\n",
    "    print('R square: ' , round(rsq,3))\n",
    "    rmse= mse ** 0.5\n",
    "    return  rmse\n",
    "\n",
    "data = pd.read_csv(\"AmesHousing.tsv\", delimiter=\"\\t\")\n",
    "transform_df = transform_features(data)\n",
    "new_df = select_features(transform_df)\n",
    "rmse = train_and_test(new_df)\n",
    "print('The RMSE of given model is: {:.3f}'.format(rmse))\n"
   ]
  },
  {
   "cell_type": "markdown",
   "metadata": {
    "collapsed": true
   },
   "source": [
    "As per the R square this model is 80% accurate and Linear Regression model tends to less overfit so this model is fairly good enough."
   ]
  },
  {
   "cell_type": "code",
   "execution_count": null,
   "metadata": {
    "collapsed": true
   },
   "outputs": [],
   "source": []
  }
 ],
 "metadata": {
  "anaconda-cloud": {},
  "kernelspec": {
   "display_name": "Python 3",
   "language": "python",
   "name": "python3"
  },
  "language_info": {
   "codemirror_mode": {
    "name": "ipython",
    "version": 3
   },
   "file_extension": ".py",
   "mimetype": "text/x-python",
   "name": "python",
   "nbconvert_exporter": "python",
   "pygments_lexer": "ipython3",
   "version": "3.4.3"
  }
 },
 "nbformat": 4,
 "nbformat_minor": 2
}
