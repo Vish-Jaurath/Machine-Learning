{
 "cells": [
  {
   "cell_type": "markdown",
   "metadata": {},
   "source": [
    "### Predicting Car Prices using K-Nearest Neighbors"
   ]
  },
  {
   "cell_type": "markdown",
   "metadata": {},
   "source": [
    "Applied Machine learning workflow to predict a car's market price using its attributes. \n",
    "For each car we have information about the technical aspects of the vehicle such as the motor's displacement, the weight of the car, the miles per gallon, how fast the car accelerates, and more.\n",
    "\n"
   ]
  },
  {
   "cell_type": "code",
   "execution_count": 27,
   "metadata": {
    "collapsed": true
   },
   "outputs": [],
   "source": [
    "import pandas as pd\n",
    "import warnings\n",
    "warnings.filterwarnings(\"ignore\")"
   ]
  },
  {
   "cell_type": "code",
   "execution_count": 28,
   "metadata": {
    "collapsed": false
   },
   "outputs": [],
   "source": [
    "columns= ['symboling', 'normalized-losses', 'make', 'fuel-type', 'aspiration', 'num-of-doors', 'body-style', \n",
    "        'drive-wheels', 'engine-location', 'wheel-base', 'length', 'width', 'height', 'curb-weight', 'engine-type', \n",
    "        'num-of-cylinders', 'engine-size', 'fuel-system', 'bore', 'stroke', 'compression-rate', 'horsepower', 'peak-rpm', 'city-mpg', 'highway-mpg', 'price']\n",
    "\n",
    "cars= pd.read_csv('imports-85.data', names= columns)"
   ]
  },
  {
   "cell_type": "code",
   "execution_count": 29,
   "metadata": {
    "collapsed": false
   },
   "outputs": [
    {
     "data": {
      "text/html": [
       "<div>\n",
       "<style scoped>\n",
       "    .dataframe tbody tr th:only-of-type {\n",
       "        vertical-align: middle;\n",
       "    }\n",
       "\n",
       "    .dataframe tbody tr th {\n",
       "        vertical-align: top;\n",
       "    }\n",
       "\n",
       "    .dataframe thead th {\n",
       "        text-align: right;\n",
       "    }\n",
       "</style>\n",
       "<table border=\"1\" class=\"dataframe\">\n",
       "  <thead>\n",
       "    <tr style=\"text-align: right;\">\n",
       "      <th></th>\n",
       "      <th>symboling</th>\n",
       "      <th>normalized-losses</th>\n",
       "      <th>make</th>\n",
       "      <th>fuel-type</th>\n",
       "      <th>aspiration</th>\n",
       "      <th>num-of-doors</th>\n",
       "      <th>body-style</th>\n",
       "      <th>drive-wheels</th>\n",
       "      <th>engine-location</th>\n",
       "      <th>wheel-base</th>\n",
       "      <th>...</th>\n",
       "      <th>engine-size</th>\n",
       "      <th>fuel-system</th>\n",
       "      <th>bore</th>\n",
       "      <th>stroke</th>\n",
       "      <th>compression-rate</th>\n",
       "      <th>horsepower</th>\n",
       "      <th>peak-rpm</th>\n",
       "      <th>city-mpg</th>\n",
       "      <th>highway-mpg</th>\n",
       "      <th>price</th>\n",
       "    </tr>\n",
       "  </thead>\n",
       "  <tbody>\n",
       "    <tr>\n",
       "      <th>0</th>\n",
       "      <td>3</td>\n",
       "      <td>?</td>\n",
       "      <td>alfa-romero</td>\n",
       "      <td>gas</td>\n",
       "      <td>std</td>\n",
       "      <td>two</td>\n",
       "      <td>convertible</td>\n",
       "      <td>rwd</td>\n",
       "      <td>front</td>\n",
       "      <td>88.6</td>\n",
       "      <td>...</td>\n",
       "      <td>130</td>\n",
       "      <td>mpfi</td>\n",
       "      <td>3.47</td>\n",
       "      <td>2.68</td>\n",
       "      <td>9.0</td>\n",
       "      <td>111</td>\n",
       "      <td>5000</td>\n",
       "      <td>21</td>\n",
       "      <td>27</td>\n",
       "      <td>13495</td>\n",
       "    </tr>\n",
       "    <tr>\n",
       "      <th>1</th>\n",
       "      <td>3</td>\n",
       "      <td>?</td>\n",
       "      <td>alfa-romero</td>\n",
       "      <td>gas</td>\n",
       "      <td>std</td>\n",
       "      <td>two</td>\n",
       "      <td>convertible</td>\n",
       "      <td>rwd</td>\n",
       "      <td>front</td>\n",
       "      <td>88.6</td>\n",
       "      <td>...</td>\n",
       "      <td>130</td>\n",
       "      <td>mpfi</td>\n",
       "      <td>3.47</td>\n",
       "      <td>2.68</td>\n",
       "      <td>9.0</td>\n",
       "      <td>111</td>\n",
       "      <td>5000</td>\n",
       "      <td>21</td>\n",
       "      <td>27</td>\n",
       "      <td>16500</td>\n",
       "    </tr>\n",
       "    <tr>\n",
       "      <th>2</th>\n",
       "      <td>1</td>\n",
       "      <td>?</td>\n",
       "      <td>alfa-romero</td>\n",
       "      <td>gas</td>\n",
       "      <td>std</td>\n",
       "      <td>two</td>\n",
       "      <td>hatchback</td>\n",
       "      <td>rwd</td>\n",
       "      <td>front</td>\n",
       "      <td>94.5</td>\n",
       "      <td>...</td>\n",
       "      <td>152</td>\n",
       "      <td>mpfi</td>\n",
       "      <td>2.68</td>\n",
       "      <td>3.47</td>\n",
       "      <td>9.0</td>\n",
       "      <td>154</td>\n",
       "      <td>5000</td>\n",
       "      <td>19</td>\n",
       "      <td>26</td>\n",
       "      <td>16500</td>\n",
       "    </tr>\n",
       "  </tbody>\n",
       "</table>\n",
       "<p>3 rows × 26 columns</p>\n",
       "</div>"
      ],
      "text/plain": [
       "   symboling normalized-losses         make fuel-type aspiration num-of-doors  \\\n",
       "0          3                 ?  alfa-romero       gas        std          two   \n",
       "1          3                 ?  alfa-romero       gas        std          two   \n",
       "2          1                 ?  alfa-romero       gas        std          two   \n",
       "\n",
       "    body-style drive-wheels engine-location  wheel-base  ...    engine-size  \\\n",
       "0  convertible          rwd           front        88.6  ...            130   \n",
       "1  convertible          rwd           front        88.6  ...            130   \n",
       "2    hatchback          rwd           front        94.5  ...            152   \n",
       "\n",
       "   fuel-system  bore  stroke compression-rate horsepower  peak-rpm city-mpg  \\\n",
       "0         mpfi  3.47    2.68              9.0        111      5000       21   \n",
       "1         mpfi  3.47    2.68              9.0        111      5000       21   \n",
       "2         mpfi  2.68    3.47              9.0        154      5000       19   \n",
       "\n",
       "  highway-mpg  price  \n",
       "0          27  13495  \n",
       "1          27  16500  \n",
       "2          26  16500  \n",
       "\n",
       "[3 rows x 26 columns]"
      ]
     },
     "execution_count": 29,
     "metadata": {},
     "output_type": "execute_result"
    }
   ],
   "source": [
    "cars.head(3)"
   ]
  },
  {
   "cell_type": "code",
   "execution_count": 30,
   "metadata": {
    "collapsed": false
   },
   "outputs": [],
   "source": [
    "import numpy as np\n",
    "values_cols = ['normalized-losses', 'wheel-base', 'length', 'width', 'height', 'curb-weight', 'engine-size', 'bore', 'stroke', 'compression-rate', 'horsepower', 'peak-rpm', 'city-mpg', 'highway-mpg', 'price']\n",
    "num_cars = cars[values_cols]\n",
    "num_cars.replace('?', np.nan, inplace=True)"
   ]
  },
  {
   "cell_type": "code",
   "execution_count": 31,
   "metadata": {
    "collapsed": false
   },
   "outputs": [
    {
     "data": {
      "text/html": [
       "<div>\n",
       "<style scoped>\n",
       "    .dataframe tbody tr th:only-of-type {\n",
       "        vertical-align: middle;\n",
       "    }\n",
       "\n",
       "    .dataframe tbody tr th {\n",
       "        vertical-align: top;\n",
       "    }\n",
       "\n",
       "    .dataframe thead th {\n",
       "        text-align: right;\n",
       "    }\n",
       "</style>\n",
       "<table border=\"1\" class=\"dataframe\">\n",
       "  <thead>\n",
       "    <tr style=\"text-align: right;\">\n",
       "      <th></th>\n",
       "      <th>normalized-losses</th>\n",
       "      <th>wheel-base</th>\n",
       "      <th>length</th>\n",
       "      <th>width</th>\n",
       "      <th>height</th>\n",
       "      <th>curb-weight</th>\n",
       "      <th>engine-size</th>\n",
       "      <th>bore</th>\n",
       "      <th>stroke</th>\n",
       "      <th>compression-rate</th>\n",
       "      <th>horsepower</th>\n",
       "      <th>peak-rpm</th>\n",
       "      <th>city-mpg</th>\n",
       "      <th>highway-mpg</th>\n",
       "      <th>price</th>\n",
       "    </tr>\n",
       "  </thead>\n",
       "  <tbody>\n",
       "    <tr>\n",
       "      <th>0</th>\n",
       "      <td>NaN</td>\n",
       "      <td>88.6</td>\n",
       "      <td>168.8</td>\n",
       "      <td>64.1</td>\n",
       "      <td>48.8</td>\n",
       "      <td>2548</td>\n",
       "      <td>130</td>\n",
       "      <td>3.47</td>\n",
       "      <td>2.68</td>\n",
       "      <td>9.0</td>\n",
       "      <td>111</td>\n",
       "      <td>5000</td>\n",
       "      <td>21</td>\n",
       "      <td>27</td>\n",
       "      <td>13495</td>\n",
       "    </tr>\n",
       "    <tr>\n",
       "      <th>1</th>\n",
       "      <td>NaN</td>\n",
       "      <td>88.6</td>\n",
       "      <td>168.8</td>\n",
       "      <td>64.1</td>\n",
       "      <td>48.8</td>\n",
       "      <td>2548</td>\n",
       "      <td>130</td>\n",
       "      <td>3.47</td>\n",
       "      <td>2.68</td>\n",
       "      <td>9.0</td>\n",
       "      <td>111</td>\n",
       "      <td>5000</td>\n",
       "      <td>21</td>\n",
       "      <td>27</td>\n",
       "      <td>16500</td>\n",
       "    </tr>\n",
       "    <tr>\n",
       "      <th>2</th>\n",
       "      <td>NaN</td>\n",
       "      <td>94.5</td>\n",
       "      <td>171.2</td>\n",
       "      <td>65.5</td>\n",
       "      <td>52.4</td>\n",
       "      <td>2823</td>\n",
       "      <td>152</td>\n",
       "      <td>2.68</td>\n",
       "      <td>3.47</td>\n",
       "      <td>9.0</td>\n",
       "      <td>154</td>\n",
       "      <td>5000</td>\n",
       "      <td>19</td>\n",
       "      <td>26</td>\n",
       "      <td>16500</td>\n",
       "    </tr>\n",
       "  </tbody>\n",
       "</table>\n",
       "</div>"
      ],
      "text/plain": [
       "  normalized-losses  wheel-base  length  width  height  curb-weight  \\\n",
       "0               NaN        88.6   168.8   64.1    48.8         2548   \n",
       "1               NaN        88.6   168.8   64.1    48.8         2548   \n",
       "2               NaN        94.5   171.2   65.5    52.4         2823   \n",
       "\n",
       "   engine-size  bore stroke  compression-rate horsepower peak-rpm  city-mpg  \\\n",
       "0          130  3.47   2.68               9.0        111     5000        21   \n",
       "1          130  3.47   2.68               9.0        111     5000        21   \n",
       "2          152  2.68   3.47               9.0        154     5000        19   \n",
       "\n",
       "   highway-mpg  price  \n",
       "0           27  13495  \n",
       "1           27  16500  \n",
       "2           26  16500  "
      ]
     },
     "execution_count": 31,
     "metadata": {},
     "output_type": "execute_result"
    }
   ],
   "source": [
    "num_cars.head(3)"
   ]
  },
  {
   "cell_type": "code",
   "execution_count": 32,
   "metadata": {
    "collapsed": false
   },
   "outputs": [
    {
     "name": "stdout",
     "output_type": "stream",
     "text": [
      "<class 'pandas.core.frame.DataFrame'>\n",
      "RangeIndex: 205 entries, 0 to 204\n",
      "Data columns (total 15 columns):\n",
      "normalized-losses    164 non-null object\n",
      "wheel-base           205 non-null float64\n",
      "length               205 non-null float64\n",
      "width                205 non-null float64\n",
      "height               205 non-null float64\n",
      "curb-weight          205 non-null int64\n",
      "engine-size          205 non-null int64\n",
      "bore                 201 non-null object\n",
      "stroke               201 non-null object\n",
      "compression-rate     205 non-null float64\n",
      "horsepower           203 non-null object\n",
      "peak-rpm             203 non-null object\n",
      "city-mpg             205 non-null int64\n",
      "highway-mpg          205 non-null int64\n",
      "price                201 non-null object\n",
      "dtypes: float64(5), int64(4), object(6)\n",
      "memory usage: 24.1+ KB\n"
     ]
    }
   ],
   "source": [
    "num_cars.info()"
   ]
  },
  {
   "cell_type": "code",
   "execution_count": 33,
   "metadata": {
    "collapsed": false
   },
   "outputs": [],
   "source": [
    "num_cars= num_cars.astype('float')"
   ]
  },
  {
   "cell_type": "code",
   "execution_count": 34,
   "metadata": {
    "collapsed": false
   },
   "outputs": [
    {
     "name": "stdout",
     "output_type": "stream",
     "text": [
      "<class 'pandas.core.frame.DataFrame'>\n",
      "RangeIndex: 205 entries, 0 to 204\n",
      "Data columns (total 15 columns):\n",
      "normalized-losses    164 non-null float64\n",
      "wheel-base           205 non-null float64\n",
      "length               205 non-null float64\n",
      "width                205 non-null float64\n",
      "height               205 non-null float64\n",
      "curb-weight          205 non-null float64\n",
      "engine-size          205 non-null float64\n",
      "bore                 201 non-null float64\n",
      "stroke               201 non-null float64\n",
      "compression-rate     205 non-null float64\n",
      "horsepower           203 non-null float64\n",
      "peak-rpm             203 non-null float64\n",
      "city-mpg             205 non-null float64\n",
      "highway-mpg          205 non-null float64\n",
      "price                201 non-null float64\n",
      "dtypes: float64(15)\n",
      "memory usage: 24.1 KB\n"
     ]
    }
   ],
   "source": [
    "num_cars.info()"
   ]
  },
  {
   "cell_type": "code",
   "execution_count": 35,
   "metadata": {
    "collapsed": false
   },
   "outputs": [
    {
     "data": {
      "text/plain": [
       "normalized-losses    41\n",
       "wheel-base            0\n",
       "length                0\n",
       "width                 0\n",
       "height                0\n",
       "curb-weight           0\n",
       "engine-size           0\n",
       "bore                  4\n",
       "stroke                4\n",
       "compression-rate      0\n",
       "horsepower            2\n",
       "peak-rpm              2\n",
       "city-mpg              0\n",
       "highway-mpg           0\n",
       "price                 4\n",
       "dtype: int64"
      ]
     },
     "execution_count": 35,
     "metadata": {},
     "output_type": "execute_result"
    }
   ],
   "source": [
    "num_cars.isnull().sum()"
   ]
  },
  {
   "cell_type": "code",
   "execution_count": 36,
   "metadata": {
    "collapsed": false
   },
   "outputs": [
    {
     "data": {
      "text/plain": [
       "normalized-losses    37\n",
       "wheel-base            0\n",
       "length                0\n",
       "width                 0\n",
       "height                0\n",
       "curb-weight           0\n",
       "engine-size           0\n",
       "bore                  4\n",
       "stroke                4\n",
       "compression-rate      0\n",
       "horsepower            2\n",
       "peak-rpm              2\n",
       "city-mpg              0\n",
       "highway-mpg           0\n",
       "price                 0\n",
       "dtype: int64"
      ]
     },
     "execution_count": 36,
     "metadata": {},
     "output_type": "execute_result"
    }
   ],
   "source": [
    "# As we gonna use price col as target col, so we can remove those 4 missing values directly.  \n",
    "num_cars = num_cars.dropna(subset=['price'])\n",
    "num_cars.isnull().sum()"
   ]
  },
  {
   "cell_type": "code",
   "execution_count": 37,
   "metadata": {
    "collapsed": false
   },
   "outputs": [
    {
     "data": {
      "text/plain": [
       "normalized-losses    0\n",
       "wheel-base           0\n",
       "length               0\n",
       "width                0\n",
       "height               0\n",
       "curb-weight          0\n",
       "engine-size          0\n",
       "bore                 0\n",
       "stroke               0\n",
       "compression-rate     0\n",
       "horsepower           0\n",
       "peak-rpm             0\n",
       "city-mpg             0\n",
       "highway-mpg          0\n",
       "price                0\n",
       "dtype: int64"
      ]
     },
     "execution_count": 37,
     "metadata": {},
     "output_type": "execute_result"
    }
   ],
   "source": [
    "# For other missing value columns we're gonna replace them with average values from particular column.\n",
    "num_cars = num_cars.fillna(num_cars.mean())\n",
    "num_cars.isnull().sum()"
   ]
  },
  {
   "cell_type": "code",
   "execution_count": 38,
   "metadata": {
    "collapsed": false
   },
   "outputs": [
    {
     "data": {
      "text/html": [
       "<div>\n",
       "<style scoped>\n",
       "    .dataframe tbody tr th:only-of-type {\n",
       "        vertical-align: middle;\n",
       "    }\n",
       "\n",
       "    .dataframe tbody tr th {\n",
       "        vertical-align: top;\n",
       "    }\n",
       "\n",
       "    .dataframe thead th {\n",
       "        text-align: right;\n",
       "    }\n",
       "</style>\n",
       "<table border=\"1\" class=\"dataframe\">\n",
       "  <thead>\n",
       "    <tr style=\"text-align: right;\">\n",
       "      <th></th>\n",
       "      <th>normalized-losses</th>\n",
       "      <th>wheel-base</th>\n",
       "      <th>length</th>\n",
       "      <th>width</th>\n",
       "      <th>height</th>\n",
       "      <th>curb-weight</th>\n",
       "      <th>engine-size</th>\n",
       "      <th>bore</th>\n",
       "      <th>stroke</th>\n",
       "      <th>compression-rate</th>\n",
       "      <th>horsepower</th>\n",
       "      <th>peak-rpm</th>\n",
       "      <th>city-mpg</th>\n",
       "      <th>highway-mpg</th>\n",
       "      <th>price</th>\n",
       "    </tr>\n",
       "  </thead>\n",
       "  <tbody>\n",
       "    <tr>\n",
       "      <th>0</th>\n",
       "      <td>0.0</td>\n",
       "      <td>-1.680910</td>\n",
       "      <td>-0.438315</td>\n",
       "      <td>-0.851335</td>\n",
       "      <td>-2.029015</td>\n",
       "      <td>-0.014821</td>\n",
       "      <td>0.075201</td>\n",
       "      <td>0.519597</td>\n",
       "      <td>-1.825369</td>\n",
       "      <td>-0.290709</td>\n",
       "      <td>0.203476</td>\n",
       "      <td>-0.245942</td>\n",
       "      <td>-0.650624</td>\n",
       "      <td>-0.540937</td>\n",
       "      <td>0.036224</td>\n",
       "    </tr>\n",
       "    <tr>\n",
       "      <th>1</th>\n",
       "      <td>0.0</td>\n",
       "      <td>-1.680910</td>\n",
       "      <td>-0.438315</td>\n",
       "      <td>-0.851335</td>\n",
       "      <td>-2.029015</td>\n",
       "      <td>-0.014821</td>\n",
       "      <td>0.075201</td>\n",
       "      <td>0.519597</td>\n",
       "      <td>-1.825369</td>\n",
       "      <td>-0.290709</td>\n",
       "      <td>0.203476</td>\n",
       "      <td>-0.245942</td>\n",
       "      <td>-0.650624</td>\n",
       "      <td>-0.540937</td>\n",
       "      <td>0.414350</td>\n",
       "    </tr>\n",
       "    <tr>\n",
       "      <th>2</th>\n",
       "      <td>0.0</td>\n",
       "      <td>-0.708334</td>\n",
       "      <td>-0.243544</td>\n",
       "      <td>-0.185134</td>\n",
       "      <td>-0.558319</td>\n",
       "      <td>0.516789</td>\n",
       "      <td>0.604724</td>\n",
       "      <td>-2.427374</td>\n",
       "      <td>0.674254</td>\n",
       "      <td>-0.290709</td>\n",
       "      <td>1.354267</td>\n",
       "      <td>-0.245942</td>\n",
       "      <td>-0.961995</td>\n",
       "      <td>-0.687669</td>\n",
       "      <td>0.414350</td>\n",
       "    </tr>\n",
       "  </tbody>\n",
       "</table>\n",
       "</div>"
      ],
      "text/plain": [
       "   normalized-losses  wheel-base    length     width    height  curb-weight  \\\n",
       "0                0.0   -1.680910 -0.438315 -0.851335 -2.029015    -0.014821   \n",
       "1                0.0   -1.680910 -0.438315 -0.851335 -2.029015    -0.014821   \n",
       "2                0.0   -0.708334 -0.243544 -0.185134 -0.558319     0.516789   \n",
       "\n",
       "   engine-size      bore    stroke  compression-rate  horsepower  peak-rpm  \\\n",
       "0     0.075201  0.519597 -1.825369         -0.290709    0.203476 -0.245942   \n",
       "1     0.075201  0.519597 -1.825369         -0.290709    0.203476 -0.245942   \n",
       "2     0.604724 -2.427374  0.674254         -0.290709    1.354267 -0.245942   \n",
       "\n",
       "   city-mpg  highway-mpg     price  \n",
       "0 -0.650624    -0.540937  0.036224  \n",
       "1 -0.650624    -0.540937  0.414350  \n",
       "2 -0.961995    -0.687669  0.414350  "
      ]
     },
     "execution_count": 38,
     "metadata": {},
     "output_type": "execute_result"
    }
   ],
   "source": [
    "normalized_cars= (num_cars-num_cars.mean())/num_cars.std()\n",
    "normalized_cars.head(3)"
   ]
  },
  {
   "cell_type": "code",
   "execution_count": 39,
   "metadata": {
    "collapsed": false
   },
   "outputs": [
    {
     "data": {
      "text/html": [
       "<div>\n",
       "<style scoped>\n",
       "    .dataframe tbody tr th:only-of-type {\n",
       "        vertical-align: middle;\n",
       "    }\n",
       "\n",
       "    .dataframe tbody tr th {\n",
       "        vertical-align: top;\n",
       "    }\n",
       "\n",
       "    .dataframe thead th {\n",
       "        text-align: right;\n",
       "    }\n",
       "</style>\n",
       "<table border=\"1\" class=\"dataframe\">\n",
       "  <thead>\n",
       "    <tr style=\"text-align: right;\">\n",
       "      <th></th>\n",
       "      <th>normalized-losses</th>\n",
       "      <th>wheel-base</th>\n",
       "      <th>length</th>\n",
       "      <th>width</th>\n",
       "      <th>height</th>\n",
       "      <th>curb-weight</th>\n",
       "      <th>engine-size</th>\n",
       "      <th>bore</th>\n",
       "      <th>stroke</th>\n",
       "      <th>compression-rate</th>\n",
       "      <th>horsepower</th>\n",
       "      <th>peak-rpm</th>\n",
       "      <th>city-mpg</th>\n",
       "      <th>highway-mpg</th>\n",
       "      <th>price</th>\n",
       "    </tr>\n",
       "  </thead>\n",
       "  <tbody>\n",
       "    <tr>\n",
       "      <th>0</th>\n",
       "      <td>0.0</td>\n",
       "      <td>-1.680910</td>\n",
       "      <td>-0.438315</td>\n",
       "      <td>-0.851335</td>\n",
       "      <td>-2.029015</td>\n",
       "      <td>-0.014821</td>\n",
       "      <td>0.075201</td>\n",
       "      <td>0.519597</td>\n",
       "      <td>-1.825369</td>\n",
       "      <td>-0.290709</td>\n",
       "      <td>0.203476</td>\n",
       "      <td>-0.245942</td>\n",
       "      <td>-0.650624</td>\n",
       "      <td>-0.540937</td>\n",
       "      <td>13495.0</td>\n",
       "    </tr>\n",
       "    <tr>\n",
       "      <th>1</th>\n",
       "      <td>0.0</td>\n",
       "      <td>-1.680910</td>\n",
       "      <td>-0.438315</td>\n",
       "      <td>-0.851335</td>\n",
       "      <td>-2.029015</td>\n",
       "      <td>-0.014821</td>\n",
       "      <td>0.075201</td>\n",
       "      <td>0.519597</td>\n",
       "      <td>-1.825369</td>\n",
       "      <td>-0.290709</td>\n",
       "      <td>0.203476</td>\n",
       "      <td>-0.245942</td>\n",
       "      <td>-0.650624</td>\n",
       "      <td>-0.540937</td>\n",
       "      <td>16500.0</td>\n",
       "    </tr>\n",
       "    <tr>\n",
       "      <th>2</th>\n",
       "      <td>0.0</td>\n",
       "      <td>-0.708334</td>\n",
       "      <td>-0.243544</td>\n",
       "      <td>-0.185134</td>\n",
       "      <td>-0.558319</td>\n",
       "      <td>0.516789</td>\n",
       "      <td>0.604724</td>\n",
       "      <td>-2.427374</td>\n",
       "      <td>0.674254</td>\n",
       "      <td>-0.290709</td>\n",
       "      <td>1.354267</td>\n",
       "      <td>-0.245942</td>\n",
       "      <td>-0.961995</td>\n",
       "      <td>-0.687669</td>\n",
       "      <td>16500.0</td>\n",
       "    </tr>\n",
       "  </tbody>\n",
       "</table>\n",
       "</div>"
      ],
      "text/plain": [
       "   normalized-losses  wheel-base    length     width    height  curb-weight  \\\n",
       "0                0.0   -1.680910 -0.438315 -0.851335 -2.029015    -0.014821   \n",
       "1                0.0   -1.680910 -0.438315 -0.851335 -2.029015    -0.014821   \n",
       "2                0.0   -0.708334 -0.243544 -0.185134 -0.558319     0.516789   \n",
       "\n",
       "   engine-size      bore    stroke  compression-rate  horsepower  peak-rpm  \\\n",
       "0     0.075201  0.519597 -1.825369         -0.290709    0.203476 -0.245942   \n",
       "1     0.075201  0.519597 -1.825369         -0.290709    0.203476 -0.245942   \n",
       "2     0.604724 -2.427374  0.674254         -0.290709    1.354267 -0.245942   \n",
       "\n",
       "   city-mpg  highway-mpg    price  \n",
       "0 -0.650624    -0.540937  13495.0  \n",
       "1 -0.650624    -0.540937  16500.0  \n",
       "2 -0.961995    -0.687669  16500.0  "
      ]
     },
     "execution_count": 39,
     "metadata": {},
     "output_type": "execute_result"
    }
   ],
   "source": [
    "normalized_cars['price']= num_cars['price']\n",
    "normalized_cars.head(3)"
   ]
  },
  {
   "cell_type": "code",
   "execution_count": 40,
   "metadata": {
    "collapsed": false
   },
   "outputs": [],
   "source": [
    "from sklearn.neighbors import KNeighborsRegressor\n",
    "from sklearn.metrics import mean_squared_error\n",
    "import numpy as np\n",
    "\n",
    "def knn_train_test(feature_col, target_col, df):\n",
    "    knn= KNeighborsRegressor()\n",
    "    \n",
    "    np.random.seed(1)\n",
    "    \n",
    "    index = np.random.permutation(df.index)\n",
    "    df_new = df.reindex(index)\n",
    "    index_new = int(len(df_new) / 2)\n",
    "    train_set= df_new[0:index_new]\n",
    "    test_set= df_new[index_new:]\n",
    "    \n",
    "    knn.fit(train_set[[feature_col]], train_set[target_col])\n",
    "    \n",
    "    predictions= knn.predict(test_set[[feature_col]])\n",
    "    \n",
    "    mse= mean_squared_error(test_set[target_col], predictions)\n",
    "    rmse= mse ** (1/2)\n",
    "    return rmse    "
   ]
  },
  {
   "cell_type": "code",
   "execution_count": 41,
   "metadata": {
    "collapsed": false,
    "scrolled": false
   },
   "outputs": [
    {
     "data": {
      "text/plain": [
       "4625.047587445843"
      ]
     },
     "execution_count": 41,
     "metadata": {},
     "output_type": "execute_result"
    }
   ],
   "source": [
    "knn_train_test('highway-mpg','price',normalized_cars)"
   ]
  },
  {
   "cell_type": "code",
   "execution_count": 42,
   "metadata": {
    "collapsed": false
   },
   "outputs": [
    {
     "data": {
      "text/plain": [
       "{'bore': 6793.0574839170895,\n",
       " 'city-mpg': 4754.637378183515,\n",
       " 'compression-rate': 6606.571345933599,\n",
       " 'curb-weight': 4453.680702653493,\n",
       " 'engine-size': 3297.6997444813674,\n",
       " 'height': 8132.467731772246,\n",
       " 'highway-mpg': 4625.047587445843,\n",
       " 'horsepower': 4047.376554982472,\n",
       " 'length': 5429.644739577333,\n",
       " 'normalized-losses': 7337.2848203845515,\n",
       " 'peak-rpm': 7643.0703228739185,\n",
       " 'stroke': 8006.096427246941,\n",
       " 'wheel-base': 5461.490335934409,\n",
       " 'width': 4772.510209128695}"
      ]
     },
     "execution_count": 42,
     "metadata": {},
     "output_type": "execute_result"
    }
   ],
   "source": [
    "rmses= dict()\n",
    "train_cols= normalized_cars.columns.drop('price')\n",
    "for column in train_cols:\n",
    "    rmse= knn_train_test(column,'price',normalized_cars)\n",
    "    rmses[column]= rmse\n",
    "    \n",
    "rmses    "
   ]
  },
  {
   "cell_type": "code",
   "execution_count": 43,
   "metadata": {
    "collapsed": true
   },
   "outputs": [],
   "source": [
    "def knn_train_test_k(feature_col, target_col, df):\n",
    "    \n",
    "    np.random.seed(1)\n",
    "    \n",
    "    index = np.random.permutation(df.index)\n",
    "    df_new = df.reindex(index)\n",
    "    index_new = int(len(df_new) / 2)\n",
    "    train_set= df_new[0:index_new]\n",
    "    test_set= df_new[index_new:]\n",
    "    \n",
    "    k_values= [1,3,5,7,8]\n",
    "    rmses_k= dict()\n",
    "    for k in k_values:\n",
    "        knn= KNeighborsRegressor(n_neighbors=k)\n",
    "        \n",
    "        knn.fit(train_set[[feature_col]], train_set[target_col])\n",
    "    \n",
    "        predictions= knn.predict(test_set[[feature_col]])\n",
    "    \n",
    "        mse= mean_squared_error(test_set[target_col], predictions)\n",
    "        rmse= mse ** (1/2)\n",
    "        rmses_k[k]= rmse\n",
    "    return rmses_k    "
   ]
  },
  {
   "cell_type": "code",
   "execution_count": 44,
   "metadata": {
    "collapsed": false
   },
   "outputs": [
    {
     "data": {
      "text/plain": [
       "{'bore': {1: 8602.58848450066,\n",
       "  3: 6977.123411794459,\n",
       "  5: 6793.0574839170895,\n",
       "  7: 6828.8678082042015,\n",
       "  8: 6792.744561691074},\n",
       " 'city-mpg': {1: 5901.143574354764,\n",
       "  3: 4608.180446380397,\n",
       "  5: 4754.637378183515,\n",
       "  7: 5035.456896910003,\n",
       "  8: 5196.483386127775},\n",
       " 'compression-rate': {1: 8083.070177540802,\n",
       "  3: 7379.623321663306,\n",
       "  5: 6606.571345933599,\n",
       "  7: 6732.032905446027,\n",
       "  8: 6956.633915508703},\n",
       " 'curb-weight': {1: 5288.0195725810245,\n",
       "  3: 5011.8789151002,\n",
       "  5: 4453.680702653493,\n",
       "  7: 4330.149364501495,\n",
       "  8: 4491.9937326828085},\n",
       " 'engine-size': {1: 3227.659787364569,\n",
       "  3: 2946.7417879781224,\n",
       "  5: 3297.6997444813674,\n",
       "  7: 3563.43509928404,\n",
       "  8: 3671.0225867538165},\n",
       " 'height': {1: 8904.04645636071,\n",
       "  3: 8277.609643045525,\n",
       "  5: 8132.467731772246,\n",
       "  7: 7704.344964170201,\n",
       "  8: 7555.070568029278},\n",
       " 'highway-mpg': {1: 6025.594966720739,\n",
       "  3: 4627.908507167689,\n",
       "  5: 4625.047587445843,\n",
       "  7: 4722.975580907234,\n",
       "  8: 5002.139078418263},\n",
       " 'horsepower': {1: 4170.054848037801,\n",
       "  3: 4010.5218032337666,\n",
       "  5: 4047.376554982472,\n",
       "  7: 4383.729138557079,\n",
       "  8: 4391.899798673025},\n",
       " 'length': {1: 4577.003915399697,\n",
       "  3: 5087.460276710444,\n",
       "  5: 5429.644739577333,\n",
       "  7: 5307.702178308323,\n",
       "  8: 5397.067242271973},\n",
       " 'normalized-losses': {1: 7779.606037519503,\n",
       "  3: 7480.692360872743,\n",
       "  5: 7337.2848203845515,\n",
       "  7: 7795.000930504562,\n",
       "  8: 7824.696490521594},\n",
       " 'peak-rpm': {1: 9511.480067750124,\n",
       "  3: 8529.467274695355,\n",
       "  5: 7643.0703228739185,\n",
       "  7: 7438.086088390939,\n",
       "  8: 7287.482062022571},\n",
       " 'stroke': {1: 9116.495955406906,\n",
       "  3: 7336.8141642206,\n",
       "  5: 8006.096427246941,\n",
       "  7: 7770.327723636479,\n",
       "  8: 7871.336154681352},\n",
       " 'wheel-base': {1: 4493.734068810494,\n",
       "  3: 5120.161506064513,\n",
       "  5: 5461.490335934409,\n",
       "  7: 5448.173408324034,\n",
       "  8: 5686.699353013082},\n",
       " 'width': {1: 4559.257297950061,\n",
       "  3: 4606.421075087697,\n",
       "  5: 4772.510209128695,\n",
       "  7: 4715.979827895643,\n",
       "  8: 4692.172226267825}}"
      ]
     },
     "execution_count": 44,
     "metadata": {},
     "output_type": "execute_result"
    }
   ],
   "source": [
    "rmses_k_results= dict()\n",
    "train_cols= normalized_cars.columns.drop('price')\n",
    "for column in train_cols:\n",
    "    rmse= knn_train_test_k(column,'price',normalized_cars)\n",
    "    rmses_k_results[column]= rmse\n",
    "    \n",
    "rmses_k_results "
   ]
  },
  {
   "cell_type": "code",
   "execution_count": 45,
   "metadata": {
    "collapsed": false
   },
   "outputs": [
    {
     "data": {
      "image/png": "[encoded data removed]",
      "text/plain": [
       "<matplotlib.figure.Figure at 0x7f379b319e80>"
      ]
     },
     "metadata": {},
     "output_type": "display_data"
    }
   ],
   "source": [
    "import matplotlib.pyplot as plt\n",
    "%matplotlib inline\n",
    "\n",
    "for i, j in rmses_k_results.items():\n",
    "    x= list(j.keys())\n",
    "    y= list(j.values())    \n",
    "    plt.plot(x,y)\n",
    "    plt.xlabel('k value')\n",
    "    plt.ylabel('RMSE')"
   ]
  },
  {
   "cell_type": "code",
   "execution_count": 46,
   "metadata": {
    "collapsed": false
   },
   "outputs": [
    {
     "name": "stdout",
     "output_type": "stream",
     "text": [
      "engine-size          3341.311801\n",
      "horsepower           4200.716429\n",
      "width                4669.268127\n",
      "curb-weight          4715.144458\n",
      "highway-mpg          5000.733144\n",
      "city-mpg             5099.180336\n",
      "length               5159.775670\n",
      "wheel-base           5242.051734\n",
      "compression-rate     7151.586333\n",
      "bore                 7198.876350\n",
      "normalized-losses    7643.456128\n",
      "stroke               8020.214085\n",
      "peak-rpm             8081.917163\n",
      "height               8114.707873\n",
      "dtype: float64\n"
     ]
    }
   ],
   "source": [
    "feature_avg_rmse = {}\n",
    "\n",
    "for i, j in rmses_k_results.items():\n",
    "    x= list(j.keys())\n",
    "    avg= np.mean(list(j.values())) \n",
    "    feature_avg_rmse[i]= avg\n",
    "series_avg_rmse = pd.Series(feature_avg_rmse)\n",
    "sorted_avg_rmse = series_avg_rmse.sort_values()\n",
    "print(sorted_avg_rmse)\n",
    "\n",
    "sorted_features = sorted_avg_rmse.index"
   ]
  },
  {
   "cell_type": "code",
   "execution_count": 47,
   "metadata": {
    "collapsed": false
   },
   "outputs": [
    {
     "data": {
      "text/plain": [
       "{2: {5: 2938.1306900277887},\n",
       " 3: {5: 3576.5381752208214},\n",
       " 4: {5: 3435.145837075945},\n",
       " 5: {5: 3457.4725012114936},\n",
       " 6: {5: 3415.73077323836}}"
      ]
     },
     "execution_count": 47,
     "metadata": {},
     "output_type": "execute_result"
    }
   ],
   "source": [
    "def knn_train_test(feature_cols, target_col, df):\n",
    "    \n",
    "    np.random.seed(1)\n",
    "    \n",
    "    index = np.random.permutation(df.index)\n",
    "    df_new = df.reindex(index)\n",
    "    index_new = int(len(df_new) / 2)\n",
    "    train_set= df_new[0:index_new]\n",
    "    test_set= df_new[index_new:]\n",
    "    \n",
    "    k_values= [5]\n",
    "    rmses_k= dict()\n",
    "    for k in k_values:\n",
    "        knn= KNeighborsRegressor(n_neighbors=k)\n",
    "        \n",
    "        knn.fit(train_set[feature_cols], train_set[target_col])\n",
    "    \n",
    "        predictions= knn.predict(test_set[feature_cols])\n",
    "    \n",
    "        mse= mean_squared_error(test_set[target_col], predictions)\n",
    "        rmse= mse ** (1/2)\n",
    "        rmses_k[k]= rmse\n",
    "    return rmses_k   \n",
    "\n",
    "k_rmse_results = {}\n",
    "\n",
    "for i in range(2,7):\n",
    "    k_rmse_results[i]= knn_train_test(sorted_features[:i],'price',normalized_cars)\n",
    "\n",
    "k_rmse_results"
   ]
  },
  {
   "cell_type": "code",
   "execution_count": 48,
   "metadata": {
    "collapsed": false
   },
   "outputs": [
    {
     "data": {
      "text/plain": [
       "{2: {1: 2824.8287076781794,\n",
       "  2: 2615.442453055988,\n",
       "  3: 2676.6521480521455,\n",
       "  4: 2831.7841198370656,\n",
       "  5: 2938.1306900277887,\n",
       "  6: 3128.516968715745,\n",
       "  7: 3204.0554389097565,\n",
       "  8: 3459.8826047221833,\n",
       "  9: 3715.847780310613,\n",
       "  10: 3980.307424292901,\n",
       "  11: 4151.348212046468,\n",
       "  12: 4231.233582321214,\n",
       "  13: 4321.751665703992,\n",
       "  14: 4366.489859575597,\n",
       "  15: 4487.120412964203,\n",
       "  16: 4591.609216968047,\n",
       "  17: 4683.284404125849,\n",
       "  18: 4739.084337496269,\n",
       "  19: 4784.099214347852,\n",
       "  20: 4777.706746763483,\n",
       "  21: 4816.3918959481325,\n",
       "  22: 4806.480777296786,\n",
       "  23: 4832.819314595003,\n",
       "  24: 4883.724636768665,\n",
       "  25: 4975.5110313113555},\n",
       " 3: {1: 3384.9422637192606,\n",
       "  2: 3261.939437825234,\n",
       "  3: 3142.577321948092,\n",
       "  4: 3306.01101075266,\n",
       "  5: 3576.5381752208214,\n",
       "  6: 3709.4813226235947,\n",
       "  7: 3610.411169953427,\n",
       "  8: 3694.9374649086276,\n",
       "  9: 3848.9692035290686,\n",
       "  10: 3973.5807329145964,\n",
       "  11: 4098.883214686969,\n",
       "  12: 4217.8064717212055,\n",
       "  13: 4298.670431349281,\n",
       "  14: 4313.880284852934,\n",
       "  15: 4276.188767893422,\n",
       "  16: 4328.0136584447255,\n",
       "  17: 4426.640031163671,\n",
       "  18: 4479.751997091529,\n",
       "  19: 4554.579568985269,\n",
       "  20: 4613.211371771682,\n",
       "  21: 4686.152660115985,\n",
       "  22: 4753.536533973586,\n",
       "  23: 4763.716083883271,\n",
       "  24: 4805.5511802968185,\n",
       "  25: 4825.126948024731},\n",
       " 4: {1: 2734.943456978825,\n",
       "  2: 3094.990917547735,\n",
       "  3: 3079.4233224582636,\n",
       "  4: 3207.401445627884,\n",
       "  5: 3435.145837075945,\n",
       "  6: 3644.905717919087,\n",
       "  7: 3639.209218512767,\n",
       "  8: 3801.0236825048687,\n",
       "  9: 3839.0853087451715,\n",
       "  10: 3966.8524862569284,\n",
       "  11: 4081.4936853188447,\n",
       "  12: 4203.255322342342,\n",
       "  13: 4280.433926612317,\n",
       "  14: 4312.762148281075,\n",
       "  15: 4377.178254265522,\n",
       "  16: 4429.742402701652,\n",
       "  17: 4409.3613048359975,\n",
       "  18: 4416.406551030192,\n",
       "  19: 4466.986485884836,\n",
       "  20: 4515.818653745393,\n",
       "  21: 4573.459747773273,\n",
       "  22: 4642.593679558881,\n",
       "  23: 4639.899018023205,\n",
       "  24: 4704.718490639523,\n",
       "  25: 4765.296627271501}}"
      ]
     },
     "execution_count": 48,
     "metadata": {},
     "output_type": "execute_result"
    }
   ],
   "source": [
    "def knn_train_test(feature_cols, target_col, df):\n",
    "    \n",
    "    np.random.seed(1)\n",
    "    \n",
    "    index = np.random.permutation(df.index)\n",
    "    df_new = df.reindex(index)\n",
    "    index_new = int(len(df_new) / 2)\n",
    "    train_set= df_new[0:index_new]\n",
    "    test_set= df_new[index_new:]\n",
    "    \n",
    "    k_values= range(1,26)\n",
    "    rmses_k= dict()\n",
    "    for k in k_values:\n",
    "        knn= KNeighborsRegressor(n_neighbors=k)\n",
    "        \n",
    "        knn.fit(train_set[feature_cols], train_set[target_col])\n",
    "    \n",
    "        predictions= knn.predict(test_set[feature_cols])\n",
    "    \n",
    "        mse= mean_squared_error(test_set[target_col], predictions)\n",
    "        rmse= mse ** (1/2)\n",
    "        rmses_k[k]= rmse\n",
    "    return rmses_k   \n",
    "\n",
    "k_rmse_results = {}\n",
    "\n",
    "for i in range(2,5):\n",
    "    k_rmse_results[i]= knn_train_test(sorted_features[:i],'price',normalized_cars)\n",
    "k_rmse_results"
   ]
  },
  {
   "cell_type": "code",
   "execution_count": 49,
   "metadata": {
    "collapsed": false
   },
   "outputs": [
    {
     "data": {
      "text/plain": [
       "<matplotlib.legend.Legend at 0x7f379848a358>"
      ]
     },
     "execution_count": 49,
     "metadata": {},
     "output_type": "execute_result"
    },
    {
     "data": {
      "image/png": "[encoded data removed]",
      "text/plain": [
       "<matplotlib.figure.Figure at 0x7f379848af98>"
      ]
     },
     "metadata": {},
     "output_type": "display_data"
    }
   ],
   "source": [
    "for i, j in k_rmse_results.items():\n",
    "    x= list(j.keys())\n",
    "    y= list(j.values())    \n",
    "    plt.plot(x,y, label=\"{}\".format(i))\n",
    "plt.xlabel('k value')\n",
    "plt.ylabel('RMSE')\n",
    "plt.legend()    "
   ]
  },
  {
   "cell_type": "code",
   "execution_count": null,
   "metadata": {
    "collapsed": true
   },
   "outputs": [],
   "source": []
  }
 ],
 "metadata": {
  "kernelspec": {
   "display_name": "Python 3",
   "language": "python",
   "name": "python3"
  },
  "language_info": {
   "codemirror_mode": {
    "name": "ipython",
    "version": 3
   },
   "file_extension": ".py",
   "mimetype": "text/x-python",
   "name": "python",
   "nbconvert_exporter": "python",
   "pygments_lexer": "ipython3",
   "version": "3.4.3"
  }
 },
 "nbformat": 4,
 "nbformat_minor": 2
}
