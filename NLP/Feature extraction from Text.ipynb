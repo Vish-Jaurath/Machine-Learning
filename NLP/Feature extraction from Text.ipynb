{
 "cells": [
  {
   "cell_type": "markdown",
   "id": "29ee415b",
   "metadata": {},
   "source": [
    "## Countvectorizer"
   ]
  },
  {
   "cell_type": "code",
   "execution_count": 1,
   "id": "23de4ee8",
   "metadata": {},
   "outputs": [],
   "source": [
    "from sklearn.feature_extraction.text import CountVectorizer"
   ]
  },
  {
   "cell_type": "code",
   "execution_count": 2,
   "id": "4f749fce",
   "metadata": {},
   "outputs": [],
   "source": [
    "# list of text documents\n",
    "text1 = [\"And now I would like to recommend this movie.\", \"I hardly watch a Hollywood movie but this movie was recommended by many and.\"]\n",
    "text2 = [\"At least once in time, should be watched I think that this movie teaches young people and adults a very valuable lesson in the movie and valuable lesson.\"]"
   ]
  },
  {
   "cell_type": "code",
   "execution_count": 3,
   "id": "2683d9d2",
   "metadata": {},
   "outputs": [
    {
     "data": {
      "text/plain": [
       "CountVectorizer()"
      ]
     },
     "execution_count": 3,
     "metadata": {},
     "output_type": "execute_result"
    }
   ],
   "source": [
    "vector= CountVectorizer()\n",
    "\n",
    "# tokenize and build vocab\n",
    "vector.fit(text1)"
   ]
  },
  {
   "cell_type": "code",
   "execution_count": 4,
   "id": "de237b3f",
   "metadata": {},
   "outputs": [
    {
     "name": "stdout",
     "output_type": "stream",
     "text": [
      "{'and': 0, 'now': 8, 'would': 15, 'like': 5, 'to': 12, 'recommend': 9, 'this': 11, 'movie': 7, 'hardly': 3, 'watch': 14, 'hollywood': 4, 'but': 1, 'was': 13, 'recommended': 10, 'by': 2, 'many': 6}\n"
     ]
    }
   ],
   "source": [
    "# summarize\n",
    "print(vector.vocabulary_)"
   ]
  },
  {
   "cell_type": "code",
   "execution_count": 5,
   "id": "a04b5978",
   "metadata": {},
   "outputs": [
    {
     "name": "stdout",
     "output_type": "stream",
     "text": [
      "[[2 0 0 0 0 0 0 2 0 0 0 1 0 0 0 0]]\n"
     ]
    }
   ],
   "source": [
    "# encode document\n",
    "new_array= vector.transform(text2)\n",
    "print(new_array.toarray())"
   ]
  },
  {
   "cell_type": "markdown",
   "id": "9bb5d70e",
   "metadata": {},
   "source": [
    "## TF-IDF"
   ]
  },
  {
   "cell_type": "markdown",
   "id": "340e64dd",
   "metadata": {},
   "source": [
    "#### Purpose of TF-IDF is to highlight words which are frequent in a document but not across documents."
   ]
  },
  {
   "cell_type": "code",
   "execution_count": 6,
   "id": "82041f75",
   "metadata": {},
   "outputs": [],
   "source": [
    "from sklearn.feature_extraction.text import TfidfVectorizer"
   ]
  },
  {
   "cell_type": "code",
   "execution_count": 7,
   "id": "6d57fbde",
   "metadata": {},
   "outputs": [],
   "source": [
    "tfidf= TfidfVectorizer()"
   ]
  },
  {
   "cell_type": "code",
   "execution_count": 8,
   "id": "9746cd4a",
   "metadata": {},
   "outputs": [
    {
     "data": {
      "text/plain": [
       "TfidfVectorizer()"
      ]
     },
     "execution_count": 8,
     "metadata": {},
     "output_type": "execute_result"
    }
   ],
   "source": [
    "# tokenize and build vocab\n",
    "tfidf.fit(text1)"
   ]
  },
  {
   "cell_type": "code",
   "execution_count": 9,
   "id": "4516e7e0",
   "metadata": {},
   "outputs": [
    {
     "name": "stdout",
     "output_type": "stream",
     "text": [
      "{'and': 0, 'now': 8, 'would': 15, 'like': 5, 'to': 12, 'recommend': 9, 'this': 11, 'movie': 7, 'hardly': 3, 'watch': 14, 'hollywood': 4, 'but': 1, 'was': 13, 'recommended': 10, 'by': 2, 'many': 6}\n"
     ]
    }
   ],
   "source": [
    "# summarize\n",
    "print(tfidf.vocabulary_)"
   ]
  },
  {
   "cell_type": "code",
   "execution_count": 10,
   "id": "9a2d0808",
   "metadata": {},
   "outputs": [
    {
     "name": "stdout",
     "output_type": "stream",
     "text": [
      "[1.         1.40546511 1.40546511 1.40546511 1.40546511 1.40546511\n",
      " 1.40546511 1.         1.40546511 1.40546511 1.40546511 1.\n",
      " 1.40546511 1.40546511 1.40546511 1.40546511]\n"
     ]
    }
   ],
   "source": [
    "#Focus on IDF VALUES\n",
    "print(tfidf.idf_)"
   ]
  },
  {
   "cell_type": "code",
   "execution_count": 11,
   "id": "67915282",
   "metadata": {},
   "outputs": [
    {
     "name": "stdout",
     "output_type": "stream",
     "text": [
      "[[0.66666667 0.         0.         0.         0.         0.\n",
      "  0.         0.66666667 0.         0.         0.         0.33333333\n",
      "  0.         0.         0.         0.        ]]\n"
     ]
    }
   ],
   "source": [
    "# encode document\n",
    "vector= tfidf.transform(text2)\n",
    "print(vector.toarray())"
   ]
  }
 ],
 "metadata": {
  "kernelspec": {
   "display_name": "Python 3",
   "language": "python",
   "name": "python3"
  },
  "language_info": {
   "codemirror_mode": {
    "name": "ipython",
    "version": 3
   },
   "file_extension": ".py",
   "mimetype": "text/x-python",
   "name": "python",
   "nbconvert_exporter": "python",
   "pygments_lexer": "ipython3",
   "version": "3.8.8"
  }
 },
 "nbformat": 4,
 "nbformat_minor": 5
}
