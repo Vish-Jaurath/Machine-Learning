{
 "cells": [
  {
   "cell_type": "markdown",
   "metadata": {},
   "source": [
    "## Artificial Neural Network"
   ]
  },
  {
   "cell_type": "code",
   "execution_count": 1,
   "metadata": {},
   "outputs": [],
   "source": [
    "import pandas as pd\n",
    "import numpy as np\n",
    "import matplotlib.pyplot as plt"
   ]
  },
  {
   "cell_type": "code",
   "execution_count": 2,
   "metadata": {},
   "outputs": [
    {
     "data": {
      "text/html": [
       "<div>\n",
       "<style scoped>\n",
       "    .dataframe tbody tr th:only-of-type {\n",
       "        vertical-align: middle;\n",
       "    }\n",
       "\n",
       "    .dataframe tbody tr th {\n",
       "        vertical-align: top;\n",
       "    }\n",
       "\n",
       "    .dataframe thead th {\n",
       "        text-align: right;\n",
       "    }\n",
       "</style>\n",
       "<table border=\"1\" class=\"dataframe\">\n",
       "  <thead>\n",
       "    <tr style=\"text-align: right;\">\n",
       "      <th></th>\n",
       "      <th>RowNumber</th>\n",
       "      <th>CustomerId</th>\n",
       "      <th>Surname</th>\n",
       "      <th>CreditScore</th>\n",
       "      <th>Geography</th>\n",
       "      <th>Gender</th>\n",
       "      <th>Age</th>\n",
       "      <th>Tenure</th>\n",
       "      <th>Balance</th>\n",
       "      <th>NumOfProducts</th>\n",
       "      <th>HasCrCard</th>\n",
       "      <th>IsActiveMember</th>\n",
       "      <th>EstimatedSalary</th>\n",
       "      <th>Exited</th>\n",
       "    </tr>\n",
       "  </thead>\n",
       "  <tbody>\n",
       "    <tr>\n",
       "      <th>0</th>\n",
       "      <td>1</td>\n",
       "      <td>15634602</td>\n",
       "      <td>Hargrave</td>\n",
       "      <td>619</td>\n",
       "      <td>France</td>\n",
       "      <td>Female</td>\n",
       "      <td>42</td>\n",
       "      <td>2</td>\n",
       "      <td>0.00</td>\n",
       "      <td>1</td>\n",
       "      <td>1</td>\n",
       "      <td>1</td>\n",
       "      <td>101348.88</td>\n",
       "      <td>1</td>\n",
       "    </tr>\n",
       "    <tr>\n",
       "      <th>1</th>\n",
       "      <td>2</td>\n",
       "      <td>15647311</td>\n",
       "      <td>Hill</td>\n",
       "      <td>608</td>\n",
       "      <td>Spain</td>\n",
       "      <td>Female</td>\n",
       "      <td>41</td>\n",
       "      <td>1</td>\n",
       "      <td>83807.86</td>\n",
       "      <td>1</td>\n",
       "      <td>0</td>\n",
       "      <td>1</td>\n",
       "      <td>112542.58</td>\n",
       "      <td>0</td>\n",
       "    </tr>\n",
       "    <tr>\n",
       "      <th>2</th>\n",
       "      <td>3</td>\n",
       "      <td>15619304</td>\n",
       "      <td>Onio</td>\n",
       "      <td>502</td>\n",
       "      <td>France</td>\n",
       "      <td>Female</td>\n",
       "      <td>42</td>\n",
       "      <td>8</td>\n",
       "      <td>159660.80</td>\n",
       "      <td>3</td>\n",
       "      <td>1</td>\n",
       "      <td>0</td>\n",
       "      <td>113931.57</td>\n",
       "      <td>1</td>\n",
       "    </tr>\n",
       "    <tr>\n",
       "      <th>3</th>\n",
       "      <td>4</td>\n",
       "      <td>15701354</td>\n",
       "      <td>Boni</td>\n",
       "      <td>699</td>\n",
       "      <td>France</td>\n",
       "      <td>Female</td>\n",
       "      <td>39</td>\n",
       "      <td>1</td>\n",
       "      <td>0.00</td>\n",
       "      <td>2</td>\n",
       "      <td>0</td>\n",
       "      <td>0</td>\n",
       "      <td>93826.63</td>\n",
       "      <td>0</td>\n",
       "    </tr>\n",
       "    <tr>\n",
       "      <th>4</th>\n",
       "      <td>5</td>\n",
       "      <td>15737888</td>\n",
       "      <td>Mitchell</td>\n",
       "      <td>850</td>\n",
       "      <td>Spain</td>\n",
       "      <td>Female</td>\n",
       "      <td>43</td>\n",
       "      <td>2</td>\n",
       "      <td>125510.82</td>\n",
       "      <td>1</td>\n",
       "      <td>1</td>\n",
       "      <td>1</td>\n",
       "      <td>79084.10</td>\n",
       "      <td>0</td>\n",
       "    </tr>\n",
       "  </tbody>\n",
       "</table>\n",
       "</div>"
      ],
      "text/plain": [
       "   RowNumber  CustomerId   Surname  CreditScore Geography  Gender  Age  \\\n",
       "0          1    15634602  Hargrave          619    France  Female   42   \n",
       "1          2    15647311      Hill          608     Spain  Female   41   \n",
       "2          3    15619304      Onio          502    France  Female   42   \n",
       "3          4    15701354      Boni          699    France  Female   39   \n",
       "4          5    15737888  Mitchell          850     Spain  Female   43   \n",
       "\n",
       "   Tenure    Balance  NumOfProducts  HasCrCard  IsActiveMember  \\\n",
       "0       2       0.00              1          1               1   \n",
       "1       1   83807.86              1          0               1   \n",
       "2       8  159660.80              3          1               0   \n",
       "3       1       0.00              2          0               0   \n",
       "4       2  125510.82              1          1               1   \n",
       "\n",
       "   EstimatedSalary  Exited  \n",
       "0        101348.88       1  \n",
       "1        112542.58       0  \n",
       "2        113931.57       1  \n",
       "3         93826.63       0  \n",
       "4         79084.10       0  "
      ]
     },
     "execution_count": 2,
     "metadata": {},
     "output_type": "execute_result"
    }
   ],
   "source": [
    "df= pd.read_csv('Churn_Modelling.csv')\n",
    "df.head()"
   ]
  },
  {
   "cell_type": "code",
   "execution_count": 3,
   "metadata": {},
   "outputs": [],
   "source": [
    "X= df.iloc[:,3:13]\n",
    "y= df.iloc[:,13]"
   ]
  },
  {
   "cell_type": "code",
   "execution_count": 4,
   "metadata": {},
   "outputs": [],
   "source": [
    "#Create dummy variables\n",
    "geography=pd.get_dummies(X[\"Geography\"],drop_first=True)\n",
    "gender=pd.get_dummies(X['Gender'],drop_first=True)"
   ]
  },
  {
   "cell_type": "code",
   "execution_count": 5,
   "metadata": {},
   "outputs": [],
   "source": [
    "# Concatenate the Data Frames\n",
    "X=pd.concat([X,geography,gender],axis=1)\n",
    "\n",
    "# Drop Unnecessary columns\n",
    "X=X.drop(['Geography','Gender'],axis=1)"
   ]
  },
  {
   "cell_type": "code",
   "execution_count": 6,
   "metadata": {},
   "outputs": [
    {
     "data": {
      "text/html": [
       "<div>\n",
       "<style scoped>\n",
       "    .dataframe tbody tr th:only-of-type {\n",
       "        vertical-align: middle;\n",
       "    }\n",
       "\n",
       "    .dataframe tbody tr th {\n",
       "        vertical-align: top;\n",
       "    }\n",
       "\n",
       "    .dataframe thead th {\n",
       "        text-align: right;\n",
       "    }\n",
       "</style>\n",
       "<table border=\"1\" class=\"dataframe\">\n",
       "  <thead>\n",
       "    <tr style=\"text-align: right;\">\n",
       "      <th></th>\n",
       "      <th>CreditScore</th>\n",
       "      <th>Age</th>\n",
       "      <th>Tenure</th>\n",
       "      <th>Balance</th>\n",
       "      <th>NumOfProducts</th>\n",
       "      <th>HasCrCard</th>\n",
       "      <th>IsActiveMember</th>\n",
       "      <th>EstimatedSalary</th>\n",
       "      <th>Germany</th>\n",
       "      <th>Spain</th>\n",
       "      <th>Male</th>\n",
       "    </tr>\n",
       "  </thead>\n",
       "  <tbody>\n",
       "    <tr>\n",
       "      <th>0</th>\n",
       "      <td>619</td>\n",
       "      <td>42</td>\n",
       "      <td>2</td>\n",
       "      <td>0.00</td>\n",
       "      <td>1</td>\n",
       "      <td>1</td>\n",
       "      <td>1</td>\n",
       "      <td>101348.88</td>\n",
       "      <td>0</td>\n",
       "      <td>0</td>\n",
       "      <td>0</td>\n",
       "    </tr>\n",
       "    <tr>\n",
       "      <th>1</th>\n",
       "      <td>608</td>\n",
       "      <td>41</td>\n",
       "      <td>1</td>\n",
       "      <td>83807.86</td>\n",
       "      <td>1</td>\n",
       "      <td>0</td>\n",
       "      <td>1</td>\n",
       "      <td>112542.58</td>\n",
       "      <td>0</td>\n",
       "      <td>1</td>\n",
       "      <td>0</td>\n",
       "    </tr>\n",
       "    <tr>\n",
       "      <th>2</th>\n",
       "      <td>502</td>\n",
       "      <td>42</td>\n",
       "      <td>8</td>\n",
       "      <td>159660.80</td>\n",
       "      <td>3</td>\n",
       "      <td>1</td>\n",
       "      <td>0</td>\n",
       "      <td>113931.57</td>\n",
       "      <td>0</td>\n",
       "      <td>0</td>\n",
       "      <td>0</td>\n",
       "    </tr>\n",
       "    <tr>\n",
       "      <th>3</th>\n",
       "      <td>699</td>\n",
       "      <td>39</td>\n",
       "      <td>1</td>\n",
       "      <td>0.00</td>\n",
       "      <td>2</td>\n",
       "      <td>0</td>\n",
       "      <td>0</td>\n",
       "      <td>93826.63</td>\n",
       "      <td>0</td>\n",
       "      <td>0</td>\n",
       "      <td>0</td>\n",
       "    </tr>\n",
       "    <tr>\n",
       "      <th>4</th>\n",
       "      <td>850</td>\n",
       "      <td>43</td>\n",
       "      <td>2</td>\n",
       "      <td>125510.82</td>\n",
       "      <td>1</td>\n",
       "      <td>1</td>\n",
       "      <td>1</td>\n",
       "      <td>79084.10</td>\n",
       "      <td>0</td>\n",
       "      <td>1</td>\n",
       "      <td>0</td>\n",
       "    </tr>\n",
       "  </tbody>\n",
       "</table>\n",
       "</div>"
      ],
      "text/plain": [
       "   CreditScore  Age  Tenure    Balance  NumOfProducts  HasCrCard  \\\n",
       "0          619   42       2       0.00              1          1   \n",
       "1          608   41       1   83807.86              1          0   \n",
       "2          502   42       8  159660.80              3          1   \n",
       "3          699   39       1       0.00              2          0   \n",
       "4          850   43       2  125510.82              1          1   \n",
       "\n",
       "   IsActiveMember  EstimatedSalary  Germany  Spain  Male  \n",
       "0               1        101348.88        0      0     0  \n",
       "1               1        112542.58        0      1     0  \n",
       "2               0        113931.57        0      0     0  \n",
       "3               0         93826.63        0      0     0  \n",
       "4               1         79084.10        0      1     0  "
      ]
     },
     "execution_count": 6,
     "metadata": {},
     "output_type": "execute_result"
    }
   ],
   "source": [
    "X.head()"
   ]
  },
  {
   "cell_type": "code",
   "execution_count": 7,
   "metadata": {},
   "outputs": [],
   "source": [
    "# Splitting the dataset into the Training set and Test set\n",
    "from sklearn.model_selection import train_test_split\n",
    "X_train, X_test, y_train, y_test = train_test_split(X, y, test_size = 0.2, random_state = 1)"
   ]
  },
  {
   "cell_type": "code",
   "execution_count": 8,
   "metadata": {},
   "outputs": [
    {
     "data": {
      "text/plain": [
       "((8000, 11), (2000,))"
      ]
     },
     "execution_count": 8,
     "metadata": {},
     "output_type": "execute_result"
    }
   ],
   "source": [
    "X_train.shape, y_test.shape"
   ]
  },
  {
   "cell_type": "code",
   "execution_count": 9,
   "metadata": {},
   "outputs": [],
   "source": [
    "# Feature Scaling\n",
    "from sklearn.preprocessing import StandardScaler\n",
    "sc = StandardScaler()\n",
    "\n",
    "X_train = sc.fit_transform(X_train)\n",
    "X_test = sc.transform(X_test)"
   ]
  },
  {
   "cell_type": "code",
   "execution_count": 10,
   "metadata": {},
   "outputs": [
    {
     "data": {
      "text/plain": [
       "array([[-0.23082038, -0.94449979, -0.70174202, ...,  1.71490137,\n",
       "        -0.57273139,  0.91509065],\n",
       "       [-0.25150912, -0.94449979, -0.35520275, ..., -0.58312392,\n",
       "        -0.57273139, -1.09278791],\n",
       "       [-0.3963303 ,  0.77498705,  0.33787579, ...,  1.71490137,\n",
       "        -0.57273139, -1.09278791],\n",
       "       ...,\n",
       "       [ 0.22433188,  0.58393295,  1.3774936 , ..., -0.58312392,\n",
       "        -0.57273139, -1.09278791],\n",
       "       [ 0.13123255,  0.01077067,  1.03095433, ..., -0.58312392,\n",
       "        -0.57273139, -1.09278791],\n",
       "       [ 1.1656695 ,  0.29735181,  0.33787579, ...,  1.71490137,\n",
       "        -0.57273139,  0.91509065]])"
      ]
     },
     "execution_count": 10,
     "metadata": {},
     "output_type": "execute_result"
    }
   ],
   "source": [
    "X_train"
   ]
  },
  {
   "cell_type": "code",
   "execution_count": 11,
   "metadata": {},
   "outputs": [
    {
     "data": {
      "text/plain": [
       "array([[-1.03768121,  0.77498705, -1.0482813 , ..., -0.58312392,\n",
       "        -0.57273139,  0.91509065],\n",
       "       [ 0.30708683, -0.46686456, -0.70174202, ..., -0.58312392,\n",
       "        -0.57273139,  0.91509065],\n",
       "       [-1.23422423,  0.29735181, -1.0482813 , ..., -0.58312392,\n",
       "        -0.57273139, -1.09278791],\n",
       "       ...,\n",
       "       [-0.86182692, -0.46686456,  1.72403288, ..., -0.58312392,\n",
       "         1.74601919,  0.91509065],\n",
       "       [-0.30323097, -0.84897275, -1.0482813 , ...,  1.71490137,\n",
       "        -0.57273139, -1.09278791],\n",
       "       [ 0.04847759,  1.25262228,  1.3774936 , ...,  1.71490137,\n",
       "        -0.57273139,  0.91509065]])"
      ]
     },
     "execution_count": 11,
     "metadata": {},
     "output_type": "execute_result"
    }
   ],
   "source": [
    "X_test"
   ]
  },
  {
   "cell_type": "code",
   "execution_count": 12,
   "metadata": {},
   "outputs": [
    {
     "name": "stderr",
     "output_type": "stream",
     "text": [
      "Using TensorFlow backend.\n"
     ]
    }
   ],
   "source": [
    "import keras\n",
    "from keras.models import Sequential\n",
    "from keras.layers import Dense"
   ]
  },
  {
   "cell_type": "code",
   "execution_count": 13,
   "metadata": {},
   "outputs": [],
   "source": [
    "classifier = Sequential()"
   ]
  },
  {
   "cell_type": "code",
   "execution_count": 14,
   "metadata": {},
   "outputs": [],
   "source": [
    "# Adding the input layer and the first hidden layer\n",
    "classifier.add(Dense(units = 6, kernel_initializer = 'he_uniform',activation='relu',input_dim = 11))"
   ]
  },
  {
   "cell_type": "code",
   "execution_count": 15,
   "metadata": {},
   "outputs": [],
   "source": [
    "# Adding the second hidden layer\n",
    "classifier.add(Dense(units = 6, kernel_initializer = 'he_uniform',activation='relu'))"
   ]
  },
  {
   "cell_type": "code",
   "execution_count": 16,
   "metadata": {},
   "outputs": [],
   "source": [
    "# Adding the output layer\n",
    "classifier.add(Dense(units = 1, kernel_initializer = 'glorot_uniform', activation = 'sigmoid'))"
   ]
  },
  {
   "cell_type": "code",
   "execution_count": 17,
   "metadata": {},
   "outputs": [
    {
     "name": "stdout",
     "output_type": "stream",
     "text": [
      "Model: \"sequential_1\"\n",
      "_________________________________________________________________\n",
      "Layer (type)                 Output Shape              Param #   \n",
      "=================================================================\n",
      "dense_1 (Dense)              (None, 6)                 72        \n",
      "_________________________________________________________________\n",
      "dense_2 (Dense)              (None, 6)                 42        \n",
      "_________________________________________________________________\n",
      "dense_3 (Dense)              (None, 1)                 7         \n",
      "=================================================================\n",
      "Total params: 121\n",
      "Trainable params: 121\n",
      "Non-trainable params: 0\n",
      "_________________________________________________________________\n"
     ]
    }
   ],
   "source": [
    "classifier.summary()"
   ]
  },
  {
   "cell_type": "code",
   "execution_count": 22,
   "metadata": {},
   "outputs": [],
   "source": [
    "classifier.compile(loss= 'binary_crossentropy',\n",
    "             metrics= ['accuracy'],\n",
    "             optimizer= 'adam'\n",
    "             )"
   ]
  },
  {
   "cell_type": "code",
   "execution_count": 23,
   "metadata": {},
   "outputs": [
    {
     "name": "stderr",
     "output_type": "stream",
     "text": [
      "C:\\Users\\Administrator\\anaconda3\\envs\\tf\\lib\\site-packages\\ipykernel_launcher.py:2: UserWarning: The `nb_epoch` argument in `fit` has been renamed `epochs`.\n",
      "  \n"
     ]
    },
    {
     "name": "stdout",
     "output_type": "stream",
     "text": [
      "Train on 5200 samples, validate on 2800 samples\n",
      "Epoch 1/100\n",
      "5200/5200 [==============================] - 4s 853us/step - loss: 0.5534 - accuracy: 0.7819 - val_loss: 0.5013 - val_accuracy: 0.8021\n",
      "Epoch 2/100\n",
      "5200/5200 [==============================] - 3s 608us/step - loss: 0.4845 - accuracy: 0.7963 - val_loss: 0.4618 - val_accuracy: 0.8068\n",
      "Epoch 3/100\n",
      "5200/5200 [==============================] - 2s 435us/step - loss: 0.4510 - accuracy: 0.8069 - val_loss: 0.4365 - val_accuracy: 0.8096\n",
      "Epoch 4/100\n",
      "5200/5200 [==============================] - 3s 593us/step - loss: 0.4302 - accuracy: 0.8131 - val_loss: 0.4195 - val_accuracy: 0.8179\n",
      "Epoch 5/100\n",
      "5200/5200 [==============================] - 3s 599us/step - loss: 0.4163 - accuracy: 0.8221 - val_loss: 0.4071 - val_accuracy: 0.8214\n",
      "Epoch 6/100\n",
      "5200/5200 [==============================] - 3s 649us/step - loss: 0.4040 - accuracy: 0.8277 - val_loss: 0.3957 - val_accuracy: 0.8311\n",
      "Epoch 7/100\n",
      "5200/5200 [==============================] - 3s 623us/step - loss: 0.3935 - accuracy: 0.8342 - val_loss: 0.3869 - val_accuracy: 0.8389\n",
      "Epoch 8/100\n",
      "5200/5200 [==============================] - 3s 581us/step - loss: 0.3849 - accuracy: 0.8412 - val_loss: 0.3793 - val_accuracy: 0.8393\n",
      "Epoch 9/100\n",
      "5200/5200 [==============================] - 3s 562us/step - loss: 0.3792 - accuracy: 0.8437 - val_loss: 0.3747 - val_accuracy: 0.8421\n",
      "Epoch 10/100\n",
      "5200/5200 [==============================] - 4s 690us/step - loss: 0.3742 - accuracy: 0.8469 - val_loss: 0.3699 - val_accuracy: 0.8436\n",
      "Epoch 11/100\n",
      "5200/5200 [==============================] - 2s 415us/step - loss: 0.3714 - accuracy: 0.8492 - val_loss: 0.3666 - val_accuracy: 0.8439\n",
      "Epoch 12/100\n",
      "5200/5200 [==============================] - 2s 461us/step - loss: 0.3687 - accuracy: 0.8456 - val_loss: 0.3659 - val_accuracy: 0.8446\n",
      "Epoch 13/100\n",
      "5200/5200 [==============================] - 3s 588us/step - loss: 0.3665 - accuracy: 0.8498 - val_loss: 0.3627 - val_accuracy: 0.8436\n",
      "Epoch 14/100\n",
      "5200/5200 [==============================] - 2s 328us/step - loss: 0.3652 - accuracy: 0.8508 - val_loss: 0.3614 - val_accuracy: 0.8464\n",
      "Epoch 15/100\n",
      "5200/5200 [==============================] - 2s 413us/step - loss: 0.3635 - accuracy: 0.8517 - val_loss: 0.3604 - val_accuracy: 0.8464\n",
      "Epoch 16/100\n",
      "5200/5200 [==============================] - 2s 349us/step - loss: 0.3624 - accuracy: 0.8513 - val_loss: 0.3573 - val_accuracy: 0.8486\n",
      "Epoch 17/100\n",
      "5200/5200 [==============================] - 2s 469us/step - loss: 0.3612 - accuracy: 0.8510 - val_loss: 0.3556 - val_accuracy: 0.8514\n",
      "Epoch 18/100\n",
      "5200/5200 [==============================] - 2s 413us/step - loss: 0.3602 - accuracy: 0.8512 - val_loss: 0.3554 - val_accuracy: 0.8500\n",
      "Epoch 19/100\n",
      "5200/5200 [==============================] - 2s 311us/step - loss: 0.3589 - accuracy: 0.8508 - val_loss: 0.3542 - val_accuracy: 0.8489\n",
      "Epoch 20/100\n",
      "5200/5200 [==============================] - 2s 327us/step - loss: 0.3581 - accuracy: 0.8523 - val_loss: 0.3534 - val_accuracy: 0.8496\n",
      "Epoch 21/100\n",
      "5200/5200 [==============================] - 3s 550us/step - loss: 0.3574 - accuracy: 0.8563 - val_loss: 0.3560 - val_accuracy: 0.8496\n",
      "Epoch 22/100\n",
      "5200/5200 [==============================] - 2s 367us/step - loss: 0.3562 - accuracy: 0.8535 - val_loss: 0.3512 - val_accuracy: 0.8546\n",
      "Epoch 23/100\n",
      "5200/5200 [==============================] - 2s 349us/step - loss: 0.3561 - accuracy: 0.8542 - val_loss: 0.3532 - val_accuracy: 0.8543\n",
      "Epoch 24/100\n",
      "5200/5200 [==============================] - 2s 396us/step - loss: 0.3556 - accuracy: 0.8548 - val_loss: 0.3508 - val_accuracy: 0.8568\n",
      "Epoch 25/100\n",
      "5200/5200 [==============================] - 3s 512us/step - loss: 0.3553 - accuracy: 0.8535 - val_loss: 0.3490 - val_accuracy: 0.8554\n",
      "Epoch 26/100\n",
      "5200/5200 [==============================] - 2s 349us/step - loss: 0.3544 - accuracy: 0.8560 - val_loss: 0.3478 - val_accuracy: 0.8550\n",
      "Epoch 27/100\n",
      "5200/5200 [==============================] - 2s 318us/step - loss: 0.3540 - accuracy: 0.8550 - val_loss: 0.3485 - val_accuracy: 0.8536\n",
      "Epoch 28/100\n",
      "5200/5200 [==============================] - 2s 368us/step - loss: 0.3535 - accuracy: 0.8573 - val_loss: 0.3481 - val_accuracy: 0.8557\n",
      "Epoch 29/100\n",
      "5200/5200 [==============================] - 2s 391us/step - loss: 0.3530 - accuracy: 0.8569 - val_loss: 0.3476 - val_accuracy: 0.8561\n",
      "Epoch 30/100\n",
      "5200/5200 [==============================] - 2s 308us/step - loss: 0.3523 - accuracy: 0.8565 - val_loss: 0.3497 - val_accuracy: 0.8546\n",
      "Epoch 31/100\n",
      "5200/5200 [==============================] - 2s 289us/step - loss: 0.3518 - accuracy: 0.8569 - val_loss: 0.3481 - val_accuracy: 0.8543\n",
      "Epoch 32/100\n",
      "5200/5200 [==============================] - 2s 291us/step - loss: 0.3517 - accuracy: 0.8588 - val_loss: 0.3477 - val_accuracy: 0.8554\n",
      "Epoch 33/100\n",
      "5200/5200 [==============================] - 2s 374us/step - loss: 0.3508 - accuracy: 0.8577 - val_loss: 0.3499 - val_accuracy: 0.8529\n",
      "Epoch 34/100\n",
      "5200/5200 [==============================] - 2s 358us/step - loss: 0.3509 - accuracy: 0.8571 - val_loss: 0.3468 - val_accuracy: 0.8561\n",
      "Epoch 35/100\n",
      "5200/5200 [==============================] - 1s 287us/step - loss: 0.3502 - accuracy: 0.8554 - val_loss: 0.3495 - val_accuracy: 0.8539\n",
      "Epoch 36/100\n",
      "5200/5200 [==============================] - 2s 294us/step - loss: 0.3502 - accuracy: 0.8577 - val_loss: 0.3459 - val_accuracy: 0.8571\n",
      "Epoch 37/100\n",
      "5200/5200 [==============================] - 1s 278us/step - loss: 0.3496 - accuracy: 0.8569 - val_loss: 0.3483 - val_accuracy: 0.8529\n",
      "Epoch 38/100\n",
      "5200/5200 [==============================] - 2s 306us/step - loss: 0.3493 - accuracy: 0.8596 - val_loss: 0.3475 - val_accuracy: 0.8554\n",
      "Epoch 39/100\n",
      "5200/5200 [==============================] - 2s 373us/step - loss: 0.3492 - accuracy: 0.8585 - val_loss: 0.3483 - val_accuracy: 0.8546\n",
      "Epoch 40/100\n",
      "5200/5200 [==============================] - 2s 371us/step - loss: 0.3486 - accuracy: 0.8577 - val_loss: 0.3471 - val_accuracy: 0.8557\n",
      "Epoch 41/100\n",
      "5200/5200 [==============================] - 3s 512us/step - loss: 0.3482 - accuracy: 0.8592 - val_loss: 0.3441 - val_accuracy: 0.8557\n",
      "Epoch 42/100\n",
      "5200/5200 [==============================] - 3s 635us/step - loss: 0.3477 - accuracy: 0.8608 - val_loss: 0.3449 - val_accuracy: 0.8557\n",
      "Epoch 43/100\n",
      "5200/5200 [==============================] - 3s 631us/step - loss: 0.3476 - accuracy: 0.8577 - val_loss: 0.3463 - val_accuracy: 0.8571\n",
      "Epoch 44/100\n",
      "5200/5200 [==============================] - 3s 506us/step - loss: 0.3467 - accuracy: 0.8594 - val_loss: 0.3448 - val_accuracy: 0.8557\n",
      "Epoch 45/100\n",
      "5200/5200 [==============================] - 5s 1ms/step - loss: 0.3468 - accuracy: 0.8588 - val_loss: 0.3474 - val_accuracy: 0.8557\n",
      "Epoch 46/100\n",
      "5200/5200 [==============================] - 5s 976us/step - loss: 0.3466 - accuracy: 0.8588 - val_loss: 0.3461 - val_accuracy: 0.8525\n",
      "Epoch 47/100\n",
      "5200/5200 [==============================] - 5s 998us/step - loss: 0.3463 - accuracy: 0.8631 - val_loss: 0.3432 - val_accuracy: 0.8589\n",
      "Epoch 48/100\n",
      "5200/5200 [==============================] - 5s 902us/step - loss: 0.3461 - accuracy: 0.8602 - val_loss: 0.3450 - val_accuracy: 0.8557\n",
      "Epoch 49/100\n",
      "5200/5200 [==============================] - 5s 898us/step - loss: 0.3458 - accuracy: 0.8579 - val_loss: 0.3426 - val_accuracy: 0.8571\n",
      "Epoch 50/100\n",
      "5200/5200 [==============================] - 5s 897us/step - loss: 0.3455 - accuracy: 0.8598 - val_loss: 0.3434 - val_accuracy: 0.8600\n",
      "Epoch 51/100\n",
      "5200/5200 [==============================] - 4s 720us/step - loss: 0.3455 - accuracy: 0.8592 - val_loss: 0.3429 - val_accuracy: 0.8554\n",
      "Epoch 52/100\n",
      "5200/5200 [==============================] - 2s 469us/step - loss: 0.3454 - accuracy: 0.8613 - val_loss: 0.3432 - val_accuracy: 0.8554\n",
      "Epoch 53/100\n",
      "5200/5200 [==============================] - 3s 495us/step - loss: 0.3449 - accuracy: 0.8610 - val_loss: 0.3441 - val_accuracy: 0.8621\n",
      "Epoch 54/100\n",
      "5200/5200 [==============================] - 3s 560us/step - loss: 0.3446 - accuracy: 0.8590 - val_loss: 0.3428 - val_accuracy: 0.8589\n",
      "Epoch 55/100\n",
      "5200/5200 [==============================] - 3s 634us/step - loss: 0.3447 - accuracy: 0.8592 - val_loss: 0.3425 - val_accuracy: 0.8586\n",
      "Epoch 56/100\n",
      "5200/5200 [==============================] - 2s 412us/step - loss: 0.3448 - accuracy: 0.8615 - val_loss: 0.3445 - val_accuracy: 0.8571\n",
      "Epoch 57/100\n",
      "5200/5200 [==============================] - 2s 378us/step - loss: 0.3443 - accuracy: 0.8608 - val_loss: 0.3422 - val_accuracy: 0.8564\n",
      "Epoch 58/100\n",
      "5200/5200 [==============================] - 4s 715us/step - loss: 0.3444 - accuracy: 0.8613 - val_loss: 0.3417 - val_accuracy: 0.8611\n",
      "Epoch 59/100\n",
      "5200/5200 [==============================] - 3s 509us/step - loss: 0.3440 - accuracy: 0.8602 - val_loss: 0.3419 - val_accuracy: 0.8571\n",
      "Epoch 60/100\n",
      "5200/5200 [==============================] - 4s 692us/step - loss: 0.3439 - accuracy: 0.8604 - val_loss: 0.3419 - val_accuracy: 0.8564\n",
      "Epoch 61/100\n",
      "5200/5200 [==============================] - 3s 585us/step - loss: 0.3439 - accuracy: 0.8602 - val_loss: 0.3450 - val_accuracy: 0.8579\n",
      "Epoch 62/100\n",
      "5200/5200 [==============================] - 3s 501us/step - loss: 0.3441 - accuracy: 0.8610 - val_loss: 0.3412 - val_accuracy: 0.8586\n",
      "Epoch 63/100\n",
      "5200/5200 [==============================] - 3s 515us/step - loss: 0.3435 - accuracy: 0.8619 - val_loss: 0.3433 - val_accuracy: 0.8596\n",
      "Epoch 64/100\n",
      "5200/5200 [==============================] - 3s 570us/step - loss: 0.3435 - accuracy: 0.8585 - val_loss: 0.3409 - val_accuracy: 0.8564\n",
      "Epoch 65/100\n",
      "5200/5200 [==============================] - 3s 621us/step - loss: 0.3438 - accuracy: 0.8587 - val_loss: 0.3412 - val_accuracy: 0.8582\n",
      "Epoch 66/100\n",
      "5200/5200 [==============================] - 3s 618us/step - loss: 0.3434 - accuracy: 0.8594 - val_loss: 0.3430 - val_accuracy: 0.8607\n",
      "Epoch 67/100\n",
      "5200/5200 [==============================] - 3s 514us/step - loss: 0.3428 - accuracy: 0.8602 - val_loss: 0.3410 - val_accuracy: 0.8589\n",
      "Epoch 68/100\n",
      "5200/5200 [==============================] - 3s 509us/step - loss: 0.3438 - accuracy: 0.8613 - val_loss: 0.3409 - val_accuracy: 0.8593\n",
      "Epoch 69/100\n",
      "5200/5200 [==============================] - 3s 602us/step - loss: 0.3426 - accuracy: 0.8612 - val_loss: 0.3434 - val_accuracy: 0.85960s - loss: 0.3419 - accuracy: 0.\n",
      "Epoch 70/100\n",
      "5200/5200 [==============================] - 3s 622us/step - loss: 0.3426 - accuracy: 0.8602 - val_loss: 0.3423 - val_accuracy: 0.8607\n",
      "Epoch 71/100\n",
      "5200/5200 [==============================] - 3s 528us/step - loss: 0.3432 - accuracy: 0.8612 - val_loss: 0.3448 - val_accuracy: 0.8582\n",
      "Epoch 72/100\n",
      "5200/5200 [==============================] - 2s 409us/step - loss: 0.3430 - accuracy: 0.8610 - val_loss: 0.3414 - val_accuracy: 0.8618\n",
      "Epoch 73/100\n",
      "5200/5200 [==============================] - 2s 366us/step - loss: 0.3421 - accuracy: 0.8606 - val_loss: 0.3430 - val_accuracy: 0.8579\n",
      "Epoch 74/100\n",
      "5200/5200 [==============================] - 2s 374us/step - loss: 0.3430 - accuracy: 0.8617 - val_loss: 0.3417 - val_accuracy: 0.8575\n",
      "Epoch 75/100\n",
      "5200/5200 [==============================] - 2s 400us/step - loss: 0.3422 - accuracy: 0.8623 - val_loss: 0.3408 - val_accuracy: 0.8596\n",
      "Epoch 76/100\n",
      "5200/5200 [==============================] - 3s 528us/step - loss: 0.3423 - accuracy: 0.8602 - val_loss: 0.3433 - val_accuracy: 0.8571\n",
      "Epoch 77/100\n",
      "5200/5200 [==============================] - 3s 562us/step - loss: 0.3430 - accuracy: 0.8615 - val_loss: 0.3424 - val_accuracy: 0.8593\n",
      "Epoch 78/100\n",
      "5200/5200 [==============================] - 3s 647us/step - loss: 0.3417 - accuracy: 0.8635 - val_loss: 0.3422 - val_accuracy: 0.8571\n",
      "Epoch 79/100\n",
      "5200/5200 [==============================] - 4s 703us/step - loss: 0.3422 - accuracy: 0.8644 - val_loss: 0.3418 - val_accuracy: 0.8600\n",
      "Epoch 80/100\n",
      "5200/5200 [==============================] - 4s 703us/step - loss: 0.3422 - accuracy: 0.8621 - val_loss: 0.3426 - val_accuracy: 0.8582\n",
      "Epoch 81/100\n",
      "5200/5200 [==============================] - 3s 533us/step - loss: 0.3420 - accuracy: 0.8633 - val_loss: 0.3403 - val_accuracy: 0.8568\n",
      "Epoch 82/100\n",
      "5200/5200 [==============================] - 4s 789us/step - loss: 0.3414 - accuracy: 0.8615 - val_loss: 0.3445 - val_accuracy: 0.8593\n",
      "Epoch 83/100\n",
      "5200/5200 [==============================] - 4s 778us/step - loss: 0.3421 - accuracy: 0.8635 - val_loss: 0.3424 - val_accuracy: 0.8607\n",
      "Epoch 84/100\n",
      "5200/5200 [==============================] - 5s 968us/step - loss: 0.3420 - accuracy: 0.8635 - val_loss: 0.3412 - val_accuracy: 0.8611\n",
      "Epoch 85/100\n",
      "5200/5200 [==============================] - 3s 510us/step - loss: 0.3419 - accuracy: 0.8617 - val_loss: 0.3406 - val_accuracy: 0.8586\n",
      "Epoch 86/100\n",
      "5200/5200 [==============================] - 4s 839us/step - loss: 0.3418 - accuracy: 0.8617 - val_loss: 0.3408 - val_accuracy: 0.8575\n",
      "Epoch 87/100\n",
      "5200/5200 [==============================] - 4s 811us/step - loss: 0.3417 - accuracy: 0.8612 - val_loss: 0.3456 - val_accuracy: 0.8575\n",
      "Epoch 88/100\n",
      "5200/5200 [==============================] - 4s 840us/step - loss: 0.3417 - accuracy: 0.8629 - val_loss: 0.3442 - val_accuracy: 0.8614\n",
      "Epoch 89/100\n",
      "5200/5200 [==============================] - 3s 638us/step - loss: 0.3421 - accuracy: 0.8619 - val_loss: 0.3434 - val_accuracy: 0.8586\n",
      "Epoch 90/100\n",
      "5200/5200 [==============================] - 4s 742us/step - loss: 0.3413 - accuracy: 0.8623 - val_loss: 0.3431 - val_accuracy: 0.8618\n",
      "Epoch 91/100\n",
      "5200/5200 [==============================] - 4s 754us/step - loss: 0.3415 - accuracy: 0.8629 - val_loss: 0.3425 - val_accuracy: 0.8607\n",
      "Epoch 92/100\n",
      "5200/5200 [==============================] - 4s 794us/step - loss: 0.3416 - accuracy: 0.8627 - val_loss: 0.3411 - val_accuracy: 0.8593\n",
      "Epoch 93/100\n",
      "5200/5200 [==============================] - 4s 744us/step - loss: 0.3413 - accuracy: 0.8629 - val_loss: 0.3418 - val_accuracy: 0.8586\n",
      "Epoch 94/100\n",
      "5200/5200 [==============================] - 4s 688us/step - loss: 0.3408 - accuracy: 0.8631 - val_loss: 0.3442 - val_accuracy: 0.8571\n",
      "Epoch 95/100\n",
      "5200/5200 [==============================] - 4s 803us/step - loss: 0.3412 - accuracy: 0.8629 - val_loss: 0.3400 - val_accuracy: 0.8575\n",
      "Epoch 96/100\n",
      "5200/5200 [==============================] - 4s 757us/step - loss: 0.3412 - accuracy: 0.8629 - val_loss: 0.3397 - val_accuracy: 0.8571\n",
      "Epoch 97/100\n",
      "5200/5200 [==============================] - 3s 639us/step - loss: 0.3411 - accuracy: 0.8631 - val_loss: 0.3420 - val_accuracy: 0.8607\n",
      "Epoch 98/100\n",
      "5200/5200 [==============================] - 4s 679us/step - loss: 0.3413 - accuracy: 0.8637 - val_loss: 0.3416 - val_accuracy: 0.8596\n",
      "Epoch 99/100\n",
      "5200/5200 [==============================] - 4s 768us/step - loss: 0.3410 - accuracy: 0.8635 - val_loss: 0.3425 - val_accuracy: 0.8604\n",
      "Epoch 100/100\n",
      "5200/5200 [==============================] - 4s 712us/step - loss: 0.3407 - accuracy: 0.8640 - val_loss: 0.3415 - val_accuracy: 0.8607\n"
     ]
    },
    {
     "data": {
      "text/plain": [
       "<keras.callbacks.callbacks.History at 0x1f0f9966e48>"
      ]
     },
     "execution_count": 23,
     "metadata": {},
     "output_type": "execute_result"
    }
   ],
   "source": [
    "# Fitting the ANN to the Training set\n",
    "classifier.fit(X_train, y_train, validation_split=0.35, batch_size = 10, epochs = 100)"
   ]
  },
  {
   "cell_type": "code",
   "execution_count": 26,
   "metadata": {},
   "outputs": [],
   "source": [
    "y_pred = classifier.predict(X_test)\n",
    "y_pred = (y_pred > 0.5)"
   ]
  },
  {
   "cell_type": "code",
   "execution_count": 27,
   "metadata": {},
   "outputs": [],
   "source": [
    "# Making the Confusion Matrix\n",
    "from sklearn.metrics import confusion_matrix\n",
    "cm = confusion_matrix(y_test, y_pred)"
   ]
  },
  {
   "cell_type": "code",
   "execution_count": 28,
   "metadata": {},
   "outputs": [
    {
     "data": {
      "text/plain": [
       "array([[1524,   61],\n",
       "       [ 214,  201]], dtype=int64)"
      ]
     },
     "execution_count": 28,
     "metadata": {},
     "output_type": "execute_result"
    }
   ],
   "source": [
    "cm"
   ]
  },
  {
   "cell_type": "code",
   "execution_count": 30,
   "metadata": {},
   "outputs": [
    {
     "data": {
      "text/plain": [
       "0.8625"
      ]
     },
     "execution_count": 30,
     "metadata": {},
     "output_type": "execute_result"
    }
   ],
   "source": [
    "# Calculate the Accuracy\n",
    "from sklearn.metrics import accuracy_score\n",
    "score=accuracy_score(y_pred,y_test)\n",
    "score"
   ]
  }
 ],
 "metadata": {
  "kernelspec": {
   "display_name": "Python 3",
   "language": "python",
   "name": "python3"
  },
  "language_info": {
   "codemirror_mode": {
    "name": "ipython",
    "version": 3
   },
   "file_extension": ".py",
   "mimetype": "text/x-python",
   "name": "python",
   "nbconvert_exporter": "python",
   "pygments_lexer": "ipython3",
   "version": "3.7.9"
  }
 },
 "nbformat": 4,
 "nbformat_minor": 4
}
