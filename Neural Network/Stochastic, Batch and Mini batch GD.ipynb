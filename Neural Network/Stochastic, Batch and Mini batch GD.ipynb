{
 "cells": [
  {
   "cell_type": "markdown",
   "metadata": {},
   "source": [
    "## <center>Implementation of Stochastic, Batch and Mini batch grandient descent in python</center>"
   ]
  },
  {
   "cell_type": "markdown",
   "metadata": {},
   "source": [
    "I have used home prices data set to implement batch and stochastic and Mini batch gradient descent in python. \n",
    "\n",
    "    1. Batch gradient descent uses all training samples in forward pass to calculate cumulitive error and then adjusts weights using derivaties. \n",
    "    2. In stochastic GD, we randomly picked one training sample, perform forward pass, compute the error and immidiately adjust weights. \n",
    "    3. In Mini batch GD, used random set of training samples, perform forward pass, compute the error and starts adjusting weights. \n",
    "    \n",
    "So the key difference here is that to adjust weights batch GD will use all training samples, Mini batch will use set of samples and stochastic GD will use one randomly picked training sample. "
   ]
  },
  {
   "cell_type": "code",
   "execution_count": 1,
   "metadata": {},
   "outputs": [],
   "source": [
    "import pandas as pd\n",
    "import numpy as np\n",
    "from matplotlib import pyplot as plt\n",
    "import warnings\n",
    "warnings.filterwarnings(\"ignore\")\n",
    "%matplotlib inline"
   ]
  },
  {
   "cell_type": "code",
   "execution_count": 2,
   "metadata": {},
   "outputs": [
    {
     "data": {
      "text/html": [
       "<div>\n",
       "<style scoped>\n",
       "    .dataframe tbody tr th:only-of-type {\n",
       "        vertical-align: middle;\n",
       "    }\n",
       "\n",
       "    .dataframe tbody tr th {\n",
       "        vertical-align: top;\n",
       "    }\n",
       "\n",
       "    .dataframe thead th {\n",
       "        text-align: right;\n",
       "    }\n",
       "</style>\n",
       "<table border=\"1\" class=\"dataframe\">\n",
       "  <thead>\n",
       "    <tr style=\"text-align: right;\">\n",
       "      <th></th>\n",
       "      <th>area</th>\n",
       "      <th>bedrooms</th>\n",
       "      <th>price</th>\n",
       "    </tr>\n",
       "  </thead>\n",
       "  <tbody>\n",
       "    <tr>\n",
       "      <th>2</th>\n",
       "      <td>1440</td>\n",
       "      <td>3</td>\n",
       "      <td>62.0</td>\n",
       "    </tr>\n",
       "    <tr>\n",
       "      <th>17</th>\n",
       "      <td>1540</td>\n",
       "      <td>3</td>\n",
       "      <td>60.0</td>\n",
       "    </tr>\n",
       "    <tr>\n",
       "      <th>7</th>\n",
       "      <td>3300</td>\n",
       "      <td>4</td>\n",
       "      <td>155.0</td>\n",
       "    </tr>\n",
       "    <tr>\n",
       "      <th>11</th>\n",
       "      <td>2785</td>\n",
       "      <td>4</td>\n",
       "      <td>140.0</td>\n",
       "    </tr>\n",
       "    <tr>\n",
       "      <th>18</th>\n",
       "      <td>2770</td>\n",
       "      <td>3</td>\n",
       "      <td>102.0</td>\n",
       "    </tr>\n",
       "  </tbody>\n",
       "</table>\n",
       "</div>"
      ],
      "text/plain": [
       "    area  bedrooms  price\n",
       "2   1440         3   62.0\n",
       "17  1540         3   60.0\n",
       "7   3300         4  155.0\n",
       "11  2785         4  140.0\n",
       "18  2770         3  102.0"
      ]
     },
     "execution_count": 2,
     "metadata": {},
     "output_type": "execute_result"
    }
   ],
   "source": [
    "df= pd.read_csv(r'C:\\Users\\Administrator\\machine learning\\home_price.csv')\n",
    "df.sample(5)"
   ]
  },
  {
   "cell_type": "markdown",
   "metadata": {},
   "source": [
    "##### Preprocessing \n",
    "Scaled area and bedrooms columns."
   ]
  },
  {
   "cell_type": "code",
   "execution_count": 3,
   "metadata": {},
   "outputs": [
    {
     "data": {
      "text/plain": [
       "array([[0.08827586, 0.25      ],\n",
       "       [0.62068966, 0.75      ],\n",
       "       [0.22068966, 0.5       ],\n",
       "       [0.24862069, 0.5       ],\n",
       "       [0.13793103, 0.25      ]])"
      ]
     },
     "execution_count": 3,
     "metadata": {},
     "output_type": "execute_result"
    }
   ],
   "source": [
    "from sklearn import preprocessing\n",
    "\n",
    "mx= preprocessing.MinMaxScaler()\n",
    "my= preprocessing.MinMaxScaler()\n",
    "\n",
    "scaled_x= mx.fit_transform(df[['area','bedrooms']])\n",
    "scaled_x[:5]"
   ]
  },
  {
   "cell_type": "code",
   "execution_count": 4,
   "metadata": {},
   "outputs": [
    {
     "data": {
      "text/plain": [
       "array([[0.05237037],\n",
       "       [0.65185185],\n",
       "       [0.22222222],\n",
       "       [0.31851852],\n",
       "       [0.14074074]])"
      ]
     },
     "execution_count": 4,
     "metadata": {},
     "output_type": "execute_result"
    }
   ],
   "source": [
    "scaled_y= my.fit_transform(df['price'].values.reshape(df.shape[0],1))\n",
    "scaled_y[:5]"
   ]
  },
  {
   "cell_type": "code",
   "execution_count": 5,
   "metadata": {},
   "outputs": [
    {
     "data": {
      "text/plain": [
       "array([0.05237037, 0.65185185, 0.22222222, 0.31851852, 0.14074074,\n",
       "       0.04444444, 0.76296296, 0.91111111, 0.13333333, 1.        ,\n",
       "       0.37037037, 0.8       , 0.04444444, 0.05925926, 0.51111111,\n",
       "       0.07407407, 0.11851852, 0.20740741, 0.51851852, 0.        ])"
      ]
     },
     "execution_count": 5,
     "metadata": {},
     "output_type": "execute_result"
    }
   ],
   "source": [
    "scaled_y.reshape(20,)"
   ]
  },
  {
   "cell_type": "markdown",
   "metadata": {},
   "source": [
    "### 1. Implementation of Batch Gradient Descent"
   ]
  },
  {
   "cell_type": "code",
   "execution_count": 6,
   "metadata": {},
   "outputs": [],
   "source": [
    "w= np.ones(2)"
   ]
  },
  {
   "cell_type": "code",
   "execution_count": 7,
   "metadata": {},
   "outputs": [
    {
     "data": {
      "text/plain": [
       "array([0.33827586, 1.37068966, 0.72068966, 0.74862069, 0.38793103,\n",
       "       0.37758621, 1.4162069 , 1.61206897, 0.67586207, 2.        ,\n",
       "       0.84482759, 1.43448276, 0.31896552, 0.35344828, 1.        ,\n",
       "       0.37931034, 0.63103448, 0.75517241, 1.17931034, 0.        ])"
      ]
     },
     "execution_count": 7,
     "metadata": {},
     "output_type": "execute_result"
    }
   ],
   "source": [
    "np.dot(w, np.transpose(scaled_x))"
   ]
  },
  {
   "cell_type": "code",
   "execution_count": 8,
   "metadata": {},
   "outputs": [],
   "source": [
    "def batch_gradient_descent(x,y_true,epochs,learning_rate= 0.01):\n",
    "    \n",
    "    no_of_features= x.shape[1]\n",
    "    w= np.ones(shape= (no_of_features))\n",
    "    bias= 0\n",
    "    total_samples= x.shape[0]\n",
    "    \n",
    "    cost_list= list()\n",
    "    epochs_list= list()\n",
    "    \n",
    "    for i in range(epochs):\n",
    "           \n",
    "        y_predicted= np.dot(w, x.T) + bias \n",
    "    \n",
    "        wd=  -(2/total_samples)*(x.T.dot(y_true-y_predicted))\n",
    "        bias_d= -(2/total_samples)*np.sum(y_true-y_predicted)\n",
    "    \n",
    "        w= w-learning_rate*wd\n",
    "        bias= bias-learning_rate*bias_d\n",
    "        \n",
    "        mse= np.mean(np.square(y_true-y_predicted))\n",
    "        \n",
    "        if i%10 == 0:\n",
    "            cost_list.append(mse)\n",
    "            epochs_list.append(i)\n",
    "             \n",
    "    return w, bias, mse, cost_list, epochs_list"
   ]
  },
  {
   "cell_type": "code",
   "execution_count": 9,
   "metadata": {},
   "outputs": [
    {
     "data": {
      "text/plain": [
       "(array([0.70712464, 0.67456527]), -0.23034857438407427, 0.0068641890429808105)"
      ]
     },
     "execution_count": 9,
     "metadata": {},
     "output_type": "execute_result"
    }
   ],
   "source": [
    "w, b, cost, cost_list, epochs_list= batch_gradient_descent(scaled_x,scaled_y.reshape(scaled_y.shape[0],),500)\n",
    "w,b,cost"
   ]
  },
  {
   "cell_type": "markdown",
   "metadata": {},
   "source": [
    "###### Plotted epoch vs cost graph to see how cost reduces as number of epoch increases"
   ]
  },
  {
   "cell_type": "code",
   "execution_count": 10,
   "metadata": {
    "scrolled": true
   },
   "outputs": [
    {
     "data": {
      "text/plain": [
       "[<matplotlib.lines.Line2D at 0x260d1bf3248>]"
      ]
     },
     "execution_count": 10,
     "metadata": {},
     "output_type": "execute_result"
    },
    {
     "data": {
      "image/png": "[encoded data removed]",
      "text/plain": [
       "<Figure size 432x288 with 1 Axes>"
      ]
     },
     "metadata": {
      "needs_background": "light"
     },
     "output_type": "display_data"
    }
   ],
   "source": [
    "plt.xlabel(\"epoch\")\n",
    "plt.ylabel(\"cost\")\n",
    "plt.plot(epochs_list,cost_list)"
   ]
  },
  {
   "cell_type": "code",
   "execution_count": 11,
   "metadata": {},
   "outputs": [
    {
     "data": {
      "text/plain": [
       "array([[167.,  32.]])"
      ]
     },
     "execution_count": 11,
     "metadata": {},
     "output_type": "execute_result"
    }
   ],
   "source": [
    "my.inverse_transform([[1,0]])"
   ]
  },
  {
   "cell_type": "code",
   "execution_count": 12,
   "metadata": {},
   "outputs": [],
   "source": [
    "def predict(area,bedrooms,w,b):\n",
    "    scaled_x= mx.transform([[area,bedrooms]])[0]    \n",
    "    scaled_price= w[0]*scaled_x[0] + w[1]*scaled_x[1] + b\n",
    "    \n",
    "    return my.inverse_transform([[scaled_price]])[0][0]\n"
   ]
  },
  {
   "cell_type": "code",
   "execution_count": 13,
   "metadata": {},
   "outputs": [
    {
     "data": {
      "text/plain": [
       "32.0964952553193"
      ]
     },
     "execution_count": 13,
     "metadata": {},
     "output_type": "execute_result"
    }
   ],
   "source": [
    "predict(1056,2,w,b)"
   ]
  },
  {
   "cell_type": "code",
   "execution_count": 14,
   "metadata": {},
   "outputs": [
    {
     "data": {
      "text/plain": [
       "79.35396924755915"
      ]
     },
     "execution_count": 14,
     "metadata": {},
     "output_type": "execute_result"
    }
   ],
   "source": [
    "predict(1800,3,w,b)"
   ]
  },
  {
   "cell_type": "code",
   "execution_count": 15,
   "metadata": {},
   "outputs": [
    {
     "data": {
      "text/plain": [
       "30.253094462442355"
      ]
     },
     "execution_count": 15,
     "metadata": {},
     "output_type": "execute_result"
    }
   ],
   "source": [
    "predict(1000,2,w,b)"
   ]
  },
  {
   "cell_type": "markdown",
   "metadata": {},
   "source": [
    "### 2. Stochastic Gradient Descent Implementation"
   ]
  },
  {
   "cell_type": "code",
   "execution_count": 16,
   "metadata": {},
   "outputs": [
    {
     "data": {
      "text/plain": [
       "4"
      ]
     },
     "execution_count": 16,
     "metadata": {},
     "output_type": "execute_result"
    }
   ],
   "source": [
    "import random\n",
    "random.randint(0,4)"
   ]
  },
  {
   "cell_type": "code",
   "execution_count": 17,
   "metadata": {},
   "outputs": [],
   "source": [
    "def stochastic_gradient_descent(x,y_true,epochs,learning_rate= 0.01):\n",
    "    \n",
    "    no_of_features= x.shape[1]\n",
    "    w= np.ones(shape= (no_of_features))\n",
    "    bias= 0\n",
    "    total_samples= x.shape[0]\n",
    "    \n",
    "    cost_list_sgd= list()\n",
    "    epoch_list_sgd= list()\n",
    "    \n",
    "    for i in range(epochs):\n",
    "        random_ind= random.randint(0,total_samples-1)\n",
    "        sample_x= x[random_ind]\n",
    "        sample_y= y_true[random_ind]\n",
    "        \n",
    "        y_predicted= np.dot(w, sample_x.T) + bias \n",
    "    \n",
    "        wd=  -(2/total_samples)*(sample_x.T.dot(sample_y-y_predicted))\n",
    "        bias_d= -(2/total_samples)*(sample_y-y_predicted)\n",
    "    \n",
    "        w= w-learning_rate*wd\n",
    "        bias= bias-learning_rate*bias_d\n",
    "        \n",
    "        mse= np.square(sample_y-y_predicted)\n",
    "        \n",
    "        if i%10 == 0:\n",
    "            cost_list_sgd.append(mse)\n",
    "            epoch_list_sgd.append(i)\n",
    "             \n",
    "    return w, bias, mse, cost_list_sgd, epoch_list_sgd  "
   ]
  },
  {
   "cell_type": "code",
   "execution_count": 18,
   "metadata": {},
   "outputs": [
    {
     "data": {
      "text/plain": [
       "(array([0.70750786, 0.67410665]), -0.22702317258124455, 0.00017123773247698816)"
      ]
     },
     "execution_count": 18,
     "metadata": {},
     "output_type": "execute_result"
    }
   ],
   "source": [
    "w_sgd, b_sgd, cost_sgd, cost_list_sgd, epoch_list_sgd= stochastic_gradient_descent(scaled_x,scaled_y.reshape(scaled_y.shape[0]),10000)\n",
    "w_sgd, b_sgd, cost_sgd"
   ]
  },
  {
   "cell_type": "code",
   "execution_count": 19,
   "metadata": {},
   "outputs": [
    {
     "data": {
      "text/plain": [
       "(array([0.70712464, 0.67456527]), -0.23034857438407427, 0.0068641890429808105)"
      ]
     },
     "execution_count": 19,
     "metadata": {},
     "output_type": "execute_result"
    }
   ],
   "source": [
    "w,b,cost"
   ]
  },
  {
   "cell_type": "code",
   "execution_count": 20,
   "metadata": {},
   "outputs": [
    {
     "data": {
      "text/plain": [
       "[<matplotlib.lines.Line2D at 0x260d1cecbc8>]"
      ]
     },
     "execution_count": 20,
     "metadata": {},
     "output_type": "execute_result"
    },
    {
     "data": {
      "image/png": "[encoded data removed]",
      "text/plain": [
       "<Figure size 432x288 with 1 Axes>"
      ]
     },
     "metadata": {
      "needs_background": "light"
     },
     "output_type": "display_data"
    }
   ],
   "source": [
    "plt.xlabel(\"epoch\")\n",
    "plt.ylabel(\"cost\")\n",
    "plt.plot(epoch_list_sgd,cost_list_sgd)"
   ]
  },
  {
   "cell_type": "code",
   "execution_count": 21,
   "metadata": {},
   "outputs": [
    {
     "data": {
      "text/plain": [
       "128.8894497362819"
      ]
     },
     "execution_count": 21,
     "metadata": {},
     "output_type": "execute_result"
    }
   ],
   "source": [
    "predict(2600,4,w_sgd, b_sgd)"
   ]
  },
  {
   "cell_type": "markdown",
   "metadata": {},
   "source": [
    "### 3. Mini batch Gradient Descent Implementation"
   ]
  },
  {
   "cell_type": "code",
   "execution_count": 23,
   "metadata": {},
   "outputs": [],
   "source": [
    "def mini_gradient_descent(x,y_true,epochs,learning_rate= 0.01):\n",
    "    \n",
    "    no_of_features= x.shape[1]\n",
    "    w= np.ones(shape= (no_of_features))\n",
    "    bias= 0\n",
    "    total_samples= x.shape[0]\n",
    "    \n",
    "    cost_list_mini= list()\n",
    "    epoch_list_mini= list()\n",
    "    \n",
    "    for i in range(epochs):\n",
    "        \n",
    "        random_ind1= random.randint(0,total_samples-1)\n",
    "        random_ind2= random.randint(0,total_samples-1)\n",
    "        if random_ind1 < random_ind2:\n",
    "            sample_x= x[random_ind1:random_ind2]\n",
    "            sample_y= y_true[random_ind1:random_ind2]\n",
    "\n",
    "            y_predicted= np.dot(w, sample_x.T) + bias \n",
    "\n",
    "            wd=  -(2/total_samples)*(sample_x.T.dot(sample_y-y_predicted))\n",
    "            bias_d= -(2/total_samples)*np.sum(sample_y-y_predicted)\n",
    "\n",
    "            w= w-learning_rate*wd\n",
    "            bias= bias-learning_rate*bias_d\n",
    "\n",
    "            mse= np.mean(np.square(sample_y-y_predicted))\n",
    "\n",
    "            if i%10 == 0:\n",
    "                cost_list_mini.append(mse)\n",
    "                epoch_list_mini.append(i)\n",
    "\n",
    "    return w, bias, mse, cost_list_mini, epoch_list_mini  "
   ]
  },
  {
   "cell_type": "code",
   "execution_count": 24,
   "metadata": {
    "scrolled": true
   },
   "outputs": [
    {
     "data": {
      "text/plain": [
       "(array([0.82432441, 0.79587646]), -0.2998680882678466, 0.0060989550362421695)"
      ]
     },
     "execution_count": 24,
     "metadata": {},
     "output_type": "execute_result"
    }
   ],
   "source": [
    "w_mbd, b_mbd, cost_mbd, cost_list_mini, epoch_list_mini= mini_gradient_descent(scaled_x,scaled_y.reshape(scaled_y.shape[0],),550)\n",
    "w_mbd, b_mbd, cost_mbd"
   ]
  },
  {
   "cell_type": "code",
   "execution_count": 25,
   "metadata": {},
   "outputs": [
    {
     "data": {
      "text/plain": [
       "168.03460612889054"
      ]
     },
     "execution_count": 25,
     "metadata": {},
     "output_type": "execute_result"
    }
   ],
   "source": [
    "predict(3300,4,w_mbd, b_mbd)"
   ]
  },
  {
   "cell_type": "code",
   "execution_count": 26,
   "metadata": {},
   "outputs": [
    {
     "data": {
      "text/plain": [
       "72.10107484833425"
      ]
     },
     "execution_count": 26,
     "metadata": {},
     "output_type": "execute_result"
    }
   ],
   "source": [
    "predict(1500,3,w_mbd, b_mbd)"
   ]
  },
  {
   "cell_type": "code",
   "execution_count": 27,
   "metadata": {
    "scrolled": false
   },
   "outputs": [
    {
     "data": {
      "text/plain": [
       "120.83570266271566"
      ]
     },
     "execution_count": 27,
     "metadata": {},
     "output_type": "execute_result"
    }
   ],
   "source": [
    "predict(2770,3,w_mbd, b_mbd)"
   ]
  },
  {
   "cell_type": "markdown",
   "metadata": {},
   "source": [
    "##### Plotted epoch vs cost graph to see how cost reduces as number of epoch increases"
   ]
  },
  {
   "cell_type": "code",
   "execution_count": 28,
   "metadata": {},
   "outputs": [
    {
     "data": {
      "text/plain": [
       "[<matplotlib.lines.Line2D at 0x260d1d4c688>]"
      ]
     },
     "execution_count": 28,
     "metadata": {},
     "output_type": "execute_result"
    },
    {
     "data": {
      "image/png": "[encoded data removed]",
      "text/plain": [
       "<Figure size 432x288 with 1 Axes>"
      ]
     },
     "metadata": {
      "needs_background": "light"
     },
     "output_type": "display_data"
    }
   ],
   "source": [
    "plt.xlabel(\"epoch\")\n",
    "plt.ylabel(\"cost\")\n",
    "plt.plot(epoch_list_mini,cost_list_mini)"
   ]
  }
 ],
 "metadata": {
  "kernelspec": {
   "display_name": "Python 3",
   "language": "python",
   "name": "python3"
  },
  "language_info": {
   "codemirror_mode": {
    "name": "ipython",
    "version": 3
   },
   "file_extension": ".py",
   "mimetype": "text/x-python",
   "name": "python",
   "nbconvert_exporter": "python",
   "pygments_lexer": "ipython3",
   "version": "3.7.9"
  }
 },
 "nbformat": 4,
 "nbformat_minor": 4
}
