{
  "nbformat": 4,
  "nbformat_minor": 0,
  "metadata": {
    "colab": {
      "name": "Telecom_churn_model.ipynb",
      "provenance": [],
      "collapsed_sections": []
    },
    "kernelspec": {
      "name": "python3",
      "display_name": "Python 3"
    },
    "accelerator": "GPU"
  },
  "cells": [
    {
      "cell_type": "markdown",
      "metadata": {
        "id": "U3BCpxJxfTZg"
      },
      "source": [
        "**Customer churn prediction is to measure why customers are leaving a business. In this project I've built customer churn deep learning model for telecom business along with precision,recall, f1-score to measure performance of our model**"
      ]
    },
    {
      "cell_type": "code",
      "metadata": {
        "colab": {
          "base_uri": "https://localhost:8080/"
        },
        "id": "OzBg9YJHH7u8",
        "outputId": "8289f119-e92d-4bfe-e178-a65216f52cbd"
      },
      "source": [
        "from google.colab import drive\n",
        "drive.mount('/content/drive')"
      ],
      "execution_count": 1,
      "outputs": [
        {
          "output_type": "stream",
          "text": [
            "Drive already mounted at /content/drive; to attempt to forcibly remount, call drive.mount(\"/content/drive\", force_remount=True).\n"
          ],
          "name": "stdout"
        }
      ]
    },
    {
      "cell_type": "code",
      "metadata": {
        "id": "QxGKQHaDIVfa"
      },
      "source": [
        "!pip install -q keras"
      ],
      "execution_count": 2,
      "outputs": []
    },
    {
      "cell_type": "code",
      "metadata": {
        "id": "VsY6BZ2nIp9R"
      },
      "source": [
        "import pandas as pd\r\n",
        "import matplotlib.pyplot as plt\r\n",
        "import numpy as np\r\n",
        "import warnings\r\n",
        "warnings.filterwarnings(\"ignore\")"
      ],
      "execution_count": 3,
      "outputs": []
    },
    {
      "cell_type": "code",
      "metadata": {
        "colab": {
          "base_uri": "https://localhost:8080/",
          "height": 117
        },
        "id": "D9wxFgyBIz4L",
        "outputId": "b4c273be-c733-4d15-e370-09c37db5e592"
      },
      "source": [
        "df= pd.read_csv('/content/drive/MyDrive/DL/churn.csv')\r\n",
        "df.sample(1)"
      ],
      "execution_count": 4,
      "outputs": [
        {
          "output_type": "execute_result",
          "data": {
            "text/html": [
              "<div>\n",
              "<style scoped>\n",
              "    .dataframe tbody tr th:only-of-type {\n",
              "        vertical-align: middle;\n",
              "    }\n",
              "\n",
              "    .dataframe tbody tr th {\n",
              "        vertical-align: top;\n",
              "    }\n",
              "\n",
              "    .dataframe thead th {\n",
              "        text-align: right;\n",
              "    }\n",
              "</style>\n",
              "<table border=\"1\" class=\"dataframe\">\n",
              "  <thead>\n",
              "    <tr style=\"text-align: right;\">\n",
              "      <th></th>\n",
              "      <th>customerID</th>\n",
              "      <th>gender</th>\n",
              "      <th>SeniorCitizen</th>\n",
              "      <th>Partner</th>\n",
              "      <th>Dependents</th>\n",
              "      <th>tenure</th>\n",
              "      <th>PhoneService</th>\n",
              "      <th>MultipleLines</th>\n",
              "      <th>InternetService</th>\n",
              "      <th>OnlineSecurity</th>\n",
              "      <th>OnlineBackup</th>\n",
              "      <th>DeviceProtection</th>\n",
              "      <th>TechSupport</th>\n",
              "      <th>StreamingTV</th>\n",
              "      <th>StreamingMovies</th>\n",
              "      <th>Contract</th>\n",
              "      <th>PaperlessBilling</th>\n",
              "      <th>PaymentMethod</th>\n",
              "      <th>MonthlyCharges</th>\n",
              "      <th>TotalCharges</th>\n",
              "      <th>Churn</th>\n",
              "    </tr>\n",
              "  </thead>\n",
              "  <tbody>\n",
              "    <tr>\n",
              "      <th>4932</th>\n",
              "      <td>5566-SOEZD</td>\n",
              "      <td>Male</td>\n",
              "      <td>0</td>\n",
              "      <td>Yes</td>\n",
              "      <td>Yes</td>\n",
              "      <td>27</td>\n",
              "      <td>Yes</td>\n",
              "      <td>No</td>\n",
              "      <td>Fiber optic</td>\n",
              "      <td>Yes</td>\n",
              "      <td>Yes</td>\n",
              "      <td>No</td>\n",
              "      <td>No</td>\n",
              "      <td>No</td>\n",
              "      <td>No</td>\n",
              "      <td>One year</td>\n",
              "      <td>Yes</td>\n",
              "      <td>Credit card (automatic)</td>\n",
              "      <td>80.65</td>\n",
              "      <td>2209.75</td>\n",
              "      <td>No</td>\n",
              "    </tr>\n",
              "  </tbody>\n",
              "</table>\n",
              "</div>"
            ],
            "text/plain": [
              "      customerID gender  SeniorCitizen  ... MonthlyCharges TotalCharges  Churn\n",
              "4932  5566-SOEZD   Male              0  ...          80.65      2209.75     No\n",
              "\n",
              "[1 rows x 21 columns]"
            ]
          },
          "metadata": {
            "tags": []
          },
          "execution_count": 4
        }
      ]
    },
    {
      "cell_type": "code",
      "metadata": {
        "colab": {
          "base_uri": "https://localhost:8080/"
        },
        "id": "g8oG5b-HJEZB",
        "outputId": "76436d08-4d03-4646-81b7-c5bf3356e46c"
      },
      "source": [
        "df.dtypes"
      ],
      "execution_count": 5,
      "outputs": [
        {
          "output_type": "execute_result",
          "data": {
            "text/plain": [
              "customerID           object\n",
              "gender               object\n",
              "SeniorCitizen         int64\n",
              "Partner              object\n",
              "Dependents           object\n",
              "tenure                int64\n",
              "PhoneService         object\n",
              "MultipleLines        object\n",
              "InternetService      object\n",
              "OnlineSecurity       object\n",
              "OnlineBackup         object\n",
              "DeviceProtection     object\n",
              "TechSupport          object\n",
              "StreamingTV          object\n",
              "StreamingMovies      object\n",
              "Contract             object\n",
              "PaperlessBilling     object\n",
              "PaymentMethod        object\n",
              "MonthlyCharges      float64\n",
              "TotalCharges         object\n",
              "Churn                object\n",
              "dtype: object"
            ]
          },
          "metadata": {
            "tags": []
          },
          "execution_count": 5
        }
      ]
    },
    {
      "cell_type": "code",
      "metadata": {
        "id": "-8vZsts6O0fs"
      },
      "source": [
        "df.drop('customerID', axis=1, inplace= True)"
      ],
      "execution_count": 6,
      "outputs": []
    },
    {
      "cell_type": "code",
      "metadata": {
        "colab": {
          "base_uri": "https://localhost:8080/",
          "height": 435
        },
        "id": "-AUwchZAPApl",
        "outputId": "c57a8aca-fe1c-4b12-a2dc-e5ba1dc9dd2a"
      },
      "source": [
        "pd.to_numeric(df.TotalCharges)"
      ],
      "execution_count": 7,
      "outputs": [
        {
          "output_type": "error",
          "ename": "ValueError",
          "evalue": "ignored",
          "traceback": [
            "\u001b[0;31m---------------------------------------------------------------------------\u001b[0m",
            "\u001b[0;31mValueError\u001b[0m                                Traceback (most recent call last)",
            "\u001b[0;32mpandas/_libs/lib.pyx\u001b[0m in \u001b[0;36mpandas._libs.lib.maybe_convert_numeric\u001b[0;34m()\u001b[0m\n",
            "\u001b[0;31mValueError\u001b[0m: Unable to parse string \" \"",
            "\nDuring handling of the above exception, another exception occurred:\n",
            "\u001b[0;31mValueError\u001b[0m                                Traceback (most recent call last)",
            "\u001b[0;32m<ipython-input-7-06ba430a4ba5>\u001b[0m in \u001b[0;36m<module>\u001b[0;34m()\u001b[0m\n\u001b[0;32m----> 1\u001b[0;31m \u001b[0mpd\u001b[0m\u001b[0;34m.\u001b[0m\u001b[0mto_numeric\u001b[0m\u001b[0;34m(\u001b[0m\u001b[0mdf\u001b[0m\u001b[0;34m.\u001b[0m\u001b[0mTotalCharges\u001b[0m\u001b[0;34m)\u001b[0m\u001b[0;34m\u001b[0m\u001b[0;34m\u001b[0m\u001b[0m\n\u001b[0m",
            "\u001b[0;32m/usr/local/lib/python3.6/dist-packages/pandas/core/tools/numeric.py\u001b[0m in \u001b[0;36mto_numeric\u001b[0;34m(arg, errors, downcast)\u001b[0m\n\u001b[1;32m    151\u001b[0m         \u001b[0;32mtry\u001b[0m\u001b[0;34m:\u001b[0m\u001b[0;34m\u001b[0m\u001b[0;34m\u001b[0m\u001b[0m\n\u001b[1;32m    152\u001b[0m             values = lib.maybe_convert_numeric(\n\u001b[0;32m--> 153\u001b[0;31m                 \u001b[0mvalues\u001b[0m\u001b[0;34m,\u001b[0m \u001b[0mset\u001b[0m\u001b[0;34m(\u001b[0m\u001b[0;34m)\u001b[0m\u001b[0;34m,\u001b[0m \u001b[0mcoerce_numeric\u001b[0m\u001b[0;34m=\u001b[0m\u001b[0mcoerce_numeric\u001b[0m\u001b[0;34m\u001b[0m\u001b[0;34m\u001b[0m\u001b[0m\n\u001b[0m\u001b[1;32m    154\u001b[0m             )\n\u001b[1;32m    155\u001b[0m         \u001b[0;32mexcept\u001b[0m \u001b[0;34m(\u001b[0m\u001b[0mValueError\u001b[0m\u001b[0;34m,\u001b[0m \u001b[0mTypeError\u001b[0m\u001b[0;34m)\u001b[0m\u001b[0;34m:\u001b[0m\u001b[0;34m\u001b[0m\u001b[0;34m\u001b[0m\u001b[0m\n",
            "\u001b[0;32mpandas/_libs/lib.pyx\u001b[0m in \u001b[0;36mpandas._libs.lib.maybe_convert_numeric\u001b[0;34m()\u001b[0m\n",
            "\u001b[0;31mValueError\u001b[0m: Unable to parse string \" \" at position 488"
          ]
        }
      ]
    },
    {
      "cell_type": "markdown",
      "metadata": {
        "id": "0_8_DkKITRuj"
      },
      "source": [
        "**Somevalues seems to be not numbers but blank string.**"
      ]
    },
    {
      "cell_type": "code",
      "metadata": {
        "colab": {
          "base_uri": "https://localhost:8080/"
        },
        "id": "O3kl2H7rJpeP",
        "outputId": "05965fab-b422-45f8-df45-0327f36a825a"
      },
      "source": [
        "df.TotalCharges.unique()"
      ],
      "execution_count": 8,
      "outputs": [
        {
          "output_type": "execute_result",
          "data": {
            "text/plain": [
              "array(['29.85', '1889.5', '108.15', ..., '346.45', '306.6', '6844.5'],\n",
              "      dtype=object)"
            ]
          },
          "metadata": {
            "tags": []
          },
          "execution_count": 8
        }
      ]
    },
    {
      "cell_type": "code",
      "metadata": {
        "colab": {
          "base_uri": "https://localhost:8080/",
          "height": 563
        },
        "id": "fnlqm3knJ_ZJ",
        "outputId": "a9df93dd-76a7-47fa-be79-6b3443b05a28"
      },
      "source": [
        "df[df.TotalCharges == ' ']"
      ],
      "execution_count": 9,
      "outputs": [
        {
          "output_type": "execute_result",
          "data": {
            "text/html": [
              "<div>\n",
              "<style scoped>\n",
              "    .dataframe tbody tr th:only-of-type {\n",
              "        vertical-align: middle;\n",
              "    }\n",
              "\n",
              "    .dataframe tbody tr th {\n",
              "        vertical-align: top;\n",
              "    }\n",
              "\n",
              "    .dataframe thead th {\n",
              "        text-align: right;\n",
              "    }\n",
              "</style>\n",
              "<table border=\"1\" class=\"dataframe\">\n",
              "  <thead>\n",
              "    <tr style=\"text-align: right;\">\n",
              "      <th></th>\n",
              "      <th>gender</th>\n",
              "      <th>SeniorCitizen</th>\n",
              "      <th>Partner</th>\n",
              "      <th>Dependents</th>\n",
              "      <th>tenure</th>\n",
              "      <th>PhoneService</th>\n",
              "      <th>MultipleLines</th>\n",
              "      <th>InternetService</th>\n",
              "      <th>OnlineSecurity</th>\n",
              "      <th>OnlineBackup</th>\n",
              "      <th>DeviceProtection</th>\n",
              "      <th>TechSupport</th>\n",
              "      <th>StreamingTV</th>\n",
              "      <th>StreamingMovies</th>\n",
              "      <th>Contract</th>\n",
              "      <th>PaperlessBilling</th>\n",
              "      <th>PaymentMethod</th>\n",
              "      <th>MonthlyCharges</th>\n",
              "      <th>TotalCharges</th>\n",
              "      <th>Churn</th>\n",
              "    </tr>\n",
              "  </thead>\n",
              "  <tbody>\n",
              "    <tr>\n",
              "      <th>488</th>\n",
              "      <td>Female</td>\n",
              "      <td>0</td>\n",
              "      <td>Yes</td>\n",
              "      <td>Yes</td>\n",
              "      <td>0</td>\n",
              "      <td>No</td>\n",
              "      <td>No phone service</td>\n",
              "      <td>DSL</td>\n",
              "      <td>Yes</td>\n",
              "      <td>No</td>\n",
              "      <td>Yes</td>\n",
              "      <td>Yes</td>\n",
              "      <td>Yes</td>\n",
              "      <td>No</td>\n",
              "      <td>Two year</td>\n",
              "      <td>Yes</td>\n",
              "      <td>Bank transfer (automatic)</td>\n",
              "      <td>52.55</td>\n",
              "      <td></td>\n",
              "      <td>No</td>\n",
              "    </tr>\n",
              "    <tr>\n",
              "      <th>753</th>\n",
              "      <td>Male</td>\n",
              "      <td>0</td>\n",
              "      <td>No</td>\n",
              "      <td>Yes</td>\n",
              "      <td>0</td>\n",
              "      <td>Yes</td>\n",
              "      <td>No</td>\n",
              "      <td>No</td>\n",
              "      <td>No internet service</td>\n",
              "      <td>No internet service</td>\n",
              "      <td>No internet service</td>\n",
              "      <td>No internet service</td>\n",
              "      <td>No internet service</td>\n",
              "      <td>No internet service</td>\n",
              "      <td>Two year</td>\n",
              "      <td>No</td>\n",
              "      <td>Mailed check</td>\n",
              "      <td>20.25</td>\n",
              "      <td></td>\n",
              "      <td>No</td>\n",
              "    </tr>\n",
              "    <tr>\n",
              "      <th>936</th>\n",
              "      <td>Female</td>\n",
              "      <td>0</td>\n",
              "      <td>Yes</td>\n",
              "      <td>Yes</td>\n",
              "      <td>0</td>\n",
              "      <td>Yes</td>\n",
              "      <td>No</td>\n",
              "      <td>DSL</td>\n",
              "      <td>Yes</td>\n",
              "      <td>Yes</td>\n",
              "      <td>Yes</td>\n",
              "      <td>No</td>\n",
              "      <td>Yes</td>\n",
              "      <td>Yes</td>\n",
              "      <td>Two year</td>\n",
              "      <td>No</td>\n",
              "      <td>Mailed check</td>\n",
              "      <td>80.85</td>\n",
              "      <td></td>\n",
              "      <td>No</td>\n",
              "    </tr>\n",
              "    <tr>\n",
              "      <th>1082</th>\n",
              "      <td>Male</td>\n",
              "      <td>0</td>\n",
              "      <td>Yes</td>\n",
              "      <td>Yes</td>\n",
              "      <td>0</td>\n",
              "      <td>Yes</td>\n",
              "      <td>Yes</td>\n",
              "      <td>No</td>\n",
              "      <td>No internet service</td>\n",
              "      <td>No internet service</td>\n",
              "      <td>No internet service</td>\n",
              "      <td>No internet service</td>\n",
              "      <td>No internet service</td>\n",
              "      <td>No internet service</td>\n",
              "      <td>Two year</td>\n",
              "      <td>No</td>\n",
              "      <td>Mailed check</td>\n",
              "      <td>25.75</td>\n",
              "      <td></td>\n",
              "      <td>No</td>\n",
              "    </tr>\n",
              "    <tr>\n",
              "      <th>1340</th>\n",
              "      <td>Female</td>\n",
              "      <td>0</td>\n",
              "      <td>Yes</td>\n",
              "      <td>Yes</td>\n",
              "      <td>0</td>\n",
              "      <td>No</td>\n",
              "      <td>No phone service</td>\n",
              "      <td>DSL</td>\n",
              "      <td>Yes</td>\n",
              "      <td>Yes</td>\n",
              "      <td>Yes</td>\n",
              "      <td>Yes</td>\n",
              "      <td>Yes</td>\n",
              "      <td>No</td>\n",
              "      <td>Two year</td>\n",
              "      <td>No</td>\n",
              "      <td>Credit card (automatic)</td>\n",
              "      <td>56.05</td>\n",
              "      <td></td>\n",
              "      <td>No</td>\n",
              "    </tr>\n",
              "    <tr>\n",
              "      <th>3331</th>\n",
              "      <td>Male</td>\n",
              "      <td>0</td>\n",
              "      <td>Yes</td>\n",
              "      <td>Yes</td>\n",
              "      <td>0</td>\n",
              "      <td>Yes</td>\n",
              "      <td>No</td>\n",
              "      <td>No</td>\n",
              "      <td>No internet service</td>\n",
              "      <td>No internet service</td>\n",
              "      <td>No internet service</td>\n",
              "      <td>No internet service</td>\n",
              "      <td>No internet service</td>\n",
              "      <td>No internet service</td>\n",
              "      <td>Two year</td>\n",
              "      <td>No</td>\n",
              "      <td>Mailed check</td>\n",
              "      <td>19.85</td>\n",
              "      <td></td>\n",
              "      <td>No</td>\n",
              "    </tr>\n",
              "    <tr>\n",
              "      <th>3826</th>\n",
              "      <td>Male</td>\n",
              "      <td>0</td>\n",
              "      <td>Yes</td>\n",
              "      <td>Yes</td>\n",
              "      <td>0</td>\n",
              "      <td>Yes</td>\n",
              "      <td>Yes</td>\n",
              "      <td>No</td>\n",
              "      <td>No internet service</td>\n",
              "      <td>No internet service</td>\n",
              "      <td>No internet service</td>\n",
              "      <td>No internet service</td>\n",
              "      <td>No internet service</td>\n",
              "      <td>No internet service</td>\n",
              "      <td>Two year</td>\n",
              "      <td>No</td>\n",
              "      <td>Mailed check</td>\n",
              "      <td>25.35</td>\n",
              "      <td></td>\n",
              "      <td>No</td>\n",
              "    </tr>\n",
              "    <tr>\n",
              "      <th>4380</th>\n",
              "      <td>Female</td>\n",
              "      <td>0</td>\n",
              "      <td>Yes</td>\n",
              "      <td>Yes</td>\n",
              "      <td>0</td>\n",
              "      <td>Yes</td>\n",
              "      <td>No</td>\n",
              "      <td>No</td>\n",
              "      <td>No internet service</td>\n",
              "      <td>No internet service</td>\n",
              "      <td>No internet service</td>\n",
              "      <td>No internet service</td>\n",
              "      <td>No internet service</td>\n",
              "      <td>No internet service</td>\n",
              "      <td>Two year</td>\n",
              "      <td>No</td>\n",
              "      <td>Mailed check</td>\n",
              "      <td>20.00</td>\n",
              "      <td></td>\n",
              "      <td>No</td>\n",
              "    </tr>\n",
              "    <tr>\n",
              "      <th>5218</th>\n",
              "      <td>Male</td>\n",
              "      <td>0</td>\n",
              "      <td>Yes</td>\n",
              "      <td>Yes</td>\n",
              "      <td>0</td>\n",
              "      <td>Yes</td>\n",
              "      <td>No</td>\n",
              "      <td>No</td>\n",
              "      <td>No internet service</td>\n",
              "      <td>No internet service</td>\n",
              "      <td>No internet service</td>\n",
              "      <td>No internet service</td>\n",
              "      <td>No internet service</td>\n",
              "      <td>No internet service</td>\n",
              "      <td>One year</td>\n",
              "      <td>Yes</td>\n",
              "      <td>Mailed check</td>\n",
              "      <td>19.70</td>\n",
              "      <td></td>\n",
              "      <td>No</td>\n",
              "    </tr>\n",
              "    <tr>\n",
              "      <th>6670</th>\n",
              "      <td>Female</td>\n",
              "      <td>0</td>\n",
              "      <td>Yes</td>\n",
              "      <td>Yes</td>\n",
              "      <td>0</td>\n",
              "      <td>Yes</td>\n",
              "      <td>Yes</td>\n",
              "      <td>DSL</td>\n",
              "      <td>No</td>\n",
              "      <td>Yes</td>\n",
              "      <td>Yes</td>\n",
              "      <td>Yes</td>\n",
              "      <td>Yes</td>\n",
              "      <td>No</td>\n",
              "      <td>Two year</td>\n",
              "      <td>No</td>\n",
              "      <td>Mailed check</td>\n",
              "      <td>73.35</td>\n",
              "      <td></td>\n",
              "      <td>No</td>\n",
              "    </tr>\n",
              "    <tr>\n",
              "      <th>6754</th>\n",
              "      <td>Male</td>\n",
              "      <td>0</td>\n",
              "      <td>No</td>\n",
              "      <td>Yes</td>\n",
              "      <td>0</td>\n",
              "      <td>Yes</td>\n",
              "      <td>Yes</td>\n",
              "      <td>DSL</td>\n",
              "      <td>Yes</td>\n",
              "      <td>Yes</td>\n",
              "      <td>No</td>\n",
              "      <td>Yes</td>\n",
              "      <td>No</td>\n",
              "      <td>No</td>\n",
              "      <td>Two year</td>\n",
              "      <td>Yes</td>\n",
              "      <td>Bank transfer (automatic)</td>\n",
              "      <td>61.90</td>\n",
              "      <td></td>\n",
              "      <td>No</td>\n",
              "    </tr>\n",
              "  </tbody>\n",
              "</table>\n",
              "</div>"
            ],
            "text/plain": [
              "      gender  SeniorCitizen Partner  ... MonthlyCharges  TotalCharges Churn\n",
              "488   Female              0     Yes  ...          52.55                  No\n",
              "753     Male              0      No  ...          20.25                  No\n",
              "936   Female              0     Yes  ...          80.85                  No\n",
              "1082    Male              0     Yes  ...          25.75                  No\n",
              "1340  Female              0     Yes  ...          56.05                  No\n",
              "3331    Male              0     Yes  ...          19.85                  No\n",
              "3826    Male              0     Yes  ...          25.35                  No\n",
              "4380  Female              0     Yes  ...          20.00                  No\n",
              "5218    Male              0     Yes  ...          19.70                  No\n",
              "6670  Female              0     Yes  ...          73.35                  No\n",
              "6754    Male              0      No  ...          61.90                  No\n",
              "\n",
              "[11 rows x 20 columns]"
            ]
          },
          "metadata": {
            "tags": []
          },
          "execution_count": 9
        }
      ]
    },
    {
      "cell_type": "markdown",
      "metadata": {
        "id": "vUzh6hK2KTxs"
      },
      "source": [
        "**As these are blank values, I've dropped them.**"
      ]
    },
    {
      "cell_type": "code",
      "metadata": {
        "id": "znBleO8GKEDy"
      },
      "source": [
        "df1= df[df.TotalCharges != ' ']\r\n",
        "df1.TotalCharges= pd.to_numeric(df1.TotalCharges)\r\n"
      ],
      "execution_count": 10,
      "outputs": []
    },
    {
      "cell_type": "code",
      "metadata": {
        "colab": {
          "base_uri": "https://localhost:8080/"
        },
        "id": "83tfnQc4PVtf",
        "outputId": "057946e5-ad53-448d-b17d-e5a0f81aa928"
      },
      "source": [
        "df1.dtypes"
      ],
      "execution_count": 11,
      "outputs": [
        {
          "output_type": "execute_result",
          "data": {
            "text/plain": [
              "gender               object\n",
              "SeniorCitizen         int64\n",
              "Partner              object\n",
              "Dependents           object\n",
              "tenure                int64\n",
              "PhoneService         object\n",
              "MultipleLines        object\n",
              "InternetService      object\n",
              "OnlineSecurity       object\n",
              "OnlineBackup         object\n",
              "DeviceProtection     object\n",
              "TechSupport          object\n",
              "StreamingTV          object\n",
              "StreamingMovies      object\n",
              "Contract             object\n",
              "PaperlessBilling     object\n",
              "PaymentMethod        object\n",
              "MonthlyCharges      float64\n",
              "TotalCharges        float64\n",
              "Churn                object\n",
              "dtype: object"
            ]
          },
          "metadata": {
            "tags": []
          },
          "execution_count": 11
        }
      ]
    },
    {
      "cell_type": "code",
      "metadata": {
        "colab": {
          "base_uri": "https://localhost:8080/"
        },
        "id": "h81ebJsVKkL1",
        "outputId": "360348c8-2e0c-4520-f9dc-69cd05c77dfd"
      },
      "source": [
        "df1.shape"
      ],
      "execution_count": 12,
      "outputs": [
        {
          "output_type": "execute_result",
          "data": {
            "text/plain": [
              "(7032, 20)"
            ]
          },
          "metadata": {
            "tags": []
          },
          "execution_count": 12
        }
      ]
    },
    {
      "cell_type": "code",
      "metadata": {
        "id": "_ayjaq_eLt_v"
      },
      "source": [
        "# Custom function to print unique categorical col values.\r\n",
        "def cat_val(data):\r\n",
        "  for col in data:\r\n",
        "    if data[col].dtypes=='object':\r\n",
        "      print(f'{col} : {data[col].unique()}')"
      ],
      "execution_count": 13,
      "outputs": []
    },
    {
      "cell_type": "code",
      "metadata": {
        "colab": {
          "base_uri": "https://localhost:8080/"
        },
        "id": "yriNN1YiL6Gi",
        "outputId": "8b9e9d6d-3b68-485b-e840-36694d17e62c"
      },
      "source": [
        "cat_val(df1)"
      ],
      "execution_count": 14,
      "outputs": [
        {
          "output_type": "stream",
          "text": [
            "gender : ['Female' 'Male']\n",
            "Partner : ['Yes' 'No']\n",
            "Dependents : ['No' 'Yes']\n",
            "PhoneService : ['No' 'Yes']\n",
            "MultipleLines : ['No phone service' 'No' 'Yes']\n",
            "InternetService : ['DSL' 'Fiber optic' 'No']\n",
            "OnlineSecurity : ['No' 'Yes' 'No internet service']\n",
            "OnlineBackup : ['Yes' 'No' 'No internet service']\n",
            "DeviceProtection : ['No' 'Yes' 'No internet service']\n",
            "TechSupport : ['No' 'Yes' 'No internet service']\n",
            "StreamingTV : ['No' 'Yes' 'No internet service']\n",
            "StreamingMovies : ['No' 'Yes' 'No internet service']\n",
            "Contract : ['Month-to-month' 'One year' 'Two year']\n",
            "PaperlessBilling : ['Yes' 'No']\n",
            "PaymentMethod : ['Electronic check' 'Mailed check' 'Bank transfer (automatic)'\n",
            " 'Credit card (automatic)']\n",
            "Churn : ['No' 'Yes']\n"
          ],
          "name": "stdout"
        }
      ]
    },
    {
      "cell_type": "markdown",
      "metadata": {
        "id": "lMJ6bDfnMawh"
      },
      "source": [
        "Convert gender col values to 1 and 0"
      ]
    },
    {
      "cell_type": "code",
      "metadata": {
        "id": "DM8jvyTjMBze"
      },
      "source": [
        "df1['gender'].replace({'Female':1,'Male':0}, inplace= True)"
      ],
      "execution_count": 15,
      "outputs": []
    },
    {
      "cell_type": "code",
      "metadata": {
        "colab": {
          "base_uri": "https://localhost:8080/"
        },
        "id": "nn_00zBlM3vV",
        "outputId": "c91bc86f-e04c-4ccc-c252-8cde79cdf1ce"
      },
      "source": [
        "cat_val(df1)"
      ],
      "execution_count": 16,
      "outputs": [
        {
          "output_type": "stream",
          "text": [
            "Partner : ['Yes' 'No']\n",
            "Dependents : ['No' 'Yes']\n",
            "PhoneService : ['No' 'Yes']\n",
            "MultipleLines : ['No phone service' 'No' 'Yes']\n",
            "InternetService : ['DSL' 'Fiber optic' 'No']\n",
            "OnlineSecurity : ['No' 'Yes' 'No internet service']\n",
            "OnlineBackup : ['Yes' 'No' 'No internet service']\n",
            "DeviceProtection : ['No' 'Yes' 'No internet service']\n",
            "TechSupport : ['No' 'Yes' 'No internet service']\n",
            "StreamingTV : ['No' 'Yes' 'No internet service']\n",
            "StreamingMovies : ['No' 'Yes' 'No internet service']\n",
            "Contract : ['Month-to-month' 'One year' 'Two year']\n",
            "PaperlessBilling : ['Yes' 'No']\n",
            "PaymentMethod : ['Electronic check' 'Mailed check' 'Bank transfer (automatic)'\n",
            " 'Credit card (automatic)']\n",
            "Churn : ['No' 'Yes']\n"
          ],
          "name": "stdout"
        }
      ]
    },
    {
      "cell_type": "markdown",
      "metadata": {
        "id": "IOHO7v9GNJ8g"
      },
      "source": [
        "\r\n",
        "**Some of the columns have no internet service or no phone service, that can be replaced with a simple No**"
      ]
    },
    {
      "cell_type": "code",
      "metadata": {
        "id": "wDHYmz24NOYg"
      },
      "source": [
        "df1.replace({'No phone service': 'No'}, inplace= True)\r\n",
        "df1.replace({'No internet service': 'No'}, inplace= True)"
      ],
      "execution_count": 17,
      "outputs": []
    },
    {
      "cell_type": "code",
      "metadata": {
        "colab": {
          "base_uri": "https://localhost:8080/"
        },
        "id": "o8-EmqtHNdi_",
        "outputId": "cd5e42ed-9c29-48cb-a7b1-63a366c98742"
      },
      "source": [
        "cat_val(df1)"
      ],
      "execution_count": 18,
      "outputs": [
        {
          "output_type": "stream",
          "text": [
            "Partner : ['Yes' 'No']\n",
            "Dependents : ['No' 'Yes']\n",
            "PhoneService : ['No' 'Yes']\n",
            "MultipleLines : ['No' 'Yes']\n",
            "InternetService : ['DSL' 'Fiber optic' 'No']\n",
            "OnlineSecurity : ['No' 'Yes']\n",
            "OnlineBackup : ['Yes' 'No']\n",
            "DeviceProtection : ['No' 'Yes']\n",
            "TechSupport : ['No' 'Yes']\n",
            "StreamingTV : ['No' 'Yes']\n",
            "StreamingMovies : ['No' 'Yes']\n",
            "Contract : ['Month-to-month' 'One year' 'Two year']\n",
            "PaperlessBilling : ['Yes' 'No']\n",
            "PaymentMethod : ['Electronic check' 'Mailed check' 'Bank transfer (automatic)'\n",
            " 'Credit card (automatic)']\n",
            "Churn : ['No' 'Yes']\n"
          ],
          "name": "stdout"
        }
      ]
    },
    {
      "cell_type": "markdown",
      "metadata": {
        "id": "FLhjmvb7N1HD"
      },
      "source": [
        "**Categorical columns**"
      ]
    },
    {
      "cell_type": "code",
      "metadata": {
        "colab": {
          "base_uri": "https://localhost:8080/"
        },
        "id": "2bkZi4orQurC",
        "outputId": "8d8c8a98-d6b7-4e97-aba6-ecffe03bda2a"
      },
      "source": [
        "df1.shape[1]"
      ],
      "execution_count": 19,
      "outputs": [
        {
          "output_type": "execute_result",
          "data": {
            "text/plain": [
              "20"
            ]
          },
          "metadata": {
            "tags": []
          },
          "execution_count": 19
        }
      ]
    },
    {
      "cell_type": "code",
      "metadata": {
        "colab": {
          "base_uri": "https://localhost:8080/"
        },
        "id": "MW6zJqrYNyR3",
        "outputId": "803c5b29-884c-42b0-fcf6-34287725a681"
      },
      "source": [
        "cols= ['InternetService','Contract','PaymentMethod']\r\n",
        "df2= pd.get_dummies(data= df1, columns= cols)\r\n",
        "df2.shape[1]"
      ],
      "execution_count": 20,
      "outputs": [
        {
          "output_type": "execute_result",
          "data": {
            "text/plain": [
              "27"
            ]
          },
          "metadata": {
            "tags": []
          },
          "execution_count": 20
        }
      ]
    },
    {
      "cell_type": "code",
      "metadata": {
        "colab": {
          "base_uri": "https://localhost:8080/"
        },
        "id": "GK2GYrHwRMWC",
        "outputId": "72b7ddd9-d5a2-4d71-c2c5-ae873b65c794"
      },
      "source": [
        "df2.columns"
      ],
      "execution_count": 21,
      "outputs": [
        {
          "output_type": "execute_result",
          "data": {
            "text/plain": [
              "Index(['gender', 'SeniorCitizen', 'Partner', 'Dependents', 'tenure',\n",
              "       'PhoneService', 'MultipleLines', 'OnlineSecurity', 'OnlineBackup',\n",
              "       'DeviceProtection', 'TechSupport', 'StreamingTV', 'StreamingMovies',\n",
              "       'PaperlessBilling', 'MonthlyCharges', 'TotalCharges', 'Churn',\n",
              "       'InternetService_DSL', 'InternetService_Fiber optic',\n",
              "       'InternetService_No', 'Contract_Month-to-month', 'Contract_One year',\n",
              "       'Contract_Two year', 'PaymentMethod_Bank transfer (automatic)',\n",
              "       'PaymentMethod_Credit card (automatic)',\n",
              "       'PaymentMethod_Electronic check', 'PaymentMethod_Mailed check'],\n",
              "      dtype='object')"
            ]
          },
          "metadata": {
            "tags": []
          },
          "execution_count": 21
        }
      ]
    },
    {
      "cell_type": "code",
      "metadata": {
        "colab": {
          "base_uri": "https://localhost:8080/",
          "height": 134
        },
        "id": "u2uBo8iPRjR-",
        "outputId": "cfbd1700-3bc8-4caf-9e69-af477aa64349"
      },
      "source": [
        "df2.sample(1)"
      ],
      "execution_count": 22,
      "outputs": [
        {
          "output_type": "execute_result",
          "data": {
            "text/html": [
              "<div>\n",
              "<style scoped>\n",
              "    .dataframe tbody tr th:only-of-type {\n",
              "        vertical-align: middle;\n",
              "    }\n",
              "\n",
              "    .dataframe tbody tr th {\n",
              "        vertical-align: top;\n",
              "    }\n",
              "\n",
              "    .dataframe thead th {\n",
              "        text-align: right;\n",
              "    }\n",
              "</style>\n",
              "<table border=\"1\" class=\"dataframe\">\n",
              "  <thead>\n",
              "    <tr style=\"text-align: right;\">\n",
              "      <th></th>\n",
              "      <th>gender</th>\n",
              "      <th>SeniorCitizen</th>\n",
              "      <th>Partner</th>\n",
              "      <th>Dependents</th>\n",
              "      <th>tenure</th>\n",
              "      <th>PhoneService</th>\n",
              "      <th>MultipleLines</th>\n",
              "      <th>OnlineSecurity</th>\n",
              "      <th>OnlineBackup</th>\n",
              "      <th>DeviceProtection</th>\n",
              "      <th>TechSupport</th>\n",
              "      <th>StreamingTV</th>\n",
              "      <th>StreamingMovies</th>\n",
              "      <th>PaperlessBilling</th>\n",
              "      <th>MonthlyCharges</th>\n",
              "      <th>TotalCharges</th>\n",
              "      <th>Churn</th>\n",
              "      <th>InternetService_DSL</th>\n",
              "      <th>InternetService_Fiber optic</th>\n",
              "      <th>InternetService_No</th>\n",
              "      <th>Contract_Month-to-month</th>\n",
              "      <th>Contract_One year</th>\n",
              "      <th>Contract_Two year</th>\n",
              "      <th>PaymentMethod_Bank transfer (automatic)</th>\n",
              "      <th>PaymentMethod_Credit card (automatic)</th>\n",
              "      <th>PaymentMethod_Electronic check</th>\n",
              "      <th>PaymentMethod_Mailed check</th>\n",
              "    </tr>\n",
              "  </thead>\n",
              "  <tbody>\n",
              "    <tr>\n",
              "      <th>6932</th>\n",
              "      <td>0</td>\n",
              "      <td>0</td>\n",
              "      <td>No</td>\n",
              "      <td>No</td>\n",
              "      <td>10</td>\n",
              "      <td>Yes</td>\n",
              "      <td>No</td>\n",
              "      <td>No</td>\n",
              "      <td>No</td>\n",
              "      <td>No</td>\n",
              "      <td>No</td>\n",
              "      <td>No</td>\n",
              "      <td>Yes</td>\n",
              "      <td>Yes</td>\n",
              "      <td>56.75</td>\n",
              "      <td>503.25</td>\n",
              "      <td>No</td>\n",
              "      <td>1</td>\n",
              "      <td>0</td>\n",
              "      <td>0</td>\n",
              "      <td>1</td>\n",
              "      <td>0</td>\n",
              "      <td>0</td>\n",
              "      <td>1</td>\n",
              "      <td>0</td>\n",
              "      <td>0</td>\n",
              "      <td>0</td>\n",
              "    </tr>\n",
              "  </tbody>\n",
              "</table>\n",
              "</div>"
            ],
            "text/plain": [
              "      gender  ...  PaymentMethod_Mailed check\n",
              "6932       0  ...                           0\n",
              "\n",
              "[1 rows x 27 columns]"
            ]
          },
          "metadata": {
            "tags": []
          },
          "execution_count": 22
        }
      ]
    },
    {
      "cell_type": "markdown",
      "metadata": {
        "id": "MeN2oB-mR2ei"
      },
      "source": [
        "**Converted Yes and No values to 1 and 0 respectively**"
      ]
    },
    {
      "cell_type": "code",
      "metadata": {
        "id": "HXebwZ_xRzWk"
      },
      "source": [
        "yes_no_columns= ['Partner','Dependents','PhoneService','MultipleLines','OnlineSecurity','OnlineBackup',\r\n",
        "                  'DeviceProtection','TechSupport','StreamingTV','StreamingMovies','PaperlessBilling','Churn']\r\n",
        "for col in yes_no_columns:\r\n",
        "  df2[col].replace({'Yes':1, 'No':0}, inplace= True)"
      ],
      "execution_count": 23,
      "outputs": []
    },
    {
      "cell_type": "code",
      "metadata": {
        "colab": {
          "base_uri": "https://localhost:8080/",
          "height": 134
        },
        "id": "kKDLy-SVS2AV",
        "outputId": "e8f43136-4c13-4570-bd79-5ee17753fa66"
      },
      "source": [
        "df2.sample(1)"
      ],
      "execution_count": 24,
      "outputs": [
        {
          "output_type": "execute_result",
          "data": {
            "text/html": [
              "<div>\n",
              "<style scoped>\n",
              "    .dataframe tbody tr th:only-of-type {\n",
              "        vertical-align: middle;\n",
              "    }\n",
              "\n",
              "    .dataframe tbody tr th {\n",
              "        vertical-align: top;\n",
              "    }\n",
              "\n",
              "    .dataframe thead th {\n",
              "        text-align: right;\n",
              "    }\n",
              "</style>\n",
              "<table border=\"1\" class=\"dataframe\">\n",
              "  <thead>\n",
              "    <tr style=\"text-align: right;\">\n",
              "      <th></th>\n",
              "      <th>gender</th>\n",
              "      <th>SeniorCitizen</th>\n",
              "      <th>Partner</th>\n",
              "      <th>Dependents</th>\n",
              "      <th>tenure</th>\n",
              "      <th>PhoneService</th>\n",
              "      <th>MultipleLines</th>\n",
              "      <th>OnlineSecurity</th>\n",
              "      <th>OnlineBackup</th>\n",
              "      <th>DeviceProtection</th>\n",
              "      <th>TechSupport</th>\n",
              "      <th>StreamingTV</th>\n",
              "      <th>StreamingMovies</th>\n",
              "      <th>PaperlessBilling</th>\n",
              "      <th>MonthlyCharges</th>\n",
              "      <th>TotalCharges</th>\n",
              "      <th>Churn</th>\n",
              "      <th>InternetService_DSL</th>\n",
              "      <th>InternetService_Fiber optic</th>\n",
              "      <th>InternetService_No</th>\n",
              "      <th>Contract_Month-to-month</th>\n",
              "      <th>Contract_One year</th>\n",
              "      <th>Contract_Two year</th>\n",
              "      <th>PaymentMethod_Bank transfer (automatic)</th>\n",
              "      <th>PaymentMethod_Credit card (automatic)</th>\n",
              "      <th>PaymentMethod_Electronic check</th>\n",
              "      <th>PaymentMethod_Mailed check</th>\n",
              "    </tr>\n",
              "  </thead>\n",
              "  <tbody>\n",
              "    <tr>\n",
              "      <th>2677</th>\n",
              "      <td>1</td>\n",
              "      <td>0</td>\n",
              "      <td>0</td>\n",
              "      <td>0</td>\n",
              "      <td>4</td>\n",
              "      <td>1</td>\n",
              "      <td>0</td>\n",
              "      <td>0</td>\n",
              "      <td>0</td>\n",
              "      <td>0</td>\n",
              "      <td>0</td>\n",
              "      <td>0</td>\n",
              "      <td>0</td>\n",
              "      <td>1</td>\n",
              "      <td>70.05</td>\n",
              "      <td>266.9</td>\n",
              "      <td>1</td>\n",
              "      <td>0</td>\n",
              "      <td>1</td>\n",
              "      <td>0</td>\n",
              "      <td>1</td>\n",
              "      <td>0</td>\n",
              "      <td>0</td>\n",
              "      <td>0</td>\n",
              "      <td>1</td>\n",
              "      <td>0</td>\n",
              "      <td>0</td>\n",
              "    </tr>\n",
              "  </tbody>\n",
              "</table>\n",
              "</div>"
            ],
            "text/plain": [
              "      gender  ...  PaymentMethod_Mailed check\n",
              "2677       1  ...                           0\n",
              "\n",
              "[1 rows x 27 columns]"
            ]
          },
          "metadata": {
            "tags": []
          },
          "execution_count": 24
        }
      ]
    },
    {
      "cell_type": "markdown",
      "metadata": {
        "id": "2b_NVYLuTpSV"
      },
      "source": [
        "**Let's scale the values**"
      ]
    },
    {
      "cell_type": "code",
      "metadata": {
        "id": "4M7mjn-0S6RZ"
      },
      "source": [
        "cols_to_scale = ['tenure','MonthlyCharges','TotalCharges']\r\n",
        "\r\n",
        "from sklearn.preprocessing import MinMaxScaler\r\n",
        "sc= MinMaxScaler()\r\n",
        "df2[cols_to_scale]= sc.fit_transform(df2[cols_to_scale])"
      ],
      "execution_count": 25,
      "outputs": []
    },
    {
      "cell_type": "code",
      "metadata": {
        "colab": {
          "base_uri": "https://localhost:8080/",
          "height": 134
        },
        "id": "xFwpDGu9UKYX",
        "outputId": "bfb2b7e0-da69-44fa-df03-bc837f3098e1"
      },
      "source": [
        "df2.sample(1)"
      ],
      "execution_count": 26,
      "outputs": [
        {
          "output_type": "execute_result",
          "data": {
            "text/html": [
              "<div>\n",
              "<style scoped>\n",
              "    .dataframe tbody tr th:only-of-type {\n",
              "        vertical-align: middle;\n",
              "    }\n",
              "\n",
              "    .dataframe tbody tr th {\n",
              "        vertical-align: top;\n",
              "    }\n",
              "\n",
              "    .dataframe thead th {\n",
              "        text-align: right;\n",
              "    }\n",
              "</style>\n",
              "<table border=\"1\" class=\"dataframe\">\n",
              "  <thead>\n",
              "    <tr style=\"text-align: right;\">\n",
              "      <th></th>\n",
              "      <th>gender</th>\n",
              "      <th>SeniorCitizen</th>\n",
              "      <th>Partner</th>\n",
              "      <th>Dependents</th>\n",
              "      <th>tenure</th>\n",
              "      <th>PhoneService</th>\n",
              "      <th>MultipleLines</th>\n",
              "      <th>OnlineSecurity</th>\n",
              "      <th>OnlineBackup</th>\n",
              "      <th>DeviceProtection</th>\n",
              "      <th>TechSupport</th>\n",
              "      <th>StreamingTV</th>\n",
              "      <th>StreamingMovies</th>\n",
              "      <th>PaperlessBilling</th>\n",
              "      <th>MonthlyCharges</th>\n",
              "      <th>TotalCharges</th>\n",
              "      <th>Churn</th>\n",
              "      <th>InternetService_DSL</th>\n",
              "      <th>InternetService_Fiber optic</th>\n",
              "      <th>InternetService_No</th>\n",
              "      <th>Contract_Month-to-month</th>\n",
              "      <th>Contract_One year</th>\n",
              "      <th>Contract_Two year</th>\n",
              "      <th>PaymentMethod_Bank transfer (automatic)</th>\n",
              "      <th>PaymentMethod_Credit card (automatic)</th>\n",
              "      <th>PaymentMethod_Electronic check</th>\n",
              "      <th>PaymentMethod_Mailed check</th>\n",
              "    </tr>\n",
              "  </thead>\n",
              "  <tbody>\n",
              "    <tr>\n",
              "      <th>5527</th>\n",
              "      <td>1</td>\n",
              "      <td>1</td>\n",
              "      <td>1</td>\n",
              "      <td>0</td>\n",
              "      <td>1.0</td>\n",
              "      <td>1</td>\n",
              "      <td>1</td>\n",
              "      <td>0</td>\n",
              "      <td>1</td>\n",
              "      <td>1</td>\n",
              "      <td>0</td>\n",
              "      <td>1</td>\n",
              "      <td>1</td>\n",
              "      <td>0</td>\n",
              "      <td>0.863184</td>\n",
              "      <td>0.872288</td>\n",
              "      <td>0</td>\n",
              "      <td>0</td>\n",
              "      <td>1</td>\n",
              "      <td>0</td>\n",
              "      <td>0</td>\n",
              "      <td>1</td>\n",
              "      <td>0</td>\n",
              "      <td>0</td>\n",
              "      <td>1</td>\n",
              "      <td>0</td>\n",
              "      <td>0</td>\n",
              "    </tr>\n",
              "  </tbody>\n",
              "</table>\n",
              "</div>"
            ],
            "text/plain": [
              "      gender  ...  PaymentMethod_Mailed check\n",
              "5527       1  ...                           0\n",
              "\n",
              "[1 rows x 27 columns]"
            ]
          },
          "metadata": {
            "tags": []
          },
          "execution_count": 26
        }
      ]
    },
    {
      "cell_type": "markdown",
      "metadata": {
        "id": "p-rCyHdwU0nw"
      },
      "source": [
        "**Train test split**"
      ]
    },
    {
      "cell_type": "code",
      "metadata": {
        "id": "FvS-Kt6_UMpT"
      },
      "source": [
        "X = df2.drop('Churn',axis='columns')\r\n",
        "y = df2['Churn']"
      ],
      "execution_count": 27,
      "outputs": []
    },
    {
      "cell_type": "code",
      "metadata": {
        "id": "s2k-jrViU9MC"
      },
      "source": [
        "from sklearn.model_selection import train_test_split\r\n",
        "X_train, X_test, y_train, y_test = train_test_split(X,y,test_size=0.2,random_state=5)"
      ],
      "execution_count": 28,
      "outputs": []
    },
    {
      "cell_type": "code",
      "metadata": {
        "colab": {
          "base_uri": "https://localhost:8080/"
        },
        "id": "rmJyTysAVxXo",
        "outputId": "bcb9d143-8a02-4109-fa71-84c38af65174"
      },
      "source": [
        "X_train.shape"
      ],
      "execution_count": 29,
      "outputs": [
        {
          "output_type": "execute_result",
          "data": {
            "text/plain": [
              "(5625, 26)"
            ]
          },
          "metadata": {
            "tags": []
          },
          "execution_count": 29
        }
      ]
    },
    {
      "cell_type": "code",
      "metadata": {
        "colab": {
          "base_uri": "https://localhost:8080/"
        },
        "id": "rgxbPwBdVyXQ",
        "outputId": "0c0ab173-8c4c-4fa5-e7b6-382f2f3cc0cf"
      },
      "source": [
        "X_test.shape"
      ],
      "execution_count": 30,
      "outputs": [
        {
          "output_type": "execute_result",
          "data": {
            "text/plain": [
              "(1407, 26)"
            ]
          },
          "metadata": {
            "tags": []
          },
          "execution_count": 30
        }
      ]
    },
    {
      "cell_type": "code",
      "metadata": {
        "colab": {
          "base_uri": "https://localhost:8080/"
        },
        "id": "Cihx253nYsP1",
        "outputId": "bcd888a8-7153-4d21-92f0-cbbccaf91172"
      },
      "source": [
        "y_train.shape"
      ],
      "execution_count": 31,
      "outputs": [
        {
          "output_type": "execute_result",
          "data": {
            "text/plain": [
              "(5625,)"
            ]
          },
          "metadata": {
            "tags": []
          },
          "execution_count": 31
        }
      ]
    },
    {
      "cell_type": "markdown",
      "metadata": {
        "id": "mpmXRETiWZ6s"
      },
      "source": [
        "**Build a model (ANN) in Keras**"
      ]
    },
    {
      "cell_type": "code",
      "metadata": {
        "id": "6BpClDuWV0sA"
      },
      "source": [
        "from keras.layers import Dense\r\n",
        "from keras.models import Sequential"
      ],
      "execution_count": 32,
      "outputs": []
    },
    {
      "cell_type": "code",
      "metadata": {
        "id": "GZX0T7FSWpm4"
      },
      "source": [
        "model= Sequential()"
      ],
      "execution_count": 33,
      "outputs": []
    },
    {
      "cell_type": "code",
      "metadata": {
        "id": "2h_nFE4tWyD5"
      },
      "source": [
        "model.add(Dense(units= 10, kernel_initializer= 'he_uniform', activation='relu', input_shape=(26,)))\r\n",
        "model.add(Dense(units= 8, kernel_initializer= 'he_uniform', activation='relu'))\r\n",
        "model.add(Dense(units= 1, kernel_initializer= 'glorot_uniform', activation='sigmoid'))"
      ],
      "execution_count": 34,
      "outputs": []
    },
    {
      "cell_type": "code",
      "metadata": {
        "colab": {
          "base_uri": "https://localhost:8080/"
        },
        "id": "a1jasJaAYHle",
        "outputId": "98d2d5d9-b13f-4193-ac94-64083fc863c4"
      },
      "source": [
        "model.summary()"
      ],
      "execution_count": 35,
      "outputs": [
        {
          "output_type": "stream",
          "text": [
            "Model: \"sequential\"\n",
            "_________________________________________________________________\n",
            "Layer (type)                 Output Shape              Param #   \n",
            "=================================================================\n",
            "dense (Dense)                (None, 10)                270       \n",
            "_________________________________________________________________\n",
            "dense_1 (Dense)              (None, 8)                 88        \n",
            "_________________________________________________________________\n",
            "dense_2 (Dense)              (None, 1)                 9         \n",
            "=================================================================\n",
            "Total params: 367\n",
            "Trainable params: 367\n",
            "Non-trainable params: 0\n",
            "_________________________________________________________________\n"
          ],
          "name": "stdout"
        }
      ]
    },
    {
      "cell_type": "code",
      "metadata": {
        "id": "sauuLEbGYQwz"
      },
      "source": [
        "model.compile(loss= 'binary_crossentropy',\r\n",
        "             metrics= ['accuracy'],\r\n",
        "             optimizer= 'adam'\r\n",
        "             )"
      ],
      "execution_count": 36,
      "outputs": []
    },
    {
      "cell_type": "code",
      "metadata": {
        "colab": {
          "base_uri": "https://localhost:8080/"
        },
        "id": "WxUVmvsVYZTO",
        "outputId": "501a8e24-2fde-41e5-d8d6-ddaccb28742b"
      },
      "source": [
        "# Fitting the ANN to the Training set\r\n",
        "model.fit(X_train, y_train, validation_split=0.35, batch_size = 10, epochs = 100)"
      ],
      "execution_count": 39,
      "outputs": [
        {
          "output_type": "stream",
          "text": [
            "Epoch 1/100\n",
            "366/366 [==============================] - 2s 4ms/step - loss: 0.3909 - accuracy: 0.8203 - val_loss: 0.4247 - val_accuracy: 0.8014\n",
            "Epoch 2/100\n",
            "366/366 [==============================] - 1s 4ms/step - loss: 0.3893 - accuracy: 0.8225 - val_loss: 0.4248 - val_accuracy: 0.8045\n",
            "Epoch 3/100\n",
            "366/366 [==============================] - 2s 4ms/step - loss: 0.3909 - accuracy: 0.8211 - val_loss: 0.4256 - val_accuracy: 0.8029\n",
            "Epoch 4/100\n",
            "366/366 [==============================] - 1s 4ms/step - loss: 0.3903 - accuracy: 0.8197 - val_loss: 0.4258 - val_accuracy: 0.8065\n",
            "Epoch 5/100\n",
            "366/366 [==============================] - 2s 4ms/step - loss: 0.3894 - accuracy: 0.8200 - val_loss: 0.4260 - val_accuracy: 0.8040\n",
            "Epoch 6/100\n",
            "366/366 [==============================] - 2s 4ms/step - loss: 0.3892 - accuracy: 0.8197 - val_loss: 0.4272 - val_accuracy: 0.8045\n",
            "Epoch 7/100\n",
            "366/366 [==============================] - 2s 4ms/step - loss: 0.3888 - accuracy: 0.8184 - val_loss: 0.4264 - val_accuracy: 0.8029\n",
            "Epoch 8/100\n",
            "366/366 [==============================] - 1s 4ms/step - loss: 0.3892 - accuracy: 0.8167 - val_loss: 0.4279 - val_accuracy: 0.8040\n",
            "Epoch 9/100\n",
            "366/366 [==============================] - 1s 4ms/step - loss: 0.3887 - accuracy: 0.8178 - val_loss: 0.4271 - val_accuracy: 0.8045\n",
            "Epoch 10/100\n",
            "366/366 [==============================] - 1s 4ms/step - loss: 0.3874 - accuracy: 0.8197 - val_loss: 0.4293 - val_accuracy: 0.8019\n",
            "Epoch 11/100\n",
            "366/366 [==============================] - 1s 4ms/step - loss: 0.3873 - accuracy: 0.8230 - val_loss: 0.4283 - val_accuracy: 0.8004\n",
            "Epoch 12/100\n",
            "366/366 [==============================] - 1s 4ms/step - loss: 0.3874 - accuracy: 0.8197 - val_loss: 0.4275 - val_accuracy: 0.8055\n",
            "Epoch 13/100\n",
            "366/366 [==============================] - 2s 4ms/step - loss: 0.3866 - accuracy: 0.8200 - val_loss: 0.4286 - val_accuracy: 0.8040\n",
            "Epoch 14/100\n",
            "366/366 [==============================] - 2s 4ms/step - loss: 0.3858 - accuracy: 0.8211 - val_loss: 0.4324 - val_accuracy: 0.7974\n",
            "Epoch 15/100\n",
            "366/366 [==============================] - 1s 4ms/step - loss: 0.3869 - accuracy: 0.8197 - val_loss: 0.4286 - val_accuracy: 0.8040\n",
            "Epoch 16/100\n",
            "366/366 [==============================] - 2s 4ms/step - loss: 0.3859 - accuracy: 0.8228 - val_loss: 0.4309 - val_accuracy: 0.8045\n",
            "Epoch 17/100\n",
            "366/366 [==============================] - 2s 4ms/step - loss: 0.3858 - accuracy: 0.8211 - val_loss: 0.4338 - val_accuracy: 0.8055\n",
            "Epoch 18/100\n",
            "366/366 [==============================] - 2s 4ms/step - loss: 0.3853 - accuracy: 0.8214 - val_loss: 0.4311 - val_accuracy: 0.8035\n",
            "Epoch 19/100\n",
            "366/366 [==============================] - 2s 4ms/step - loss: 0.3844 - accuracy: 0.8222 - val_loss: 0.4322 - val_accuracy: 0.7989\n",
            "Epoch 20/100\n",
            "366/366 [==============================] - 2s 4ms/step - loss: 0.3833 - accuracy: 0.8241 - val_loss: 0.4334 - val_accuracy: 0.8014\n",
            "Epoch 21/100\n",
            "366/366 [==============================] - 2s 5ms/step - loss: 0.3840 - accuracy: 0.8239 - val_loss: 0.4321 - val_accuracy: 0.8050\n",
            "Epoch 22/100\n",
            "366/366 [==============================] - 2s 4ms/step - loss: 0.3831 - accuracy: 0.8236 - val_loss: 0.4325 - val_accuracy: 0.8004\n",
            "Epoch 23/100\n",
            "366/366 [==============================] - 2s 4ms/step - loss: 0.3828 - accuracy: 0.8214 - val_loss: 0.4327 - val_accuracy: 0.7984\n",
            "Epoch 24/100\n",
            "366/366 [==============================] - 2s 4ms/step - loss: 0.3834 - accuracy: 0.8225 - val_loss: 0.4345 - val_accuracy: 0.8050\n",
            "Epoch 25/100\n",
            "366/366 [==============================] - 2s 4ms/step - loss: 0.3831 - accuracy: 0.8228 - val_loss: 0.4323 - val_accuracy: 0.8055\n",
            "Epoch 26/100\n",
            "366/366 [==============================] - 2s 4ms/step - loss: 0.3826 - accuracy: 0.8217 - val_loss: 0.4328 - val_accuracy: 0.8060\n",
            "Epoch 27/100\n",
            "366/366 [==============================] - 2s 4ms/step - loss: 0.3821 - accuracy: 0.8239 - val_loss: 0.4355 - val_accuracy: 0.8024\n",
            "Epoch 28/100\n",
            "366/366 [==============================] - 2s 4ms/step - loss: 0.3815 - accuracy: 0.8233 - val_loss: 0.4337 - val_accuracy: 0.8050\n",
            "Epoch 29/100\n",
            "366/366 [==============================] - 2s 4ms/step - loss: 0.3807 - accuracy: 0.8255 - val_loss: 0.4342 - val_accuracy: 0.8019\n",
            "Epoch 30/100\n",
            "366/366 [==============================] - 2s 4ms/step - loss: 0.3817 - accuracy: 0.8211 - val_loss: 0.4383 - val_accuracy: 0.7938\n",
            "Epoch 31/100\n",
            "366/366 [==============================] - 1s 4ms/step - loss: 0.3803 - accuracy: 0.8230 - val_loss: 0.4380 - val_accuracy: 0.7984\n",
            "Epoch 32/100\n",
            "366/366 [==============================] - 2s 4ms/step - loss: 0.3802 - accuracy: 0.8249 - val_loss: 0.4353 - val_accuracy: 0.8019\n",
            "Epoch 33/100\n",
            "366/366 [==============================] - 2s 4ms/step - loss: 0.3806 - accuracy: 0.8236 - val_loss: 0.4358 - val_accuracy: 0.7953\n",
            "Epoch 34/100\n",
            "366/366 [==============================] - 2s 4ms/step - loss: 0.3801 - accuracy: 0.8214 - val_loss: 0.4359 - val_accuracy: 0.7994\n",
            "Epoch 35/100\n",
            "366/366 [==============================] - 1s 4ms/step - loss: 0.3810 - accuracy: 0.8239 - val_loss: 0.4361 - val_accuracy: 0.8050\n",
            "Epoch 36/100\n",
            "366/366 [==============================] - 2s 4ms/step - loss: 0.3804 - accuracy: 0.8239 - val_loss: 0.4366 - val_accuracy: 0.8004\n",
            "Epoch 37/100\n",
            "366/366 [==============================] - 1s 4ms/step - loss: 0.3785 - accuracy: 0.8236 - val_loss: 0.4356 - val_accuracy: 0.8024\n",
            "Epoch 38/100\n",
            "366/366 [==============================] - 1s 4ms/step - loss: 0.3812 - accuracy: 0.8211 - val_loss: 0.4367 - val_accuracy: 0.7974\n",
            "Epoch 39/100\n",
            "366/366 [==============================] - 2s 4ms/step - loss: 0.3778 - accuracy: 0.8258 - val_loss: 0.4369 - val_accuracy: 0.8024\n",
            "Epoch 40/100\n",
            "366/366 [==============================] - 1s 4ms/step - loss: 0.3786 - accuracy: 0.8230 - val_loss: 0.4387 - val_accuracy: 0.8029\n",
            "Epoch 41/100\n",
            "366/366 [==============================] - 1s 4ms/step - loss: 0.3784 - accuracy: 0.8271 - val_loss: 0.4379 - val_accuracy: 0.7974\n",
            "Epoch 42/100\n",
            "366/366 [==============================] - 1s 4ms/step - loss: 0.3779 - accuracy: 0.8249 - val_loss: 0.4375 - val_accuracy: 0.7969\n",
            "Epoch 43/100\n",
            "366/366 [==============================] - 1s 4ms/step - loss: 0.3779 - accuracy: 0.8228 - val_loss: 0.4377 - val_accuracy: 0.7974\n",
            "Epoch 44/100\n",
            "366/366 [==============================] - 1s 4ms/step - loss: 0.3772 - accuracy: 0.8274 - val_loss: 0.4380 - val_accuracy: 0.7994\n",
            "Epoch 45/100\n",
            "366/366 [==============================] - 1s 4ms/step - loss: 0.3788 - accuracy: 0.8222 - val_loss: 0.4376 - val_accuracy: 0.8019\n",
            "Epoch 46/100\n",
            "366/366 [==============================] - 2s 4ms/step - loss: 0.3770 - accuracy: 0.8277 - val_loss: 0.4396 - val_accuracy: 0.8035\n",
            "Epoch 47/100\n",
            "366/366 [==============================] - 2s 4ms/step - loss: 0.3775 - accuracy: 0.8244 - val_loss: 0.4396 - val_accuracy: 0.7963\n",
            "Epoch 48/100\n",
            "366/366 [==============================] - 2s 4ms/step - loss: 0.3767 - accuracy: 0.8211 - val_loss: 0.4375 - val_accuracy: 0.7984\n",
            "Epoch 49/100\n",
            "366/366 [==============================] - 2s 4ms/step - loss: 0.3766 - accuracy: 0.8230 - val_loss: 0.4394 - val_accuracy: 0.7984\n",
            "Epoch 50/100\n",
            "366/366 [==============================] - 1s 4ms/step - loss: 0.3764 - accuracy: 0.8271 - val_loss: 0.4396 - val_accuracy: 0.8019\n",
            "Epoch 51/100\n",
            "366/366 [==============================] - 1s 4ms/step - loss: 0.3752 - accuracy: 0.8274 - val_loss: 0.4406 - val_accuracy: 0.7984\n",
            "Epoch 52/100\n",
            "366/366 [==============================] - 2s 4ms/step - loss: 0.3760 - accuracy: 0.8263 - val_loss: 0.4397 - val_accuracy: 0.7989\n",
            "Epoch 53/100\n",
            "366/366 [==============================] - 2s 4ms/step - loss: 0.3754 - accuracy: 0.8260 - val_loss: 0.4425 - val_accuracy: 0.8045\n",
            "Epoch 54/100\n",
            "366/366 [==============================] - 2s 4ms/step - loss: 0.3755 - accuracy: 0.8266 - val_loss: 0.4431 - val_accuracy: 0.7999\n",
            "Epoch 55/100\n",
            "366/366 [==============================] - 2s 4ms/step - loss: 0.3752 - accuracy: 0.8266 - val_loss: 0.4426 - val_accuracy: 0.8009\n",
            "Epoch 56/100\n",
            "366/366 [==============================] - 2s 4ms/step - loss: 0.3751 - accuracy: 0.8282 - val_loss: 0.4418 - val_accuracy: 0.8004\n",
            "Epoch 57/100\n",
            "366/366 [==============================] - 2s 4ms/step - loss: 0.3745 - accuracy: 0.8244 - val_loss: 0.4418 - val_accuracy: 0.7963\n",
            "Epoch 58/100\n",
            "366/366 [==============================] - 2s 4ms/step - loss: 0.3733 - accuracy: 0.8255 - val_loss: 0.4463 - val_accuracy: 0.7928\n",
            "Epoch 59/100\n",
            "366/366 [==============================] - 1s 4ms/step - loss: 0.3729 - accuracy: 0.8282 - val_loss: 0.4458 - val_accuracy: 0.8019\n",
            "Epoch 60/100\n",
            "366/366 [==============================] - 2s 4ms/step - loss: 0.3745 - accuracy: 0.8288 - val_loss: 0.4428 - val_accuracy: 0.7953\n",
            "Epoch 61/100\n",
            "366/366 [==============================] - 2s 4ms/step - loss: 0.3739 - accuracy: 0.8233 - val_loss: 0.4431 - val_accuracy: 0.8024\n",
            "Epoch 62/100\n",
            "366/366 [==============================] - 2s 4ms/step - loss: 0.3737 - accuracy: 0.8230 - val_loss: 0.4423 - val_accuracy: 0.8009\n",
            "Epoch 63/100\n",
            "366/366 [==============================] - 2s 4ms/step - loss: 0.3733 - accuracy: 0.8269 - val_loss: 0.4442 - val_accuracy: 0.7948\n",
            "Epoch 64/100\n",
            "366/366 [==============================] - 2s 4ms/step - loss: 0.3745 - accuracy: 0.8255 - val_loss: 0.4444 - val_accuracy: 0.7958\n",
            "Epoch 65/100\n",
            "366/366 [==============================] - 2s 4ms/step - loss: 0.3735 - accuracy: 0.8266 - val_loss: 0.4448 - val_accuracy: 0.7974\n",
            "Epoch 66/100\n",
            "366/366 [==============================] - 2s 4ms/step - loss: 0.3740 - accuracy: 0.8263 - val_loss: 0.4453 - val_accuracy: 0.8029\n",
            "Epoch 67/100\n",
            "366/366 [==============================] - 2s 4ms/step - loss: 0.3724 - accuracy: 0.8233 - val_loss: 0.4444 - val_accuracy: 0.8014\n",
            "Epoch 68/100\n",
            "366/366 [==============================] - 2s 4ms/step - loss: 0.3738 - accuracy: 0.8318 - val_loss: 0.4431 - val_accuracy: 0.8014\n",
            "Epoch 69/100\n",
            "366/366 [==============================] - 2s 4ms/step - loss: 0.3735 - accuracy: 0.8296 - val_loss: 0.4445 - val_accuracy: 0.7999\n",
            "Epoch 70/100\n",
            "366/366 [==============================] - 2s 4ms/step - loss: 0.3744 - accuracy: 0.8255 - val_loss: 0.4438 - val_accuracy: 0.7979\n",
            "Epoch 71/100\n",
            "366/366 [==============================] - 2s 4ms/step - loss: 0.3720 - accuracy: 0.8282 - val_loss: 0.4447 - val_accuracy: 0.8019\n",
            "Epoch 72/100\n",
            "366/366 [==============================] - 1s 4ms/step - loss: 0.3722 - accuracy: 0.8266 - val_loss: 0.4442 - val_accuracy: 0.8045\n",
            "Epoch 73/100\n",
            "366/366 [==============================] - 1s 4ms/step - loss: 0.3719 - accuracy: 0.8255 - val_loss: 0.4442 - val_accuracy: 0.7994\n",
            "Epoch 74/100\n",
            "366/366 [==============================] - 2s 4ms/step - loss: 0.3725 - accuracy: 0.8269 - val_loss: 0.4442 - val_accuracy: 0.8009\n",
            "Epoch 75/100\n",
            "366/366 [==============================] - 2s 4ms/step - loss: 0.3722 - accuracy: 0.8290 - val_loss: 0.4476 - val_accuracy: 0.7953\n",
            "Epoch 76/100\n",
            "366/366 [==============================] - 1s 4ms/step - loss: 0.3720 - accuracy: 0.8260 - val_loss: 0.4462 - val_accuracy: 0.7958\n",
            "Epoch 77/100\n",
            "366/366 [==============================] - 1s 4ms/step - loss: 0.3710 - accuracy: 0.8296 - val_loss: 0.4475 - val_accuracy: 0.7979\n",
            "Epoch 78/100\n",
            "366/366 [==============================] - 1s 4ms/step - loss: 0.3713 - accuracy: 0.8255 - val_loss: 0.4467 - val_accuracy: 0.7994\n",
            "Epoch 79/100\n",
            "366/366 [==============================] - 2s 4ms/step - loss: 0.3701 - accuracy: 0.8282 - val_loss: 0.4475 - val_accuracy: 0.8050\n",
            "Epoch 80/100\n",
            "366/366 [==============================] - 2s 4ms/step - loss: 0.3713 - accuracy: 0.8290 - val_loss: 0.4487 - val_accuracy: 0.7979\n",
            "Epoch 81/100\n",
            "366/366 [==============================] - 2s 4ms/step - loss: 0.3713 - accuracy: 0.8269 - val_loss: 0.4496 - val_accuracy: 0.7989\n",
            "Epoch 82/100\n",
            "366/366 [==============================] - 2s 4ms/step - loss: 0.3703 - accuracy: 0.8255 - val_loss: 0.4472 - val_accuracy: 0.8009\n",
            "Epoch 83/100\n",
            "366/366 [==============================] - 2s 4ms/step - loss: 0.3706 - accuracy: 0.8266 - val_loss: 0.4512 - val_accuracy: 0.7913\n",
            "Epoch 84/100\n",
            "366/366 [==============================] - 1s 4ms/step - loss: 0.3699 - accuracy: 0.8282 - val_loss: 0.4489 - val_accuracy: 0.7953\n",
            "Epoch 85/100\n",
            "366/366 [==============================] - 2s 4ms/step - loss: 0.3691 - accuracy: 0.8280 - val_loss: 0.4486 - val_accuracy: 0.7969\n",
            "Epoch 86/100\n",
            "366/366 [==============================] - 2s 4ms/step - loss: 0.3700 - accuracy: 0.8296 - val_loss: 0.4509 - val_accuracy: 0.8029\n",
            "Epoch 87/100\n",
            "366/366 [==============================] - 2s 4ms/step - loss: 0.3719 - accuracy: 0.8236 - val_loss: 0.4484 - val_accuracy: 0.7999\n",
            "Epoch 88/100\n",
            "366/366 [==============================] - 2s 4ms/step - loss: 0.3697 - accuracy: 0.8269 - val_loss: 0.4487 - val_accuracy: 0.7938\n",
            "Epoch 89/100\n",
            "366/366 [==============================] - 2s 4ms/step - loss: 0.3703 - accuracy: 0.8301 - val_loss: 0.4497 - val_accuracy: 0.8029\n",
            "Epoch 90/100\n",
            "366/366 [==============================] - 2s 4ms/step - loss: 0.3697 - accuracy: 0.8255 - val_loss: 0.4486 - val_accuracy: 0.7999\n",
            "Epoch 91/100\n",
            "366/366 [==============================] - 2s 4ms/step - loss: 0.3693 - accuracy: 0.8252 - val_loss: 0.4514 - val_accuracy: 0.7938\n",
            "Epoch 92/100\n",
            "366/366 [==============================] - 2s 4ms/step - loss: 0.3704 - accuracy: 0.8266 - val_loss: 0.4515 - val_accuracy: 0.7984\n",
            "Epoch 93/100\n",
            "366/366 [==============================] - 2s 4ms/step - loss: 0.3695 - accuracy: 0.8290 - val_loss: 0.4544 - val_accuracy: 0.7918\n",
            "Epoch 94/100\n",
            "366/366 [==============================] - 2s 4ms/step - loss: 0.3694 - accuracy: 0.8274 - val_loss: 0.4519 - val_accuracy: 0.7969\n",
            "Epoch 95/100\n",
            "366/366 [==============================] - 2s 4ms/step - loss: 0.3690 - accuracy: 0.8310 - val_loss: 0.4502 - val_accuracy: 0.8035\n",
            "Epoch 96/100\n",
            "366/366 [==============================] - 2s 4ms/step - loss: 0.3681 - accuracy: 0.8315 - val_loss: 0.4513 - val_accuracy: 0.7938\n",
            "Epoch 97/100\n",
            "366/366 [==============================] - 2s 4ms/step - loss: 0.3692 - accuracy: 0.8271 - val_loss: 0.4501 - val_accuracy: 0.7963\n",
            "Epoch 98/100\n",
            "366/366 [==============================] - 2s 4ms/step - loss: 0.3683 - accuracy: 0.8282 - val_loss: 0.4515 - val_accuracy: 0.8055\n",
            "Epoch 99/100\n",
            "366/366 [==============================] - 2s 4ms/step - loss: 0.3692 - accuracy: 0.8285 - val_loss: 0.4515 - val_accuracy: 0.7969\n",
            "Epoch 100/100\n",
            "366/366 [==============================] - 2s 4ms/step - loss: 0.3688 - accuracy: 0.8282 - val_loss: 0.4505 - val_accuracy: 0.7994\n"
          ],
          "name": "stdout"
        },
        {
          "output_type": "execute_result",
          "data": {
            "text/plain": [
              "<tensorflow.python.keras.callbacks.History at 0x7fcfb005f128>"
            ]
          },
          "metadata": {
            "tags": []
          },
          "execution_count": 39
        }
      ]
    },
    {
      "cell_type": "markdown",
      "metadata": {
        "id": "VCpSbiu3Zgxu"
      },
      "source": [
        "loss: 0.4223 - accuracy: 0.8015 - val_loss: 0.4235 - val_accuracy: 0.8035"
      ]
    },
    {
      "cell_type": "code",
      "metadata": {
        "colab": {
          "base_uri": "https://localhost:8080/"
        },
        "id": "O37iQ_MNZgf-",
        "outputId": "82abb091-5628-4400-8512-0b846a380200"
      },
      "source": [
        "model.evaluate(X_test,y_test)"
      ],
      "execution_count": 40,
      "outputs": [
        {
          "output_type": "stream",
          "text": [
            "44/44 [==============================] - 0s 2ms/step - loss: 0.4692 - accuracy: 0.7747\n"
          ],
          "name": "stdout"
        },
        {
          "output_type": "execute_result",
          "data": {
            "text/plain": [
              "[0.4691774547100067, 0.7746979594230652]"
            ]
          },
          "metadata": {
            "tags": []
          },
          "execution_count": 40
        }
      ]
    },
    {
      "cell_type": "code",
      "metadata": {
        "id": "J45FHjDMYjJ8"
      },
      "source": [
        "prediction= model.predict(X_test)"
      ],
      "execution_count": 41,
      "outputs": []
    },
    {
      "cell_type": "code",
      "metadata": {
        "colab": {
          "base_uri": "https://localhost:8080/"
        },
        "id": "bFD7Ba_adahw",
        "outputId": "1f42a4a3-1a3c-446e-ee68-5ab2ca25f0aa"
      },
      "source": [
        "prediction[:5]"
      ],
      "execution_count": 42,
      "outputs": [
        {
          "output_type": "execute_result",
          "data": {
            "text/plain": [
              "array([[0.10286087],\n",
              "       [0.22850558],\n",
              "       [0.00265062],\n",
              "       [0.7623968 ],\n",
              "       [0.4463014 ]], dtype=float32)"
            ]
          },
          "metadata": {
            "tags": []
          },
          "execution_count": 42
        }
      ]
    },
    {
      "cell_type": "code",
      "metadata": {
        "id": "oXn5KbvFd21F"
      },
      "source": [
        "y_pred= list()\r\n",
        "for i in prediction:\r\n",
        "  if i >=0.5:\r\n",
        "    y_pred.append(1)\r\n",
        "  else:\r\n",
        "    y_pred.append(0)"
      ],
      "execution_count": 44,
      "outputs": []
    },
    {
      "cell_type": "code",
      "metadata": {
        "colab": {
          "base_uri": "https://localhost:8080/"
        },
        "id": "blYzrolmd2lF",
        "outputId": "5734ea10-7dc1-414f-fd2f-068540d36329"
      },
      "source": [
        "y_pred[:5]"
      ],
      "execution_count": 45,
      "outputs": [
        {
          "output_type": "execute_result",
          "data": {
            "text/plain": [
              "[0, 0, 0, 1, 0]"
            ]
          },
          "metadata": {
            "tags": []
          },
          "execution_count": 45
        }
      ]
    },
    {
      "cell_type": "code",
      "metadata": {
        "id": "yZXQ4nMMdjuJ"
      },
      "source": [
        "\r\n",
        "# Making the Confusion Matrix and Classification Report\r\n",
        "from sklearn.metrics import confusion_matrix, classification_report\r\n",
        "cm = confusion_matrix(y_test, y_pred)"
      ],
      "execution_count": 46,
      "outputs": []
    },
    {
      "cell_type": "code",
      "metadata": {
        "colab": {
          "base_uri": "https://localhost:8080/"
        },
        "id": "c2CjjakleV8K",
        "outputId": "769e9960-cf5a-418d-894b-9595ed4f54a4"
      },
      "source": [
        "cm"
      ],
      "execution_count": 47,
      "outputs": [
        {
          "output_type": "execute_result",
          "data": {
            "text/plain": [
              "array([[880, 119],\n",
              "       [198, 210]])"
            ]
          },
          "metadata": {
            "tags": []
          },
          "execution_count": 47
        }
      ]
    },
    {
      "cell_type": "code",
      "metadata": {
        "colab": {
          "base_uri": "https://localhost:8080/"
        },
        "id": "sJOEV6wHebm-",
        "outputId": "25aa5f25-8b7f-4c85-f2be-f4fcc9143939"
      },
      "source": [
        "print(classification_report(y_test,y_pred))"
      ],
      "execution_count": 48,
      "outputs": [
        {
          "output_type": "stream",
          "text": [
            "              precision    recall  f1-score   support\n",
            "\n",
            "           0       0.82      0.88      0.85       999\n",
            "           1       0.64      0.51      0.57       408\n",
            "\n",
            "    accuracy                           0.77      1407\n",
            "   macro avg       0.73      0.70      0.71      1407\n",
            "weighted avg       0.76      0.77      0.77      1407\n",
            "\n"
          ],
          "name": "stdout"
        }
      ]
    },
    {
      "cell_type": "code",
      "metadata": {
        "colab": {
          "base_uri": "https://localhost:8080/",
          "height": 459
        },
        "id": "8vazMg3Jel6z",
        "outputId": "e262d5ca-18eb-47b7-e4ca-03299d00872e"
      },
      "source": [
        "import seaborn as sns\r\n",
        "\r\n",
        "plt.figure(figsize = (10,7))\r\n",
        "sns.heatmap(cm, annot=True,  fmt='d')\r\n",
        "plt.xlabel('Predicted')\r\n",
        "plt.ylabel('Truth')"
      ],
      "execution_count": 51,
      "outputs": [
        {
          "output_type": "execute_result",
          "data": {
            "text/plain": [
              "Text(69.0, 0.5, 'Truth')"
            ]
          },
          "metadata": {
            "tags": []
          },
          "execution_count": 51
        },
        {
          "output_type": "display_data",
          "data": {
            "image/png": "[encoded data removed]",
            "text/plain": [
              "<Figure size 720x504 with 2 Axes>"
            ]
          },
          "metadata": {
            "tags": [],
            "needs_background": "light"
          }
        }
      ]
    }
  ]
}