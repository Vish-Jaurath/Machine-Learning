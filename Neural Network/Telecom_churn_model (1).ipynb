{
  "nbformat": 4,
  "nbformat_minor": 0,
  "metadata": {
    "colab": {
      "name": "Telecom_churn_model.ipynb",
      "provenance": [],
      "collapsed_sections": []
    },
    "kernelspec": {
      "name": "python3",
      "display_name": "Python 3"
    },
    "accelerator": "GPU"
  },
  "cells": [
    {
      "cell_type": "markdown",
      "metadata": {
        "id": "U3BCpxJxfTZg"
      },
      "source": [
        "**Customer churn prediction is to measure why customers are leaving a business. In this project I've built a customer churn deep learning model for telecom business along with precision,recall, f1-score to measure performance of our model. At the end also tackle the problem of Imbalanced data**"
      ]
    },
    {
      "cell_type": "code",
      "metadata": {
        "colab": {
          "base_uri": "https://localhost:8080/"
        },
        "id": "OzBg9YJHH7u8",
        "outputId": "ff3816c8-64ea-47c4-f865-e521b1045972"
      },
      "source": [
        "from google.colab import drive\n",
        "drive.mount('/content/drive')"
      ],
      "execution_count": 2,
      "outputs": [
        {
          "output_type": "stream",
          "text": [
            "Drive already mounted at /content/drive; to attempt to forcibly remount, call drive.mount(\"/content/drive\", force_remount=True).\n"
          ],
          "name": "stdout"
        }
      ]
    },
    {
      "cell_type": "code",
      "metadata": {
        "id": "QxGKQHaDIVfa"
      },
      "source": [
        "!pip install -q keras"
      ],
      "execution_count": 3,
      "outputs": []
    },
    {
      "cell_type": "code",
      "metadata": {
        "id": "VsY6BZ2nIp9R"
      },
      "source": [
        "import pandas as pd\r\n",
        "import matplotlib.pyplot as plt\r\n",
        "import numpy as np\r\n",
        "import warnings\r\n",
        "warnings.filterwarnings(\"ignore\")"
      ],
      "execution_count": 4,
      "outputs": []
    },
    {
      "cell_type": "code",
      "metadata": {
        "colab": {
          "base_uri": "https://localhost:8080/",
          "height": 117
        },
        "id": "D9wxFgyBIz4L",
        "outputId": "effdb421-baeb-49cb-bdea-e0382b6dc9c8"
      },
      "source": [
        "df= pd.read_csv('/content/drive/MyDrive/DL/churn.csv')\r\n",
        "df.sample(1)"
      ],
      "execution_count": 5,
      "outputs": [
        {
          "output_type": "execute_result",
          "data": {
            "text/html": [
              "<div>\n",
              "<style scoped>\n",
              "    .dataframe tbody tr th:only-of-type {\n",
              "        vertical-align: middle;\n",
              "    }\n",
              "\n",
              "    .dataframe tbody tr th {\n",
              "        vertical-align: top;\n",
              "    }\n",
              "\n",
              "    .dataframe thead th {\n",
              "        text-align: right;\n",
              "    }\n",
              "</style>\n",
              "<table border=\"1\" class=\"dataframe\">\n",
              "  <thead>\n",
              "    <tr style=\"text-align: right;\">\n",
              "      <th></th>\n",
              "      <th>customerID</th>\n",
              "      <th>gender</th>\n",
              "      <th>SeniorCitizen</th>\n",
              "      <th>Partner</th>\n",
              "      <th>Dependents</th>\n",
              "      <th>tenure</th>\n",
              "      <th>PhoneService</th>\n",
              "      <th>MultipleLines</th>\n",
              "      <th>InternetService</th>\n",
              "      <th>OnlineSecurity</th>\n",
              "      <th>OnlineBackup</th>\n",
              "      <th>DeviceProtection</th>\n",
              "      <th>TechSupport</th>\n",
              "      <th>StreamingTV</th>\n",
              "      <th>StreamingMovies</th>\n",
              "      <th>Contract</th>\n",
              "      <th>PaperlessBilling</th>\n",
              "      <th>PaymentMethod</th>\n",
              "      <th>MonthlyCharges</th>\n",
              "      <th>TotalCharges</th>\n",
              "      <th>Churn</th>\n",
              "    </tr>\n",
              "  </thead>\n",
              "  <tbody>\n",
              "    <tr>\n",
              "      <th>5688</th>\n",
              "      <td>9585-KKMFD</td>\n",
              "      <td>Male</td>\n",
              "      <td>0</td>\n",
              "      <td>Yes</td>\n",
              "      <td>Yes</td>\n",
              "      <td>41</td>\n",
              "      <td>Yes</td>\n",
              "      <td>No</td>\n",
              "      <td>No</td>\n",
              "      <td>No internet service</td>\n",
              "      <td>No internet service</td>\n",
              "      <td>No internet service</td>\n",
              "      <td>No internet service</td>\n",
              "      <td>No internet service</td>\n",
              "      <td>No internet service</td>\n",
              "      <td>Two year</td>\n",
              "      <td>Yes</td>\n",
              "      <td>Mailed check</td>\n",
              "      <td>20.0</td>\n",
              "      <td>879.8</td>\n",
              "      <td>No</td>\n",
              "    </tr>\n",
              "  </tbody>\n",
              "</table>\n",
              "</div>"
            ],
            "text/plain": [
              "      customerID gender  SeniorCitizen  ... MonthlyCharges TotalCharges  Churn\n",
              "5688  9585-KKMFD   Male              0  ...           20.0        879.8     No\n",
              "\n",
              "[1 rows x 21 columns]"
            ]
          },
          "metadata": {
            "tags": []
          },
          "execution_count": 5
        }
      ]
    },
    {
      "cell_type": "code",
      "metadata": {
        "colab": {
          "base_uri": "https://localhost:8080/"
        },
        "id": "g8oG5b-HJEZB",
        "outputId": "f7e4b243-0057-4f5d-dab1-b2247ca3479a"
      },
      "source": [
        "df.dtypes"
      ],
      "execution_count": 6,
      "outputs": [
        {
          "output_type": "execute_result",
          "data": {
            "text/plain": [
              "customerID           object\n",
              "gender               object\n",
              "SeniorCitizen         int64\n",
              "Partner              object\n",
              "Dependents           object\n",
              "tenure                int64\n",
              "PhoneService         object\n",
              "MultipleLines        object\n",
              "InternetService      object\n",
              "OnlineSecurity       object\n",
              "OnlineBackup         object\n",
              "DeviceProtection     object\n",
              "TechSupport          object\n",
              "StreamingTV          object\n",
              "StreamingMovies      object\n",
              "Contract             object\n",
              "PaperlessBilling     object\n",
              "PaymentMethod        object\n",
              "MonthlyCharges      float64\n",
              "TotalCharges         object\n",
              "Churn                object\n",
              "dtype: object"
            ]
          },
          "metadata": {
            "tags": []
          },
          "execution_count": 6
        }
      ]
    },
    {
      "cell_type": "code",
      "metadata": {
        "id": "-8vZsts6O0fs"
      },
      "source": [
        "df.drop('customerID', axis=1, inplace= True)"
      ],
      "execution_count": 7,
      "outputs": []
    },
    {
      "cell_type": "code",
      "metadata": {
        "colab": {
          "base_uri": "https://localhost:8080/",
          "height": 435
        },
        "id": "-AUwchZAPApl",
        "outputId": "dfcf1dca-6e24-4569-86c1-a356812549b7"
      },
      "source": [
        "pd.to_numeric(df.TotalCharges)"
      ],
      "execution_count": 8,
      "outputs": [
        {
          "output_type": "error",
          "ename": "ValueError",
          "evalue": "ignored",
          "traceback": [
            "\u001b[0;31m---------------------------------------------------------------------------\u001b[0m",
            "\u001b[0;31mValueError\u001b[0m                                Traceback (most recent call last)",
            "\u001b[0;32mpandas/_libs/lib.pyx\u001b[0m in \u001b[0;36mpandas._libs.lib.maybe_convert_numeric\u001b[0;34m()\u001b[0m\n",
            "\u001b[0;31mValueError\u001b[0m: Unable to parse string \" \"",
            "\nDuring handling of the above exception, another exception occurred:\n",
            "\u001b[0;31mValueError\u001b[0m                                Traceback (most recent call last)",
            "\u001b[0;32m<ipython-input-8-06ba430a4ba5>\u001b[0m in \u001b[0;36m<module>\u001b[0;34m()\u001b[0m\n\u001b[0;32m----> 1\u001b[0;31m \u001b[0mpd\u001b[0m\u001b[0;34m.\u001b[0m\u001b[0mto_numeric\u001b[0m\u001b[0;34m(\u001b[0m\u001b[0mdf\u001b[0m\u001b[0;34m.\u001b[0m\u001b[0mTotalCharges\u001b[0m\u001b[0;34m)\u001b[0m\u001b[0;34m\u001b[0m\u001b[0;34m\u001b[0m\u001b[0m\n\u001b[0m",
            "\u001b[0;32m/usr/local/lib/python3.6/dist-packages/pandas/core/tools/numeric.py\u001b[0m in \u001b[0;36mto_numeric\u001b[0;34m(arg, errors, downcast)\u001b[0m\n\u001b[1;32m    151\u001b[0m         \u001b[0;32mtry\u001b[0m\u001b[0;34m:\u001b[0m\u001b[0;34m\u001b[0m\u001b[0;34m\u001b[0m\u001b[0m\n\u001b[1;32m    152\u001b[0m             values = lib.maybe_convert_numeric(\n\u001b[0;32m--> 153\u001b[0;31m                 \u001b[0mvalues\u001b[0m\u001b[0;34m,\u001b[0m \u001b[0mset\u001b[0m\u001b[0;34m(\u001b[0m\u001b[0;34m)\u001b[0m\u001b[0;34m,\u001b[0m \u001b[0mcoerce_numeric\u001b[0m\u001b[0;34m=\u001b[0m\u001b[0mcoerce_numeric\u001b[0m\u001b[0;34m\u001b[0m\u001b[0;34m\u001b[0m\u001b[0m\n\u001b[0m\u001b[1;32m    154\u001b[0m             )\n\u001b[1;32m    155\u001b[0m         \u001b[0;32mexcept\u001b[0m \u001b[0;34m(\u001b[0m\u001b[0mValueError\u001b[0m\u001b[0;34m,\u001b[0m \u001b[0mTypeError\u001b[0m\u001b[0;34m)\u001b[0m\u001b[0;34m:\u001b[0m\u001b[0;34m\u001b[0m\u001b[0;34m\u001b[0m\u001b[0m\n",
            "\u001b[0;32mpandas/_libs/lib.pyx\u001b[0m in \u001b[0;36mpandas._libs.lib.maybe_convert_numeric\u001b[0;34m()\u001b[0m\n",
            "\u001b[0;31mValueError\u001b[0m: Unable to parse string \" \" at position 488"
          ]
        }
      ]
    },
    {
      "cell_type": "markdown",
      "metadata": {
        "id": "0_8_DkKITRuj"
      },
      "source": [
        "**Somev alues seems to be not numbers but blank string.**"
      ]
    },
    {
      "cell_type": "code",
      "metadata": {
        "colab": {
          "base_uri": "https://localhost:8080/"
        },
        "id": "O3kl2H7rJpeP",
        "outputId": "e3e486b0-e153-462d-ce51-dd811d4faeb8"
      },
      "source": [
        "df.TotalCharges.unique()"
      ],
      "execution_count": 9,
      "outputs": [
        {
          "output_type": "execute_result",
          "data": {
            "text/plain": [
              "array(['29.85', '1889.5', '108.15', ..., '346.45', '306.6', '6844.5'],\n",
              "      dtype=object)"
            ]
          },
          "metadata": {
            "tags": []
          },
          "execution_count": 9
        }
      ]
    },
    {
      "cell_type": "code",
      "metadata": {
        "colab": {
          "base_uri": "https://localhost:8080/",
          "height": 563
        },
        "id": "fnlqm3knJ_ZJ",
        "outputId": "8f757e0d-78ed-4719-c48c-f77b3c3e7e9b"
      },
      "source": [
        "df[df.TotalCharges == ' ']"
      ],
      "execution_count": 10,
      "outputs": [
        {
          "output_type": "execute_result",
          "data": {
            "text/html": [
              "<div>\n",
              "<style scoped>\n",
              "    .dataframe tbody tr th:only-of-type {\n",
              "        vertical-align: middle;\n",
              "    }\n",
              "\n",
              "    .dataframe tbody tr th {\n",
              "        vertical-align: top;\n",
              "    }\n",
              "\n",
              "    .dataframe thead th {\n",
              "        text-align: right;\n",
              "    }\n",
              "</style>\n",
              "<table border=\"1\" class=\"dataframe\">\n",
              "  <thead>\n",
              "    <tr style=\"text-align: right;\">\n",
              "      <th></th>\n",
              "      <th>gender</th>\n",
              "      <th>SeniorCitizen</th>\n",
              "      <th>Partner</th>\n",
              "      <th>Dependents</th>\n",
              "      <th>tenure</th>\n",
              "      <th>PhoneService</th>\n",
              "      <th>MultipleLines</th>\n",
              "      <th>InternetService</th>\n",
              "      <th>OnlineSecurity</th>\n",
              "      <th>OnlineBackup</th>\n",
              "      <th>DeviceProtection</th>\n",
              "      <th>TechSupport</th>\n",
              "      <th>StreamingTV</th>\n",
              "      <th>StreamingMovies</th>\n",
              "      <th>Contract</th>\n",
              "      <th>PaperlessBilling</th>\n",
              "      <th>PaymentMethod</th>\n",
              "      <th>MonthlyCharges</th>\n",
              "      <th>TotalCharges</th>\n",
              "      <th>Churn</th>\n",
              "    </tr>\n",
              "  </thead>\n",
              "  <tbody>\n",
              "    <tr>\n",
              "      <th>488</th>\n",
              "      <td>Female</td>\n",
              "      <td>0</td>\n",
              "      <td>Yes</td>\n",
              "      <td>Yes</td>\n",
              "      <td>0</td>\n",
              "      <td>No</td>\n",
              "      <td>No phone service</td>\n",
              "      <td>DSL</td>\n",
              "      <td>Yes</td>\n",
              "      <td>No</td>\n",
              "      <td>Yes</td>\n",
              "      <td>Yes</td>\n",
              "      <td>Yes</td>\n",
              "      <td>No</td>\n",
              "      <td>Two year</td>\n",
              "      <td>Yes</td>\n",
              "      <td>Bank transfer (automatic)</td>\n",
              "      <td>52.55</td>\n",
              "      <td></td>\n",
              "      <td>No</td>\n",
              "    </tr>\n",
              "    <tr>\n",
              "      <th>753</th>\n",
              "      <td>Male</td>\n",
              "      <td>0</td>\n",
              "      <td>No</td>\n",
              "      <td>Yes</td>\n",
              "      <td>0</td>\n",
              "      <td>Yes</td>\n",
              "      <td>No</td>\n",
              "      <td>No</td>\n",
              "      <td>No internet service</td>\n",
              "      <td>No internet service</td>\n",
              "      <td>No internet service</td>\n",
              "      <td>No internet service</td>\n",
              "      <td>No internet service</td>\n",
              "      <td>No internet service</td>\n",
              "      <td>Two year</td>\n",
              "      <td>No</td>\n",
              "      <td>Mailed check</td>\n",
              "      <td>20.25</td>\n",
              "      <td></td>\n",
              "      <td>No</td>\n",
              "    </tr>\n",
              "    <tr>\n",
              "      <th>936</th>\n",
              "      <td>Female</td>\n",
              "      <td>0</td>\n",
              "      <td>Yes</td>\n",
              "      <td>Yes</td>\n",
              "      <td>0</td>\n",
              "      <td>Yes</td>\n",
              "      <td>No</td>\n",
              "      <td>DSL</td>\n",
              "      <td>Yes</td>\n",
              "      <td>Yes</td>\n",
              "      <td>Yes</td>\n",
              "      <td>No</td>\n",
              "      <td>Yes</td>\n",
              "      <td>Yes</td>\n",
              "      <td>Two year</td>\n",
              "      <td>No</td>\n",
              "      <td>Mailed check</td>\n",
              "      <td>80.85</td>\n",
              "      <td></td>\n",
              "      <td>No</td>\n",
              "    </tr>\n",
              "    <tr>\n",
              "      <th>1082</th>\n",
              "      <td>Male</td>\n",
              "      <td>0</td>\n",
              "      <td>Yes</td>\n",
              "      <td>Yes</td>\n",
              "      <td>0</td>\n",
              "      <td>Yes</td>\n",
              "      <td>Yes</td>\n",
              "      <td>No</td>\n",
              "      <td>No internet service</td>\n",
              "      <td>No internet service</td>\n",
              "      <td>No internet service</td>\n",
              "      <td>No internet service</td>\n",
              "      <td>No internet service</td>\n",
              "      <td>No internet service</td>\n",
              "      <td>Two year</td>\n",
              "      <td>No</td>\n",
              "      <td>Mailed check</td>\n",
              "      <td>25.75</td>\n",
              "      <td></td>\n",
              "      <td>No</td>\n",
              "    </tr>\n",
              "    <tr>\n",
              "      <th>1340</th>\n",
              "      <td>Female</td>\n",
              "      <td>0</td>\n",
              "      <td>Yes</td>\n",
              "      <td>Yes</td>\n",
              "      <td>0</td>\n",
              "      <td>No</td>\n",
              "      <td>No phone service</td>\n",
              "      <td>DSL</td>\n",
              "      <td>Yes</td>\n",
              "      <td>Yes</td>\n",
              "      <td>Yes</td>\n",
              "      <td>Yes</td>\n",
              "      <td>Yes</td>\n",
              "      <td>No</td>\n",
              "      <td>Two year</td>\n",
              "      <td>No</td>\n",
              "      <td>Credit card (automatic)</td>\n",
              "      <td>56.05</td>\n",
              "      <td></td>\n",
              "      <td>No</td>\n",
              "    </tr>\n",
              "    <tr>\n",
              "      <th>3331</th>\n",
              "      <td>Male</td>\n",
              "      <td>0</td>\n",
              "      <td>Yes</td>\n",
              "      <td>Yes</td>\n",
              "      <td>0</td>\n",
              "      <td>Yes</td>\n",
              "      <td>No</td>\n",
              "      <td>No</td>\n",
              "      <td>No internet service</td>\n",
              "      <td>No internet service</td>\n",
              "      <td>No internet service</td>\n",
              "      <td>No internet service</td>\n",
              "      <td>No internet service</td>\n",
              "      <td>No internet service</td>\n",
              "      <td>Two year</td>\n",
              "      <td>No</td>\n",
              "      <td>Mailed check</td>\n",
              "      <td>19.85</td>\n",
              "      <td></td>\n",
              "      <td>No</td>\n",
              "    </tr>\n",
              "    <tr>\n",
              "      <th>3826</th>\n",
              "      <td>Male</td>\n",
              "      <td>0</td>\n",
              "      <td>Yes</td>\n",
              "      <td>Yes</td>\n",
              "      <td>0</td>\n",
              "      <td>Yes</td>\n",
              "      <td>Yes</td>\n",
              "      <td>No</td>\n",
              "      <td>No internet service</td>\n",
              "      <td>No internet service</td>\n",
              "      <td>No internet service</td>\n",
              "      <td>No internet service</td>\n",
              "      <td>No internet service</td>\n",
              "      <td>No internet service</td>\n",
              "      <td>Two year</td>\n",
              "      <td>No</td>\n",
              "      <td>Mailed check</td>\n",
              "      <td>25.35</td>\n",
              "      <td></td>\n",
              "      <td>No</td>\n",
              "    </tr>\n",
              "    <tr>\n",
              "      <th>4380</th>\n",
              "      <td>Female</td>\n",
              "      <td>0</td>\n",
              "      <td>Yes</td>\n",
              "      <td>Yes</td>\n",
              "      <td>0</td>\n",
              "      <td>Yes</td>\n",
              "      <td>No</td>\n",
              "      <td>No</td>\n",
              "      <td>No internet service</td>\n",
              "      <td>No internet service</td>\n",
              "      <td>No internet service</td>\n",
              "      <td>No internet service</td>\n",
              "      <td>No internet service</td>\n",
              "      <td>No internet service</td>\n",
              "      <td>Two year</td>\n",
              "      <td>No</td>\n",
              "      <td>Mailed check</td>\n",
              "      <td>20.00</td>\n",
              "      <td></td>\n",
              "      <td>No</td>\n",
              "    </tr>\n",
              "    <tr>\n",
              "      <th>5218</th>\n",
              "      <td>Male</td>\n",
              "      <td>0</td>\n",
              "      <td>Yes</td>\n",
              "      <td>Yes</td>\n",
              "      <td>0</td>\n",
              "      <td>Yes</td>\n",
              "      <td>No</td>\n",
              "      <td>No</td>\n",
              "      <td>No internet service</td>\n",
              "      <td>No internet service</td>\n",
              "      <td>No internet service</td>\n",
              "      <td>No internet service</td>\n",
              "      <td>No internet service</td>\n",
              "      <td>No internet service</td>\n",
              "      <td>One year</td>\n",
              "      <td>Yes</td>\n",
              "      <td>Mailed check</td>\n",
              "      <td>19.70</td>\n",
              "      <td></td>\n",
              "      <td>No</td>\n",
              "    </tr>\n",
              "    <tr>\n",
              "      <th>6670</th>\n",
              "      <td>Female</td>\n",
              "      <td>0</td>\n",
              "      <td>Yes</td>\n",
              "      <td>Yes</td>\n",
              "      <td>0</td>\n",
              "      <td>Yes</td>\n",
              "      <td>Yes</td>\n",
              "      <td>DSL</td>\n",
              "      <td>No</td>\n",
              "      <td>Yes</td>\n",
              "      <td>Yes</td>\n",
              "      <td>Yes</td>\n",
              "      <td>Yes</td>\n",
              "      <td>No</td>\n",
              "      <td>Two year</td>\n",
              "      <td>No</td>\n",
              "      <td>Mailed check</td>\n",
              "      <td>73.35</td>\n",
              "      <td></td>\n",
              "      <td>No</td>\n",
              "    </tr>\n",
              "    <tr>\n",
              "      <th>6754</th>\n",
              "      <td>Male</td>\n",
              "      <td>0</td>\n",
              "      <td>No</td>\n",
              "      <td>Yes</td>\n",
              "      <td>0</td>\n",
              "      <td>Yes</td>\n",
              "      <td>Yes</td>\n",
              "      <td>DSL</td>\n",
              "      <td>Yes</td>\n",
              "      <td>Yes</td>\n",
              "      <td>No</td>\n",
              "      <td>Yes</td>\n",
              "      <td>No</td>\n",
              "      <td>No</td>\n",
              "      <td>Two year</td>\n",
              "      <td>Yes</td>\n",
              "      <td>Bank transfer (automatic)</td>\n",
              "      <td>61.90</td>\n",
              "      <td></td>\n",
              "      <td>No</td>\n",
              "    </tr>\n",
              "  </tbody>\n",
              "</table>\n",
              "</div>"
            ],
            "text/plain": [
              "      gender  SeniorCitizen Partner  ... MonthlyCharges  TotalCharges Churn\n",
              "488   Female              0     Yes  ...          52.55                  No\n",
              "753     Male              0      No  ...          20.25                  No\n",
              "936   Female              0     Yes  ...          80.85                  No\n",
              "1082    Male              0     Yes  ...          25.75                  No\n",
              "1340  Female              0     Yes  ...          56.05                  No\n",
              "3331    Male              0     Yes  ...          19.85                  No\n",
              "3826    Male              0     Yes  ...          25.35                  No\n",
              "4380  Female              0     Yes  ...          20.00                  No\n",
              "5218    Male              0     Yes  ...          19.70                  No\n",
              "6670  Female              0     Yes  ...          73.35                  No\n",
              "6754    Male              0      No  ...          61.90                  No\n",
              "\n",
              "[11 rows x 20 columns]"
            ]
          },
          "metadata": {
            "tags": []
          },
          "execution_count": 10
        }
      ]
    },
    {
      "cell_type": "markdown",
      "metadata": {
        "id": "vUzh6hK2KTxs"
      },
      "source": [
        "**As these are blank values, I've dropped them.**"
      ]
    },
    {
      "cell_type": "code",
      "metadata": {
        "id": "znBleO8GKEDy"
      },
      "source": [
        "df1= df[df.TotalCharges != ' ']\r\n",
        "df1.TotalCharges= pd.to_numeric(df1.TotalCharges)\r\n"
      ],
      "execution_count": 11,
      "outputs": []
    },
    {
      "cell_type": "code",
      "metadata": {
        "colab": {
          "base_uri": "https://localhost:8080/"
        },
        "id": "83tfnQc4PVtf",
        "outputId": "17af73a9-9752-4fb0-b98e-cf82b03232c2"
      },
      "source": [
        "df1.dtypes"
      ],
      "execution_count": 12,
      "outputs": [
        {
          "output_type": "execute_result",
          "data": {
            "text/plain": [
              "gender               object\n",
              "SeniorCitizen         int64\n",
              "Partner              object\n",
              "Dependents           object\n",
              "tenure                int64\n",
              "PhoneService         object\n",
              "MultipleLines        object\n",
              "InternetService      object\n",
              "OnlineSecurity       object\n",
              "OnlineBackup         object\n",
              "DeviceProtection     object\n",
              "TechSupport          object\n",
              "StreamingTV          object\n",
              "StreamingMovies      object\n",
              "Contract             object\n",
              "PaperlessBilling     object\n",
              "PaymentMethod        object\n",
              "MonthlyCharges      float64\n",
              "TotalCharges        float64\n",
              "Churn                object\n",
              "dtype: object"
            ]
          },
          "metadata": {
            "tags": []
          },
          "execution_count": 12
        }
      ]
    },
    {
      "cell_type": "code",
      "metadata": {
        "colab": {
          "base_uri": "https://localhost:8080/"
        },
        "id": "h81ebJsVKkL1",
        "outputId": "6ade720f-8938-438d-dcc6-b7d032eb6e90"
      },
      "source": [
        "df1.shape"
      ],
      "execution_count": 13,
      "outputs": [
        {
          "output_type": "execute_result",
          "data": {
            "text/plain": [
              "(7032, 20)"
            ]
          },
          "metadata": {
            "tags": []
          },
          "execution_count": 13
        }
      ]
    },
    {
      "cell_type": "code",
      "metadata": {
        "id": "_ayjaq_eLt_v"
      },
      "source": [
        "# Custom function to print unique categorical col values.\r\n",
        "def cat_val(data):\r\n",
        "  for col in data:\r\n",
        "    if data[col].dtypes=='object':\r\n",
        "      print(f'{col} : {data[col].unique()}')"
      ],
      "execution_count": 14,
      "outputs": []
    },
    {
      "cell_type": "code",
      "metadata": {
        "colab": {
          "base_uri": "https://localhost:8080/"
        },
        "id": "yriNN1YiL6Gi",
        "outputId": "610eda69-ef84-4311-ff3b-a9dc8d3980aa"
      },
      "source": [
        "cat_val(df1)"
      ],
      "execution_count": 15,
      "outputs": [
        {
          "output_type": "stream",
          "text": [
            "gender : ['Female' 'Male']\n",
            "Partner : ['Yes' 'No']\n",
            "Dependents : ['No' 'Yes']\n",
            "PhoneService : ['No' 'Yes']\n",
            "MultipleLines : ['No phone service' 'No' 'Yes']\n",
            "InternetService : ['DSL' 'Fiber optic' 'No']\n",
            "OnlineSecurity : ['No' 'Yes' 'No internet service']\n",
            "OnlineBackup : ['Yes' 'No' 'No internet service']\n",
            "DeviceProtection : ['No' 'Yes' 'No internet service']\n",
            "TechSupport : ['No' 'Yes' 'No internet service']\n",
            "StreamingTV : ['No' 'Yes' 'No internet service']\n",
            "StreamingMovies : ['No' 'Yes' 'No internet service']\n",
            "Contract : ['Month-to-month' 'One year' 'Two year']\n",
            "PaperlessBilling : ['Yes' 'No']\n",
            "PaymentMethod : ['Electronic check' 'Mailed check' 'Bank transfer (automatic)'\n",
            " 'Credit card (automatic)']\n",
            "Churn : ['No' 'Yes']\n"
          ],
          "name": "stdout"
        }
      ]
    },
    {
      "cell_type": "markdown",
      "metadata": {
        "id": "lMJ6bDfnMawh"
      },
      "source": [
        "Convert gender col values to 1 and 0"
      ]
    },
    {
      "cell_type": "code",
      "metadata": {
        "id": "DM8jvyTjMBze"
      },
      "source": [
        "df1['gender'].replace({'Female':1,'Male':0}, inplace= True)"
      ],
      "execution_count": 16,
      "outputs": []
    },
    {
      "cell_type": "code",
      "metadata": {
        "colab": {
          "base_uri": "https://localhost:8080/"
        },
        "id": "nn_00zBlM3vV",
        "outputId": "24ae8d20-ec91-4e41-817f-e7f3cdd1932d"
      },
      "source": [
        "cat_val(df1)"
      ],
      "execution_count": 17,
      "outputs": [
        {
          "output_type": "stream",
          "text": [
            "Partner : ['Yes' 'No']\n",
            "Dependents : ['No' 'Yes']\n",
            "PhoneService : ['No' 'Yes']\n",
            "MultipleLines : ['No phone service' 'No' 'Yes']\n",
            "InternetService : ['DSL' 'Fiber optic' 'No']\n",
            "OnlineSecurity : ['No' 'Yes' 'No internet service']\n",
            "OnlineBackup : ['Yes' 'No' 'No internet service']\n",
            "DeviceProtection : ['No' 'Yes' 'No internet service']\n",
            "TechSupport : ['No' 'Yes' 'No internet service']\n",
            "StreamingTV : ['No' 'Yes' 'No internet service']\n",
            "StreamingMovies : ['No' 'Yes' 'No internet service']\n",
            "Contract : ['Month-to-month' 'One year' 'Two year']\n",
            "PaperlessBilling : ['Yes' 'No']\n",
            "PaymentMethod : ['Electronic check' 'Mailed check' 'Bank transfer (automatic)'\n",
            " 'Credit card (automatic)']\n",
            "Churn : ['No' 'Yes']\n"
          ],
          "name": "stdout"
        }
      ]
    },
    {
      "cell_type": "markdown",
      "metadata": {
        "id": "IOHO7v9GNJ8g"
      },
      "source": [
        "\r\n",
        "**Some of the columns have no internet service or no phone service, that can be replaced with a simple No**"
      ]
    },
    {
      "cell_type": "code",
      "metadata": {
        "id": "wDHYmz24NOYg"
      },
      "source": [
        "df1.replace({'No phone service': 'No'}, inplace= True)\r\n",
        "df1.replace({'No internet service': 'No'}, inplace= True)"
      ],
      "execution_count": 18,
      "outputs": []
    },
    {
      "cell_type": "code",
      "metadata": {
        "colab": {
          "base_uri": "https://localhost:8080/"
        },
        "id": "o8-EmqtHNdi_",
        "outputId": "1ac3d30c-66fb-41f5-c758-72644a05c83e"
      },
      "source": [
        "cat_val(df1)"
      ],
      "execution_count": 20,
      "outputs": [
        {
          "output_type": "stream",
          "text": [
            "Partner : ['Yes' 'No']\n",
            "Dependents : ['No' 'Yes']\n",
            "PhoneService : ['No' 'Yes']\n",
            "MultipleLines : ['No' 'Yes']\n",
            "InternetService : ['DSL' 'Fiber optic' 'No']\n",
            "OnlineSecurity : ['No' 'Yes']\n",
            "OnlineBackup : ['Yes' 'No']\n",
            "DeviceProtection : ['No' 'Yes']\n",
            "TechSupport : ['No' 'Yes']\n",
            "StreamingTV : ['No' 'Yes']\n",
            "StreamingMovies : ['No' 'Yes']\n",
            "Contract : ['Month-to-month' 'One year' 'Two year']\n",
            "PaperlessBilling : ['Yes' 'No']\n",
            "PaymentMethod : ['Electronic check' 'Mailed check' 'Bank transfer (automatic)'\n",
            " 'Credit card (automatic)']\n",
            "Churn : ['No' 'Yes']\n"
          ],
          "name": "stdout"
        }
      ]
    },
    {
      "cell_type": "markdown",
      "metadata": {
        "id": "FLhjmvb7N1HD"
      },
      "source": [
        "**Categorical columns**"
      ]
    },
    {
      "cell_type": "code",
      "metadata": {
        "colab": {
          "base_uri": "https://localhost:8080/"
        },
        "id": "2bkZi4orQurC",
        "outputId": "c5af61bb-01a1-4ae3-83e1-c517b249622c"
      },
      "source": [
        "df1.shape[1]"
      ],
      "execution_count": 21,
      "outputs": [
        {
          "output_type": "execute_result",
          "data": {
            "text/plain": [
              "20"
            ]
          },
          "metadata": {
            "tags": []
          },
          "execution_count": 21
        }
      ]
    },
    {
      "cell_type": "code",
      "metadata": {
        "colab": {
          "base_uri": "https://localhost:8080/"
        },
        "id": "MW6zJqrYNyR3",
        "outputId": "4c33271d-dfbc-4492-9793-a5c1f5ebcb90"
      },
      "source": [
        "cols= ['InternetService','Contract','PaymentMethod']\r\n",
        "df2= pd.get_dummies(data= df1, columns= cols)\r\n",
        "df2.shape[1]"
      ],
      "execution_count": 22,
      "outputs": [
        {
          "output_type": "execute_result",
          "data": {
            "text/plain": [
              "27"
            ]
          },
          "metadata": {
            "tags": []
          },
          "execution_count": 22
        }
      ]
    },
    {
      "cell_type": "code",
      "metadata": {
        "colab": {
          "base_uri": "https://localhost:8080/"
        },
        "id": "GK2GYrHwRMWC",
        "outputId": "b71aa1da-5691-4b2e-d64f-89d8d637a857"
      },
      "source": [
        "df2.columns"
      ],
      "execution_count": 23,
      "outputs": [
        {
          "output_type": "execute_result",
          "data": {
            "text/plain": [
              "Index(['gender', 'SeniorCitizen', 'Partner', 'Dependents', 'tenure',\n",
              "       'PhoneService', 'MultipleLines', 'OnlineSecurity', 'OnlineBackup',\n",
              "       'DeviceProtection', 'TechSupport', 'StreamingTV', 'StreamingMovies',\n",
              "       'PaperlessBilling', 'MonthlyCharges', 'TotalCharges', 'Churn',\n",
              "       'InternetService_DSL', 'InternetService_Fiber optic',\n",
              "       'InternetService_No', 'Contract_Month-to-month', 'Contract_One year',\n",
              "       'Contract_Two year', 'PaymentMethod_Bank transfer (automatic)',\n",
              "       'PaymentMethod_Credit card (automatic)',\n",
              "       'PaymentMethod_Electronic check', 'PaymentMethod_Mailed check'],\n",
              "      dtype='object')"
            ]
          },
          "metadata": {
            "tags": []
          },
          "execution_count": 23
        }
      ]
    },
    {
      "cell_type": "code",
      "metadata": {
        "colab": {
          "base_uri": "https://localhost:8080/",
          "height": 134
        },
        "id": "u2uBo8iPRjR-",
        "outputId": "ff2e2a72-e6bd-4397-eec5-7f00129e86d5"
      },
      "source": [
        "df2.sample(1)"
      ],
      "execution_count": 24,
      "outputs": [
        {
          "output_type": "execute_result",
          "data": {
            "text/html": [
              "<div>\n",
              "<style scoped>\n",
              "    .dataframe tbody tr th:only-of-type {\n",
              "        vertical-align: middle;\n",
              "    }\n",
              "\n",
              "    .dataframe tbody tr th {\n",
              "        vertical-align: top;\n",
              "    }\n",
              "\n",
              "    .dataframe thead th {\n",
              "        text-align: right;\n",
              "    }\n",
              "</style>\n",
              "<table border=\"1\" class=\"dataframe\">\n",
              "  <thead>\n",
              "    <tr style=\"text-align: right;\">\n",
              "      <th></th>\n",
              "      <th>gender</th>\n",
              "      <th>SeniorCitizen</th>\n",
              "      <th>Partner</th>\n",
              "      <th>Dependents</th>\n",
              "      <th>tenure</th>\n",
              "      <th>PhoneService</th>\n",
              "      <th>MultipleLines</th>\n",
              "      <th>OnlineSecurity</th>\n",
              "      <th>OnlineBackup</th>\n",
              "      <th>DeviceProtection</th>\n",
              "      <th>TechSupport</th>\n",
              "      <th>StreamingTV</th>\n",
              "      <th>StreamingMovies</th>\n",
              "      <th>PaperlessBilling</th>\n",
              "      <th>MonthlyCharges</th>\n",
              "      <th>TotalCharges</th>\n",
              "      <th>Churn</th>\n",
              "      <th>InternetService_DSL</th>\n",
              "      <th>InternetService_Fiber optic</th>\n",
              "      <th>InternetService_No</th>\n",
              "      <th>Contract_Month-to-month</th>\n",
              "      <th>Contract_One year</th>\n",
              "      <th>Contract_Two year</th>\n",
              "      <th>PaymentMethod_Bank transfer (automatic)</th>\n",
              "      <th>PaymentMethod_Credit card (automatic)</th>\n",
              "      <th>PaymentMethod_Electronic check</th>\n",
              "      <th>PaymentMethod_Mailed check</th>\n",
              "    </tr>\n",
              "  </thead>\n",
              "  <tbody>\n",
              "    <tr>\n",
              "      <th>3938</th>\n",
              "      <td>1</td>\n",
              "      <td>0</td>\n",
              "      <td>No</td>\n",
              "      <td>No</td>\n",
              "      <td>2</td>\n",
              "      <td>Yes</td>\n",
              "      <td>No</td>\n",
              "      <td>Yes</td>\n",
              "      <td>No</td>\n",
              "      <td>No</td>\n",
              "      <td>No</td>\n",
              "      <td>No</td>\n",
              "      <td>No</td>\n",
              "      <td>No</td>\n",
              "      <td>50.95</td>\n",
              "      <td>123.05</td>\n",
              "      <td>No</td>\n",
              "      <td>1</td>\n",
              "      <td>0</td>\n",
              "      <td>0</td>\n",
              "      <td>1</td>\n",
              "      <td>0</td>\n",
              "      <td>0</td>\n",
              "      <td>0</td>\n",
              "      <td>0</td>\n",
              "      <td>0</td>\n",
              "      <td>1</td>\n",
              "    </tr>\n",
              "  </tbody>\n",
              "</table>\n",
              "</div>"
            ],
            "text/plain": [
              "      gender  ...  PaymentMethod_Mailed check\n",
              "3938       1  ...                           1\n",
              "\n",
              "[1 rows x 27 columns]"
            ]
          },
          "metadata": {
            "tags": []
          },
          "execution_count": 24
        }
      ]
    },
    {
      "cell_type": "markdown",
      "metadata": {
        "id": "MeN2oB-mR2ei"
      },
      "source": [
        "**Converted Yes and No values to 1 and 0 respectively**"
      ]
    },
    {
      "cell_type": "code",
      "metadata": {
        "id": "HXebwZ_xRzWk"
      },
      "source": [
        "yes_no_columns= ['Partner','Dependents','PhoneService','MultipleLines','OnlineSecurity','OnlineBackup',\r\n",
        "                  'DeviceProtection','TechSupport','StreamingTV','StreamingMovies','PaperlessBilling','Churn']\r\n",
        "for col in yes_no_columns:\r\n",
        "  df2[col].replace({'Yes':1, 'No':0}, inplace= True)"
      ],
      "execution_count": 25,
      "outputs": []
    },
    {
      "cell_type": "code",
      "metadata": {
        "colab": {
          "base_uri": "https://localhost:8080/",
          "height": 134
        },
        "id": "kKDLy-SVS2AV",
        "outputId": "5b3d18fc-6dd1-43ef-91ae-a5d4e256efa0"
      },
      "source": [
        "df2.sample(1)"
      ],
      "execution_count": 26,
      "outputs": [
        {
          "output_type": "execute_result",
          "data": {
            "text/html": [
              "<div>\n",
              "<style scoped>\n",
              "    .dataframe tbody tr th:only-of-type {\n",
              "        vertical-align: middle;\n",
              "    }\n",
              "\n",
              "    .dataframe tbody tr th {\n",
              "        vertical-align: top;\n",
              "    }\n",
              "\n",
              "    .dataframe thead th {\n",
              "        text-align: right;\n",
              "    }\n",
              "</style>\n",
              "<table border=\"1\" class=\"dataframe\">\n",
              "  <thead>\n",
              "    <tr style=\"text-align: right;\">\n",
              "      <th></th>\n",
              "      <th>gender</th>\n",
              "      <th>SeniorCitizen</th>\n",
              "      <th>Partner</th>\n",
              "      <th>Dependents</th>\n",
              "      <th>tenure</th>\n",
              "      <th>PhoneService</th>\n",
              "      <th>MultipleLines</th>\n",
              "      <th>OnlineSecurity</th>\n",
              "      <th>OnlineBackup</th>\n",
              "      <th>DeviceProtection</th>\n",
              "      <th>TechSupport</th>\n",
              "      <th>StreamingTV</th>\n",
              "      <th>StreamingMovies</th>\n",
              "      <th>PaperlessBilling</th>\n",
              "      <th>MonthlyCharges</th>\n",
              "      <th>TotalCharges</th>\n",
              "      <th>Churn</th>\n",
              "      <th>InternetService_DSL</th>\n",
              "      <th>InternetService_Fiber optic</th>\n",
              "      <th>InternetService_No</th>\n",
              "      <th>Contract_Month-to-month</th>\n",
              "      <th>Contract_One year</th>\n",
              "      <th>Contract_Two year</th>\n",
              "      <th>PaymentMethod_Bank transfer (automatic)</th>\n",
              "      <th>PaymentMethod_Credit card (automatic)</th>\n",
              "      <th>PaymentMethod_Electronic check</th>\n",
              "      <th>PaymentMethod_Mailed check</th>\n",
              "    </tr>\n",
              "  </thead>\n",
              "  <tbody>\n",
              "    <tr>\n",
              "      <th>3071</th>\n",
              "      <td>0</td>\n",
              "      <td>0</td>\n",
              "      <td>1</td>\n",
              "      <td>1</td>\n",
              "      <td>47</td>\n",
              "      <td>1</td>\n",
              "      <td>1</td>\n",
              "      <td>1</td>\n",
              "      <td>1</td>\n",
              "      <td>1</td>\n",
              "      <td>1</td>\n",
              "      <td>1</td>\n",
              "      <td>1</td>\n",
              "      <td>1</td>\n",
              "      <td>90.5</td>\n",
              "      <td>4318.35</td>\n",
              "      <td>0</td>\n",
              "      <td>1</td>\n",
              "      <td>0</td>\n",
              "      <td>0</td>\n",
              "      <td>0</td>\n",
              "      <td>0</td>\n",
              "      <td>1</td>\n",
              "      <td>0</td>\n",
              "      <td>0</td>\n",
              "      <td>0</td>\n",
              "      <td>1</td>\n",
              "    </tr>\n",
              "  </tbody>\n",
              "</table>\n",
              "</div>"
            ],
            "text/plain": [
              "      gender  ...  PaymentMethod_Mailed check\n",
              "3071       0  ...                           1\n",
              "\n",
              "[1 rows x 27 columns]"
            ]
          },
          "metadata": {
            "tags": []
          },
          "execution_count": 26
        }
      ]
    },
    {
      "cell_type": "markdown",
      "metadata": {
        "id": "2b_NVYLuTpSV"
      },
      "source": [
        "**Let's scale the values**"
      ]
    },
    {
      "cell_type": "code",
      "metadata": {
        "id": "4M7mjn-0S6RZ"
      },
      "source": [
        "cols_to_scale = ['tenure','MonthlyCharges','TotalCharges']\r\n",
        "\r\n",
        "from sklearn.preprocessing import MinMaxScaler\r\n",
        "sc= MinMaxScaler()\r\n",
        "df2[cols_to_scale]= sc.fit_transform(df2[cols_to_scale])"
      ],
      "execution_count": 27,
      "outputs": []
    },
    {
      "cell_type": "code",
      "metadata": {
        "colab": {
          "base_uri": "https://localhost:8080/",
          "height": 134
        },
        "id": "xFwpDGu9UKYX",
        "outputId": "442cf8d3-1d9a-4902-841b-08d838cb4b0f"
      },
      "source": [
        "df2.sample(1)"
      ],
      "execution_count": 28,
      "outputs": [
        {
          "output_type": "execute_result",
          "data": {
            "text/html": [
              "<div>\n",
              "<style scoped>\n",
              "    .dataframe tbody tr th:only-of-type {\n",
              "        vertical-align: middle;\n",
              "    }\n",
              "\n",
              "    .dataframe tbody tr th {\n",
              "        vertical-align: top;\n",
              "    }\n",
              "\n",
              "    .dataframe thead th {\n",
              "        text-align: right;\n",
              "    }\n",
              "</style>\n",
              "<table border=\"1\" class=\"dataframe\">\n",
              "  <thead>\n",
              "    <tr style=\"text-align: right;\">\n",
              "      <th></th>\n",
              "      <th>gender</th>\n",
              "      <th>SeniorCitizen</th>\n",
              "      <th>Partner</th>\n",
              "      <th>Dependents</th>\n",
              "      <th>tenure</th>\n",
              "      <th>PhoneService</th>\n",
              "      <th>MultipleLines</th>\n",
              "      <th>OnlineSecurity</th>\n",
              "      <th>OnlineBackup</th>\n",
              "      <th>DeviceProtection</th>\n",
              "      <th>TechSupport</th>\n",
              "      <th>StreamingTV</th>\n",
              "      <th>StreamingMovies</th>\n",
              "      <th>PaperlessBilling</th>\n",
              "      <th>MonthlyCharges</th>\n",
              "      <th>TotalCharges</th>\n",
              "      <th>Churn</th>\n",
              "      <th>InternetService_DSL</th>\n",
              "      <th>InternetService_Fiber optic</th>\n",
              "      <th>InternetService_No</th>\n",
              "      <th>Contract_Month-to-month</th>\n",
              "      <th>Contract_One year</th>\n",
              "      <th>Contract_Two year</th>\n",
              "      <th>PaymentMethod_Bank transfer (automatic)</th>\n",
              "      <th>PaymentMethod_Credit card (automatic)</th>\n",
              "      <th>PaymentMethod_Electronic check</th>\n",
              "      <th>PaymentMethod_Mailed check</th>\n",
              "    </tr>\n",
              "  </thead>\n",
              "  <tbody>\n",
              "    <tr>\n",
              "      <th>262</th>\n",
              "      <td>0</td>\n",
              "      <td>1</td>\n",
              "      <td>1</td>\n",
              "      <td>0</td>\n",
              "      <td>0.788732</td>\n",
              "      <td>1</td>\n",
              "      <td>1</td>\n",
              "      <td>0</td>\n",
              "      <td>1</td>\n",
              "      <td>0</td>\n",
              "      <td>0</td>\n",
              "      <td>0</td>\n",
              "      <td>1</td>\n",
              "      <td>1</td>\n",
              "      <td>0.712438</td>\n",
              "      <td>0.566184</td>\n",
              "      <td>0</td>\n",
              "      <td>0</td>\n",
              "      <td>1</td>\n",
              "      <td>0</td>\n",
              "      <td>1</td>\n",
              "      <td>0</td>\n",
              "      <td>0</td>\n",
              "      <td>0</td>\n",
              "      <td>0</td>\n",
              "      <td>1</td>\n",
              "      <td>0</td>\n",
              "    </tr>\n",
              "  </tbody>\n",
              "</table>\n",
              "</div>"
            ],
            "text/plain": [
              "     gender  ...  PaymentMethod_Mailed check\n",
              "262       0  ...                           0\n",
              "\n",
              "[1 rows x 27 columns]"
            ]
          },
          "metadata": {
            "tags": []
          },
          "execution_count": 28
        }
      ]
    },
    {
      "cell_type": "markdown",
      "metadata": {
        "id": "p-rCyHdwU0nw"
      },
      "source": [
        "**Train test split**"
      ]
    },
    {
      "cell_type": "code",
      "metadata": {
        "id": "FvS-Kt6_UMpT"
      },
      "source": [
        "X = df2.drop('Churn',axis='columns')\r\n",
        "y = df2['Churn']"
      ],
      "execution_count": 29,
      "outputs": []
    },
    {
      "cell_type": "code",
      "metadata": {
        "id": "s2k-jrViU9MC"
      },
      "source": [
        "from sklearn.model_selection import train_test_split\r\n",
        "X_train, X_test, y_train, y_test = train_test_split(X,y,test_size=0.2,random_state=5)"
      ],
      "execution_count": 30,
      "outputs": []
    },
    {
      "cell_type": "code",
      "metadata": {
        "colab": {
          "base_uri": "https://localhost:8080/"
        },
        "id": "rmJyTysAVxXo",
        "outputId": "5b6ebf14-283c-44be-9b31-4a15d71276d8"
      },
      "source": [
        "X_train.shape"
      ],
      "execution_count": 31,
      "outputs": [
        {
          "output_type": "execute_result",
          "data": {
            "text/plain": [
              "(5625, 26)"
            ]
          },
          "metadata": {
            "tags": []
          },
          "execution_count": 31
        }
      ]
    },
    {
      "cell_type": "code",
      "metadata": {
        "colab": {
          "base_uri": "https://localhost:8080/"
        },
        "id": "rgxbPwBdVyXQ",
        "outputId": "5bd75d51-1c18-4c4c-ecff-7991a306c01e"
      },
      "source": [
        "X_test.shape"
      ],
      "execution_count": 32,
      "outputs": [
        {
          "output_type": "execute_result",
          "data": {
            "text/plain": [
              "(1407, 26)"
            ]
          },
          "metadata": {
            "tags": []
          },
          "execution_count": 32
        }
      ]
    },
    {
      "cell_type": "code",
      "metadata": {
        "colab": {
          "base_uri": "https://localhost:8080/",
          "height": 165
        },
        "id": "Cihx253nYsP1",
        "outputId": "43d46a0f-dd2f-4d52-f7c9-914059067def"
      },
      "source": [
        "X_train.head(2)"
      ],
      "execution_count": 33,
      "outputs": [
        {
          "output_type": "execute_result",
          "data": {
            "text/html": [
              "<div>\n",
              "<style scoped>\n",
              "    .dataframe tbody tr th:only-of-type {\n",
              "        vertical-align: middle;\n",
              "    }\n",
              "\n",
              "    .dataframe tbody tr th {\n",
              "        vertical-align: top;\n",
              "    }\n",
              "\n",
              "    .dataframe thead th {\n",
              "        text-align: right;\n",
              "    }\n",
              "</style>\n",
              "<table border=\"1\" class=\"dataframe\">\n",
              "  <thead>\n",
              "    <tr style=\"text-align: right;\">\n",
              "      <th></th>\n",
              "      <th>gender</th>\n",
              "      <th>SeniorCitizen</th>\n",
              "      <th>Partner</th>\n",
              "      <th>Dependents</th>\n",
              "      <th>tenure</th>\n",
              "      <th>PhoneService</th>\n",
              "      <th>MultipleLines</th>\n",
              "      <th>OnlineSecurity</th>\n",
              "      <th>OnlineBackup</th>\n",
              "      <th>DeviceProtection</th>\n",
              "      <th>TechSupport</th>\n",
              "      <th>StreamingTV</th>\n",
              "      <th>StreamingMovies</th>\n",
              "      <th>PaperlessBilling</th>\n",
              "      <th>MonthlyCharges</th>\n",
              "      <th>TotalCharges</th>\n",
              "      <th>InternetService_DSL</th>\n",
              "      <th>InternetService_Fiber optic</th>\n",
              "      <th>InternetService_No</th>\n",
              "      <th>Contract_Month-to-month</th>\n",
              "      <th>Contract_One year</th>\n",
              "      <th>Contract_Two year</th>\n",
              "      <th>PaymentMethod_Bank transfer (automatic)</th>\n",
              "      <th>PaymentMethod_Credit card (automatic)</th>\n",
              "      <th>PaymentMethod_Electronic check</th>\n",
              "      <th>PaymentMethod_Mailed check</th>\n",
              "    </tr>\n",
              "  </thead>\n",
              "  <tbody>\n",
              "    <tr>\n",
              "      <th>5664</th>\n",
              "      <td>1</td>\n",
              "      <td>1</td>\n",
              "      <td>0</td>\n",
              "      <td>0</td>\n",
              "      <td>0.126761</td>\n",
              "      <td>1</td>\n",
              "      <td>0</td>\n",
              "      <td>0</td>\n",
              "      <td>0</td>\n",
              "      <td>1</td>\n",
              "      <td>0</td>\n",
              "      <td>0</td>\n",
              "      <td>1</td>\n",
              "      <td>1</td>\n",
              "      <td>0.660199</td>\n",
              "      <td>0.097709</td>\n",
              "      <td>0</td>\n",
              "      <td>1</td>\n",
              "      <td>0</td>\n",
              "      <td>1</td>\n",
              "      <td>0</td>\n",
              "      <td>0</td>\n",
              "      <td>0</td>\n",
              "      <td>1</td>\n",
              "      <td>0</td>\n",
              "      <td>0</td>\n",
              "    </tr>\n",
              "    <tr>\n",
              "      <th>101</th>\n",
              "      <td>1</td>\n",
              "      <td>0</td>\n",
              "      <td>1</td>\n",
              "      <td>1</td>\n",
              "      <td>0.000000</td>\n",
              "      <td>1</td>\n",
              "      <td>0</td>\n",
              "      <td>0</td>\n",
              "      <td>0</td>\n",
              "      <td>0</td>\n",
              "      <td>0</td>\n",
              "      <td>0</td>\n",
              "      <td>0</td>\n",
              "      <td>0</td>\n",
              "      <td>0.011940</td>\n",
              "      <td>0.000075</td>\n",
              "      <td>0</td>\n",
              "      <td>0</td>\n",
              "      <td>1</td>\n",
              "      <td>1</td>\n",
              "      <td>0</td>\n",
              "      <td>0</td>\n",
              "      <td>0</td>\n",
              "      <td>0</td>\n",
              "      <td>1</td>\n",
              "      <td>0</td>\n",
              "    </tr>\n",
              "  </tbody>\n",
              "</table>\n",
              "</div>"
            ],
            "text/plain": [
              "      gender  ...  PaymentMethod_Mailed check\n",
              "5664       1  ...                           0\n",
              "101        1  ...                           0\n",
              "\n",
              "[2 rows x 26 columns]"
            ]
          },
          "metadata": {
            "tags": []
          },
          "execution_count": 33
        }
      ]
    },
    {
      "cell_type": "markdown",
      "metadata": {
        "id": "mpmXRETiWZ6s"
      },
      "source": [
        "**Build a model (ANN) in Keras**"
      ]
    },
    {
      "cell_type": "code",
      "metadata": {
        "id": "6BpClDuWV0sA"
      },
      "source": [
        "from keras.layers import Dense\r\n",
        "from keras.models import Sequential"
      ],
      "execution_count": 34,
      "outputs": []
    },
    {
      "cell_type": "code",
      "metadata": {
        "id": "GZX0T7FSWpm4"
      },
      "source": [
        "model= Sequential()"
      ],
      "execution_count": 35,
      "outputs": []
    },
    {
      "cell_type": "code",
      "metadata": {
        "id": "2h_nFE4tWyD5"
      },
      "source": [
        "model.add(Dense(units= 10, kernel_initializer= 'he_uniform', activation='relu', input_dim=26))\r\n",
        "model.add(Dense(units= 6, kernel_initializer= 'he_uniform', activation='relu'))\r\n",
        "model.add(Dense(units= 1, kernel_initializer= 'glorot_uniform', activation='sigmoid'))"
      ],
      "execution_count": 37,
      "outputs": []
    },
    {
      "cell_type": "code",
      "metadata": {
        "colab": {
          "base_uri": "https://localhost:8080/"
        },
        "id": "a1jasJaAYHle",
        "outputId": "9145ba44-4cee-4366-bf53-931b0fec86ca"
      },
      "source": [
        "model.summary()"
      ],
      "execution_count": 38,
      "outputs": [
        {
          "output_type": "stream",
          "text": [
            "Model: \"sequential\"\n",
            "_________________________________________________________________\n",
            "Layer (type)                 Output Shape              Param #   \n",
            "=================================================================\n",
            "dense (Dense)                (None, 10)                270       \n",
            "_________________________________________________________________\n",
            "dense_1 (Dense)              (None, 8)                 88        \n",
            "_________________________________________________________________\n",
            "dense_2 (Dense)              (None, 1)                 9         \n",
            "_________________________________________________________________\n",
            "dense_3 (Dense)              (None, 10)                20        \n",
            "_________________________________________________________________\n",
            "dense_4 (Dense)              (None, 6)                 66        \n",
            "_________________________________________________________________\n",
            "dense_5 (Dense)              (None, 1)                 7         \n",
            "=================================================================\n",
            "Total params: 460\n",
            "Trainable params: 460\n",
            "Non-trainable params: 0\n",
            "_________________________________________________________________\n"
          ],
          "name": "stdout"
        }
      ]
    },
    {
      "cell_type": "code",
      "metadata": {
        "id": "sauuLEbGYQwz"
      },
      "source": [
        "model.compile(loss= 'binary_crossentropy',\r\n",
        "             metrics= ['accuracy'],\r\n",
        "             optimizer= 'adam'\r\n",
        "             )"
      ],
      "execution_count": 39,
      "outputs": []
    },
    {
      "cell_type": "code",
      "metadata": {
        "colab": {
          "base_uri": "https://localhost:8080/"
        },
        "id": "WxUVmvsVYZTO",
        "outputId": "3905e2d5-c1d2-4efa-90d3-b5c281b5b1e5"
      },
      "source": [
        "# Fitting the ANN to the Training set\r\n",
        "model.fit(X_train, y_train, validation_split=0.35, batch_size = 10, epochs = 100)"
      ],
      "execution_count": 40,
      "outputs": [
        {
          "output_type": "stream",
          "text": [
            "Epoch 1/100\n",
            "366/366 [==============================] - 2s 4ms/step - loss: 0.6259 - accuracy: 0.6816 - val_loss: 0.5067 - val_accuracy: 0.7486\n",
            "Epoch 2/100\n",
            "366/366 [==============================] - 1s 3ms/step - loss: 0.4834 - accuracy: 0.7489 - val_loss: 0.4553 - val_accuracy: 0.7486\n",
            "Epoch 3/100\n",
            "366/366 [==============================] - 1s 3ms/step - loss: 0.4581 - accuracy: 0.7490 - val_loss: 0.4430 - val_accuracy: 0.7877\n",
            "Epoch 4/100\n",
            "366/366 [==============================] - 1s 3ms/step - loss: 0.4299 - accuracy: 0.8022 - val_loss: 0.4392 - val_accuracy: 0.7852\n",
            "Epoch 5/100\n",
            "366/366 [==============================] - 1s 3ms/step - loss: 0.4353 - accuracy: 0.7930 - val_loss: 0.4343 - val_accuracy: 0.7923\n",
            "Epoch 6/100\n",
            "366/366 [==============================] - 1s 4ms/step - loss: 0.4233 - accuracy: 0.7982 - val_loss: 0.4323 - val_accuracy: 0.7877\n",
            "Epoch 7/100\n",
            "366/366 [==============================] - 1s 3ms/step - loss: 0.4055 - accuracy: 0.8080 - val_loss: 0.4294 - val_accuracy: 0.7877\n",
            "Epoch 8/100\n",
            "366/366 [==============================] - 1s 3ms/step - loss: 0.4134 - accuracy: 0.8061 - val_loss: 0.4283 - val_accuracy: 0.7994\n",
            "Epoch 9/100\n",
            "366/366 [==============================] - 1s 3ms/step - loss: 0.4193 - accuracy: 0.8067 - val_loss: 0.4281 - val_accuracy: 0.7958\n",
            "Epoch 10/100\n",
            "366/366 [==============================] - 1s 3ms/step - loss: 0.4335 - accuracy: 0.7945 - val_loss: 0.4262 - val_accuracy: 0.7994\n",
            "Epoch 11/100\n",
            "366/366 [==============================] - 1s 3ms/step - loss: 0.4060 - accuracy: 0.8065 - val_loss: 0.4232 - val_accuracy: 0.7994\n",
            "Epoch 12/100\n",
            "366/366 [==============================] - 1s 3ms/step - loss: 0.4112 - accuracy: 0.8013 - val_loss: 0.4266 - val_accuracy: 0.7913\n",
            "Epoch 13/100\n",
            "366/366 [==============================] - 1s 3ms/step - loss: 0.4020 - accuracy: 0.8116 - val_loss: 0.4224 - val_accuracy: 0.7989\n",
            "Epoch 14/100\n",
            "366/366 [==============================] - 1s 3ms/step - loss: 0.4003 - accuracy: 0.8151 - val_loss: 0.4227 - val_accuracy: 0.8029\n",
            "Epoch 15/100\n",
            "366/366 [==============================] - 1s 3ms/step - loss: 0.4070 - accuracy: 0.8121 - val_loss: 0.4272 - val_accuracy: 0.7892\n",
            "Epoch 16/100\n",
            "366/366 [==============================] - 1s 3ms/step - loss: 0.4121 - accuracy: 0.7995 - val_loss: 0.4258 - val_accuracy: 0.7948\n",
            "Epoch 17/100\n",
            "366/366 [==============================] - 1s 3ms/step - loss: 0.3968 - accuracy: 0.8176 - val_loss: 0.4234 - val_accuracy: 0.8045\n",
            "Epoch 18/100\n",
            "366/366 [==============================] - 1s 3ms/step - loss: 0.3978 - accuracy: 0.8220 - val_loss: 0.4253 - val_accuracy: 0.7969\n",
            "Epoch 19/100\n",
            "366/366 [==============================] - 1s 3ms/step - loss: 0.3884 - accuracy: 0.8234 - val_loss: 0.4255 - val_accuracy: 0.7984\n",
            "Epoch 20/100\n",
            "366/366 [==============================] - 1s 3ms/step - loss: 0.4087 - accuracy: 0.8110 - val_loss: 0.4255 - val_accuracy: 0.7979\n",
            "Epoch 21/100\n",
            "366/366 [==============================] - 1s 3ms/step - loss: 0.3958 - accuracy: 0.8169 - val_loss: 0.4245 - val_accuracy: 0.8045\n",
            "Epoch 22/100\n",
            "366/366 [==============================] - 1s 3ms/step - loss: 0.4074 - accuracy: 0.8097 - val_loss: 0.4248 - val_accuracy: 0.8055\n",
            "Epoch 23/100\n",
            "366/366 [==============================] - 1s 3ms/step - loss: 0.3904 - accuracy: 0.8202 - val_loss: 0.4244 - val_accuracy: 0.8029\n",
            "Epoch 24/100\n",
            "366/366 [==============================] - 1s 3ms/step - loss: 0.3892 - accuracy: 0.8137 - val_loss: 0.4237 - val_accuracy: 0.8040\n",
            "Epoch 25/100\n",
            "366/366 [==============================] - 1s 3ms/step - loss: 0.3862 - accuracy: 0.8250 - val_loss: 0.4263 - val_accuracy: 0.8004\n",
            "Epoch 26/100\n",
            "366/366 [==============================] - 1s 3ms/step - loss: 0.3861 - accuracy: 0.8243 - val_loss: 0.4254 - val_accuracy: 0.8004\n",
            "Epoch 27/100\n",
            "366/366 [==============================] - 1s 3ms/step - loss: 0.4060 - accuracy: 0.8043 - val_loss: 0.4305 - val_accuracy: 0.7928\n",
            "Epoch 28/100\n",
            "366/366 [==============================] - 1s 3ms/step - loss: 0.4054 - accuracy: 0.8118 - val_loss: 0.4255 - val_accuracy: 0.8045\n",
            "Epoch 29/100\n",
            "366/366 [==============================] - 1s 3ms/step - loss: 0.4042 - accuracy: 0.8082 - val_loss: 0.4250 - val_accuracy: 0.8050\n",
            "Epoch 30/100\n",
            "366/366 [==============================] - 1s 3ms/step - loss: 0.3949 - accuracy: 0.8132 - val_loss: 0.4260 - val_accuracy: 0.8060\n",
            "Epoch 31/100\n",
            "366/366 [==============================] - 1s 3ms/step - loss: 0.3848 - accuracy: 0.8249 - val_loss: 0.4278 - val_accuracy: 0.8035\n",
            "Epoch 32/100\n",
            "366/366 [==============================] - 1s 3ms/step - loss: 0.3767 - accuracy: 0.8254 - val_loss: 0.4260 - val_accuracy: 0.8050\n",
            "Epoch 33/100\n",
            "366/366 [==============================] - 1s 3ms/step - loss: 0.3898 - accuracy: 0.8108 - val_loss: 0.4365 - val_accuracy: 0.7918\n",
            "Epoch 34/100\n",
            "366/366 [==============================] - 1s 3ms/step - loss: 0.3872 - accuracy: 0.8210 - val_loss: 0.4291 - val_accuracy: 0.8009\n",
            "Epoch 35/100\n",
            "366/366 [==============================] - 1s 3ms/step - loss: 0.3780 - accuracy: 0.8317 - val_loss: 0.4306 - val_accuracy: 0.8055\n",
            "Epoch 36/100\n",
            "366/366 [==============================] - 1s 3ms/step - loss: 0.3770 - accuracy: 0.8290 - val_loss: 0.4297 - val_accuracy: 0.8070\n",
            "Epoch 37/100\n",
            "366/366 [==============================] - 1s 3ms/step - loss: 0.3684 - accuracy: 0.8309 - val_loss: 0.4366 - val_accuracy: 0.7938\n",
            "Epoch 38/100\n",
            "366/366 [==============================] - 1s 3ms/step - loss: 0.3860 - accuracy: 0.8202 - val_loss: 0.4308 - val_accuracy: 0.8019\n",
            "Epoch 39/100\n",
            "366/366 [==============================] - 1s 3ms/step - loss: 0.3986 - accuracy: 0.8086 - val_loss: 0.4368 - val_accuracy: 0.7963\n",
            "Epoch 40/100\n",
            "366/366 [==============================] - 1s 3ms/step - loss: 0.3714 - accuracy: 0.8343 - val_loss: 0.4338 - val_accuracy: 0.7979\n",
            "Epoch 41/100\n",
            "366/366 [==============================] - 1s 3ms/step - loss: 0.3834 - accuracy: 0.8155 - val_loss: 0.4320 - val_accuracy: 0.7999\n",
            "Epoch 42/100\n",
            "366/366 [==============================] - 1s 3ms/step - loss: 0.3768 - accuracy: 0.8270 - val_loss: 0.4304 - val_accuracy: 0.8014\n",
            "Epoch 43/100\n",
            "366/366 [==============================] - 1s 3ms/step - loss: 0.3914 - accuracy: 0.8177 - val_loss: 0.4378 - val_accuracy: 0.8035\n",
            "Epoch 44/100\n",
            "366/366 [==============================] - 1s 3ms/step - loss: 0.3987 - accuracy: 0.8111 - val_loss: 0.4373 - val_accuracy: 0.8024\n",
            "Epoch 45/100\n",
            "366/366 [==============================] - 1s 3ms/step - loss: 0.3842 - accuracy: 0.8212 - val_loss: 0.4373 - val_accuracy: 0.8055\n",
            "Epoch 46/100\n",
            "366/366 [==============================] - 1s 3ms/step - loss: 0.3821 - accuracy: 0.8181 - val_loss: 0.4333 - val_accuracy: 0.8024\n",
            "Epoch 47/100\n",
            "366/366 [==============================] - 1s 3ms/step - loss: 0.3839 - accuracy: 0.8252 - val_loss: 0.4365 - val_accuracy: 0.8009\n",
            "Epoch 48/100\n",
            "366/366 [==============================] - 1s 3ms/step - loss: 0.3849 - accuracy: 0.8162 - val_loss: 0.4376 - val_accuracy: 0.7999\n",
            "Epoch 49/100\n",
            "366/366 [==============================] - 1s 3ms/step - loss: 0.3800 - accuracy: 0.8196 - val_loss: 0.4384 - val_accuracy: 0.8035\n",
            "Epoch 50/100\n",
            "366/366 [==============================] - 1s 3ms/step - loss: 0.3713 - accuracy: 0.8305 - val_loss: 0.4353 - val_accuracy: 0.7979\n",
            "Epoch 51/100\n",
            "366/366 [==============================] - 1s 3ms/step - loss: 0.3761 - accuracy: 0.8260 - val_loss: 0.4361 - val_accuracy: 0.7974\n",
            "Epoch 52/100\n",
            "366/366 [==============================] - 1s 3ms/step - loss: 0.3999 - accuracy: 0.8088 - val_loss: 0.4442 - val_accuracy: 0.7994\n",
            "Epoch 53/100\n",
            "366/366 [==============================] - 1s 3ms/step - loss: 0.3710 - accuracy: 0.8355 - val_loss: 0.4372 - val_accuracy: 0.7974\n",
            "Epoch 54/100\n",
            "366/366 [==============================] - 1s 3ms/step - loss: 0.3921 - accuracy: 0.8197 - val_loss: 0.4403 - val_accuracy: 0.8004\n",
            "Epoch 55/100\n",
            "366/366 [==============================] - 1s 3ms/step - loss: 0.3984 - accuracy: 0.8049 - val_loss: 0.4420 - val_accuracy: 0.7933\n",
            "Epoch 56/100\n",
            "366/366 [==============================] - 1s 3ms/step - loss: 0.3806 - accuracy: 0.8269 - val_loss: 0.4379 - val_accuracy: 0.7969\n",
            "Epoch 57/100\n",
            "366/366 [==============================] - 1s 3ms/step - loss: 0.3572 - accuracy: 0.8398 - val_loss: 0.4399 - val_accuracy: 0.7958\n",
            "Epoch 58/100\n",
            "366/366 [==============================] - 1s 3ms/step - loss: 0.3956 - accuracy: 0.8123 - val_loss: 0.4400 - val_accuracy: 0.7979\n",
            "Epoch 59/100\n",
            "366/366 [==============================] - 1s 3ms/step - loss: 0.3811 - accuracy: 0.8240 - val_loss: 0.4426 - val_accuracy: 0.7938\n",
            "Epoch 60/100\n",
            "366/366 [==============================] - 1s 3ms/step - loss: 0.3842 - accuracy: 0.8207 - val_loss: 0.4429 - val_accuracy: 0.7928\n",
            "Epoch 61/100\n",
            "366/366 [==============================] - 1s 3ms/step - loss: 0.3686 - accuracy: 0.8381 - val_loss: 0.4460 - val_accuracy: 0.7908\n",
            "Epoch 62/100\n",
            "366/366 [==============================] - 1s 3ms/step - loss: 0.3773 - accuracy: 0.8235 - val_loss: 0.4445 - val_accuracy: 0.7943\n",
            "Epoch 63/100\n",
            "366/366 [==============================] - 1s 3ms/step - loss: 0.3792 - accuracy: 0.8249 - val_loss: 0.4445 - val_accuracy: 0.7897\n",
            "Epoch 64/100\n",
            "366/366 [==============================] - 1s 3ms/step - loss: 0.3512 - accuracy: 0.8398 - val_loss: 0.4442 - val_accuracy: 0.7928\n",
            "Epoch 65/100\n",
            "366/366 [==============================] - 1s 3ms/step - loss: 0.3871 - accuracy: 0.8248 - val_loss: 0.4477 - val_accuracy: 0.7897\n",
            "Epoch 66/100\n",
            "366/366 [==============================] - 1s 3ms/step - loss: 0.3876 - accuracy: 0.8232 - val_loss: 0.4417 - val_accuracy: 0.7918\n",
            "Epoch 67/100\n",
            "366/366 [==============================] - 1s 3ms/step - loss: 0.3856 - accuracy: 0.8231 - val_loss: 0.4539 - val_accuracy: 0.7953\n",
            "Epoch 68/100\n",
            "366/366 [==============================] - 1s 3ms/step - loss: 0.3818 - accuracy: 0.8202 - val_loss: 0.4441 - val_accuracy: 0.7933\n",
            "Epoch 69/100\n",
            "366/366 [==============================] - 1s 3ms/step - loss: 0.3635 - accuracy: 0.8333 - val_loss: 0.4444 - val_accuracy: 0.7953\n",
            "Epoch 70/100\n",
            "366/366 [==============================] - 1s 3ms/step - loss: 0.3754 - accuracy: 0.8310 - val_loss: 0.4451 - val_accuracy: 0.7867\n",
            "Epoch 71/100\n",
            "366/366 [==============================] - 1s 3ms/step - loss: 0.3574 - accuracy: 0.8368 - val_loss: 0.4467 - val_accuracy: 0.7933\n",
            "Epoch 72/100\n",
            "366/366 [==============================] - 1s 3ms/step - loss: 0.3670 - accuracy: 0.8342 - val_loss: 0.4503 - val_accuracy: 0.7943\n",
            "Epoch 73/100\n",
            "366/366 [==============================] - 1s 3ms/step - loss: 0.3574 - accuracy: 0.8320 - val_loss: 0.4516 - val_accuracy: 0.7943\n",
            "Epoch 74/100\n",
            "366/366 [==============================] - 1s 3ms/step - loss: 0.3668 - accuracy: 0.8240 - val_loss: 0.4487 - val_accuracy: 0.7882\n",
            "Epoch 75/100\n",
            "366/366 [==============================] - 1s 3ms/step - loss: 0.3692 - accuracy: 0.8353 - val_loss: 0.4484 - val_accuracy: 0.7908\n",
            "Epoch 76/100\n",
            "366/366 [==============================] - 1s 3ms/step - loss: 0.3593 - accuracy: 0.8367 - val_loss: 0.4473 - val_accuracy: 0.7943\n",
            "Epoch 77/100\n",
            "366/366 [==============================] - 1s 3ms/step - loss: 0.3614 - accuracy: 0.8373 - val_loss: 0.4529 - val_accuracy: 0.7836\n",
            "Epoch 78/100\n",
            "366/366 [==============================] - 1s 3ms/step - loss: 0.3700 - accuracy: 0.8319 - val_loss: 0.4486 - val_accuracy: 0.7887\n",
            "Epoch 79/100\n",
            "366/366 [==============================] - 1s 3ms/step - loss: 0.3590 - accuracy: 0.8350 - val_loss: 0.4525 - val_accuracy: 0.7908\n",
            "Epoch 80/100\n",
            "366/366 [==============================] - 1s 3ms/step - loss: 0.3654 - accuracy: 0.8301 - val_loss: 0.4533 - val_accuracy: 0.7887\n",
            "Epoch 81/100\n",
            "366/366 [==============================] - 1s 3ms/step - loss: 0.3690 - accuracy: 0.8290 - val_loss: 0.4563 - val_accuracy: 0.7902\n",
            "Epoch 82/100\n",
            "366/366 [==============================] - 1s 3ms/step - loss: 0.3638 - accuracy: 0.8404 - val_loss: 0.4536 - val_accuracy: 0.7892\n",
            "Epoch 83/100\n",
            "366/366 [==============================] - 1s 3ms/step - loss: 0.3677 - accuracy: 0.8298 - val_loss: 0.4496 - val_accuracy: 0.7877\n",
            "Epoch 84/100\n",
            "366/366 [==============================] - 1s 3ms/step - loss: 0.3531 - accuracy: 0.8411 - val_loss: 0.4551 - val_accuracy: 0.7857\n",
            "Epoch 85/100\n",
            "366/366 [==============================] - 1s 3ms/step - loss: 0.3667 - accuracy: 0.8292 - val_loss: 0.4574 - val_accuracy: 0.7852\n",
            "Epoch 86/100\n",
            "366/366 [==============================] - 1s 3ms/step - loss: 0.3553 - accuracy: 0.8466 - val_loss: 0.4553 - val_accuracy: 0.7852\n",
            "Epoch 87/100\n",
            "366/366 [==============================] - 1s 3ms/step - loss: 0.3682 - accuracy: 0.8340 - val_loss: 0.4587 - val_accuracy: 0.7872\n",
            "Epoch 88/100\n",
            "366/366 [==============================] - 1s 3ms/step - loss: 0.3647 - accuracy: 0.8331 - val_loss: 0.4562 - val_accuracy: 0.7892\n",
            "Epoch 89/100\n",
            "366/366 [==============================] - 1s 3ms/step - loss: 0.3647 - accuracy: 0.8280 - val_loss: 0.4581 - val_accuracy: 0.7867\n",
            "Epoch 90/100\n",
            "366/366 [==============================] - 1s 3ms/step - loss: 0.3708 - accuracy: 0.8318 - val_loss: 0.4578 - val_accuracy: 0.7867\n",
            "Epoch 91/100\n",
            "366/366 [==============================] - 1s 3ms/step - loss: 0.3507 - accuracy: 0.8427 - val_loss: 0.4590 - val_accuracy: 0.7842\n",
            "Epoch 92/100\n",
            "366/366 [==============================] - 1s 3ms/step - loss: 0.3609 - accuracy: 0.8395 - val_loss: 0.4589 - val_accuracy: 0.7801\n",
            "Epoch 93/100\n",
            "366/366 [==============================] - 1s 3ms/step - loss: 0.3624 - accuracy: 0.8293 - val_loss: 0.4617 - val_accuracy: 0.7857\n",
            "Epoch 94/100\n",
            "366/366 [==============================] - 1s 3ms/step - loss: 0.3619 - accuracy: 0.8317 - val_loss: 0.4624 - val_accuracy: 0.7821\n",
            "Epoch 95/100\n",
            "366/366 [==============================] - 1s 3ms/step - loss: 0.3545 - accuracy: 0.8432 - val_loss: 0.4633 - val_accuracy: 0.7826\n",
            "Epoch 96/100\n",
            "366/366 [==============================] - 1s 3ms/step - loss: 0.3637 - accuracy: 0.8355 - val_loss: 0.4599 - val_accuracy: 0.7836\n",
            "Epoch 97/100\n",
            "366/366 [==============================] - 1s 3ms/step - loss: 0.3583 - accuracy: 0.8355 - val_loss: 0.4707 - val_accuracy: 0.7882\n",
            "Epoch 98/100\n",
            "366/366 [==============================] - 1s 3ms/step - loss: 0.3743 - accuracy: 0.8225 - val_loss: 0.4646 - val_accuracy: 0.7816\n",
            "Epoch 99/100\n",
            "366/366 [==============================] - 1s 3ms/step - loss: 0.3463 - accuracy: 0.8403 - val_loss: 0.4613 - val_accuracy: 0.7816\n",
            "Epoch 100/100\n",
            "366/366 [==============================] - 1s 3ms/step - loss: 0.3582 - accuracy: 0.8324 - val_loss: 0.4613 - val_accuracy: 0.7831\n"
          ],
          "name": "stdout"
        },
        {
          "output_type": "execute_result",
          "data": {
            "text/plain": [
              "<tensorflow.python.keras.callbacks.History at 0x7fd3701260b8>"
            ]
          },
          "metadata": {
            "tags": []
          },
          "execution_count": 40
        }
      ]
    },
    {
      "cell_type": "code",
      "metadata": {
        "colab": {
          "base_uri": "https://localhost:8080/"
        },
        "id": "O37iQ_MNZgf-",
        "outputId": "0af6eb8e-7b0c-4f24-8da8-dee2478499ec"
      },
      "source": [
        "model.evaluate(X_test,y_test)"
      ],
      "execution_count": 41,
      "outputs": [
        {
          "output_type": "stream",
          "text": [
            "44/44 [==============================] - 0s 2ms/step - loss: 0.4792 - accuracy: 0.7719\n"
          ],
          "name": "stdout"
        },
        {
          "output_type": "execute_result",
          "data": {
            "text/plain": [
              "[0.47919732332229614, 0.7718549966812134]"
            ]
          },
          "metadata": {
            "tags": []
          },
          "execution_count": 41
        }
      ]
    },
    {
      "cell_type": "code",
      "metadata": {
        "id": "J45FHjDMYjJ8"
      },
      "source": [
        "prediction= model.predict(X_test)"
      ],
      "execution_count": 42,
      "outputs": []
    },
    {
      "cell_type": "code",
      "metadata": {
        "colab": {
          "base_uri": "https://localhost:8080/"
        },
        "id": "bFD7Ba_adahw",
        "outputId": "a731aeac-6cbd-474c-8f7c-314903159832"
      },
      "source": [
        "prediction[:5]"
      ],
      "execution_count": 43,
      "outputs": [
        {
          "output_type": "execute_result",
          "data": {
            "text/plain": [
              "array([[0.17601883],\n",
              "       [0.27150568],\n",
              "       [0.00412084],\n",
              "       [0.7508967 ],\n",
              "       [0.6328335 ]], dtype=float32)"
            ]
          },
          "metadata": {
            "tags": []
          },
          "execution_count": 43
        }
      ]
    },
    {
      "cell_type": "code",
      "metadata": {
        "id": "oXn5KbvFd21F"
      },
      "source": [
        "y_pred= list()\r\n",
        "for i in prediction:\r\n",
        "  if i >=0.5:\r\n",
        "    y_pred.append(1)\r\n",
        "  else:\r\n",
        "    y_pred.append(0)"
      ],
      "execution_count": 44,
      "outputs": []
    },
    {
      "cell_type": "code",
      "metadata": {
        "colab": {
          "base_uri": "https://localhost:8080/"
        },
        "id": "blYzrolmd2lF",
        "outputId": "dbb21033-e6ff-40de-f484-051357f738c5"
      },
      "source": [
        "y_pred[:5]"
      ],
      "execution_count": 45,
      "outputs": [
        {
          "output_type": "execute_result",
          "data": {
            "text/plain": [
              "[0, 0, 0, 1, 1]"
            ]
          },
          "metadata": {
            "tags": []
          },
          "execution_count": 45
        }
      ]
    },
    {
      "cell_type": "code",
      "metadata": {
        "colab": {
          "base_uri": "https://localhost:8080/"
        },
        "id": "UHpfOeAPJJJx",
        "outputId": "01b8a1d8-053b-4b3a-e42b-f659f69550ab"
      },
      "source": [
        "y_test[:5]"
      ],
      "execution_count": 46,
      "outputs": [
        {
          "output_type": "execute_result",
          "data": {
            "text/plain": [
              "2660    0\n",
              "744     0\n",
              "5579    1\n",
              "64      1\n",
              "3287    1\n",
              "Name: Churn, dtype: int64"
            ]
          },
          "metadata": {
            "tags": []
          },
          "execution_count": 46
        }
      ]
    },
    {
      "cell_type": "code",
      "metadata": {
        "id": "yZXQ4nMMdjuJ"
      },
      "source": [
        "\r\n",
        "# Making the Confusion Matrix and Classification Report\r\n",
        "from sklearn.metrics import confusion_matrix, classification_report\r\n",
        "cm = confusion_matrix(y_test, y_pred)"
      ],
      "execution_count": 47,
      "outputs": []
    },
    {
      "cell_type": "code",
      "metadata": {
        "colab": {
          "base_uri": "https://localhost:8080/"
        },
        "id": "c2CjjakleV8K",
        "outputId": "e12fa0e2-b31b-43b7-d017-648c24a8a950"
      },
      "source": [
        "cm"
      ],
      "execution_count": 48,
      "outputs": [
        {
          "output_type": "execute_result",
          "data": {
            "text/plain": [
              "array([[864, 135],\n",
              "       [186, 222]])"
            ]
          },
          "metadata": {
            "tags": []
          },
          "execution_count": 48
        }
      ]
    },
    {
      "cell_type": "code",
      "metadata": {
        "colab": {
          "base_uri": "https://localhost:8080/"
        },
        "id": "sJOEV6wHebm-",
        "outputId": "1aff7b33-9f2d-450f-a406-f8fb2df9f0aa"
      },
      "source": [
        "print(classification_report(y_test,y_pred))"
      ],
      "execution_count": 49,
      "outputs": [
        {
          "output_type": "stream",
          "text": [
            "              precision    recall  f1-score   support\n",
            "\n",
            "           0       0.82      0.86      0.84       999\n",
            "           1       0.62      0.54      0.58       408\n",
            "\n",
            "    accuracy                           0.77      1407\n",
            "   macro avg       0.72      0.70      0.71      1407\n",
            "weighted avg       0.76      0.77      0.77      1407\n",
            "\n"
          ],
          "name": "stdout"
        }
      ]
    },
    {
      "cell_type": "code",
      "metadata": {
        "colab": {
          "base_uri": "https://localhost:8080/",
          "height": 459
        },
        "id": "8vazMg3Jel6z",
        "outputId": "a8a52616-48e8-4787-a2e8-78aadf53de03"
      },
      "source": [
        "import seaborn as sns\r\n",
        "\r\n",
        "plt.figure(figsize = (10,7))\r\n",
        "sns.heatmap(cm, annot=True,  fmt='d')\r\n",
        "plt.xlabel('Predicted')\r\n",
        "plt.ylabel('Truth')"
      ],
      "execution_count": 50,
      "outputs": [
        {
          "output_type": "execute_result",
          "data": {
            "text/plain": [
              "Text(69.0, 0.5, 'Truth')"
            ]
          },
          "metadata": {
            "tags": []
          },
          "execution_count": 50
        },
        {
          "output_type": "display_data",
          "data": {
            "image/png": "[encoded data removed]",
            "text/plain": [
              "<Figure size 720x504 with 2 Axes>"
            ]
          },
          "metadata": {
            "tags": [],
            "needs_background": "light"
          }
        }
      ]
    },
    {
      "cell_type": "markdown",
      "metadata": {
        "id": "wOLieWBHJll0"
      },
      "source": [
        "**Imbalanced data**"
      ]
    },
    {
      "cell_type": "code",
      "metadata": {
        "colab": {
          "base_uri": "https://localhost:8080/"
        },
        "id": "FMmtwcqHJlOv",
        "outputId": "a6919f69-a00b-44b9-ab20-c29d16697e4b"
      },
      "source": [
        "df2[df2.Churn==0].shape"
      ],
      "execution_count": 51,
      "outputs": [
        {
          "output_type": "execute_result",
          "data": {
            "text/plain": [
              "(5163, 27)"
            ]
          },
          "metadata": {
            "tags": []
          },
          "execution_count": 51
        }
      ]
    },
    {
      "cell_type": "code",
      "metadata": {
        "colab": {
          "base_uri": "https://localhost:8080/"
        },
        "id": "0ARXjDFeJ45A",
        "outputId": "f22bb4c9-caea-42e9-c1cf-fcb9f982fa55"
      },
      "source": [
        "df2[df2.Churn==1].shape"
      ],
      "execution_count": 52,
      "outputs": [
        {
          "output_type": "execute_result",
          "data": {
            "text/plain": [
              "(1869, 27)"
            ]
          },
          "metadata": {
            "tags": []
          },
          "execution_count": 52
        }
      ]
    },
    {
      "cell_type": "markdown",
      "metadata": {
        "id": "2OGXpcxEJ76G"
      },
      "source": [
        "As target column contains more No data than Yes, it creates our data imbalanced and also will behave horribly in reality. We want to improve f1-score for Yes data."
      ]
    },
    {
      "cell_type": "markdown",
      "metadata": {
        "id": "WIb7Qk3xKzy4"
      },
      "source": [
        "**SMOTE technique**"
      ]
    },
    {
      "cell_type": "code",
      "metadata": {
        "colab": {
          "base_uri": "https://localhost:8080/",
          "height": 165
        },
        "id": "B3Y4XTcyJ64w",
        "outputId": "83fd58e5-f379-4187-ddbe-ab1650cecccf"
      },
      "source": [
        "X.head(2)"
      ],
      "execution_count": 53,
      "outputs": [
        {
          "output_type": "execute_result",
          "data": {
            "text/html": [
              "<div>\n",
              "<style scoped>\n",
              "    .dataframe tbody tr th:only-of-type {\n",
              "        vertical-align: middle;\n",
              "    }\n",
              "\n",
              "    .dataframe tbody tr th {\n",
              "        vertical-align: top;\n",
              "    }\n",
              "\n",
              "    .dataframe thead th {\n",
              "        text-align: right;\n",
              "    }\n",
              "</style>\n",
              "<table border=\"1\" class=\"dataframe\">\n",
              "  <thead>\n",
              "    <tr style=\"text-align: right;\">\n",
              "      <th></th>\n",
              "      <th>gender</th>\n",
              "      <th>SeniorCitizen</th>\n",
              "      <th>Partner</th>\n",
              "      <th>Dependents</th>\n",
              "      <th>tenure</th>\n",
              "      <th>PhoneService</th>\n",
              "      <th>MultipleLines</th>\n",
              "      <th>OnlineSecurity</th>\n",
              "      <th>OnlineBackup</th>\n",
              "      <th>DeviceProtection</th>\n",
              "      <th>TechSupport</th>\n",
              "      <th>StreamingTV</th>\n",
              "      <th>StreamingMovies</th>\n",
              "      <th>PaperlessBilling</th>\n",
              "      <th>MonthlyCharges</th>\n",
              "      <th>TotalCharges</th>\n",
              "      <th>InternetService_DSL</th>\n",
              "      <th>InternetService_Fiber optic</th>\n",
              "      <th>InternetService_No</th>\n",
              "      <th>Contract_Month-to-month</th>\n",
              "      <th>Contract_One year</th>\n",
              "      <th>Contract_Two year</th>\n",
              "      <th>PaymentMethod_Bank transfer (automatic)</th>\n",
              "      <th>PaymentMethod_Credit card (automatic)</th>\n",
              "      <th>PaymentMethod_Electronic check</th>\n",
              "      <th>PaymentMethod_Mailed check</th>\n",
              "    </tr>\n",
              "  </thead>\n",
              "  <tbody>\n",
              "    <tr>\n",
              "      <th>0</th>\n",
              "      <td>1</td>\n",
              "      <td>0</td>\n",
              "      <td>1</td>\n",
              "      <td>0</td>\n",
              "      <td>0.000000</td>\n",
              "      <td>0</td>\n",
              "      <td>0</td>\n",
              "      <td>0</td>\n",
              "      <td>1</td>\n",
              "      <td>0</td>\n",
              "      <td>0</td>\n",
              "      <td>0</td>\n",
              "      <td>0</td>\n",
              "      <td>1</td>\n",
              "      <td>0.115423</td>\n",
              "      <td>0.001275</td>\n",
              "      <td>1</td>\n",
              "      <td>0</td>\n",
              "      <td>0</td>\n",
              "      <td>1</td>\n",
              "      <td>0</td>\n",
              "      <td>0</td>\n",
              "      <td>0</td>\n",
              "      <td>0</td>\n",
              "      <td>1</td>\n",
              "      <td>0</td>\n",
              "    </tr>\n",
              "    <tr>\n",
              "      <th>1</th>\n",
              "      <td>0</td>\n",
              "      <td>0</td>\n",
              "      <td>0</td>\n",
              "      <td>0</td>\n",
              "      <td>0.464789</td>\n",
              "      <td>1</td>\n",
              "      <td>0</td>\n",
              "      <td>1</td>\n",
              "      <td>0</td>\n",
              "      <td>1</td>\n",
              "      <td>0</td>\n",
              "      <td>0</td>\n",
              "      <td>0</td>\n",
              "      <td>0</td>\n",
              "      <td>0.385075</td>\n",
              "      <td>0.215867</td>\n",
              "      <td>1</td>\n",
              "      <td>0</td>\n",
              "      <td>0</td>\n",
              "      <td>0</td>\n",
              "      <td>1</td>\n",
              "      <td>0</td>\n",
              "      <td>0</td>\n",
              "      <td>0</td>\n",
              "      <td>0</td>\n",
              "      <td>1</td>\n",
              "    </tr>\n",
              "  </tbody>\n",
              "</table>\n",
              "</div>"
            ],
            "text/plain": [
              "   gender  ...  PaymentMethod_Mailed check\n",
              "0       1  ...                           0\n",
              "1       0  ...                           1\n",
              "\n",
              "[2 rows x 26 columns]"
            ]
          },
          "metadata": {
            "tags": []
          },
          "execution_count": 53
        }
      ]
    },
    {
      "cell_type": "code",
      "metadata": {
        "colab": {
          "base_uri": "https://localhost:8080/"
        },
        "id": "o-iO8r0KOAR-",
        "outputId": "e5e15c4e-c893-4ee2-9f3b-4df7a108acdb"
      },
      "source": [
        "y.value_counts()"
      ],
      "execution_count": 54,
      "outputs": [
        {
          "output_type": "execute_result",
          "data": {
            "text/plain": [
              "0    5163\n",
              "1    1869\n",
              "Name: Churn, dtype: int64"
            ]
          },
          "metadata": {
            "tags": []
          },
          "execution_count": 54
        }
      ]
    },
    {
      "cell_type": "code",
      "metadata": {
        "id": "cgzBR3ZVNRbs"
      },
      "source": [
        "\r\n",
        "from imblearn.over_sampling import SMOTE\r\n",
        "\r\n",
        "smote = SMOTE(sampling_strategy='minority')\r\n",
        "X_sm, y_sm = smote.fit_sample(X, y)"
      ],
      "execution_count": 55,
      "outputs": []
    },
    {
      "cell_type": "code",
      "metadata": {
        "id": "kj3w6JeAN6DI"
      },
      "source": [
        "from sklearn.model_selection import train_test_split\r\n",
        "X_train, X_test, y_train, y_test = train_test_split(X_sm, y_sm, test_size=0.2, random_state=15, stratify=y_sm)"
      ],
      "execution_count": 58,
      "outputs": []
    },
    {
      "cell_type": "markdown",
      "metadata": {
        "id": "wRGeMNrIRpSP"
      },
      "source": [
        "**ANN with balanced data**"
      ]
    },
    {
      "cell_type": "code",
      "metadata": {
        "colab": {
          "base_uri": "https://localhost:8080/"
        },
        "id": "CttKQPJnRiKg",
        "outputId": "78b152a4-fe21-4bdb-ee58-5707b54901f4"
      },
      "source": [
        "classifier= Sequential()\r\n",
        "classifier.add(Dense(units= 10, kernel_initializer= 'he_uniform', activation='relu', input_dim=26))\r\n",
        "classifier.add(Dense(units= 6, kernel_initializer= 'he_uniform', activation='relu'))\r\n",
        "classifier.add(Dense(units= 1, kernel_initializer= 'glorot_uniform', activation='sigmoid'))\r\n",
        "classifier.summary()"
      ],
      "execution_count": 60,
      "outputs": [
        {
          "output_type": "stream",
          "text": [
            "Model: \"sequential_1\"\n",
            "_________________________________________________________________\n",
            "Layer (type)                 Output Shape              Param #   \n",
            "=================================================================\n",
            "dense_6 (Dense)              (None, 10)                270       \n",
            "_________________________________________________________________\n",
            "dense_7 (Dense)              (None, 6)                 66        \n",
            "_________________________________________________________________\n",
            "dense_8 (Dense)              (None, 1)                 7         \n",
            "=================================================================\n",
            "Total params: 343\n",
            "Trainable params: 343\n",
            "Non-trainable params: 0\n",
            "_________________________________________________________________\n"
          ],
          "name": "stdout"
        }
      ]
    },
    {
      "cell_type": "code",
      "metadata": {
        "id": "JsuK2qEYR6QP"
      },
      "source": [
        "classifier.compile(loss= 'binary_crossentropy',\r\n",
        "             metrics= ['accuracy'],\r\n",
        "             optimizer= 'adam'\r\n",
        "             )"
      ],
      "execution_count": 61,
      "outputs": []
    },
    {
      "cell_type": "code",
      "metadata": {
        "colab": {
          "base_uri": "https://localhost:8080/"
        },
        "id": "a-aifhvfR9Zh",
        "outputId": "25fee20a-2730-49a2-f915-96f4bd9660f4"
      },
      "source": [
        "# Fitting the ANN to the Training set\r\n",
        "classifier.fit(X_train, y_train, validation_split=0.35, batch_size = 10, epochs = 100)"
      ],
      "execution_count": 62,
      "outputs": [
        {
          "output_type": "stream",
          "text": [
            "Epoch 1/100\n",
            "537/537 [==============================] - 2s 3ms/step - loss: 0.6409 - accuracy: 0.6097 - val_loss: 0.5043 - val_accuracy: 0.7541\n",
            "Epoch 2/100\n",
            "537/537 [==============================] - 2s 3ms/step - loss: 0.4968 - accuracy: 0.7688 - val_loss: 0.4919 - val_accuracy: 0.7586\n",
            "Epoch 3/100\n",
            "537/537 [==============================] - 2s 3ms/step - loss: 0.4836 - accuracy: 0.7711 - val_loss: 0.4869 - val_accuracy: 0.7613\n",
            "Epoch 4/100\n",
            "537/537 [==============================] - 2s 3ms/step - loss: 0.4755 - accuracy: 0.7722 - val_loss: 0.4864 - val_accuracy: 0.7658\n",
            "Epoch 5/100\n",
            "537/537 [==============================] - 2s 3ms/step - loss: 0.4776 - accuracy: 0.7698 - val_loss: 0.4809 - val_accuracy: 0.7665\n",
            "Epoch 6/100\n",
            "537/537 [==============================] - 2s 3ms/step - loss: 0.4642 - accuracy: 0.7833 - val_loss: 0.4765 - val_accuracy: 0.7700\n",
            "Epoch 7/100\n",
            "537/537 [==============================] - 1s 3ms/step - loss: 0.4813 - accuracy: 0.7637 - val_loss: 0.4756 - val_accuracy: 0.7731\n",
            "Epoch 8/100\n",
            "537/537 [==============================] - 2s 3ms/step - loss: 0.4820 - accuracy: 0.7678 - val_loss: 0.4724 - val_accuracy: 0.7790\n",
            "Epoch 9/100\n",
            "537/537 [==============================] - 2s 3ms/step - loss: 0.4596 - accuracy: 0.7884 - val_loss: 0.4757 - val_accuracy: 0.7689\n",
            "Epoch 10/100\n",
            "537/537 [==============================] - 2s 3ms/step - loss: 0.4678 - accuracy: 0.7792 - val_loss: 0.4704 - val_accuracy: 0.7790\n",
            "Epoch 11/100\n",
            "537/537 [==============================] - 2s 3ms/step - loss: 0.4589 - accuracy: 0.7867 - val_loss: 0.4694 - val_accuracy: 0.7772\n",
            "Epoch 12/100\n",
            "537/537 [==============================] - 2s 3ms/step - loss: 0.4505 - accuracy: 0.7951 - val_loss: 0.4706 - val_accuracy: 0.7762\n",
            "Epoch 13/100\n",
            "537/537 [==============================] - 2s 3ms/step - loss: 0.4466 - accuracy: 0.7964 - val_loss: 0.4698 - val_accuracy: 0.7762\n",
            "Epoch 14/100\n",
            "537/537 [==============================] - 2s 3ms/step - loss: 0.4589 - accuracy: 0.7791 - val_loss: 0.4691 - val_accuracy: 0.7797\n",
            "Epoch 15/100\n",
            "537/537 [==============================] - 2s 3ms/step - loss: 0.4512 - accuracy: 0.7886 - val_loss: 0.4699 - val_accuracy: 0.7779\n",
            "Epoch 16/100\n",
            "537/537 [==============================] - 2s 3ms/step - loss: 0.4558 - accuracy: 0.7845 - val_loss: 0.4689 - val_accuracy: 0.7727\n",
            "Epoch 17/100\n",
            "537/537 [==============================] - 1s 3ms/step - loss: 0.4496 - accuracy: 0.7879 - val_loss: 0.4676 - val_accuracy: 0.7783\n",
            "Epoch 18/100\n",
            "537/537 [==============================] - 2s 3ms/step - loss: 0.4383 - accuracy: 0.7873 - val_loss: 0.4687 - val_accuracy: 0.7814\n",
            "Epoch 19/100\n",
            "537/537 [==============================] - 2s 3ms/step - loss: 0.4533 - accuracy: 0.7866 - val_loss: 0.4669 - val_accuracy: 0.7790\n",
            "Epoch 20/100\n",
            "537/537 [==============================] - 2s 3ms/step - loss: 0.4627 - accuracy: 0.7797 - val_loss: 0.4690 - val_accuracy: 0.7779\n",
            "Epoch 21/100\n",
            "537/537 [==============================] - 2s 3ms/step - loss: 0.4393 - accuracy: 0.7926 - val_loss: 0.4666 - val_accuracy: 0.7772\n",
            "Epoch 22/100\n",
            "537/537 [==============================] - 2s 3ms/step - loss: 0.4526 - accuracy: 0.7859 - val_loss: 0.4666 - val_accuracy: 0.7786\n",
            "Epoch 23/100\n",
            "537/537 [==============================] - 1s 3ms/step - loss: 0.4449 - accuracy: 0.7916 - val_loss: 0.4648 - val_accuracy: 0.7793\n",
            "Epoch 24/100\n",
            "537/537 [==============================] - 2s 3ms/step - loss: 0.4512 - accuracy: 0.7844 - val_loss: 0.4692 - val_accuracy: 0.7714\n",
            "Epoch 25/100\n",
            "537/537 [==============================] - 2s 3ms/step - loss: 0.4372 - accuracy: 0.7946 - val_loss: 0.4669 - val_accuracy: 0.7755\n",
            "Epoch 26/100\n",
            "537/537 [==============================] - 2s 3ms/step - loss: 0.4437 - accuracy: 0.7888 - val_loss: 0.4663 - val_accuracy: 0.7748\n",
            "Epoch 27/100\n",
            "537/537 [==============================] - 2s 3ms/step - loss: 0.4411 - accuracy: 0.7972 - val_loss: 0.4704 - val_accuracy: 0.7703\n",
            "Epoch 28/100\n",
            "537/537 [==============================] - 2s 3ms/step - loss: 0.4484 - accuracy: 0.7859 - val_loss: 0.4660 - val_accuracy: 0.7769\n",
            "Epoch 29/100\n",
            "537/537 [==============================] - 2s 3ms/step - loss: 0.4498 - accuracy: 0.7900 - val_loss: 0.4657 - val_accuracy: 0.7772\n",
            "Epoch 30/100\n",
            "537/537 [==============================] - 2s 3ms/step - loss: 0.4448 - accuracy: 0.7906 - val_loss: 0.4690 - val_accuracy: 0.7721\n",
            "Epoch 31/100\n",
            "537/537 [==============================] - 2s 3ms/step - loss: 0.4497 - accuracy: 0.7879 - val_loss: 0.4685 - val_accuracy: 0.7776\n",
            "Epoch 32/100\n",
            "537/537 [==============================] - 2s 3ms/step - loss: 0.4309 - accuracy: 0.8041 - val_loss: 0.4659 - val_accuracy: 0.7710\n",
            "Epoch 33/100\n",
            "537/537 [==============================] - 2s 3ms/step - loss: 0.4493 - accuracy: 0.7911 - val_loss: 0.4693 - val_accuracy: 0.7734\n",
            "Epoch 34/100\n",
            "537/537 [==============================] - 2s 3ms/step - loss: 0.4452 - accuracy: 0.7927 - val_loss: 0.4661 - val_accuracy: 0.7745\n",
            "Epoch 35/100\n",
            "537/537 [==============================] - 2s 3ms/step - loss: 0.4398 - accuracy: 0.7957 - val_loss: 0.4660 - val_accuracy: 0.7779\n",
            "Epoch 36/100\n",
            "537/537 [==============================] - 2s 3ms/step - loss: 0.4440 - accuracy: 0.7943 - val_loss: 0.4643 - val_accuracy: 0.7817\n",
            "Epoch 37/100\n",
            "537/537 [==============================] - 2s 3ms/step - loss: 0.4351 - accuracy: 0.7939 - val_loss: 0.4669 - val_accuracy: 0.7769\n",
            "Epoch 38/100\n",
            "537/537 [==============================] - 2s 3ms/step - loss: 0.4417 - accuracy: 0.7926 - val_loss: 0.4667 - val_accuracy: 0.7738\n",
            "Epoch 39/100\n",
            "537/537 [==============================] - 2s 3ms/step - loss: 0.4464 - accuracy: 0.7902 - val_loss: 0.4670 - val_accuracy: 0.7738\n",
            "Epoch 40/100\n",
            "537/537 [==============================] - 2s 3ms/step - loss: 0.4301 - accuracy: 0.7997 - val_loss: 0.4663 - val_accuracy: 0.7783\n",
            "Epoch 41/100\n",
            "537/537 [==============================] - 2s 3ms/step - loss: 0.4310 - accuracy: 0.7985 - val_loss: 0.4669 - val_accuracy: 0.7797\n",
            "Epoch 42/100\n",
            "537/537 [==============================] - 2s 3ms/step - loss: 0.4423 - accuracy: 0.7925 - val_loss: 0.4693 - val_accuracy: 0.7724\n",
            "Epoch 43/100\n",
            "537/537 [==============================] - 2s 3ms/step - loss: 0.4464 - accuracy: 0.7910 - val_loss: 0.4675 - val_accuracy: 0.7731\n",
            "Epoch 44/100\n",
            "537/537 [==============================] - 2s 3ms/step - loss: 0.4486 - accuracy: 0.7876 - val_loss: 0.4679 - val_accuracy: 0.7745\n",
            "Epoch 45/100\n",
            "537/537 [==============================] - 2s 3ms/step - loss: 0.4312 - accuracy: 0.7946 - val_loss: 0.4683 - val_accuracy: 0.7779\n",
            "Epoch 46/100\n",
            "537/537 [==============================] - 2s 3ms/step - loss: 0.4405 - accuracy: 0.7965 - val_loss: 0.4664 - val_accuracy: 0.7790\n",
            "Epoch 47/100\n",
            "537/537 [==============================] - 2s 3ms/step - loss: 0.4266 - accuracy: 0.7988 - val_loss: 0.4683 - val_accuracy: 0.7762\n",
            "Epoch 48/100\n",
            "537/537 [==============================] - 2s 3ms/step - loss: 0.4308 - accuracy: 0.8050 - val_loss: 0.4661 - val_accuracy: 0.7772\n",
            "Epoch 49/100\n",
            "537/537 [==============================] - 2s 3ms/step - loss: 0.4348 - accuracy: 0.7914 - val_loss: 0.4685 - val_accuracy: 0.7769\n",
            "Epoch 50/100\n",
            "537/537 [==============================] - 2s 3ms/step - loss: 0.4385 - accuracy: 0.7946 - val_loss: 0.4672 - val_accuracy: 0.7762\n",
            "Epoch 51/100\n",
            "537/537 [==============================] - 2s 3ms/step - loss: 0.4342 - accuracy: 0.7957 - val_loss: 0.4651 - val_accuracy: 0.7783\n",
            "Epoch 52/100\n",
            "537/537 [==============================] - 2s 3ms/step - loss: 0.4466 - accuracy: 0.7917 - val_loss: 0.4664 - val_accuracy: 0.7745\n",
            "Epoch 53/100\n",
            "537/537 [==============================] - 2s 3ms/step - loss: 0.4286 - accuracy: 0.7997 - val_loss: 0.4656 - val_accuracy: 0.7765\n",
            "Epoch 54/100\n",
            "537/537 [==============================] - 2s 3ms/step - loss: 0.4433 - accuracy: 0.7899 - val_loss: 0.4677 - val_accuracy: 0.7786\n",
            "Epoch 55/100\n",
            "537/537 [==============================] - 2s 3ms/step - loss: 0.4396 - accuracy: 0.7902 - val_loss: 0.4674 - val_accuracy: 0.7783\n",
            "Epoch 56/100\n",
            "537/537 [==============================] - 2s 3ms/step - loss: 0.4244 - accuracy: 0.7975 - val_loss: 0.4652 - val_accuracy: 0.7765\n",
            "Epoch 57/100\n",
            "537/537 [==============================] - 2s 3ms/step - loss: 0.4404 - accuracy: 0.7939 - val_loss: 0.4664 - val_accuracy: 0.7714\n",
            "Epoch 58/100\n",
            "537/537 [==============================] - 2s 3ms/step - loss: 0.4467 - accuracy: 0.7871 - val_loss: 0.4649 - val_accuracy: 0.7762\n",
            "Epoch 59/100\n",
            "537/537 [==============================] - 2s 3ms/step - loss: 0.4344 - accuracy: 0.7996 - val_loss: 0.4651 - val_accuracy: 0.7748\n",
            "Epoch 60/100\n",
            "537/537 [==============================] - 2s 3ms/step - loss: 0.4386 - accuracy: 0.7942 - val_loss: 0.4659 - val_accuracy: 0.7772\n",
            "Epoch 61/100\n",
            "537/537 [==============================] - 2s 3ms/step - loss: 0.4235 - accuracy: 0.8012 - val_loss: 0.4657 - val_accuracy: 0.7731\n",
            "Epoch 62/100\n",
            "537/537 [==============================] - 2s 3ms/step - loss: 0.4317 - accuracy: 0.7940 - val_loss: 0.4670 - val_accuracy: 0.7738\n",
            "Epoch 63/100\n",
            "537/537 [==============================] - 2s 3ms/step - loss: 0.4199 - accuracy: 0.8038 - val_loss: 0.4655 - val_accuracy: 0.7748\n",
            "Epoch 64/100\n",
            "537/537 [==============================] - 2s 3ms/step - loss: 0.4285 - accuracy: 0.8013 - val_loss: 0.4666 - val_accuracy: 0.7765\n",
            "Epoch 65/100\n",
            "537/537 [==============================] - 2s 3ms/step - loss: 0.4299 - accuracy: 0.7974 - val_loss: 0.4643 - val_accuracy: 0.7779\n",
            "Epoch 66/100\n",
            "537/537 [==============================] - 2s 3ms/step - loss: 0.4283 - accuracy: 0.7986 - val_loss: 0.4655 - val_accuracy: 0.7762\n",
            "Epoch 67/100\n",
            "537/537 [==============================] - 2s 3ms/step - loss: 0.4233 - accuracy: 0.8032 - val_loss: 0.4640 - val_accuracy: 0.7769\n",
            "Epoch 68/100\n",
            "537/537 [==============================] - 2s 3ms/step - loss: 0.4354 - accuracy: 0.7973 - val_loss: 0.4691 - val_accuracy: 0.7727\n",
            "Epoch 69/100\n",
            "537/537 [==============================] - 2s 3ms/step - loss: 0.4276 - accuracy: 0.8057 - val_loss: 0.4693 - val_accuracy: 0.7797\n",
            "Epoch 70/100\n",
            "537/537 [==============================] - 2s 3ms/step - loss: 0.4286 - accuracy: 0.8026 - val_loss: 0.4654 - val_accuracy: 0.7721\n",
            "Epoch 71/100\n",
            "537/537 [==============================] - 2s 3ms/step - loss: 0.4219 - accuracy: 0.7997 - val_loss: 0.4649 - val_accuracy: 0.7741\n",
            "Epoch 72/100\n",
            "537/537 [==============================] - 2s 3ms/step - loss: 0.4335 - accuracy: 0.7878 - val_loss: 0.4679 - val_accuracy: 0.7790\n",
            "Epoch 73/100\n",
            "537/537 [==============================] - 2s 3ms/step - loss: 0.4408 - accuracy: 0.7915 - val_loss: 0.4679 - val_accuracy: 0.7797\n",
            "Epoch 74/100\n",
            "537/537 [==============================] - 2s 3ms/step - loss: 0.4298 - accuracy: 0.7898 - val_loss: 0.4661 - val_accuracy: 0.7790\n",
            "Epoch 75/100\n",
            "537/537 [==============================] - 2s 3ms/step - loss: 0.4227 - accuracy: 0.8063 - val_loss: 0.4666 - val_accuracy: 0.7738\n",
            "Epoch 76/100\n",
            "537/537 [==============================] - 2s 3ms/step - loss: 0.4267 - accuracy: 0.8075 - val_loss: 0.4647 - val_accuracy: 0.7759\n",
            "Epoch 77/100\n",
            "537/537 [==============================] - 2s 3ms/step - loss: 0.4323 - accuracy: 0.7969 - val_loss: 0.4671 - val_accuracy: 0.7776\n",
            "Epoch 78/100\n",
            "537/537 [==============================] - 2s 3ms/step - loss: 0.4214 - accuracy: 0.8068 - val_loss: 0.4663 - val_accuracy: 0.7755\n",
            "Epoch 79/100\n",
            "537/537 [==============================] - 2s 3ms/step - loss: 0.4174 - accuracy: 0.8063 - val_loss: 0.4647 - val_accuracy: 0.7769\n",
            "Epoch 80/100\n",
            "537/537 [==============================] - 2s 3ms/step - loss: 0.4204 - accuracy: 0.8025 - val_loss: 0.4680 - val_accuracy: 0.7772\n",
            "Epoch 81/100\n",
            "537/537 [==============================] - 2s 3ms/step - loss: 0.4264 - accuracy: 0.7966 - val_loss: 0.4671 - val_accuracy: 0.7800\n",
            "Epoch 82/100\n",
            "537/537 [==============================] - 2s 3ms/step - loss: 0.4334 - accuracy: 0.7941 - val_loss: 0.4687 - val_accuracy: 0.7748\n",
            "Epoch 83/100\n",
            "537/537 [==============================] - 2s 3ms/step - loss: 0.4239 - accuracy: 0.8057 - val_loss: 0.4659 - val_accuracy: 0.7783\n",
            "Epoch 84/100\n",
            "537/537 [==============================] - 2s 3ms/step - loss: 0.4300 - accuracy: 0.7945 - val_loss: 0.4654 - val_accuracy: 0.7790\n",
            "Epoch 85/100\n",
            "537/537 [==============================] - 2s 3ms/step - loss: 0.4301 - accuracy: 0.7991 - val_loss: 0.4655 - val_accuracy: 0.7745\n",
            "Epoch 86/100\n",
            "537/537 [==============================] - 2s 3ms/step - loss: 0.4188 - accuracy: 0.8092 - val_loss: 0.4648 - val_accuracy: 0.7779\n",
            "Epoch 87/100\n",
            "537/537 [==============================] - 2s 3ms/step - loss: 0.4232 - accuracy: 0.8015 - val_loss: 0.4688 - val_accuracy: 0.7804\n",
            "Epoch 88/100\n",
            "537/537 [==============================] - 2s 3ms/step - loss: 0.4252 - accuracy: 0.7981 - val_loss: 0.4692 - val_accuracy: 0.7817\n",
            "Epoch 89/100\n",
            "537/537 [==============================] - 2s 3ms/step - loss: 0.4108 - accuracy: 0.8122 - val_loss: 0.4647 - val_accuracy: 0.7772\n",
            "Epoch 90/100\n",
            "537/537 [==============================] - 2s 3ms/step - loss: 0.4243 - accuracy: 0.8092 - val_loss: 0.4732 - val_accuracy: 0.7821\n",
            "Epoch 91/100\n",
            "537/537 [==============================] - 2s 3ms/step - loss: 0.4273 - accuracy: 0.8036 - val_loss: 0.4685 - val_accuracy: 0.7724\n",
            "Epoch 92/100\n",
            "537/537 [==============================] - 2s 3ms/step - loss: 0.4354 - accuracy: 0.7974 - val_loss: 0.4693 - val_accuracy: 0.7807\n",
            "Epoch 93/100\n",
            "537/537 [==============================] - 2s 3ms/step - loss: 0.4193 - accuracy: 0.8080 - val_loss: 0.4665 - val_accuracy: 0.7755\n",
            "Epoch 94/100\n",
            "537/537 [==============================] - 2s 3ms/step - loss: 0.4233 - accuracy: 0.8039 - val_loss: 0.4671 - val_accuracy: 0.7783\n",
            "Epoch 95/100\n",
            "537/537 [==============================] - 2s 3ms/step - loss: 0.4381 - accuracy: 0.7958 - val_loss: 0.4669 - val_accuracy: 0.7793\n",
            "Epoch 96/100\n",
            "537/537 [==============================] - 2s 3ms/step - loss: 0.4153 - accuracy: 0.8098 - val_loss: 0.4662 - val_accuracy: 0.7762\n",
            "Epoch 97/100\n",
            "537/537 [==============================] - 2s 3ms/step - loss: 0.4321 - accuracy: 0.7979 - val_loss: 0.4684 - val_accuracy: 0.7852\n",
            "Epoch 98/100\n",
            "537/537 [==============================] - 2s 3ms/step - loss: 0.4233 - accuracy: 0.8008 - val_loss: 0.4684 - val_accuracy: 0.7804\n",
            "Epoch 99/100\n",
            "537/537 [==============================] - 2s 3ms/step - loss: 0.4135 - accuracy: 0.8035 - val_loss: 0.4706 - val_accuracy: 0.7769\n",
            "Epoch 100/100\n",
            "537/537 [==============================] - 2s 3ms/step - loss: 0.4211 - accuracy: 0.8047 - val_loss: 0.4684 - val_accuracy: 0.7731\n"
          ],
          "name": "stdout"
        },
        {
          "output_type": "execute_result",
          "data": {
            "text/plain": [
              "<tensorflow.python.keras.callbacks.History at 0x7fd304e3b748>"
            ]
          },
          "metadata": {
            "tags": []
          },
          "execution_count": 62
        }
      ]
    },
    {
      "cell_type": "code",
      "metadata": {
        "colab": {
          "base_uri": "https://localhost:8080/"
        },
        "id": "qGIta2ueSubF",
        "outputId": "45f7ecd5-f67e-4eec-b42d-f30f5de75a2a"
      },
      "source": [
        "predictions= classifier.predict(X_test)\r\n",
        "predictions[:5]"
      ],
      "execution_count": 63,
      "outputs": [
        {
          "output_type": "execute_result",
          "data": {
            "text/plain": [
              "array([[0.64694864],\n",
              "       [0.0013602 ],\n",
              "       [0.57844776],\n",
              "       [0.60089636],\n",
              "       [0.1306457 ]], dtype=float32)"
            ]
          },
          "metadata": {
            "tags": []
          },
          "execution_count": 63
        }
      ]
    },
    {
      "cell_type": "code",
      "metadata": {
        "colab": {
          "base_uri": "https://localhost:8080/"
        },
        "id": "o0OHaTuJS3sR",
        "outputId": "f6071b23-4b20-4013-db97-daf257d54487"
      },
      "source": [
        "pred= list()\r\n",
        "for i in predictions:\r\n",
        "  if i >=0.5:\r\n",
        "    pred.append(1)\r\n",
        "  else:\r\n",
        "    pred.append(0)\r\n",
        "\r\n",
        "pred[:5]    "
      ],
      "execution_count": 64,
      "outputs": [
        {
          "output_type": "execute_result",
          "data": {
            "text/plain": [
              "[1, 0, 1, 1, 0]"
            ]
          },
          "metadata": {
            "tags": []
          },
          "execution_count": 64
        }
      ]
    },
    {
      "cell_type": "code",
      "metadata": {
        "colab": {
          "base_uri": "https://localhost:8080/"
        },
        "id": "xsdlvLILTJLP",
        "outputId": "438bff67-84d4-41b1-b1df-dbc02654b337"
      },
      "source": [
        "cm_smote= confusion_matrix(y_test,pred)\r\n",
        "cm_smote"
      ],
      "execution_count": 66,
      "outputs": [
        {
          "output_type": "execute_result",
          "data": {
            "text/plain": [
              "array([[786, 247],\n",
              "       [209, 824]])"
            ]
          },
          "metadata": {
            "tags": []
          },
          "execution_count": 66
        }
      ]
    },
    {
      "cell_type": "code",
      "metadata": {
        "colab": {
          "base_uri": "https://localhost:8080/"
        },
        "id": "U5L-a20FTSGq",
        "outputId": "3add2d92-90b8-4231-b130-1cc2daa307e3"
      },
      "source": [
        "print(classification_report(y_test,pred))\r\n"
      ],
      "execution_count": 68,
      "outputs": [
        {
          "output_type": "stream",
          "text": [
            "              precision    recall  f1-score   support\n",
            "\n",
            "           0       0.79      0.76      0.78      1033\n",
            "           1       0.77      0.80      0.78      1033\n",
            "\n",
            "    accuracy                           0.78      2066\n",
            "   macro avg       0.78      0.78      0.78      2066\n",
            "weighted avg       0.78      0.78      0.78      2066\n",
            "\n"
          ],
          "name": "stdout"
        }
      ]
    },
    {
      "cell_type": "markdown",
      "metadata": {
        "id": "mvAJbD_7TnN8"
      },
      "source": [
        "**Although accuarcy is just increased by 1% but ovearll f1-score for both Yes and No values have been improved and that is needed.**"
      ]
    }
  ]
}