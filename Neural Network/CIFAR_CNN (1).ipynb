{
  "nbformat": 4,
  "nbformat_minor": 0,
  "metadata": {
    "colab": {
      "name": "CIFAR_CNN.ipynb",
      "provenance": [],
      "collapsed_sections": []
    },
    "kernelspec": {
      "name": "python3",
      "display_name": "Python 3"
    },
    "accelerator": "GPU"
  },
  "cells": [
    {
      "cell_type": "markdown",
      "metadata": {
        "id": "Jb2uRhH8uT3e"
      },
      "source": [
        "**Create CNN Model and Optimize it using Keras Tuner**"
      ]
    },
    {
      "cell_type": "code",
      "metadata": {
        "colab": {
          "base_uri": "https://localhost:8080/"
        },
        "id": "3466RVFDt-Cb",
        "outputId": "955c1886-7409-48ca-c10a-432a5ce3549e"
      },
      "source": [
        "!pip install keras-tuner"
      ],
      "execution_count": 1,
      "outputs": [
        {
          "output_type": "stream",
          "text": [
            "Collecting keras-tuner\n",
            "\u001b[?25l  Downloading https://files.pythonhosted.org/packages/20/ec/1ef246787174b1e2bb591c95f29d3c1310070cad877824f907faba3dade9/keras-tuner-1.0.2.tar.gz (62kB)\n",
            "\r\u001b[K     |█████▏                          | 10kB 26.0MB/s eta 0:00:01\r\u001b[K     |██████████▍                     | 20kB 13.8MB/s eta 0:00:01\r\u001b[K     |███████████████▋                | 30kB 12.8MB/s eta 0:00:01\r\u001b[K     |████████████████████▉           | 40kB 12.0MB/s eta 0:00:01\r\u001b[K     |██████████████████████████      | 51kB 8.0MB/s eta 0:00:01\r\u001b[K     |███████████████████████████████▎| 61kB 8.6MB/s eta 0:00:01\r\u001b[K     |████████████████████████████████| 71kB 6.0MB/s \n",
            "\u001b[?25hRequirement already satisfied: packaging in /usr/local/lib/python3.6/dist-packages (from keras-tuner) (20.8)\n",
            "Requirement already satisfied: future in /usr/local/lib/python3.6/dist-packages (from keras-tuner) (0.16.0)\n",
            "Requirement already satisfied: numpy in /usr/local/lib/python3.6/dist-packages (from keras-tuner) (1.19.5)\n",
            "Requirement already satisfied: tabulate in /usr/local/lib/python3.6/dist-packages (from keras-tuner) (0.8.7)\n",
            "Collecting terminaltables\n",
            "  Downloading https://files.pythonhosted.org/packages/9b/c4/4a21174f32f8a7e1104798c445dacdc1d4df86f2f26722767034e4de4bff/terminaltables-3.1.0.tar.gz\n",
            "Collecting colorama\n",
            "  Downloading https://files.pythonhosted.org/packages/44/98/5b86278fbbf250d239ae0ecb724f8572af1c91f4a11edf4d36a206189440/colorama-0.4.4-py2.py3-none-any.whl\n",
            "Requirement already satisfied: tqdm in /usr/local/lib/python3.6/dist-packages (from keras-tuner) (4.41.1)\n",
            "Requirement already satisfied: requests in /usr/local/lib/python3.6/dist-packages (from keras-tuner) (2.23.0)\n",
            "Requirement already satisfied: scipy in /usr/local/lib/python3.6/dist-packages (from keras-tuner) (1.4.1)\n",
            "Requirement already satisfied: scikit-learn in /usr/local/lib/python3.6/dist-packages (from keras-tuner) (0.22.2.post1)\n",
            "Requirement already satisfied: pyparsing>=2.0.2 in /usr/local/lib/python3.6/dist-packages (from packaging->keras-tuner) (2.4.7)\n",
            "Requirement already satisfied: chardet<4,>=3.0.2 in /usr/local/lib/python3.6/dist-packages (from requests->keras-tuner) (3.0.4)\n",
            "Requirement already satisfied: idna<3,>=2.5 in /usr/local/lib/python3.6/dist-packages (from requests->keras-tuner) (2.10)\n",
            "Requirement already satisfied: urllib3!=1.25.0,!=1.25.1,<1.26,>=1.21.1 in /usr/local/lib/python3.6/dist-packages (from requests->keras-tuner) (1.24.3)\n",
            "Requirement already satisfied: certifi>=2017.4.17 in /usr/local/lib/python3.6/dist-packages (from requests->keras-tuner) (2020.12.5)\n",
            "Requirement already satisfied: joblib>=0.11 in /usr/local/lib/python3.6/dist-packages (from scikit-learn->keras-tuner) (1.0.0)\n",
            "Building wheels for collected packages: keras-tuner, terminaltables\n",
            "  Building wheel for keras-tuner (setup.py) ... \u001b[?25l\u001b[?25hdone\n",
            "  Created wheel for keras-tuner: filename=keras_tuner-1.0.2-cp36-none-any.whl size=78939 sha256=2d0f8d68e2dcc208dd78195be037806a2adab918c0e43b6360cb85e19a3c1da7\n",
            "  Stored in directory: /root/.cache/pip/wheels/bb/a1/8a/7c3de0efb3707a1701b36ebbfdbc4e67aedf6d4943a1f463d6\n",
            "  Building wheel for terminaltables (setup.py) ... \u001b[?25l\u001b[?25hdone\n",
            "  Created wheel for terminaltables: filename=terminaltables-3.1.0-cp36-none-any.whl size=15358 sha256=46a24035ccf9a3164c4418583f402659b720594f71a5c6a1e4f6af3bc428c242\n",
            "  Stored in directory: /root/.cache/pip/wheels/30/6b/50/6c75775b681fb36cdfac7f19799888ef9d8813aff9e379663e\n",
            "Successfully built keras-tuner terminaltables\n",
            "Installing collected packages: terminaltables, colorama, keras-tuner\n",
            "Successfully installed colorama-0.4.4 keras-tuner-1.0.2 terminaltables-3.1.0\n"
          ],
          "name": "stdout"
        }
      ]
    },
    {
      "cell_type": "code",
      "metadata": {
        "id": "Kv3jV89lulOi"
      },
      "source": [
        "import tensorflow as tf\r\n",
        "from tensorflow import keras\r\n",
        "from tensorflow.keras import datasets, layers, models\r\n"
      ],
      "execution_count": 2,
      "outputs": []
    },
    {
      "cell_type": "code",
      "metadata": {
        "id": "HV7WM54Qu29w"
      },
      "source": [
        "import numpy as np\r\n",
        "import warnings\r\n",
        "warnings.filterwarnings('ignore')"
      ],
      "execution_count": 3,
      "outputs": []
    },
    {
      "cell_type": "code",
      "metadata": {
        "id": "E1SJ-0p9w__T",
        "colab": {
          "base_uri": "https://localhost:8080/"
        },
        "outputId": "bfb1acbe-95ac-4de8-a6b3-a3fc9ce93da6"
      },
      "source": [
        "(train_images,train_labels),(test_images,test_labels)= datasets.cifar10.load_data()"
      ],
      "execution_count": 4,
      "outputs": [
        {
          "output_type": "stream",
          "text": [
            "Downloading data from https://www.cs.toronto.edu/~kriz/cifar-10-python.tar.gz\n",
            "170500096/170498071 [==============================] - 4s 0us/step\n"
          ],
          "name": "stdout"
        }
      ]
    },
    {
      "cell_type": "code",
      "metadata": {
        "colab": {
          "base_uri": "https://localhost:8080/"
        },
        "id": "3onuvUgzxOK6",
        "outputId": "0f8ea45e-cfb7-4b44-9894-f6e711dc4b89"
      },
      "source": [
        "train_images.shape, train_labels.shape"
      ],
      "execution_count": 5,
      "outputs": [
        {
          "output_type": "execute_result",
          "data": {
            "text/plain": [
              "((50000, 32, 32, 3), (50000, 1))"
            ]
          },
          "metadata": {
            "tags": []
          },
          "execution_count": 5
        }
      ]
    },
    {
      "cell_type": "code",
      "metadata": {
        "colab": {
          "base_uri": "https://localhost:8080/"
        },
        "id": "uFoAuW3vxfKV",
        "outputId": "4a5eb7b4-9486-4480-ac5b-9620fd15e8b7"
      },
      "source": [
        "test_images.shape, test_labels.shape"
      ],
      "execution_count": 6,
      "outputs": [
        {
          "output_type": "execute_result",
          "data": {
            "text/plain": [
              "((10000, 32, 32, 3), (10000, 1))"
            ]
          },
          "metadata": {
            "tags": []
          },
          "execution_count": 6
        }
      ]
    },
    {
      "cell_type": "markdown",
      "metadata": {
        "id": "R9fuFoXSxrLB"
      },
      "source": [
        "Here we see there are 50000 training images and 10000 test images."
      ]
    },
    {
      "cell_type": "code",
      "metadata": {
        "colab": {
          "base_uri": "https://localhost:8080/"
        },
        "id": "sc9evrz1xvOD",
        "outputId": "87fb3194-b402-4acb-bf1d-5c0ed302eb6d"
      },
      "source": [
        "train_images[0]"
      ],
      "execution_count": 7,
      "outputs": [
        {
          "output_type": "execute_result",
          "data": {
            "text/plain": [
              "array([[[ 59,  62,  63],\n",
              "        [ 43,  46,  45],\n",
              "        [ 50,  48,  43],\n",
              "        ...,\n",
              "        [158, 132, 108],\n",
              "        [152, 125, 102],\n",
              "        [148, 124, 103]],\n",
              "\n",
              "       [[ 16,  20,  20],\n",
              "        [  0,   0,   0],\n",
              "        [ 18,   8,   0],\n",
              "        ...,\n",
              "        [123,  88,  55],\n",
              "        [119,  83,  50],\n",
              "        [122,  87,  57]],\n",
              "\n",
              "       [[ 25,  24,  21],\n",
              "        [ 16,   7,   0],\n",
              "        [ 49,  27,   8],\n",
              "        ...,\n",
              "        [118,  84,  50],\n",
              "        [120,  84,  50],\n",
              "        [109,  73,  42]],\n",
              "\n",
              "       ...,\n",
              "\n",
              "       [[208, 170,  96],\n",
              "        [201, 153,  34],\n",
              "        [198, 161,  26],\n",
              "        ...,\n",
              "        [160, 133,  70],\n",
              "        [ 56,  31,   7],\n",
              "        [ 53,  34,  20]],\n",
              "\n",
              "       [[180, 139,  96],\n",
              "        [173, 123,  42],\n",
              "        [186, 144,  30],\n",
              "        ...,\n",
              "        [184, 148,  94],\n",
              "        [ 97,  62,  34],\n",
              "        [ 83,  53,  34]],\n",
              "\n",
              "       [[177, 144, 116],\n",
              "        [168, 129,  94],\n",
              "        [179, 142,  87],\n",
              "        ...,\n",
              "        [216, 184, 140],\n",
              "        [151, 118,  84],\n",
              "        [123,  92,  72]]], dtype=uint8)"
            ]
          },
          "metadata": {
            "tags": []
          },
          "execution_count": 7
        }
      ]
    },
    {
      "cell_type": "code",
      "metadata": {
        "colab": {
          "base_uri": "https://localhost:8080/"
        },
        "id": "rvX5DGupyEN1",
        "outputId": "5a73aff9-511a-45a8-a37e-03660b369420"
      },
      "source": [
        "train_labels[:5]"
      ],
      "execution_count": 8,
      "outputs": [
        {
          "output_type": "execute_result",
          "data": {
            "text/plain": [
              "array([[6],\n",
              "       [9],\n",
              "       [9],\n",
              "       [4],\n",
              "       [1]], dtype=uint8)"
            ]
          },
          "metadata": {
            "tags": []
          },
          "execution_count": 8
        }
      ]
    },
    {
      "cell_type": "markdown",
      "metadata": {
        "id": "khzk-hmNySu7"
      },
      "source": [
        "**train_labels is a 2D array, for our classification having 1D array is good enough, so I've converted this to 1D array**"
      ]
    },
    {
      "cell_type": "code",
      "metadata": {
        "colab": {
          "base_uri": "https://localhost:8080/"
        },
        "id": "-zrtn-aAyQ_j",
        "outputId": "ef6a0ccb-8ce1-488b-d0b1-912247a28a23"
      },
      "source": [
        "train_labels= train_labels.reshape(-1,)\r\n",
        "train_labels[:5]"
      ],
      "execution_count": 9,
      "outputs": [
        {
          "output_type": "execute_result",
          "data": {
            "text/plain": [
              "array([6, 9, 9, 4, 1], dtype=uint8)"
            ]
          },
          "metadata": {
            "tags": []
          },
          "execution_count": 9
        }
      ]
    },
    {
      "cell_type": "code",
      "metadata": {
        "id": "3JfkKZfJyQ7e"
      },
      "source": [
        "test_labels= test_labels.reshape(-1,)"
      ],
      "execution_count": 10,
      "outputs": []
    },
    {
      "cell_type": "code",
      "metadata": {
        "id": "n9nI_uhNyQ2y"
      },
      "source": [
        "import matplotlib.pyplot as plt\r\n",
        "%matplotlib inline"
      ],
      "execution_count": 11,
      "outputs": []
    },
    {
      "cell_type": "code",
      "metadata": {
        "id": "foysKNAzyQyj"
      },
      "source": [
        "classes = [\"airplane\",\"automobile\",\"bird\",\"cat\",\"deer\",\"dog\",\"frog\",\"horse\",\"ship\",\"truck\"]"
      ],
      "execution_count": 12,
      "outputs": []
    },
    {
      "cell_type": "markdown",
      "metadata": {
        "id": "nMm1MPys0Bx-"
      },
      "source": [
        "**Function to plot samples**"
      ]
    },
    {
      "cell_type": "code",
      "metadata": {
        "id": "8VrxHrfSyQmv"
      },
      "source": [
        "def plot_image(x, y, index):\r\n",
        "  plt.figure(figsize=(14,5))\r\n",
        "  plt.matshow(x[index])\r\n",
        "  plt.xlabel(classes[y[index]])"
      ],
      "execution_count": 13,
      "outputs": []
    },
    {
      "cell_type": "code",
      "metadata": {
        "colab": {
          "base_uri": "https://localhost:8080/",
          "height": 302
        },
        "id": "4zgslkW4yQhm",
        "outputId": "4f2a3969-536d-4f38-82fe-459dac1aec06"
      },
      "source": [
        "plot_image(train_images, train_labels, 5)"
      ],
      "execution_count": 14,
      "outputs": [
        {
          "output_type": "display_data",
          "data": {
            "text/plain": [
              "<Figure size 1008x360 with 0 Axes>"
            ]
          },
          "metadata": {
            "tags": []
          }
        },
        {
          "output_type": "display_data",
          "data": {
            "image/png": "[encoded data removed]",
            "text/plain": [
              "<Figure size 288x288 with 1 Axes>"
            ]
          },
          "metadata": {
            "tags": [],
            "needs_background": "light"
          }
        }
      ]
    },
    {
      "cell_type": "markdown",
      "metadata": {
        "id": "MEpC9oaMx0Fi"
      },
      "source": [
        "**Normalization of data** \r\n",
        "\r\n",
        "Normalize the images to a number from 0 to 1. Image has 3 channels (R,G,B) and each value in the channel can range from 0 to 255. Hence to normalize in 0-->1 range, I've divided it by 255."
      ]
    },
    {
      "cell_type": "code",
      "metadata": {
        "id": "FWJrb9LoxyCF"
      },
      "source": [
        "train_images= train_images/255\r\n",
        "test_images= test_images/255"
      ],
      "execution_count": 15,
      "outputs": []
    },
    {
      "cell_type": "code",
      "metadata": {
        "colab": {
          "base_uri": "https://localhost:8080/"
        },
        "id": "XNMZYp5V0yH2",
        "outputId": "c93a29e2-7f0c-4622-c335-9ae168daea79"
      },
      "source": [
        "train_images[0]"
      ],
      "execution_count": 16,
      "outputs": [
        {
          "output_type": "execute_result",
          "data": {
            "text/plain": [
              "array([[[0.23137255, 0.24313725, 0.24705882],\n",
              "        [0.16862745, 0.18039216, 0.17647059],\n",
              "        [0.19607843, 0.18823529, 0.16862745],\n",
              "        ...,\n",
              "        [0.61960784, 0.51764706, 0.42352941],\n",
              "        [0.59607843, 0.49019608, 0.4       ],\n",
              "        [0.58039216, 0.48627451, 0.40392157]],\n",
              "\n",
              "       [[0.0627451 , 0.07843137, 0.07843137],\n",
              "        [0.        , 0.        , 0.        ],\n",
              "        [0.07058824, 0.03137255, 0.        ],\n",
              "        ...,\n",
              "        [0.48235294, 0.34509804, 0.21568627],\n",
              "        [0.46666667, 0.3254902 , 0.19607843],\n",
              "        [0.47843137, 0.34117647, 0.22352941]],\n",
              "\n",
              "       [[0.09803922, 0.09411765, 0.08235294],\n",
              "        [0.0627451 , 0.02745098, 0.        ],\n",
              "        [0.19215686, 0.10588235, 0.03137255],\n",
              "        ...,\n",
              "        [0.4627451 , 0.32941176, 0.19607843],\n",
              "        [0.47058824, 0.32941176, 0.19607843],\n",
              "        [0.42745098, 0.28627451, 0.16470588]],\n",
              "\n",
              "       ...,\n",
              "\n",
              "       [[0.81568627, 0.66666667, 0.37647059],\n",
              "        [0.78823529, 0.6       , 0.13333333],\n",
              "        [0.77647059, 0.63137255, 0.10196078],\n",
              "        ...,\n",
              "        [0.62745098, 0.52156863, 0.2745098 ],\n",
              "        [0.21960784, 0.12156863, 0.02745098],\n",
              "        [0.20784314, 0.13333333, 0.07843137]],\n",
              "\n",
              "       [[0.70588235, 0.54509804, 0.37647059],\n",
              "        [0.67843137, 0.48235294, 0.16470588],\n",
              "        [0.72941176, 0.56470588, 0.11764706],\n",
              "        ...,\n",
              "        [0.72156863, 0.58039216, 0.36862745],\n",
              "        [0.38039216, 0.24313725, 0.13333333],\n",
              "        [0.3254902 , 0.20784314, 0.13333333]],\n",
              "\n",
              "       [[0.69411765, 0.56470588, 0.45490196],\n",
              "        [0.65882353, 0.50588235, 0.36862745],\n",
              "        [0.70196078, 0.55686275, 0.34117647],\n",
              "        ...,\n",
              "        [0.84705882, 0.72156863, 0.54901961],\n",
              "        [0.59215686, 0.4627451 , 0.32941176],\n",
              "        [0.48235294, 0.36078431, 0.28235294]]])"
            ]
          },
          "metadata": {
            "tags": []
          },
          "execution_count": 16
        }
      ]
    },
    {
      "cell_type": "markdown",
      "metadata": {
        "id": "D2G7OOTx04oC"
      },
      "source": [
        "**CNN Model**"
      ]
    },
    {
      "cell_type": "code",
      "metadata": {
        "id": "9awXUAvQ00Bb"
      },
      "source": [
        "classifier= models.Sequential([\r\n",
        "                               \r\n",
        "                               #CNN\r\n",
        "                               layers.Conv2D(filters=32, kernel_size=(3,3), activation='relu', input_shape= (32,32,3)),\r\n",
        "                               layers.MaxPooling2D((2,2)),\r\n",
        "                               layers.Conv2D(filters=32, kernel_size=(3,3), activation='relu'),\r\n",
        "                               layers.MaxPooling2D((2,2)),\r\n",
        "                               \r\n",
        "                               # Dense\r\n",
        "                               layers.Flatten(),\r\n",
        "                               layers.Dense(20, activation='relu'),\r\n",
        "                               layers.Dense(10, activation=  'softmax')\r\n",
        "])"
      ],
      "execution_count": 17,
      "outputs": []
    },
    {
      "cell_type": "code",
      "metadata": {
        "colab": {
          "base_uri": "https://localhost:8080/"
        },
        "id": "PoxuhSn63ugp",
        "outputId": "b8bbca3f-abc8-4594-b5d6-d2c52d0fd1d4"
      },
      "source": [
        "classifier.summary()"
      ],
      "execution_count": 18,
      "outputs": [
        {
          "output_type": "stream",
          "text": [
            "Model: \"sequential\"\n",
            "_________________________________________________________________\n",
            "Layer (type)                 Output Shape              Param #   \n",
            "=================================================================\n",
            "conv2d (Conv2D)              (None, 30, 30, 32)        896       \n",
            "_________________________________________________________________\n",
            "max_pooling2d (MaxPooling2D) (None, 15, 15, 32)        0         \n",
            "_________________________________________________________________\n",
            "conv2d_1 (Conv2D)            (None, 13, 13, 32)        9248      \n",
            "_________________________________________________________________\n",
            "max_pooling2d_1 (MaxPooling2 (None, 6, 6, 32)          0         \n",
            "_________________________________________________________________\n",
            "flatten (Flatten)            (None, 1152)              0         \n",
            "_________________________________________________________________\n",
            "dense (Dense)                (None, 20)                23060     \n",
            "_________________________________________________________________\n",
            "dense_1 (Dense)              (None, 10)                210       \n",
            "=================================================================\n",
            "Total params: 33,414\n",
            "Trainable params: 33,414\n",
            "Non-trainable params: 0\n",
            "_________________________________________________________________\n"
          ],
          "name": "stdout"
        }
      ]
    },
    {
      "cell_type": "code",
      "metadata": {
        "id": "cBE6FSVv31wh"
      },
      "source": [
        "classifier.compile(loss= 'sparse_categorical_crossentropy',\r\n",
        "                   optimizer= 'adam',\r\n",
        "                   metrics= ['accuracy']\r\n",
        "                   )"
      ],
      "execution_count": 19,
      "outputs": []
    },
    {
      "cell_type": "code",
      "metadata": {
        "colab": {
          "base_uri": "https://localhost:8080/"
        },
        "id": "wAaUZePc4Kyq",
        "outputId": "d5e06e0b-5778-4898-e86b-2b92c13ba803"
      },
      "source": [
        "classifier.fit(train_images, train_labels, epochs= 10)"
      ],
      "execution_count": 20,
      "outputs": [
        {
          "output_type": "stream",
          "text": [
            "Epoch 1/10\n",
            "1563/1563 [==============================] - 11s 3ms/step - loss: 1.8493 - accuracy: 0.3149\n",
            "Epoch 2/10\n",
            "1563/1563 [==============================] - 4s 3ms/step - loss: 1.3379 - accuracy: 0.5202\n",
            "Epoch 3/10\n",
            "1563/1563 [==============================] - 4s 3ms/step - loss: 1.1941 - accuracy: 0.5758\n",
            "Epoch 4/10\n",
            "1563/1563 [==============================] - 4s 3ms/step - loss: 1.1046 - accuracy: 0.6062\n",
            "Epoch 5/10\n",
            "1563/1563 [==============================] - 4s 3ms/step - loss: 1.0370 - accuracy: 0.6347\n",
            "Epoch 6/10\n",
            "1563/1563 [==============================] - 4s 3ms/step - loss: 0.9995 - accuracy: 0.6474\n",
            "Epoch 7/10\n",
            "1563/1563 [==============================] - 4s 3ms/step - loss: 0.9412 - accuracy: 0.6713\n",
            "Epoch 8/10\n",
            "1563/1563 [==============================] - 4s 3ms/step - loss: 0.9167 - accuracy: 0.6772\n",
            "Epoch 9/10\n",
            "1563/1563 [==============================] - 4s 3ms/step - loss: 0.8804 - accuracy: 0.6945\n",
            "Epoch 10/10\n",
            "1563/1563 [==============================] - 4s 3ms/step - loss: 0.8647 - accuracy: 0.7014\n"
          ],
          "name": "stdout"
        },
        {
          "output_type": "execute_result",
          "data": {
            "text/plain": [
              "<tensorflow.python.keras.callbacks.History at 0x7f4fb028f630>"
            ]
          },
          "metadata": {
            "tags": []
          },
          "execution_count": 20
        }
      ]
    },
    {
      "cell_type": "code",
      "metadata": {
        "colab": {
          "base_uri": "https://localhost:8080/"
        },
        "id": "_RAl5ssU45C9",
        "outputId": "4e4c29de-d424-40e5-912f-e4a81f38beff"
      },
      "source": [
        "predictions= classifier.predict(test_images)\r\n",
        "predictions[:5]"
      ],
      "execution_count": 21,
      "outputs": [
        {
          "output_type": "execute_result",
          "data": {
            "text/plain": [
              "array([[3.7967856e-04, 1.0395546e-04, 3.1301640e-03, 8.1454861e-01,\n",
              "        2.3063782e-03, 8.7293141e-02, 6.4317761e-03, 1.5124492e-04,\n",
              "        8.3416805e-02, 2.2382427e-03],\n",
              "       [8.1547583e-03, 2.5325337e-02, 3.7664431e-05, 6.3816324e-06,\n",
              "        1.4431204e-06, 2.5097268e-07, 3.1240976e-08, 9.2839355e-06,\n",
              "        9.6057868e-01, 5.8862017e-03],\n",
              "       [7.9430945e-02, 2.1847115e-01, 1.8283329e-03, 2.2056683e-03,\n",
              "        6.6703785e-04, 1.4654595e-04, 2.5688263e-04, 1.0461174e-03,\n",
              "        6.5255016e-01, 4.3397147e-02],\n",
              "       [7.6506662e-01, 5.3185285e-03, 4.9367868e-03, 3.0542586e-03,\n",
              "        1.9797098e-02, 4.9818878e-05, 3.7592821e-04, 2.9888932e-04,\n",
              "        1.9820729e-01, 2.8948372e-03],\n",
              "       [2.4165038e-05, 2.1950247e-05, 4.7675725e-02, 1.3723306e-01,\n",
              "        7.8286760e-02, 7.4194126e-02, 6.6164589e-01, 2.5652224e-04,\n",
              "        5.5835739e-04, 1.0345998e-04]], dtype=float32)"
            ]
          },
          "metadata": {
            "tags": []
          },
          "execution_count": 21
        }
      ]
    },
    {
      "cell_type": "code",
      "metadata": {
        "colab": {
          "base_uri": "https://localhost:8080/"
        },
        "id": "tZtBhZ_D446E",
        "outputId": "ca33b18f-9dec-431f-96ad-448876786a11"
      },
      "source": [
        "y_pred= [np.argmax(i) for i in predictions]\r\n",
        "y_pred[:5]"
      ],
      "execution_count": 22,
      "outputs": [
        {
          "output_type": "execute_result",
          "data": {
            "text/plain": [
              "[3, 8, 8, 0, 6]"
            ]
          },
          "metadata": {
            "tags": []
          },
          "execution_count": 22
        }
      ]
    },
    {
      "cell_type": "code",
      "metadata": {
        "colab": {
          "base_uri": "https://localhost:8080/",
          "height": 302
        },
        "id": "tOSewzkG44u9",
        "outputId": "9b4e18fb-cda3-4cb0-fe84-d4223b71b12f"
      },
      "source": [
        "plot_image(test_images, test_labels, 1)"
      ],
      "execution_count": 23,
      "outputs": [
        {
          "output_type": "display_data",
          "data": {
            "text/plain": [
              "<Figure size 1008x360 with 0 Axes>"
            ]
          },
          "metadata": {
            "tags": []
          }
        },
        {
          "output_type": "display_data",
          "data": {
            "image/png": "[encoded data removed]",
            "text/plain": [
              "<Figure size 288x288 with 1 Axes>"
            ]
          },
          "metadata": {
            "tags": [],
            "needs_background": "light"
          }
        }
      ]
    },
    {
      "cell_type": "code",
      "metadata": {
        "colab": {
          "base_uri": "https://localhost:8080/",
          "height": 35
        },
        "id": "KvAHIlon50Jk",
        "outputId": "ea7f68fb-eba8-4768-a89f-63d6bc330cae"
      },
      "source": [
        "classes[y_pred[1]]"
      ],
      "execution_count": 24,
      "outputs": [
        {
          "output_type": "execute_result",
          "data": {
            "application/vnd.google.colaboratory.intrinsic+json": {
              "type": "string"
            },
            "text/plain": [
              "'ship'"
            ]
          },
          "metadata": {
            "tags": []
          },
          "execution_count": 24
        }
      ]
    },
    {
      "cell_type": "code",
      "metadata": {
        "colab": {
          "base_uri": "https://localhost:8080/"
        },
        "id": "ivuAXKRY6BGJ",
        "outputId": "b348b967-a08b-4a5e-be67-176714784f4a"
      },
      "source": [
        "from sklearn.metrics import classification_report, confusion_matrix\r\n",
        "cm= confusion_matrix(test_labels, y_pred)\r\n",
        "cm"
      ],
      "execution_count": 25,
      "outputs": [
        {
          "output_type": "execute_result",
          "data": {
            "text/plain": [
              "array([[679,  12,  69,  34,  10,   4,   5,  14, 103,  70],\n",
              "       [ 28, 693,  10,  18,   4,   3,  10,   4,  44, 186],\n",
              "       [ 62,   4, 544,  72,  76,  93,  74,  33,  23,  19],\n",
              "       [ 14,   8,  50, 546,  68, 176,  61,  27,  23,  27],\n",
              "       [ 19,   2,  85,  97, 598,  46,  61,  65,  23,   4],\n",
              "       [ 11,   3,  57, 192,  46, 598,  18,  50,  14,  11],\n",
              "       [  6,   3,  46,  86,  47,  22, 758,   9,  14,   9],\n",
              "       [ 13,   1,  40,  52,  73,  68,   0, 713,   8,  32],\n",
              "       [ 63,  19,  12,  18,   5,   4,   4,   4, 828,  43],\n",
              "       [ 27,  40,   5,  22,  13,   6,   8,  16,  38, 825]])"
            ]
          },
          "metadata": {
            "tags": []
          },
          "execution_count": 25
        }
      ]
    },
    {
      "cell_type": "code",
      "metadata": {
        "colab": {
          "base_uri": "https://localhost:8080/"
        },
        "id": "1lqIgO8-6hxx",
        "outputId": "27fb85b7-efed-4f56-fadc-84f64a60ec75"
      },
      "source": [
        "print(classification_report(test_labels, y_pred))"
      ],
      "execution_count": 26,
      "outputs": [
        {
          "output_type": "stream",
          "text": [
            "              precision    recall  f1-score   support\n",
            "\n",
            "           0       0.74      0.68      0.71      1000\n",
            "           1       0.88      0.69      0.78      1000\n",
            "           2       0.59      0.54      0.57      1000\n",
            "           3       0.48      0.55      0.51      1000\n",
            "           4       0.64      0.60      0.62      1000\n",
            "           5       0.59      0.60      0.59      1000\n",
            "           6       0.76      0.76      0.76      1000\n",
            "           7       0.76      0.71      0.74      1000\n",
            "           8       0.74      0.83      0.78      1000\n",
            "           9       0.67      0.82      0.74      1000\n",
            "\n",
            "    accuracy                           0.68     10000\n",
            "   macro avg       0.68      0.68      0.68     10000\n",
            "weighted avg       0.68      0.68      0.68     10000\n",
            "\n"
          ],
          "name": "stdout"
        }
      ]
    },
    {
      "cell_type": "markdown",
      "metadata": {
        "id": "4u9Qy7Hd4vV3"
      },
      "source": [
        "**Optimization using Keras Tuner**"
      ]
    },
    {
      "cell_type": "code",
      "metadata": {
        "id": "_kNs6SnL4gRc"
      },
      "source": [
        "def build_model(hp):  \r\n",
        "  model = keras.Sequential([\r\n",
        "    keras.layers.Conv2D(\r\n",
        "        filters=hp.Int('conv_1_filter', min_value=32, max_value=128, step=16),\r\n",
        "        kernel_size=hp.Choice('conv_1_kernel', values = [3,5]),\r\n",
        "        activation='relu',\r\n",
        "        input_shape=(32,32,3)\r\n",
        "    ),\r\n",
        "    keras.layers.Conv2D(\r\n",
        "        filters=hp.Int('conv_2_filter', min_value=32, max_value=128, step=16),\r\n",
        "        kernel_size=hp.Choice('conv_2_kernel', values = [3,5]),\r\n",
        "        activation='relu'\r\n",
        "    ),\r\n",
        "    keras.layers.Flatten(),\r\n",
        "    keras.layers.Dense(\r\n",
        "        units=hp.Int('dense_1_units', min_value=20, max_value=80, step=16),\r\n",
        "        activation='relu'\r\n",
        "    ),\r\n",
        "     keras.layers.Dense(\r\n",
        "        units=hp.Int('dense_2_units', min_value=20, max_value=70, step=16),\r\n",
        "        activation='relu'\r\n",
        "    ),\r\n",
        "    keras.layers.Dense(10, activation='softmax')\r\n",
        "  ])\r\n",
        "  \r\n",
        "  model.compile(optimizer=keras.optimizers.Adam(hp.Choice('learning_rate', values=[1e-2, 1e-3])),\r\n",
        "              loss='sparse_categorical_crossentropy',\r\n",
        "              metrics=['accuracy'])\r\n",
        "  \r\n",
        "  return model"
      ],
      "execution_count": 50,
      "outputs": []
    },
    {
      "cell_type": "code",
      "metadata": {
        "id": "AnFomGsa7Hwm"
      },
      "source": [
        "from kerastuner import RandomSearch\r\n",
        "from kerastuner.engine.hyperparameters import HyperParameters"
      ],
      "execution_count": 51,
      "outputs": []
    },
    {
      "cell_type": "code",
      "metadata": {
        "id": "7x18MO9m7Ika"
      },
      "source": [
        "tuner=RandomSearch(build_model,\r\n",
        "                          objective='val_accuracy',\r\n",
        "                          max_trials=5,directory='cls',project_name=\"image\")"
      ],
      "execution_count": 52,
      "outputs": []
    },
    {
      "cell_type": "code",
      "metadata": {
        "colab": {
          "base_uri": "https://localhost:8080/"
        },
        "id": "-jrcfWHE7Q4u",
        "outputId": "2b9290f1-adc3-421c-dfde-ffc4f998564f"
      },
      "source": [
        "tuner.search(train_images, train_labels, epochs= 3, validation_split= 0.35)"
      ],
      "execution_count": 53,
      "outputs": [
        {
          "output_type": "stream",
          "text": [
            "Trial 5 Complete [00h 00m 17s]\n",
            "val_accuracy: 0.5613142848014832\n",
            "\n",
            "Best val_accuracy So Far: 0.6112571358680725\n",
            "Total elapsed time: 00h 01m 55s\n",
            "INFO:tensorflow:Oracle triggered exit\n"
          ],
          "name": "stdout"
        }
      ]
    },
    {
      "cell_type": "code",
      "metadata": {
        "colab": {
          "base_uri": "https://localhost:8080/"
        },
        "id": "B37uED1T7rFJ",
        "outputId": "ed656607-05e3-4b5b-f614-286a76836cb7"
      },
      "source": [
        "clss= tuner.get_best_models(num_models=1)[0]\r\n",
        "clss.summary()"
      ],
      "execution_count": 54,
      "outputs": [
        {
          "output_type": "stream",
          "text": [
            "Model: \"sequential\"\n",
            "_________________________________________________________________\n",
            "Layer (type)                 Output Shape              Param #   \n",
            "=================================================================\n",
            "conv2d (Conv2D)              (None, 30, 30, 64)        1792      \n",
            "_________________________________________________________________\n",
            "conv2d_1 (Conv2D)            (None, 28, 28, 112)       64624     \n",
            "_________________________________________________________________\n",
            "flatten (Flatten)            (None, 87808)             0         \n",
            "_________________________________________________________________\n",
            "dense (Dense)                (None, 52)                4566068   \n",
            "_________________________________________________________________\n",
            "dense_1 (Dense)              (None, 68)                3604      \n",
            "_________________________________________________________________\n",
            "dense_2 (Dense)              (None, 10)                690       \n",
            "=================================================================\n",
            "Total params: 4,636,778\n",
            "Trainable params: 4,636,778\n",
            "Non-trainable params: 0\n",
            "_________________________________________________________________\n"
          ],
          "name": "stdout"
        }
      ]
    },
    {
      "cell_type": "code",
      "metadata": {
        "colab": {
          "base_uri": "https://localhost:8080/"
        },
        "id": "C2wfUx-c8vbn",
        "outputId": "196bcc31-d615-4f8d-cf49-f68a047931b4"
      },
      "source": [
        "clss.fit(train_images, train_labels, validation_split=0.35, epochs= 10,  initial_epoch= 3)"
      ],
      "execution_count": 55,
      "outputs": [
        {
          "output_type": "stream",
          "text": [
            "Epoch 4/10\n",
            "1016/1016 [==============================] - 8s 7ms/step - loss: 0.7055 - accuracy: 0.7533 - val_loss: 1.1658 - val_accuracy: 0.6015\n",
            "Epoch 5/10\n",
            "1016/1016 [==============================] - 7s 7ms/step - loss: 0.5319 - accuracy: 0.8137 - val_loss: 1.2607 - val_accuracy: 0.6187\n",
            "Epoch 6/10\n",
            "1016/1016 [==============================] - 7s 7ms/step - loss: 0.3504 - accuracy: 0.8817 - val_loss: 1.4196 - val_accuracy: 0.6112\n",
            "Epoch 7/10\n",
            "1016/1016 [==============================] - 7s 7ms/step - loss: 0.2278 - accuracy: 0.9224 - val_loss: 1.7714 - val_accuracy: 0.6053\n",
            "Epoch 8/10\n",
            "1016/1016 [==============================] - 7s 7ms/step - loss: 0.1534 - accuracy: 0.9497 - val_loss: 2.0882 - val_accuracy: 0.5931\n",
            "Epoch 9/10\n",
            "1016/1016 [==============================] - 7s 7ms/step - loss: 0.1278 - accuracy: 0.9563 - val_loss: 2.4363 - val_accuracy: 0.5986\n",
            "Epoch 10/10\n",
            "1016/1016 [==============================] - 7s 7ms/step - loss: 0.0991 - accuracy: 0.9653 - val_loss: 2.4459 - val_accuracy: 0.5899\n"
          ],
          "name": "stdout"
        },
        {
          "output_type": "execute_result",
          "data": {
            "text/plain": [
              "<tensorflow.python.keras.callbacks.History at 0x7f4f15eb94e0>"
            ]
          },
          "metadata": {
            "tags": []
          },
          "execution_count": 55
        }
      ]
    },
    {
      "cell_type": "code",
      "metadata": {
        "colab": {
          "base_uri": "https://localhost:8080/"
        },
        "id": "yoSONviQ9S6q",
        "outputId": "808a03b0-af40-4737-c0b1-ea8f0cc1f595"
      },
      "source": [
        "pred= clss.predict(test_images)\r\n",
        "pred[:5]"
      ],
      "execution_count": 56,
      "outputs": [
        {
          "output_type": "execute_result",
          "data": {
            "text/plain": [
              "array([[5.2469272e-06, 2.1357754e-07, 4.4023876e-05, 6.1403471e-01,\n",
              "        8.1607006e-08, 3.9967084e-03, 7.7688783e-05, 7.1593135e-04,\n",
              "        3.8084057e-01, 2.8487071e-04],\n",
              "       [8.4063726e-07, 8.0027879e-05, 2.8846567e-17, 3.5362571e-13,\n",
              "        9.1984951e-16, 1.8294850e-16, 8.1880117e-19, 1.1950544e-17,\n",
              "        9.9991667e-01, 2.4741539e-06],\n",
              "       [9.2456603e-01, 8.5223960e-03, 1.2678282e-05, 8.7519860e-05,\n",
              "        1.8673787e-04, 3.5109566e-05, 1.1608859e-06, 6.7353467e-05,\n",
              "        3.0685689e-03, 6.3452430e-02],\n",
              "       [1.3365351e-01, 1.2443977e-04, 2.2068007e-04, 8.9741093e-07,\n",
              "        1.6639593e-06, 4.4445212e-08, 6.5935190e-08, 4.5975490e-09,\n",
              "        8.6589837e-01, 1.0030075e-04],\n",
              "       [2.6986634e-16, 3.2070757e-10, 5.6556559e-07, 1.9110007e-06,\n",
              "        1.7151891e-04, 1.6597892e-07, 9.9982589e-01, 2.4127710e-13,\n",
              "        4.0308170e-09, 1.1227978e-14]], dtype=float32)"
            ]
          },
          "metadata": {
            "tags": []
          },
          "execution_count": 56
        }
      ]
    },
    {
      "cell_type": "code",
      "metadata": {
        "colab": {
          "base_uri": "https://localhost:8080/"
        },
        "id": "cVWzqMiy9ZZF",
        "outputId": "70d3dd26-09d9-4ffd-e7ae-cdbeeebddd35"
      },
      "source": [
        "ypred= [np.argmax(i) for i in pred]\r\n",
        "ypred[:5]"
      ],
      "execution_count": 57,
      "outputs": [
        {
          "output_type": "execute_result",
          "data": {
            "text/plain": [
              "[3, 8, 0, 8, 6]"
            ]
          },
          "metadata": {
            "tags": []
          },
          "execution_count": 57
        }
      ]
    },
    {
      "cell_type": "code",
      "metadata": {
        "colab": {
          "base_uri": "https://localhost:8080/"
        },
        "id": "5XmsHanM9iU1",
        "outputId": "55f27c88-75db-42f5-d48c-691b46c03c91"
      },
      "source": [
        "print(classification_report(test_labels, ypred))"
      ],
      "execution_count": 58,
      "outputs": [
        {
          "output_type": "stream",
          "text": [
            "              precision    recall  f1-score   support\n",
            "\n",
            "           0       0.62      0.67      0.64      1000\n",
            "           1       0.73      0.70      0.71      1000\n",
            "           2       0.42      0.51      0.46      1000\n",
            "           3       0.42      0.38      0.40      1000\n",
            "           4       0.54      0.46      0.49      1000\n",
            "           5       0.51      0.50      0.50      1000\n",
            "           6       0.59      0.79      0.67      1000\n",
            "           7       0.71      0.58      0.64      1000\n",
            "           8       0.81      0.60      0.69      1000\n",
            "           9       0.63      0.71      0.67      1000\n",
            "\n",
            "    accuracy                           0.59     10000\n",
            "   macro avg       0.60      0.59      0.59     10000\n",
            "weighted avg       0.60      0.59      0.59     10000\n",
            "\n"
          ],
          "name": "stdout"
        }
      ]
    }
  ]
}